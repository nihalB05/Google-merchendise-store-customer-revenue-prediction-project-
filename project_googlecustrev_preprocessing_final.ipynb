{
  "metadata": {
    "kernelspec": {
      "language": "python",
      "display_name": "Python 3",
      "name": "python3"
    },
    "language_info": {
      "name": "python",
      "version": "3.10.12",
      "mimetype": "text/x-python",
      "codemirror_mode": {
        "name": "ipython",
        "version": 3
      },
      "pygments_lexer": "ipython3",
      "nbconvert_exporter": "python",
      "file_extension": ".py"
    },
    "kaggle": {
      "accelerator": "none",
      "dataSources": [
        {
          "sourceId": 10038,
          "databundleVersionId": 180088,
          "sourceType": "competition"
        }
      ],
      "dockerImageVersionId": 30918,
      "isInternetEnabled": true,
      "language": "python",
      "sourceType": "notebook",
      "isGpuEnabled": false
    },
    "colab": {
      "provenance": [],
      "include_colab_link": true
    }
  },
  "nbformat_minor": 0,
  "nbformat": 4,
  "cells": [
    {
      "cell_type": "markdown",
      "metadata": {
        "id": "view-in-github",
        "colab_type": "text"
      },
      "source": [
        "<a href=\"https://colab.research.google.com/github/nihalB05/Google-merchendise-store-customer-revenue-prediction-project-/blob/main/project_googlecustrev_preprocessing_final.ipynb\" target=\"_parent\"><img src=\"https://colab.research.google.com/assets/colab-badge.svg\" alt=\"Open In Colab\"/></a>"
      ]
    },
    {
      "source": [
        "# IMPORTANT: SOME KAGGLE DATA SOURCES ARE PRIVATE\n",
        "# RUN THIS CELL IN ORDER TO IMPORT YOUR KAGGLE DATA SOURCES.\n",
        "import kagglehub\n",
        "kagglehub.login()\n"
      ],
      "metadata": {
        "id": "TxIAKo4YWWQX"
      },
      "cell_type": "code",
      "outputs": [],
      "execution_count": null
    },
    {
      "source": [
        "# IMPORTANT: RUN THIS CELL IN ORDER TO IMPORT YOUR KAGGLE DATA SOURCES,\n",
        "# THEN FEEL FREE TO DELETE THIS CELL.\n",
        "# NOTE: THIS NOTEBOOK ENVIRONMENT DIFFERS FROM KAGGLE'S PYTHON\n",
        "# ENVIRONMENT SO THERE MAY BE MISSING LIBRARIES USED BY YOUR\n",
        "# NOTEBOOK.\n",
        "\n",
        "ga_customer_revenue_prediction_path = kagglehub.competition_download('ga-customer-revenue-prediction')\n",
        "\n",
        "print('Data source import complete.')\n"
      ],
      "metadata": {
        "id": "w3Eu4kwuWWQY"
      },
      "cell_type": "code",
      "outputs": [],
      "execution_count": null
    },
    {
      "cell_type": "code",
      "source": [
        "# This Python 3 environment comes with many helpful analytics libraries installed\n",
        "# It is defined by the kaggle/python Docker image: https://github.com/kaggle/docker-python\n",
        "# For example, here's several helpful packages to load\n",
        "\n",
        "import numpy as np # linear algebra\n",
        "import pandas as pd # data processing, CSV file I/O (e.g. pd.read_csv)\n",
        "\n",
        "# Input data files are available in the read-only \"../input/\" directory\n",
        "# For example, running this (by clicking run or pressing Shift+Enter) will list all files under the input directory\n",
        "\n",
        "import os\n",
        "for dirname, _, filenames in os.walk('/kaggle/input'):\n",
        "    for filename in filenames:\n",
        "        print(os.path.join(dirname, filename))\n",
        "\n",
        "# You can write up to 20GB to the current directory (/kaggle/working/) that gets preserved as output when you create a version using \"Save & Run All\"\n",
        "# You can also write temporary files to /kaggle/temp/, but they won't be saved outside of the current session"
      ],
      "metadata": {
        "_uuid": "8f2839f25d086af736a60e9eeb907d3b93b6e0e5",
        "_cell_guid": "b1076dfc-b9ad-4769-8c92-a6c4dae69d19",
        "trusted": true,
        "execution": {
          "iopub.status.busy": "2025-03-22T09:12:08.235562Z",
          "iopub.execute_input": "2025-03-22T09:12:08.236007Z",
          "iopub.status.idle": "2025-03-22T09:12:08.728525Z",
          "shell.execute_reply.started": "2025-03-22T09:12:08.235963Z",
          "shell.execute_reply": "2025-03-22T09:12:08.727402Z"
        },
        "id": "lguh2fd5WWQY",
        "outputId": "28b6c39a-7933-4caf-b685-44c4704767c0"
      },
      "outputs": [
        {
          "name": "stdout",
          "text": "/kaggle/input/ga-customer-revenue-prediction/sample_submission.csv\n/kaggle/input/ga-customer-revenue-prediction/train_v2.csv\n/kaggle/input/ga-customer-revenue-prediction/test_v2.csv\n/kaggle/input/ga-customer-revenue-prediction/sample_submission_v2.csv\n/kaggle/input/ga-customer-revenue-prediction/train.csv\n/kaggle/input/ga-customer-revenue-prediction/test.csv\n",
          "output_type": "stream"
        }
      ],
      "execution_count": null
    },
    {
      "cell_type": "code",
      "source": [
        "import pandas as pd\n",
        "from pandas import json_normalize\n",
        "import json\n",
        "from joblib import Parallel, delayed\n",
        "import numpy as np\n",
        "import gc\n",
        "import logging\n",
        "\n",
        "# Set up logging\n",
        "logging.basicConfig(filename=\"chunk_errors.log\", level=logging.ERROR)\n",
        "\n",
        "# Function to fix JSON strings\n",
        "def fix_json_string(value):\n",
        "    if isinstance(value, str):\n",
        "        return value.replace(\"'\", '\"')\n",
        "    return value\n",
        "\n",
        "# Function to parse list JSON columns\n",
        "def list_json_parse(df, col):\n",
        "    exploded = df[col].explode().reset_index()\n",
        "    expanded = json_normalize(exploded[col])\n",
        "    expanded.columns = [f\"{col}_{c}\" for c in expanded.columns]\n",
        "    if f\"{col}_index\" in expanded.columns and f\"{col}_value\" in expanded.columns:\n",
        "        pivoted = expanded.pivot(\n",
        "            index=\"index\",\n",
        "            columns=f\"{col}_index\",\n",
        "            values=f\"{col}_value\"\n",
        "        )\n",
        "        pivoted.columns = [f\"{col}_{c}\" for c in pivoted.columns]\n",
        "    else:\n",
        "        pivoted = expanded\n",
        "    df = df.join(pivoted, how=\"left\").drop(col, axis=1)\n",
        "    return df\n",
        "\n",
        "# Function to parse JSON columns\n",
        "def parse_json_in_chunk(chunk):\n",
        "    json_cols = [\"device\", \"geoNetwork\", \"totals\", \"trafficSource\"]\n",
        "    for col in json_cols:\n",
        "        if col in chunk.columns:\n",
        "            chunk[col] = chunk[col].apply(json.loads)\n",
        "            expanded = json_normalize(chunk[col])\n",
        "            expanded.columns = [f\"{col}_{c}\" for c in expanded.columns]\n",
        "            chunk = chunk.join(expanded).drop(col, axis=1)\n",
        "    return chunk\n",
        "\n",
        "# Function to process a single chunk\n",
        "def process_chunk(chunk):\n",
        "    # Step 1: Fix JSON strings\n",
        "    json_columns = [\"customDimensions\", \"hits\"]\n",
        "    for col in json_columns:\n",
        "        if col in chunk.columns:\n",
        "            chunk[col] = chunk[col].apply(fix_json_string)\n",
        "            chunk = list_json_parse(chunk, col)\n",
        "\n",
        "    # Step 2: Parse JSON columns\n",
        "    chunk = parse_json_in_chunk(chunk)\n",
        "\n",
        "    # Step 3: Replace placeholder values with NaN\n",
        "    placeholder_values = [\n",
        "        \"not available in demo dataset\",\n",
        "        \"(not set)\",\n",
        "        \"\",\n",
        "        \" : \",\n",
        "        \"unknown.unknown\",\n",
        "        \"NaN\",\n",
        "        \"null\",\n",
        "        \"None\"\n",
        "    ]\n",
        "    chunk.replace(placeholder_values, np.nan, inplace=True)\n",
        "\n",
        "    return chunk\n",
        "\n",
        "# Function to process and save a chunk\n",
        "def process_and_save_chunk(i, chunk):\n",
        "    try:\n",
        "        processed_chunk = process_chunk(chunk)\n",
        "        processed_chunk.to_csv(f\"processed_chunk_{i}.csv\", index=False)\n",
        "        del processed_chunk\n",
        "        gc.collect()\n",
        "        return f\"processed_chunk_{i}.csv\"\n",
        "    except Exception as e:\n",
        "        logging.error(f\"Error processing chunk {i}: {e}\")\n",
        "        return None\n",
        "\n",
        "# Define chunk size\n",
        "chunk_size = 10000  # Reduced chunk size\n",
        "\n",
        "# Define file path (platform-independent)\n",
        "file_path = r\"/kaggle/input/ga-customer-revenue-prediction/train_v2.csv\"\n",
        "\n",
        "# Process CSV in chunks using parallel processing\n",
        "processed_chunks = Parallel(n_jobs=-1, timeout=9999, pre_dispatch=\"2*n_jobs\")(\n",
        "    delayed(process_and_save_chunk)(i, chunk)\n",
        "    for i, chunk in enumerate(pd.read_csv(file_path, chunksize=chunk_size, low_memory=False))\n",
        ")\n",
        "\n",
        "# Combine processed chunks (if needed)\n",
        "df_train = pd.concat([pd.read_csv(f) for f in processed_chunks if f is not None], ignore_index=True)"
      ],
      "metadata": {
        "trusted": true,
        "execution": {
          "iopub.status.busy": "2025-03-22T09:59:54.773981Z",
          "iopub.execute_input": "2025-03-22T09:59:54.774336Z",
          "iopub.status.idle": "2025-03-22T10:09:30.005287Z",
          "shell.execute_reply.started": "2025-03-22T09:59:54.77431Z",
          "shell.execute_reply": "2025-03-22T10:09:30.003966Z"
        },
        "id": "3Qbq98jYWWQZ"
      },
      "outputs": [],
      "execution_count": null
    },
    {
      "cell_type": "code",
      "source": [
        "df_train.head()"
      ],
      "metadata": {
        "trusted": true,
        "execution": {
          "iopub.status.busy": "2025-03-22T10:09:30.007229Z",
          "iopub.execute_input": "2025-03-22T10:09:30.007659Z",
          "iopub.status.idle": "2025-03-22T10:09:30.040325Z",
          "shell.execute_reply.started": "2025-03-22T10:09:30.007617Z",
          "shell.execute_reply": "2025-03-22T10:09:30.038458Z"
        },
        "id": "ALBWRb6fWWQZ",
        "outputId": "44a5d581-ea65-40db-cba2-95edd5f3749e"
      },
      "outputs": [
        {
          "name": "stderr",
          "text": "/usr/local/lib/python3.10/dist-packages/pandas/io/formats/format.py:1458: RuntimeWarning: invalid value encountered in greater\n  has_large_values = (abs_vals > 1e6).any()\n/usr/local/lib/python3.10/dist-packages/pandas/io/formats/format.py:1459: RuntimeWarning: invalid value encountered in less\n  has_small_values = ((abs_vals < 10 ** (-self.digits)) & (abs_vals > 0)).any()\n/usr/local/lib/python3.10/dist-packages/pandas/io/formats/format.py:1459: RuntimeWarning: invalid value encountered in greater\n  has_small_values = ((abs_vals < 10 ** (-self.digits)) & (abs_vals > 0)).any()\n/usr/local/lib/python3.10/dist-packages/pandas/io/formats/format.py:1458: RuntimeWarning: invalid value encountered in greater\n  has_large_values = (abs_vals > 1e6).any()\n/usr/local/lib/python3.10/dist-packages/pandas/io/formats/format.py:1459: RuntimeWarning: invalid value encountered in less\n  has_small_values = ((abs_vals < 10 ** (-self.digits)) & (abs_vals > 0)).any()\n/usr/local/lib/python3.10/dist-packages/pandas/io/formats/format.py:1459: RuntimeWarning: invalid value encountered in greater\n  has_small_values = ((abs_vals < 10 ** (-self.digits)) & (abs_vals > 0)).any()\n",
          "output_type": "stream"
        },
        {
          "execution_count": 8,
          "output_type": "execute_result",
          "data": {
            "text/plain": "  channelGrouping      date        fullVisitorId  socialEngagementType  \\\n0  Organic Search  20171016  3162355547410993243  Not Socially Engaged   \n1        Referral  20171016  8934116514970143966  Not Socially Engaged   \n2          Direct  20171016  7992466427990357681  Not Socially Engaged   \n3  Organic Search  20171016  9075655783635761930  Not Socially Engaged   \n4  Organic Search  20171016  6960673291025684308  Not Socially Engaged   \n\n      visitId  visitNumber  visitStartTime device_browser  \\\n0  1508198450            1      1508198450        Firefox   \n1  1508176307            6      1508176307         Chrome   \n2  1508201613            1      1508201613         Chrome   \n3  1508169851            1      1508169851         Chrome   \n4  1508190552            1      1508190552         Chrome   \n\n   device_browserVersion  device_browserSize  ...  \\\n0                    NaN                 NaN  ...   \n1                    NaN                 NaN  ...   \n2                    NaN                 NaN  ...   \n3                    NaN                 NaN  ...   \n4                    NaN                 NaN  ...   \n\n  trafficSource_adwordsClickInfo.criteriaParameters  \\\n0                                               NaN   \n1                                               NaN   \n2                                               NaN   \n3                                               NaN   \n4                                               NaN   \n\n                          trafficSource_referralPath  \\\n0                                                NaN   \n1  /a/google.com/transportation/mtv-services/bike...   \n2                                                NaN   \n3                                                NaN   \n4                                                NaN   \n\n  trafficSource_isTrueDirect  trafficSource_adContent  \\\n0                        NaN                      NaN   \n1                        NaN                      NaN   \n2                       True                      NaN   \n3                        NaN                      NaN   \n4                        NaN                      NaN   \n\n   trafficSource_adwordsClickInfo.page  trafficSource_adwordsClickInfo.slot  \\\n0                                  NaN                                  NaN   \n1                                  NaN                                  NaN   \n2                                  NaN                                  NaN   \n3                                  NaN                                  NaN   \n4                                  NaN                                  NaN   \n\n   trafficSource_adwordsClickInfo.gclId  \\\n0                                   NaN   \n1                                   NaN   \n2                                   NaN   \n3                                   NaN   \n4                                   NaN   \n\n   trafficSource_adwordsClickInfo.adNetworkType  \\\n0                                           NaN   \n1                                           NaN   \n2                                           NaN   \n3                                           NaN   \n4                                           NaN   \n\n   trafficSource_adwordsClickInfo.isVideoAd  trafficSource_campaignCode  \n0                                       NaN                         NaN  \n1                                       NaN                         NaN  \n2                                       NaN                         NaN  \n3                                       NaN                         NaN  \n4                                       NaN                         NaN  \n\n[5 rows x 58 columns]",
            "text/html": "<div>\n<style scoped>\n    .dataframe tbody tr th:only-of-type {\n        vertical-align: middle;\n    }\n\n    .dataframe tbody tr th {\n        vertical-align: top;\n    }\n\n    .dataframe thead th {\n        text-align: right;\n    }\n</style>\n<table border=\"1\" class=\"dataframe\">\n  <thead>\n    <tr style=\"text-align: right;\">\n      <th></th>\n      <th>channelGrouping</th>\n      <th>date</th>\n      <th>fullVisitorId</th>\n      <th>socialEngagementType</th>\n      <th>visitId</th>\n      <th>visitNumber</th>\n      <th>visitStartTime</th>\n      <th>device_browser</th>\n      <th>device_browserVersion</th>\n      <th>device_browserSize</th>\n      <th>...</th>\n      <th>trafficSource_adwordsClickInfo.criteriaParameters</th>\n      <th>trafficSource_referralPath</th>\n      <th>trafficSource_isTrueDirect</th>\n      <th>trafficSource_adContent</th>\n      <th>trafficSource_adwordsClickInfo.page</th>\n      <th>trafficSource_adwordsClickInfo.slot</th>\n      <th>trafficSource_adwordsClickInfo.gclId</th>\n      <th>trafficSource_adwordsClickInfo.adNetworkType</th>\n      <th>trafficSource_adwordsClickInfo.isVideoAd</th>\n      <th>trafficSource_campaignCode</th>\n    </tr>\n  </thead>\n  <tbody>\n    <tr>\n      <th>0</th>\n      <td>Organic Search</td>\n      <td>20171016</td>\n      <td>3162355547410993243</td>\n      <td>Not Socially Engaged</td>\n      <td>1508198450</td>\n      <td>1</td>\n      <td>1508198450</td>\n      <td>Firefox</td>\n      <td>NaN</td>\n      <td>NaN</td>\n      <td>...</td>\n      <td>NaN</td>\n      <td>NaN</td>\n      <td>NaN</td>\n      <td>NaN</td>\n      <td>NaN</td>\n      <td>NaN</td>\n      <td>NaN</td>\n      <td>NaN</td>\n      <td>NaN</td>\n      <td>NaN</td>\n    </tr>\n    <tr>\n      <th>1</th>\n      <td>Referral</td>\n      <td>20171016</td>\n      <td>8934116514970143966</td>\n      <td>Not Socially Engaged</td>\n      <td>1508176307</td>\n      <td>6</td>\n      <td>1508176307</td>\n      <td>Chrome</td>\n      <td>NaN</td>\n      <td>NaN</td>\n      <td>...</td>\n      <td>NaN</td>\n      <td>/a/google.com/transportation/mtv-services/bike...</td>\n      <td>NaN</td>\n      <td>NaN</td>\n      <td>NaN</td>\n      <td>NaN</td>\n      <td>NaN</td>\n      <td>NaN</td>\n      <td>NaN</td>\n      <td>NaN</td>\n    </tr>\n    <tr>\n      <th>2</th>\n      <td>Direct</td>\n      <td>20171016</td>\n      <td>7992466427990357681</td>\n      <td>Not Socially Engaged</td>\n      <td>1508201613</td>\n      <td>1</td>\n      <td>1508201613</td>\n      <td>Chrome</td>\n      <td>NaN</td>\n      <td>NaN</td>\n      <td>...</td>\n      <td>NaN</td>\n      <td>NaN</td>\n      <td>True</td>\n      <td>NaN</td>\n      <td>NaN</td>\n      <td>NaN</td>\n      <td>NaN</td>\n      <td>NaN</td>\n      <td>NaN</td>\n      <td>NaN</td>\n    </tr>\n    <tr>\n      <th>3</th>\n      <td>Organic Search</td>\n      <td>20171016</td>\n      <td>9075655783635761930</td>\n      <td>Not Socially Engaged</td>\n      <td>1508169851</td>\n      <td>1</td>\n      <td>1508169851</td>\n      <td>Chrome</td>\n      <td>NaN</td>\n      <td>NaN</td>\n      <td>...</td>\n      <td>NaN</td>\n      <td>NaN</td>\n      <td>NaN</td>\n      <td>NaN</td>\n      <td>NaN</td>\n      <td>NaN</td>\n      <td>NaN</td>\n      <td>NaN</td>\n      <td>NaN</td>\n      <td>NaN</td>\n    </tr>\n    <tr>\n      <th>4</th>\n      <td>Organic Search</td>\n      <td>20171016</td>\n      <td>6960673291025684308</td>\n      <td>Not Socially Engaged</td>\n      <td>1508190552</td>\n      <td>1</td>\n      <td>1508190552</td>\n      <td>Chrome</td>\n      <td>NaN</td>\n      <td>NaN</td>\n      <td>...</td>\n      <td>NaN</td>\n      <td>NaN</td>\n      <td>NaN</td>\n      <td>NaN</td>\n      <td>NaN</td>\n      <td>NaN</td>\n      <td>NaN</td>\n      <td>NaN</td>\n      <td>NaN</td>\n      <td>NaN</td>\n    </tr>\n  </tbody>\n</table>\n<p>5 rows × 58 columns</p>\n</div>"
          },
          "metadata": {}
        }
      ],
      "execution_count": null
    },
    {
      "cell_type": "code",
      "source": [
        "df_train.to_csv(\"/kaggle/working/df_train_preprocessed.csv\",index=False)"
      ],
      "metadata": {
        "trusted": true,
        "execution": {
          "iopub.status.busy": "2025-03-22T10:10:14.218034Z",
          "iopub.execute_input": "2025-03-22T10:10:14.218436Z",
          "iopub.status.idle": "2025-03-22T10:10:55.278793Z",
          "shell.execute_reply.started": "2025-03-22T10:10:14.218405Z",
          "shell.execute_reply": "2025-03-22T10:10:55.277597Z"
        },
        "id": "WAPI8op6WWQZ"
      },
      "outputs": [],
      "execution_count": null
    },
    {
      "cell_type": "code",
      "source": [],
      "metadata": {
        "trusted": true,
        "id": "U3P0EHf5WWQZ"
      },
      "outputs": [],
      "execution_count": null
    }
  ]
}