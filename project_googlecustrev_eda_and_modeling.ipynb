{
  "nbformat": 4,
  "nbformat_minor": 0,
  "metadata": {
    "colab": {
      "provenance": [],
      "mount_file_id": "1vAkgHk-XOjIsgQSrXpWlftX4ul3_rELU",
      "authorship_tag": "ABX9TyM5sXm0FlleFVBkOVGd8vMx",
      "include_colab_link": true
    },
    "kernelspec": {
      "name": "python3",
      "display_name": "Python 3"
    },
    "language_info": {
      "name": "python"
    }
  },
  "cells": [
    {
      "cell_type": "markdown",
      "metadata": {
        "id": "view-in-github",
        "colab_type": "text"
      },
      "source": [
        "<a href=\"https://colab.research.google.com/github/nihalB05/Google-merchendise-store-customer-revenue-prediction-project-/blob/main/project_googlecustrev_eda_and_modeling.ipynb\" target=\"_parent\"><img src=\"https://colab.research.google.com/assets/colab-badge.svg\" alt=\"Open In Colab\"/></a>"
      ]
    },
    {
      "cell_type": "code",
      "execution_count": 2,
      "metadata": {
        "id": "gf8PX2OnG86x"
      },
      "outputs": [],
      "source": [
        "import pandas as pd"
      ]
    },
    {
      "cell_type": "code",
      "source": [
        "import numpy as np\n",
        "import matplotlib.pyplot as plt\n",
        "%matplotlib inline\n",
        "import seaborn as sns"
      ],
      "metadata": {
        "id": "VvJFjxUr3xqE"
      },
      "execution_count": 3,
      "outputs": []
    },
    {
      "cell_type": "code",
      "source": [
        "df_train=pd.read_csv(\"/content/df_train_cleaned_final.csv\")\n",
        "df_train.head()"
      ],
      "metadata": {
        "colab": {
          "base_uri": "https://localhost:8080/",
          "height": 377
        },
        "id": "xKcApsb5HZnQ",
        "outputId": "18316c36-d805-4adc-80ea-1562f66baa54"
      },
      "execution_count": 4,
      "outputs": [
        {
          "output_type": "stream",
          "name": "stderr",
          "text": [
            "<ipython-input-4-2f728da3c6fe>:1: DtypeWarning: Columns (2) have mixed types. Specify dtype option on import or set low_memory=False.\n",
            "  df_train=pd.read_csv(\"/content/df_train_cleaned_final.csv\")\n"
          ]
        },
        {
          "output_type": "execute_result",
          "data": {
            "text/plain": [
              "  channelGrouping        date        fullVisitorId  socialEngagementType  \\\n",
              "0          Social  2016-09-02  1050850727039976881  Not Socially Engaged   \n",
              "1          Direct  2017-11-30  7589732656605431413  Not Socially Engaged   \n",
              "2  Organic Search  2017-10-16  2776719179256163496  Not Socially Engaged   \n",
              "3          Social  2016-09-02  1257547046399219173  Not Socially Engaged   \n",
              "4  Organic Search  2017-11-30  2085884759466885671  Not Socially Engaged   \n",
              "\n",
              "      visitId  visitNumber  visitStartTime     device_browser  \\\n",
              "0  1472872238            1      1472872238             Safari   \n",
              "1  1512034084            1      1512034084             Chrome   \n",
              "2  1508185733            1      1508185733  Internet Explorer   \n",
              "3  1472826503            1      1472826503             Chrome   \n",
              "4  1512069005            4      1512069005             Chrome   \n",
              "\n",
              "  device_operatingSystem  device_isMobile  ... geoNetwork_subContinent  \\\n",
              "0              Macintosh            False  ...          Southeast Asia   \n",
              "1                Android             True  ...          Western Europe   \n",
              "2                Windows            False  ...             Australasia   \n",
              "3                Windows            False  ...            Western Asia   \n",
              "4                Windows            False  ...        Northern America   \n",
              "\n",
              "  geoNetwork_country totals_visits totals_hits  totals_pageviews  \\\n",
              "0          Indonesia             1           1               1.0   \n",
              "1        Switzerland             1           1               1.0   \n",
              "2        New Zealand             1           1               1.0   \n",
              "3             Turkey             1           1               1.0   \n",
              "4      United States             1           7               7.0   \n",
              "\n",
              "   trafficSource_source  trafficSource_medium totals_transactionRevenue  \\\n",
              "0           youtube.com              referral                       NaN   \n",
              "1              (direct)                (none)                       NaN   \n",
              "2                google               organic                       NaN   \n",
              "3           youtube.com              referral                       NaN   \n",
              "4                google               organic                       NaN   \n",
              "\n",
              "  totals_totalTransactionRevenue  totals_transactions  \n",
              "0                            NaN                  NaN  \n",
              "1                            NaN                  NaN  \n",
              "2                            NaN                  NaN  \n",
              "3                            NaN                  NaN  \n",
              "4                            NaN                  NaN  \n",
              "\n",
              "[5 rows x 22 columns]"
            ],
            "text/html": [
              "\n",
              "  <div id=\"df-23c9223a-55a1-4841-be6f-8f0f88b7b0d2\" class=\"colab-df-container\">\n",
              "    <div>\n",
              "<style scoped>\n",
              "    .dataframe tbody tr th:only-of-type {\n",
              "        vertical-align: middle;\n",
              "    }\n",
              "\n",
              "    .dataframe tbody tr th {\n",
              "        vertical-align: top;\n",
              "    }\n",
              "\n",
              "    .dataframe thead th {\n",
              "        text-align: right;\n",
              "    }\n",
              "</style>\n",
              "<table border=\"1\" class=\"dataframe\">\n",
              "  <thead>\n",
              "    <tr style=\"text-align: right;\">\n",
              "      <th></th>\n",
              "      <th>channelGrouping</th>\n",
              "      <th>date</th>\n",
              "      <th>fullVisitorId</th>\n",
              "      <th>socialEngagementType</th>\n",
              "      <th>visitId</th>\n",
              "      <th>visitNumber</th>\n",
              "      <th>visitStartTime</th>\n",
              "      <th>device_browser</th>\n",
              "      <th>device_operatingSystem</th>\n",
              "      <th>device_isMobile</th>\n",
              "      <th>...</th>\n",
              "      <th>geoNetwork_subContinent</th>\n",
              "      <th>geoNetwork_country</th>\n",
              "      <th>totals_visits</th>\n",
              "      <th>totals_hits</th>\n",
              "      <th>totals_pageviews</th>\n",
              "      <th>trafficSource_source</th>\n",
              "      <th>trafficSource_medium</th>\n",
              "      <th>totals_transactionRevenue</th>\n",
              "      <th>totals_totalTransactionRevenue</th>\n",
              "      <th>totals_transactions</th>\n",
              "    </tr>\n",
              "  </thead>\n",
              "  <tbody>\n",
              "    <tr>\n",
              "      <th>0</th>\n",
              "      <td>Social</td>\n",
              "      <td>2016-09-02</td>\n",
              "      <td>1050850727039976881</td>\n",
              "      <td>Not Socially Engaged</td>\n",
              "      <td>1472872238</td>\n",
              "      <td>1</td>\n",
              "      <td>1472872238</td>\n",
              "      <td>Safari</td>\n",
              "      <td>Macintosh</td>\n",
              "      <td>False</td>\n",
              "      <td>...</td>\n",
              "      <td>Southeast Asia</td>\n",
              "      <td>Indonesia</td>\n",
              "      <td>1</td>\n",
              "      <td>1</td>\n",
              "      <td>1.0</td>\n",
              "      <td>youtube.com</td>\n",
              "      <td>referral</td>\n",
              "      <td>NaN</td>\n",
              "      <td>NaN</td>\n",
              "      <td>NaN</td>\n",
              "    </tr>\n",
              "    <tr>\n",
              "      <th>1</th>\n",
              "      <td>Direct</td>\n",
              "      <td>2017-11-30</td>\n",
              "      <td>7589732656605431413</td>\n",
              "      <td>Not Socially Engaged</td>\n",
              "      <td>1512034084</td>\n",
              "      <td>1</td>\n",
              "      <td>1512034084</td>\n",
              "      <td>Chrome</td>\n",
              "      <td>Android</td>\n",
              "      <td>True</td>\n",
              "      <td>...</td>\n",
              "      <td>Western Europe</td>\n",
              "      <td>Switzerland</td>\n",
              "      <td>1</td>\n",
              "      <td>1</td>\n",
              "      <td>1.0</td>\n",
              "      <td>(direct)</td>\n",
              "      <td>(none)</td>\n",
              "      <td>NaN</td>\n",
              "      <td>NaN</td>\n",
              "      <td>NaN</td>\n",
              "    </tr>\n",
              "    <tr>\n",
              "      <th>2</th>\n",
              "      <td>Organic Search</td>\n",
              "      <td>2017-10-16</td>\n",
              "      <td>2776719179256163496</td>\n",
              "      <td>Not Socially Engaged</td>\n",
              "      <td>1508185733</td>\n",
              "      <td>1</td>\n",
              "      <td>1508185733</td>\n",
              "      <td>Internet Explorer</td>\n",
              "      <td>Windows</td>\n",
              "      <td>False</td>\n",
              "      <td>...</td>\n",
              "      <td>Australasia</td>\n",
              "      <td>New Zealand</td>\n",
              "      <td>1</td>\n",
              "      <td>1</td>\n",
              "      <td>1.0</td>\n",
              "      <td>google</td>\n",
              "      <td>organic</td>\n",
              "      <td>NaN</td>\n",
              "      <td>NaN</td>\n",
              "      <td>NaN</td>\n",
              "    </tr>\n",
              "    <tr>\n",
              "      <th>3</th>\n",
              "      <td>Social</td>\n",
              "      <td>2016-09-02</td>\n",
              "      <td>1257547046399219173</td>\n",
              "      <td>Not Socially Engaged</td>\n",
              "      <td>1472826503</td>\n",
              "      <td>1</td>\n",
              "      <td>1472826503</td>\n",
              "      <td>Chrome</td>\n",
              "      <td>Windows</td>\n",
              "      <td>False</td>\n",
              "      <td>...</td>\n",
              "      <td>Western Asia</td>\n",
              "      <td>Turkey</td>\n",
              "      <td>1</td>\n",
              "      <td>1</td>\n",
              "      <td>1.0</td>\n",
              "      <td>youtube.com</td>\n",
              "      <td>referral</td>\n",
              "      <td>NaN</td>\n",
              "      <td>NaN</td>\n",
              "      <td>NaN</td>\n",
              "    </tr>\n",
              "    <tr>\n",
              "      <th>4</th>\n",
              "      <td>Organic Search</td>\n",
              "      <td>2017-11-30</td>\n",
              "      <td>2085884759466885671</td>\n",
              "      <td>Not Socially Engaged</td>\n",
              "      <td>1512069005</td>\n",
              "      <td>4</td>\n",
              "      <td>1512069005</td>\n",
              "      <td>Chrome</td>\n",
              "      <td>Windows</td>\n",
              "      <td>False</td>\n",
              "      <td>...</td>\n",
              "      <td>Northern America</td>\n",
              "      <td>United States</td>\n",
              "      <td>1</td>\n",
              "      <td>7</td>\n",
              "      <td>7.0</td>\n",
              "      <td>google</td>\n",
              "      <td>organic</td>\n",
              "      <td>NaN</td>\n",
              "      <td>NaN</td>\n",
              "      <td>NaN</td>\n",
              "    </tr>\n",
              "  </tbody>\n",
              "</table>\n",
              "<p>5 rows × 22 columns</p>\n",
              "</div>\n",
              "    <div class=\"colab-df-buttons\">\n",
              "\n",
              "  <div class=\"colab-df-container\">\n",
              "    <button class=\"colab-df-convert\" onclick=\"convertToInteractive('df-23c9223a-55a1-4841-be6f-8f0f88b7b0d2')\"\n",
              "            title=\"Convert this dataframe to an interactive table.\"\n",
              "            style=\"display:none;\">\n",
              "\n",
              "  <svg xmlns=\"http://www.w3.org/2000/svg\" height=\"24px\" viewBox=\"0 -960 960 960\">\n",
              "    <path d=\"M120-120v-720h720v720H120Zm60-500h600v-160H180v160Zm220 220h160v-160H400v160Zm0 220h160v-160H400v160ZM180-400h160v-160H180v160Zm440 0h160v-160H620v160ZM180-180h160v-160H180v160Zm440 0h160v-160H620v160Z\"/>\n",
              "  </svg>\n",
              "    </button>\n",
              "\n",
              "  <style>\n",
              "    .colab-df-container {\n",
              "      display:flex;\n",
              "      gap: 12px;\n",
              "    }\n",
              "\n",
              "    .colab-df-convert {\n",
              "      background-color: #E8F0FE;\n",
              "      border: none;\n",
              "      border-radius: 50%;\n",
              "      cursor: pointer;\n",
              "      display: none;\n",
              "      fill: #1967D2;\n",
              "      height: 32px;\n",
              "      padding: 0 0 0 0;\n",
              "      width: 32px;\n",
              "    }\n",
              "\n",
              "    .colab-df-convert:hover {\n",
              "      background-color: #E2EBFA;\n",
              "      box-shadow: 0px 1px 2px rgba(60, 64, 67, 0.3), 0px 1px 3px 1px rgba(60, 64, 67, 0.15);\n",
              "      fill: #174EA6;\n",
              "    }\n",
              "\n",
              "    .colab-df-buttons div {\n",
              "      margin-bottom: 4px;\n",
              "    }\n",
              "\n",
              "    [theme=dark] .colab-df-convert {\n",
              "      background-color: #3B4455;\n",
              "      fill: #D2E3FC;\n",
              "    }\n",
              "\n",
              "    [theme=dark] .colab-df-convert:hover {\n",
              "      background-color: #434B5C;\n",
              "      box-shadow: 0px 1px 3px 1px rgba(0, 0, 0, 0.15);\n",
              "      filter: drop-shadow(0px 1px 2px rgba(0, 0, 0, 0.3));\n",
              "      fill: #FFFFFF;\n",
              "    }\n",
              "  </style>\n",
              "\n",
              "    <script>\n",
              "      const buttonEl =\n",
              "        document.querySelector('#df-23c9223a-55a1-4841-be6f-8f0f88b7b0d2 button.colab-df-convert');\n",
              "      buttonEl.style.display =\n",
              "        google.colab.kernel.accessAllowed ? 'block' : 'none';\n",
              "\n",
              "      async function convertToInteractive(key) {\n",
              "        const element = document.querySelector('#df-23c9223a-55a1-4841-be6f-8f0f88b7b0d2');\n",
              "        const dataTable =\n",
              "          await google.colab.kernel.invokeFunction('convertToInteractive',\n",
              "                                                    [key], {});\n",
              "        if (!dataTable) return;\n",
              "\n",
              "        const docLinkHtml = 'Like what you see? Visit the ' +\n",
              "          '<a target=\"_blank\" href=https://colab.research.google.com/notebooks/data_table.ipynb>data table notebook</a>'\n",
              "          + ' to learn more about interactive tables.';\n",
              "        element.innerHTML = '';\n",
              "        dataTable['output_type'] = 'display_data';\n",
              "        await google.colab.output.renderOutput(dataTable, element);\n",
              "        const docLink = document.createElement('div');\n",
              "        docLink.innerHTML = docLinkHtml;\n",
              "        element.appendChild(docLink);\n",
              "      }\n",
              "    </script>\n",
              "  </div>\n",
              "\n",
              "\n",
              "<div id=\"df-19224833-7914-43be-a6c7-bcda655acecc\">\n",
              "  <button class=\"colab-df-quickchart\" onclick=\"quickchart('df-19224833-7914-43be-a6c7-bcda655acecc')\"\n",
              "            title=\"Suggest charts\"\n",
              "            style=\"display:none;\">\n",
              "\n",
              "<svg xmlns=\"http://www.w3.org/2000/svg\" height=\"24px\"viewBox=\"0 0 24 24\"\n",
              "     width=\"24px\">\n",
              "    <g>\n",
              "        <path d=\"M19 3H5c-1.1 0-2 .9-2 2v14c0 1.1.9 2 2 2h14c1.1 0 2-.9 2-2V5c0-1.1-.9-2-2-2zM9 17H7v-7h2v7zm4 0h-2V7h2v10zm4 0h-2v-4h2v4z\"/>\n",
              "    </g>\n",
              "</svg>\n",
              "  </button>\n",
              "\n",
              "<style>\n",
              "  .colab-df-quickchart {\n",
              "      --bg-color: #E8F0FE;\n",
              "      --fill-color: #1967D2;\n",
              "      --hover-bg-color: #E2EBFA;\n",
              "      --hover-fill-color: #174EA6;\n",
              "      --disabled-fill-color: #AAA;\n",
              "      --disabled-bg-color: #DDD;\n",
              "  }\n",
              "\n",
              "  [theme=dark] .colab-df-quickchart {\n",
              "      --bg-color: #3B4455;\n",
              "      --fill-color: #D2E3FC;\n",
              "      --hover-bg-color: #434B5C;\n",
              "      --hover-fill-color: #FFFFFF;\n",
              "      --disabled-bg-color: #3B4455;\n",
              "      --disabled-fill-color: #666;\n",
              "  }\n",
              "\n",
              "  .colab-df-quickchart {\n",
              "    background-color: var(--bg-color);\n",
              "    border: none;\n",
              "    border-radius: 50%;\n",
              "    cursor: pointer;\n",
              "    display: none;\n",
              "    fill: var(--fill-color);\n",
              "    height: 32px;\n",
              "    padding: 0;\n",
              "    width: 32px;\n",
              "  }\n",
              "\n",
              "  .colab-df-quickchart:hover {\n",
              "    background-color: var(--hover-bg-color);\n",
              "    box-shadow: 0 1px 2px rgba(60, 64, 67, 0.3), 0 1px 3px 1px rgba(60, 64, 67, 0.15);\n",
              "    fill: var(--button-hover-fill-color);\n",
              "  }\n",
              "\n",
              "  .colab-df-quickchart-complete:disabled,\n",
              "  .colab-df-quickchart-complete:disabled:hover {\n",
              "    background-color: var(--disabled-bg-color);\n",
              "    fill: var(--disabled-fill-color);\n",
              "    box-shadow: none;\n",
              "  }\n",
              "\n",
              "  .colab-df-spinner {\n",
              "    border: 2px solid var(--fill-color);\n",
              "    border-color: transparent;\n",
              "    border-bottom-color: var(--fill-color);\n",
              "    animation:\n",
              "      spin 1s steps(1) infinite;\n",
              "  }\n",
              "\n",
              "  @keyframes spin {\n",
              "    0% {\n",
              "      border-color: transparent;\n",
              "      border-bottom-color: var(--fill-color);\n",
              "      border-left-color: var(--fill-color);\n",
              "    }\n",
              "    20% {\n",
              "      border-color: transparent;\n",
              "      border-left-color: var(--fill-color);\n",
              "      border-top-color: var(--fill-color);\n",
              "    }\n",
              "    30% {\n",
              "      border-color: transparent;\n",
              "      border-left-color: var(--fill-color);\n",
              "      border-top-color: var(--fill-color);\n",
              "      border-right-color: var(--fill-color);\n",
              "    }\n",
              "    40% {\n",
              "      border-color: transparent;\n",
              "      border-right-color: var(--fill-color);\n",
              "      border-top-color: var(--fill-color);\n",
              "    }\n",
              "    60% {\n",
              "      border-color: transparent;\n",
              "      border-right-color: var(--fill-color);\n",
              "    }\n",
              "    80% {\n",
              "      border-color: transparent;\n",
              "      border-right-color: var(--fill-color);\n",
              "      border-bottom-color: var(--fill-color);\n",
              "    }\n",
              "    90% {\n",
              "      border-color: transparent;\n",
              "      border-bottom-color: var(--fill-color);\n",
              "    }\n",
              "  }\n",
              "</style>\n",
              "\n",
              "  <script>\n",
              "    async function quickchart(key) {\n",
              "      const quickchartButtonEl =\n",
              "        document.querySelector('#' + key + ' button');\n",
              "      quickchartButtonEl.disabled = true;  // To prevent multiple clicks.\n",
              "      quickchartButtonEl.classList.add('colab-df-spinner');\n",
              "      try {\n",
              "        const charts = await google.colab.kernel.invokeFunction(\n",
              "            'suggestCharts', [key], {});\n",
              "      } catch (error) {\n",
              "        console.error('Error during call to suggestCharts:', error);\n",
              "      }\n",
              "      quickchartButtonEl.classList.remove('colab-df-spinner');\n",
              "      quickchartButtonEl.classList.add('colab-df-quickchart-complete');\n",
              "    }\n",
              "    (() => {\n",
              "      let quickchartButtonEl =\n",
              "        document.querySelector('#df-19224833-7914-43be-a6c7-bcda655acecc button');\n",
              "      quickchartButtonEl.style.display =\n",
              "        google.colab.kernel.accessAllowed ? 'block' : 'none';\n",
              "    })();\n",
              "  </script>\n",
              "</div>\n",
              "\n",
              "    </div>\n",
              "  </div>\n"
            ],
            "application/vnd.google.colaboratory.intrinsic+json": {
              "type": "dataframe",
              "variable_name": "df_train"
            }
          },
          "metadata": {},
          "execution_count": 4
        }
      ]
    },
    {
      "cell_type": "code",
      "source": [
        "df_agg = df_train.groupby('fullVisitorId').agg({\n",
        "    'totals_transactionRevenue': 'sum',\n",
        "    'totals_pageviews': 'sum',\n",
        "    'visitNumber': 'max',\n",
        "    'device_deviceCategory': 'last',\n",
        "    'geoNetwork_country': 'last',\n",
        "\n",
        "}).reset_index()"
      ],
      "metadata": {
        "id": "r9onFvB3Hf9S"
      },
      "execution_count": 5,
      "outputs": []
    },
    {
      "cell_type": "code",
      "source": [
        "df_train.info()"
      ],
      "metadata": {
        "colab": {
          "base_uri": "https://localhost:8080/"
        },
        "id": "9bJpoLoeU5PQ",
        "outputId": "1120fb68-3d7a-4b83-8b90-59813282ec08"
      },
      "execution_count": 6,
      "outputs": [
        {
          "output_type": "stream",
          "name": "stdout",
          "text": [
            "<class 'pandas.core.frame.DataFrame'>\n",
            "RangeIndex: 170834 entries, 0 to 170833\n",
            "Data columns (total 22 columns):\n",
            " #   Column                          Non-Null Count   Dtype  \n",
            "---  ------                          --------------   -----  \n",
            " 0   channelGrouping                 170834 non-null  object \n",
            " 1   date                            170834 non-null  object \n",
            " 2   fullVisitorId                   170834 non-null  object \n",
            " 3   socialEngagementType            170834 non-null  object \n",
            " 4   visitId                         170834 non-null  int64  \n",
            " 5   visitNumber                     170834 non-null  int64  \n",
            " 6   visitStartTime                  170834 non-null  int64  \n",
            " 7   device_browser                  170834 non-null  object \n",
            " 8   device_operatingSystem          170834 non-null  object \n",
            " 9   device_isMobile                 170834 non-null  bool   \n",
            " 10  device_deviceCategory           170834 non-null  object \n",
            " 11  geoNetwork_continent            170834 non-null  object \n",
            " 12  geoNetwork_subContinent         170834 non-null  object \n",
            " 13  geoNetwork_country              170834 non-null  object \n",
            " 14  totals_visits                   170834 non-null  int64  \n",
            " 15  totals_hits                     170834 non-null  int64  \n",
            " 16  totals_pageviews                170834 non-null  float64\n",
            " 17  trafficSource_source            170834 non-null  object \n",
            " 18  trafficSource_medium            170834 non-null  object \n",
            " 19  totals_transactionRevenue       1841 non-null    float64\n",
            " 20  totals_totalTransactionRevenue  1841 non-null    float64\n",
            " 21  totals_transactions             1849 non-null    float64\n",
            "dtypes: bool(1), float64(4), int64(5), object(12)\n",
            "memory usage: 27.5+ MB\n"
          ]
        }
      ]
    },
    {
      "cell_type": "code",
      "source": [
        "df_train['date']=pd.to_datetime(df_train['date'],format=\"%Y-%m-%d\")"
      ],
      "metadata": {
        "id": "awlTrNrDkACZ"
      },
      "execution_count": 7,
      "outputs": []
    },
    {
      "cell_type": "code",
      "source": [
        "df_train[\"visit_day\"]=df_train[\"date\"].dt.day\n",
        "df_train[\"visit_month\"]=df_train[\"date\"].dt.month\n",
        "df_train[\"visit_year\"]=df_train[\"date\"].dt.year"
      ],
      "metadata": {
        "id": "1bGfoAzUTvEd"
      },
      "execution_count": 8,
      "outputs": []
    },
    {
      "cell_type": "code",
      "source": [
        "df_train[\"day_of_week\"]=df_train[\"date\"].dt.dayofweek"
      ],
      "metadata": {
        "id": "x1ju1jaJUUSP"
      },
      "execution_count": 9,
      "outputs": []
    },
    {
      "cell_type": "code",
      "source": [
        "df_train['totals_totalTransactionRevenue']=df_train['totals_totalTransactionRevenue'].fillna(0)\n",
        "df_train['totals_transactionRevenue']=df_train['totals_transactionRevenue'].fillna(0)\n",
        "df_train['totals_transactions']=df_train['totals_transactions'].fillna(0)"
      ],
      "metadata": {
        "id": "f5U2Xw6xV1FA"
      },
      "execution_count": 10,
      "outputs": []
    },
    {
      "cell_type": "code",
      "source": [
        "df_train.isnull().sum()"
      ],
      "metadata": {
        "colab": {
          "base_uri": "https://localhost:8080/",
          "height": 899
        },
        "id": "6dHDrzOKyydd",
        "outputId": "c5f7e2b4-fa47-4eef-8b80-b936106119c6"
      },
      "execution_count": 11,
      "outputs": [
        {
          "output_type": "execute_result",
          "data": {
            "text/plain": [
              "channelGrouping                   0\n",
              "date                              0\n",
              "fullVisitorId                     0\n",
              "socialEngagementType              0\n",
              "visitId                           0\n",
              "visitNumber                       0\n",
              "visitStartTime                    0\n",
              "device_browser                    0\n",
              "device_operatingSystem            0\n",
              "device_isMobile                   0\n",
              "device_deviceCategory             0\n",
              "geoNetwork_continent              0\n",
              "geoNetwork_subContinent           0\n",
              "geoNetwork_country                0\n",
              "totals_visits                     0\n",
              "totals_hits                       0\n",
              "totals_pageviews                  0\n",
              "trafficSource_source              0\n",
              "trafficSource_medium              0\n",
              "totals_transactionRevenue         0\n",
              "totals_totalTransactionRevenue    0\n",
              "totals_transactions               0\n",
              "visit_day                         0\n",
              "visit_month                       0\n",
              "visit_year                        0\n",
              "day_of_week                       0\n",
              "dtype: int64"
            ],
            "text/html": [
              "<div>\n",
              "<style scoped>\n",
              "    .dataframe tbody tr th:only-of-type {\n",
              "        vertical-align: middle;\n",
              "    }\n",
              "\n",
              "    .dataframe tbody tr th {\n",
              "        vertical-align: top;\n",
              "    }\n",
              "\n",
              "    .dataframe thead th {\n",
              "        text-align: right;\n",
              "    }\n",
              "</style>\n",
              "<table border=\"1\" class=\"dataframe\">\n",
              "  <thead>\n",
              "    <tr style=\"text-align: right;\">\n",
              "      <th></th>\n",
              "      <th>0</th>\n",
              "    </tr>\n",
              "  </thead>\n",
              "  <tbody>\n",
              "    <tr>\n",
              "      <th>channelGrouping</th>\n",
              "      <td>0</td>\n",
              "    </tr>\n",
              "    <tr>\n",
              "      <th>date</th>\n",
              "      <td>0</td>\n",
              "    </tr>\n",
              "    <tr>\n",
              "      <th>fullVisitorId</th>\n",
              "      <td>0</td>\n",
              "    </tr>\n",
              "    <tr>\n",
              "      <th>socialEngagementType</th>\n",
              "      <td>0</td>\n",
              "    </tr>\n",
              "    <tr>\n",
              "      <th>visitId</th>\n",
              "      <td>0</td>\n",
              "    </tr>\n",
              "    <tr>\n",
              "      <th>visitNumber</th>\n",
              "      <td>0</td>\n",
              "    </tr>\n",
              "    <tr>\n",
              "      <th>visitStartTime</th>\n",
              "      <td>0</td>\n",
              "    </tr>\n",
              "    <tr>\n",
              "      <th>device_browser</th>\n",
              "      <td>0</td>\n",
              "    </tr>\n",
              "    <tr>\n",
              "      <th>device_operatingSystem</th>\n",
              "      <td>0</td>\n",
              "    </tr>\n",
              "    <tr>\n",
              "      <th>device_isMobile</th>\n",
              "      <td>0</td>\n",
              "    </tr>\n",
              "    <tr>\n",
              "      <th>device_deviceCategory</th>\n",
              "      <td>0</td>\n",
              "    </tr>\n",
              "    <tr>\n",
              "      <th>geoNetwork_continent</th>\n",
              "      <td>0</td>\n",
              "    </tr>\n",
              "    <tr>\n",
              "      <th>geoNetwork_subContinent</th>\n",
              "      <td>0</td>\n",
              "    </tr>\n",
              "    <tr>\n",
              "      <th>geoNetwork_country</th>\n",
              "      <td>0</td>\n",
              "    </tr>\n",
              "    <tr>\n",
              "      <th>totals_visits</th>\n",
              "      <td>0</td>\n",
              "    </tr>\n",
              "    <tr>\n",
              "      <th>totals_hits</th>\n",
              "      <td>0</td>\n",
              "    </tr>\n",
              "    <tr>\n",
              "      <th>totals_pageviews</th>\n",
              "      <td>0</td>\n",
              "    </tr>\n",
              "    <tr>\n",
              "      <th>trafficSource_source</th>\n",
              "      <td>0</td>\n",
              "    </tr>\n",
              "    <tr>\n",
              "      <th>trafficSource_medium</th>\n",
              "      <td>0</td>\n",
              "    </tr>\n",
              "    <tr>\n",
              "      <th>totals_transactionRevenue</th>\n",
              "      <td>0</td>\n",
              "    </tr>\n",
              "    <tr>\n",
              "      <th>totals_totalTransactionRevenue</th>\n",
              "      <td>0</td>\n",
              "    </tr>\n",
              "    <tr>\n",
              "      <th>totals_transactions</th>\n",
              "      <td>0</td>\n",
              "    </tr>\n",
              "    <tr>\n",
              "      <th>visit_day</th>\n",
              "      <td>0</td>\n",
              "    </tr>\n",
              "    <tr>\n",
              "      <th>visit_month</th>\n",
              "      <td>0</td>\n",
              "    </tr>\n",
              "    <tr>\n",
              "      <th>visit_year</th>\n",
              "      <td>0</td>\n",
              "    </tr>\n",
              "    <tr>\n",
              "      <th>day_of_week</th>\n",
              "      <td>0</td>\n",
              "    </tr>\n",
              "  </tbody>\n",
              "</table>\n",
              "</div><br><label><b>dtype:</b> int64</label>"
            ]
          },
          "metadata": {},
          "execution_count": 11
        }
      ]
    },
    {
      "cell_type": "code",
      "source": [
        "df_train[\"made_a_transaction\"]=(df_train[\"totals_transactionRevenue\"]>0).astype(int)"
      ],
      "metadata": {
        "id": "GZwwSj2yzHUK"
      },
      "execution_count": 12,
      "outputs": []
    },
    {
      "cell_type": "code",
      "source": [
        "# df_train['avg_transaction']=df_train['totals_totalTransactionRevenue']/df_train['totals_transactions'].replace(0,1)"
      ],
      "metadata": {
        "id": "f00xH0FM0B53"
      },
      "execution_count": 13,
      "outputs": []
    },
    {
      "cell_type": "code",
      "source": [
        "#df_train['avg_transaction']=df_train['avg_transaction'].fillna(0)"
      ],
      "metadata": {
        "id": "bYSxNL-F08UU"
      },
      "execution_count": 14,
      "outputs": []
    },
    {
      "cell_type": "code",
      "source": [
        "df_train['log_revenue']=np.log1p(df_train['totals_transactionRevenue'])"
      ],
      "metadata": {
        "id": "ULUWhb3c1IHQ"
      },
      "execution_count": 15,
      "outputs": []
    },
    {
      "cell_type": "code",
      "source": [
        "df_train_num=df_train.select_dtypes(include=[\"int\",\"float\"])"
      ],
      "metadata": {
        "id": "flCE6UJTrSkc"
      },
      "execution_count": 16,
      "outputs": []
    },
    {
      "cell_type": "code",
      "source": [
        "df_train.rename(columns={'made_a_transaction': 'paying_cust'}, inplace=True)"
      ],
      "metadata": {
        "id": "3uGO2uJLA0A8"
      },
      "execution_count": 17,
      "outputs": []
    },
    {
      "cell_type": "code",
      "source": [
        "df_train_num.corr()"
      ],
      "metadata": {
        "id": "hL5yIx8e38ok",
        "colab": {
          "base_uri": "https://localhost:8080/",
          "height": 539
        },
        "outputId": "f7dec9b8-65bb-4766-889e-f978aefbc8ff"
      },
      "execution_count": 18,
      "outputs": [
        {
          "output_type": "execute_result",
          "data": {
            "text/plain": [
              "                                 visitId  visitNumber  visitStartTime  \\\n",
              "visitId                         1.000000     0.012027        1.000000   \n",
              "visitNumber                     0.012027     1.000000        0.012027   \n",
              "visitStartTime                  1.000000     0.012027        1.000000   \n",
              "totals_visits                        NaN          NaN             NaN   \n",
              "totals_hits                    -0.020919     0.034868       -0.020919   \n",
              "totals_pageviews               -0.024356     0.040290       -0.024356   \n",
              "totals_transactionRevenue      -0.009130     0.016868       -0.009130   \n",
              "totals_totalTransactionRevenue -0.010013     0.016801       -0.010013   \n",
              "totals_transactions            -0.016266     0.015734       -0.016266   \n",
              "visit_day                       0.026820    -0.001688        0.026820   \n",
              "visit_month                    -0.290446    -0.015867       -0.290446   \n",
              "visit_year                      0.897676     0.016547        0.897676   \n",
              "day_of_week                    -0.002725    -0.018411       -0.002725   \n",
              "made_a_transaction             -0.015667     0.016059       -0.015667   \n",
              "log_revenue                    -0.016107     0.016926       -0.016107   \n",
              "\n",
              "                                totals_visits  totals_hits  totals_pageviews  \\\n",
              "visitId                                   NaN    -0.020919         -0.024356   \n",
              "visitNumber                               NaN     0.034868          0.040290   \n",
              "visitStartTime                            NaN    -0.020919         -0.024356   \n",
              "totals_visits                             NaN          NaN               NaN   \n",
              "totals_hits                               NaN     1.000000          0.979159   \n",
              "totals_pageviews                          NaN     0.979159          1.000000   \n",
              "totals_transactionRevenue                 NaN     0.147572          0.145621   \n",
              "totals_totalTransactionRevenue            NaN     0.155656          0.154686   \n",
              "totals_transactions                       NaN     0.364082          0.385356   \n",
              "visit_day                                 NaN    -0.002188         -0.002483   \n",
              "visit_month                               NaN    -0.001795         -0.005264   \n",
              "visit_year                                NaN    -0.015146         -0.016177   \n",
              "day_of_week                               NaN    -0.008545         -0.009799   \n",
              "made_a_transaction                        NaN     0.361013          0.381414   \n",
              "log_revenue                               NaN     0.366001          0.385624   \n",
              "\n",
              "                                totals_transactionRevenue  \\\n",
              "visitId                                         -0.009130   \n",
              "visitNumber                                      0.016868   \n",
              "visitStartTime                                  -0.009130   \n",
              "totals_visits                                         NaN   \n",
              "totals_hits                                      0.147572   \n",
              "totals_pageviews                                 0.145621   \n",
              "totals_transactionRevenue                        1.000000   \n",
              "totals_totalTransactionRevenue                   0.988720   \n",
              "totals_transactions                              0.263738   \n",
              "visit_day                                        0.003614   \n",
              "visit_month                                     -0.002738   \n",
              "visit_year                                      -0.005852   \n",
              "day_of_week                                     -0.004200   \n",
              "made_a_transaction                               0.265730   \n",
              "log_revenue                                      0.296076   \n",
              "\n",
              "                                totals_totalTransactionRevenue  \\\n",
              "visitId                                              -0.010013   \n",
              "visitNumber                                           0.016801   \n",
              "visitStartTime                                       -0.010013   \n",
              "totals_visits                                              NaN   \n",
              "totals_hits                                           0.155656   \n",
              "totals_pageviews                                      0.154686   \n",
              "totals_transactionRevenue                             0.988720   \n",
              "totals_totalTransactionRevenue                        1.000000   \n",
              "totals_transactions                                   0.298555   \n",
              "visit_day                                             0.003287   \n",
              "visit_month                                          -0.002233   \n",
              "visit_year                                           -0.006748   \n",
              "day_of_week                                          -0.004660   \n",
              "made_a_transaction                                    0.279976   \n",
              "log_revenue                                           0.310519   \n",
              "\n",
              "                                totals_transactions  visit_day  visit_month  \\\n",
              "visitId                                   -0.016266   0.026820    -0.290446   \n",
              "visitNumber                                0.015734  -0.001688    -0.015867   \n",
              "visitStartTime                            -0.016266   0.026820    -0.290446   \n",
              "totals_visits                                   NaN        NaN          NaN   \n",
              "totals_hits                                0.364082  -0.002188    -0.001795   \n",
              "totals_pageviews                           0.385356  -0.002483    -0.005264   \n",
              "totals_transactionRevenue                  0.263738   0.003614    -0.002738   \n",
              "totals_totalTransactionRevenue             0.298555   0.003287    -0.002233   \n",
              "totals_transactions                        1.000000   0.001134    -0.001168   \n",
              "visit_day                                  0.001134   1.000000    -0.013402   \n",
              "visit_month                               -0.001168  -0.013402     1.000000   \n",
              "visit_year                                -0.011931  -0.008568    -0.681026   \n",
              "day_of_week                               -0.014660  -0.024725     0.006426   \n",
              "made_a_transaction                         0.970183   0.001116    -0.000869   \n",
              "log_revenue                                0.968789   0.001322    -0.001199   \n",
              "\n",
              "                                visit_year  day_of_week  made_a_transaction  \\\n",
              "visitId                           0.897676    -0.002725           -0.015667   \n",
              "visitNumber                       0.016547    -0.018411            0.016059   \n",
              "visitStartTime                    0.897676    -0.002725           -0.015667   \n",
              "totals_visits                          NaN          NaN                 NaN   \n",
              "totals_hits                      -0.015146    -0.008545            0.361013   \n",
              "totals_pageviews                 -0.016177    -0.009799            0.381414   \n",
              "totals_transactionRevenue        -0.005852    -0.004200            0.265730   \n",
              "totals_totalTransactionRevenue   -0.006748    -0.004660            0.279976   \n",
              "totals_transactions              -0.011931    -0.014660            0.970183   \n",
              "visit_day                        -0.008568    -0.024725            0.001116   \n",
              "visit_month                      -0.681026     0.006426           -0.000869   \n",
              "visit_year                        1.000000    -0.004184           -0.011607   \n",
              "day_of_week                      -0.004184     1.000000           -0.015160   \n",
              "made_a_transaction               -0.011607    -0.015160            1.000000   \n",
              "log_revenue                      -0.011799    -0.015294            0.997869   \n",
              "\n",
              "                                log_revenue  \n",
              "visitId                           -0.016107  \n",
              "visitNumber                        0.016926  \n",
              "visitStartTime                    -0.016107  \n",
              "totals_visits                           NaN  \n",
              "totals_hits                        0.366001  \n",
              "totals_pageviews                   0.385624  \n",
              "totals_transactionRevenue          0.296076  \n",
              "totals_totalTransactionRevenue     0.310519  \n",
              "totals_transactions                0.968789  \n",
              "visit_day                          0.001322  \n",
              "visit_month                       -0.001199  \n",
              "visit_year                        -0.011799  \n",
              "day_of_week                       -0.015294  \n",
              "made_a_transaction                 0.997869  \n",
              "log_revenue                        1.000000  "
            ],
            "text/html": [
              "\n",
              "  <div id=\"df-2b1a7054-2ba3-438b-94fd-38b47141c28e\" class=\"colab-df-container\">\n",
              "    <div>\n",
              "<style scoped>\n",
              "    .dataframe tbody tr th:only-of-type {\n",
              "        vertical-align: middle;\n",
              "    }\n",
              "\n",
              "    .dataframe tbody tr th {\n",
              "        vertical-align: top;\n",
              "    }\n",
              "\n",
              "    .dataframe thead th {\n",
              "        text-align: right;\n",
              "    }\n",
              "</style>\n",
              "<table border=\"1\" class=\"dataframe\">\n",
              "  <thead>\n",
              "    <tr style=\"text-align: right;\">\n",
              "      <th></th>\n",
              "      <th>visitId</th>\n",
              "      <th>visitNumber</th>\n",
              "      <th>visitStartTime</th>\n",
              "      <th>totals_visits</th>\n",
              "      <th>totals_hits</th>\n",
              "      <th>totals_pageviews</th>\n",
              "      <th>totals_transactionRevenue</th>\n",
              "      <th>totals_totalTransactionRevenue</th>\n",
              "      <th>totals_transactions</th>\n",
              "      <th>visit_day</th>\n",
              "      <th>visit_month</th>\n",
              "      <th>visit_year</th>\n",
              "      <th>day_of_week</th>\n",
              "      <th>made_a_transaction</th>\n",
              "      <th>log_revenue</th>\n",
              "    </tr>\n",
              "  </thead>\n",
              "  <tbody>\n",
              "    <tr>\n",
              "      <th>visitId</th>\n",
              "      <td>1.000000</td>\n",
              "      <td>0.012027</td>\n",
              "      <td>1.000000</td>\n",
              "      <td>NaN</td>\n",
              "      <td>-0.020919</td>\n",
              "      <td>-0.024356</td>\n",
              "      <td>-0.009130</td>\n",
              "      <td>-0.010013</td>\n",
              "      <td>-0.016266</td>\n",
              "      <td>0.026820</td>\n",
              "      <td>-0.290446</td>\n",
              "      <td>0.897676</td>\n",
              "      <td>-0.002725</td>\n",
              "      <td>-0.015667</td>\n",
              "      <td>-0.016107</td>\n",
              "    </tr>\n",
              "    <tr>\n",
              "      <th>visitNumber</th>\n",
              "      <td>0.012027</td>\n",
              "      <td>1.000000</td>\n",
              "      <td>0.012027</td>\n",
              "      <td>NaN</td>\n",
              "      <td>0.034868</td>\n",
              "      <td>0.040290</td>\n",
              "      <td>0.016868</td>\n",
              "      <td>0.016801</td>\n",
              "      <td>0.015734</td>\n",
              "      <td>-0.001688</td>\n",
              "      <td>-0.015867</td>\n",
              "      <td>0.016547</td>\n",
              "      <td>-0.018411</td>\n",
              "      <td>0.016059</td>\n",
              "      <td>0.016926</td>\n",
              "    </tr>\n",
              "    <tr>\n",
              "      <th>visitStartTime</th>\n",
              "      <td>1.000000</td>\n",
              "      <td>0.012027</td>\n",
              "      <td>1.000000</td>\n",
              "      <td>NaN</td>\n",
              "      <td>-0.020919</td>\n",
              "      <td>-0.024356</td>\n",
              "      <td>-0.009130</td>\n",
              "      <td>-0.010013</td>\n",
              "      <td>-0.016266</td>\n",
              "      <td>0.026820</td>\n",
              "      <td>-0.290446</td>\n",
              "      <td>0.897676</td>\n",
              "      <td>-0.002725</td>\n",
              "      <td>-0.015667</td>\n",
              "      <td>-0.016107</td>\n",
              "    </tr>\n",
              "    <tr>\n",
              "      <th>totals_visits</th>\n",
              "      <td>NaN</td>\n",
              "      <td>NaN</td>\n",
              "      <td>NaN</td>\n",
              "      <td>NaN</td>\n",
              "      <td>NaN</td>\n",
              "      <td>NaN</td>\n",
              "      <td>NaN</td>\n",
              "      <td>NaN</td>\n",
              "      <td>NaN</td>\n",
              "      <td>NaN</td>\n",
              "      <td>NaN</td>\n",
              "      <td>NaN</td>\n",
              "      <td>NaN</td>\n",
              "      <td>NaN</td>\n",
              "      <td>NaN</td>\n",
              "    </tr>\n",
              "    <tr>\n",
              "      <th>totals_hits</th>\n",
              "      <td>-0.020919</td>\n",
              "      <td>0.034868</td>\n",
              "      <td>-0.020919</td>\n",
              "      <td>NaN</td>\n",
              "      <td>1.000000</td>\n",
              "      <td>0.979159</td>\n",
              "      <td>0.147572</td>\n",
              "      <td>0.155656</td>\n",
              "      <td>0.364082</td>\n",
              "      <td>-0.002188</td>\n",
              "      <td>-0.001795</td>\n",
              "      <td>-0.015146</td>\n",
              "      <td>-0.008545</td>\n",
              "      <td>0.361013</td>\n",
              "      <td>0.366001</td>\n",
              "    </tr>\n",
              "    <tr>\n",
              "      <th>totals_pageviews</th>\n",
              "      <td>-0.024356</td>\n",
              "      <td>0.040290</td>\n",
              "      <td>-0.024356</td>\n",
              "      <td>NaN</td>\n",
              "      <td>0.979159</td>\n",
              "      <td>1.000000</td>\n",
              "      <td>0.145621</td>\n",
              "      <td>0.154686</td>\n",
              "      <td>0.385356</td>\n",
              "      <td>-0.002483</td>\n",
              "      <td>-0.005264</td>\n",
              "      <td>-0.016177</td>\n",
              "      <td>-0.009799</td>\n",
              "      <td>0.381414</td>\n",
              "      <td>0.385624</td>\n",
              "    </tr>\n",
              "    <tr>\n",
              "      <th>totals_transactionRevenue</th>\n",
              "      <td>-0.009130</td>\n",
              "      <td>0.016868</td>\n",
              "      <td>-0.009130</td>\n",
              "      <td>NaN</td>\n",
              "      <td>0.147572</td>\n",
              "      <td>0.145621</td>\n",
              "      <td>1.000000</td>\n",
              "      <td>0.988720</td>\n",
              "      <td>0.263738</td>\n",
              "      <td>0.003614</td>\n",
              "      <td>-0.002738</td>\n",
              "      <td>-0.005852</td>\n",
              "      <td>-0.004200</td>\n",
              "      <td>0.265730</td>\n",
              "      <td>0.296076</td>\n",
              "    </tr>\n",
              "    <tr>\n",
              "      <th>totals_totalTransactionRevenue</th>\n",
              "      <td>-0.010013</td>\n",
              "      <td>0.016801</td>\n",
              "      <td>-0.010013</td>\n",
              "      <td>NaN</td>\n",
              "      <td>0.155656</td>\n",
              "      <td>0.154686</td>\n",
              "      <td>0.988720</td>\n",
              "      <td>1.000000</td>\n",
              "      <td>0.298555</td>\n",
              "      <td>0.003287</td>\n",
              "      <td>-0.002233</td>\n",
              "      <td>-0.006748</td>\n",
              "      <td>-0.004660</td>\n",
              "      <td>0.279976</td>\n",
              "      <td>0.310519</td>\n",
              "    </tr>\n",
              "    <tr>\n",
              "      <th>totals_transactions</th>\n",
              "      <td>-0.016266</td>\n",
              "      <td>0.015734</td>\n",
              "      <td>-0.016266</td>\n",
              "      <td>NaN</td>\n",
              "      <td>0.364082</td>\n",
              "      <td>0.385356</td>\n",
              "      <td>0.263738</td>\n",
              "      <td>0.298555</td>\n",
              "      <td>1.000000</td>\n",
              "      <td>0.001134</td>\n",
              "      <td>-0.001168</td>\n",
              "      <td>-0.011931</td>\n",
              "      <td>-0.014660</td>\n",
              "      <td>0.970183</td>\n",
              "      <td>0.968789</td>\n",
              "    </tr>\n",
              "    <tr>\n",
              "      <th>visit_day</th>\n",
              "      <td>0.026820</td>\n",
              "      <td>-0.001688</td>\n",
              "      <td>0.026820</td>\n",
              "      <td>NaN</td>\n",
              "      <td>-0.002188</td>\n",
              "      <td>-0.002483</td>\n",
              "      <td>0.003614</td>\n",
              "      <td>0.003287</td>\n",
              "      <td>0.001134</td>\n",
              "      <td>1.000000</td>\n",
              "      <td>-0.013402</td>\n",
              "      <td>-0.008568</td>\n",
              "      <td>-0.024725</td>\n",
              "      <td>0.001116</td>\n",
              "      <td>0.001322</td>\n",
              "    </tr>\n",
              "    <tr>\n",
              "      <th>visit_month</th>\n",
              "      <td>-0.290446</td>\n",
              "      <td>-0.015867</td>\n",
              "      <td>-0.290446</td>\n",
              "      <td>NaN</td>\n",
              "      <td>-0.001795</td>\n",
              "      <td>-0.005264</td>\n",
              "      <td>-0.002738</td>\n",
              "      <td>-0.002233</td>\n",
              "      <td>-0.001168</td>\n",
              "      <td>-0.013402</td>\n",
              "      <td>1.000000</td>\n",
              "      <td>-0.681026</td>\n",
              "      <td>0.006426</td>\n",
              "      <td>-0.000869</td>\n",
              "      <td>-0.001199</td>\n",
              "    </tr>\n",
              "    <tr>\n",
              "      <th>visit_year</th>\n",
              "      <td>0.897676</td>\n",
              "      <td>0.016547</td>\n",
              "      <td>0.897676</td>\n",
              "      <td>NaN</td>\n",
              "      <td>-0.015146</td>\n",
              "      <td>-0.016177</td>\n",
              "      <td>-0.005852</td>\n",
              "      <td>-0.006748</td>\n",
              "      <td>-0.011931</td>\n",
              "      <td>-0.008568</td>\n",
              "      <td>-0.681026</td>\n",
              "      <td>1.000000</td>\n",
              "      <td>-0.004184</td>\n",
              "      <td>-0.011607</td>\n",
              "      <td>-0.011799</td>\n",
              "    </tr>\n",
              "    <tr>\n",
              "      <th>day_of_week</th>\n",
              "      <td>-0.002725</td>\n",
              "      <td>-0.018411</td>\n",
              "      <td>-0.002725</td>\n",
              "      <td>NaN</td>\n",
              "      <td>-0.008545</td>\n",
              "      <td>-0.009799</td>\n",
              "      <td>-0.004200</td>\n",
              "      <td>-0.004660</td>\n",
              "      <td>-0.014660</td>\n",
              "      <td>-0.024725</td>\n",
              "      <td>0.006426</td>\n",
              "      <td>-0.004184</td>\n",
              "      <td>1.000000</td>\n",
              "      <td>-0.015160</td>\n",
              "      <td>-0.015294</td>\n",
              "    </tr>\n",
              "    <tr>\n",
              "      <th>made_a_transaction</th>\n",
              "      <td>-0.015667</td>\n",
              "      <td>0.016059</td>\n",
              "      <td>-0.015667</td>\n",
              "      <td>NaN</td>\n",
              "      <td>0.361013</td>\n",
              "      <td>0.381414</td>\n",
              "      <td>0.265730</td>\n",
              "      <td>0.279976</td>\n",
              "      <td>0.970183</td>\n",
              "      <td>0.001116</td>\n",
              "      <td>-0.000869</td>\n",
              "      <td>-0.011607</td>\n",
              "      <td>-0.015160</td>\n",
              "      <td>1.000000</td>\n",
              "      <td>0.997869</td>\n",
              "    </tr>\n",
              "    <tr>\n",
              "      <th>log_revenue</th>\n",
              "      <td>-0.016107</td>\n",
              "      <td>0.016926</td>\n",
              "      <td>-0.016107</td>\n",
              "      <td>NaN</td>\n",
              "      <td>0.366001</td>\n",
              "      <td>0.385624</td>\n",
              "      <td>0.296076</td>\n",
              "      <td>0.310519</td>\n",
              "      <td>0.968789</td>\n",
              "      <td>0.001322</td>\n",
              "      <td>-0.001199</td>\n",
              "      <td>-0.011799</td>\n",
              "      <td>-0.015294</td>\n",
              "      <td>0.997869</td>\n",
              "      <td>1.000000</td>\n",
              "    </tr>\n",
              "  </tbody>\n",
              "</table>\n",
              "</div>\n",
              "    <div class=\"colab-df-buttons\">\n",
              "\n",
              "  <div class=\"colab-df-container\">\n",
              "    <button class=\"colab-df-convert\" onclick=\"convertToInteractive('df-2b1a7054-2ba3-438b-94fd-38b47141c28e')\"\n",
              "            title=\"Convert this dataframe to an interactive table.\"\n",
              "            style=\"display:none;\">\n",
              "\n",
              "  <svg xmlns=\"http://www.w3.org/2000/svg\" height=\"24px\" viewBox=\"0 -960 960 960\">\n",
              "    <path d=\"M120-120v-720h720v720H120Zm60-500h600v-160H180v160Zm220 220h160v-160H400v160Zm0 220h160v-160H400v160ZM180-400h160v-160H180v160Zm440 0h160v-160H620v160ZM180-180h160v-160H180v160Zm440 0h160v-160H620v160Z\"/>\n",
              "  </svg>\n",
              "    </button>\n",
              "\n",
              "  <style>\n",
              "    .colab-df-container {\n",
              "      display:flex;\n",
              "      gap: 12px;\n",
              "    }\n",
              "\n",
              "    .colab-df-convert {\n",
              "      background-color: #E8F0FE;\n",
              "      border: none;\n",
              "      border-radius: 50%;\n",
              "      cursor: pointer;\n",
              "      display: none;\n",
              "      fill: #1967D2;\n",
              "      height: 32px;\n",
              "      padding: 0 0 0 0;\n",
              "      width: 32px;\n",
              "    }\n",
              "\n",
              "    .colab-df-convert:hover {\n",
              "      background-color: #E2EBFA;\n",
              "      box-shadow: 0px 1px 2px rgba(60, 64, 67, 0.3), 0px 1px 3px 1px rgba(60, 64, 67, 0.15);\n",
              "      fill: #174EA6;\n",
              "    }\n",
              "\n",
              "    .colab-df-buttons div {\n",
              "      margin-bottom: 4px;\n",
              "    }\n",
              "\n",
              "    [theme=dark] .colab-df-convert {\n",
              "      background-color: #3B4455;\n",
              "      fill: #D2E3FC;\n",
              "    }\n",
              "\n",
              "    [theme=dark] .colab-df-convert:hover {\n",
              "      background-color: #434B5C;\n",
              "      box-shadow: 0px 1px 3px 1px rgba(0, 0, 0, 0.15);\n",
              "      filter: drop-shadow(0px 1px 2px rgba(0, 0, 0, 0.3));\n",
              "      fill: #FFFFFF;\n",
              "    }\n",
              "  </style>\n",
              "\n",
              "    <script>\n",
              "      const buttonEl =\n",
              "        document.querySelector('#df-2b1a7054-2ba3-438b-94fd-38b47141c28e button.colab-df-convert');\n",
              "      buttonEl.style.display =\n",
              "        google.colab.kernel.accessAllowed ? 'block' : 'none';\n",
              "\n",
              "      async function convertToInteractive(key) {\n",
              "        const element = document.querySelector('#df-2b1a7054-2ba3-438b-94fd-38b47141c28e');\n",
              "        const dataTable =\n",
              "          await google.colab.kernel.invokeFunction('convertToInteractive',\n",
              "                                                    [key], {});\n",
              "        if (!dataTable) return;\n",
              "\n",
              "        const docLinkHtml = 'Like what you see? Visit the ' +\n",
              "          '<a target=\"_blank\" href=https://colab.research.google.com/notebooks/data_table.ipynb>data table notebook</a>'\n",
              "          + ' to learn more about interactive tables.';\n",
              "        element.innerHTML = '';\n",
              "        dataTable['output_type'] = 'display_data';\n",
              "        await google.colab.output.renderOutput(dataTable, element);\n",
              "        const docLink = document.createElement('div');\n",
              "        docLink.innerHTML = docLinkHtml;\n",
              "        element.appendChild(docLink);\n",
              "      }\n",
              "    </script>\n",
              "  </div>\n",
              "\n",
              "\n",
              "<div id=\"df-9d3a83fe-f6de-4945-a2da-c1966a07a0bc\">\n",
              "  <button class=\"colab-df-quickchart\" onclick=\"quickchart('df-9d3a83fe-f6de-4945-a2da-c1966a07a0bc')\"\n",
              "            title=\"Suggest charts\"\n",
              "            style=\"display:none;\">\n",
              "\n",
              "<svg xmlns=\"http://www.w3.org/2000/svg\" height=\"24px\"viewBox=\"0 0 24 24\"\n",
              "     width=\"24px\">\n",
              "    <g>\n",
              "        <path d=\"M19 3H5c-1.1 0-2 .9-2 2v14c0 1.1.9 2 2 2h14c1.1 0 2-.9 2-2V5c0-1.1-.9-2-2-2zM9 17H7v-7h2v7zm4 0h-2V7h2v10zm4 0h-2v-4h2v4z\"/>\n",
              "    </g>\n",
              "</svg>\n",
              "  </button>\n",
              "\n",
              "<style>\n",
              "  .colab-df-quickchart {\n",
              "      --bg-color: #E8F0FE;\n",
              "      --fill-color: #1967D2;\n",
              "      --hover-bg-color: #E2EBFA;\n",
              "      --hover-fill-color: #174EA6;\n",
              "      --disabled-fill-color: #AAA;\n",
              "      --disabled-bg-color: #DDD;\n",
              "  }\n",
              "\n",
              "  [theme=dark] .colab-df-quickchart {\n",
              "      --bg-color: #3B4455;\n",
              "      --fill-color: #D2E3FC;\n",
              "      --hover-bg-color: #434B5C;\n",
              "      --hover-fill-color: #FFFFFF;\n",
              "      --disabled-bg-color: #3B4455;\n",
              "      --disabled-fill-color: #666;\n",
              "  }\n",
              "\n",
              "  .colab-df-quickchart {\n",
              "    background-color: var(--bg-color);\n",
              "    border: none;\n",
              "    border-radius: 50%;\n",
              "    cursor: pointer;\n",
              "    display: none;\n",
              "    fill: var(--fill-color);\n",
              "    height: 32px;\n",
              "    padding: 0;\n",
              "    width: 32px;\n",
              "  }\n",
              "\n",
              "  .colab-df-quickchart:hover {\n",
              "    background-color: var(--hover-bg-color);\n",
              "    box-shadow: 0 1px 2px rgba(60, 64, 67, 0.3), 0 1px 3px 1px rgba(60, 64, 67, 0.15);\n",
              "    fill: var(--button-hover-fill-color);\n",
              "  }\n",
              "\n",
              "  .colab-df-quickchart-complete:disabled,\n",
              "  .colab-df-quickchart-complete:disabled:hover {\n",
              "    background-color: var(--disabled-bg-color);\n",
              "    fill: var(--disabled-fill-color);\n",
              "    box-shadow: none;\n",
              "  }\n",
              "\n",
              "  .colab-df-spinner {\n",
              "    border: 2px solid var(--fill-color);\n",
              "    border-color: transparent;\n",
              "    border-bottom-color: var(--fill-color);\n",
              "    animation:\n",
              "      spin 1s steps(1) infinite;\n",
              "  }\n",
              "\n",
              "  @keyframes spin {\n",
              "    0% {\n",
              "      border-color: transparent;\n",
              "      border-bottom-color: var(--fill-color);\n",
              "      border-left-color: var(--fill-color);\n",
              "    }\n",
              "    20% {\n",
              "      border-color: transparent;\n",
              "      border-left-color: var(--fill-color);\n",
              "      border-top-color: var(--fill-color);\n",
              "    }\n",
              "    30% {\n",
              "      border-color: transparent;\n",
              "      border-left-color: var(--fill-color);\n",
              "      border-top-color: var(--fill-color);\n",
              "      border-right-color: var(--fill-color);\n",
              "    }\n",
              "    40% {\n",
              "      border-color: transparent;\n",
              "      border-right-color: var(--fill-color);\n",
              "      border-top-color: var(--fill-color);\n",
              "    }\n",
              "    60% {\n",
              "      border-color: transparent;\n",
              "      border-right-color: var(--fill-color);\n",
              "    }\n",
              "    80% {\n",
              "      border-color: transparent;\n",
              "      border-right-color: var(--fill-color);\n",
              "      border-bottom-color: var(--fill-color);\n",
              "    }\n",
              "    90% {\n",
              "      border-color: transparent;\n",
              "      border-bottom-color: var(--fill-color);\n",
              "    }\n",
              "  }\n",
              "</style>\n",
              "\n",
              "  <script>\n",
              "    async function quickchart(key) {\n",
              "      const quickchartButtonEl =\n",
              "        document.querySelector('#' + key + ' button');\n",
              "      quickchartButtonEl.disabled = true;  // To prevent multiple clicks.\n",
              "      quickchartButtonEl.classList.add('colab-df-spinner');\n",
              "      try {\n",
              "        const charts = await google.colab.kernel.invokeFunction(\n",
              "            'suggestCharts', [key], {});\n",
              "      } catch (error) {\n",
              "        console.error('Error during call to suggestCharts:', error);\n",
              "      }\n",
              "      quickchartButtonEl.classList.remove('colab-df-spinner');\n",
              "      quickchartButtonEl.classList.add('colab-df-quickchart-complete');\n",
              "    }\n",
              "    (() => {\n",
              "      let quickchartButtonEl =\n",
              "        document.querySelector('#df-9d3a83fe-f6de-4945-a2da-c1966a07a0bc button');\n",
              "      quickchartButtonEl.style.display =\n",
              "        google.colab.kernel.accessAllowed ? 'block' : 'none';\n",
              "    })();\n",
              "  </script>\n",
              "</div>\n",
              "\n",
              "    </div>\n",
              "  </div>\n"
            ],
            "application/vnd.google.colaboratory.intrinsic+json": {
              "type": "dataframe",
              "summary": "{\n  \"name\": \"df_train_num\",\n  \"rows\": 15,\n  \"fields\": [\n    {\n      \"column\": \"visitId\",\n      \"properties\": {\n        \"dtype\": \"number\",\n        \"std\": 0.4328355880721888,\n        \"min\": -0.29044570950990284,\n        \"max\": 1.0,\n        \"num_unique_values\": 14,\n        \"samples\": [\n          -0.29044570950990284,\n          -0.0027251710510881036,\n          1.0\n        ],\n        \"semantic_type\": \"\",\n        \"description\": \"\"\n      }\n    },\n    {\n      \"column\": \"visitNumber\",\n      \"properties\": {\n        \"dtype\": \"number\",\n        \"std\": 0.2644120256228311,\n        \"min\": -0.01841139849701268,\n        \"max\": 1.0,\n        \"num_unique_values\": 14,\n        \"samples\": [\n          -0.015867151293428253,\n          -0.01841139849701268,\n          0.012027088135159058\n        ],\n        \"semantic_type\": \"\",\n        \"description\": \"\"\n      }\n    },\n    {\n      \"column\": \"visitStartTime\",\n      \"properties\": {\n        \"dtype\": \"number\",\n        \"std\": 0.4328355855945861,\n        \"min\": -0.2904457154397737,\n        \"max\": 1.0,\n        \"num_unique_values\": 14,\n        \"samples\": [\n          -0.2904457154397737,\n          -0.002725160886514791,\n          0.9999999999975958\n        ],\n        \"semantic_type\": \"\",\n        \"description\": \"\"\n      }\n    },\n    {\n      \"column\": \"totals_visits\",\n      \"properties\": {\n        \"dtype\": \"number\",\n        \"std\": null,\n        \"min\": null,\n        \"max\": null,\n        \"num_unique_values\": 0,\n        \"samples\": [],\n        \"semantic_type\": \"\",\n        \"description\": \"\"\n      }\n    },\n    {\n      \"column\": \"totals_hits\",\n      \"properties\": {\n        \"dtype\": \"number\",\n        \"std\": 0.3516693621660045,\n        \"min\": -0.020918913922006656,\n        \"max\": 1.0,\n        \"num_unique_values\": 14,\n        \"samples\": [],\n        \"semantic_type\": \"\",\n        \"description\": \"\"\n      }\n    },\n    {\n      \"column\": \"totals_pageviews\",\n      \"properties\": {\n        \"dtype\": \"number\",\n        \"std\": 0.35399280334751404,\n        \"min\": -0.024355821733254734,\n        \"max\": 1.0,\n        \"num_unique_values\": 14,\n        \"samples\": [],\n        \"semantic_type\": \"\",\n        \"description\": \"\"\n      }\n    },\n    {\n      \"column\": \"totals_transactionRevenue\",\n      \"properties\": {\n        \"dtype\": \"number\",\n        \"std\": 0.34683782984710915,\n        \"min\": -0.009130296474787861,\n        \"max\": 1.0,\n        \"num_unique_values\": 14,\n        \"samples\": [],\n        \"semantic_type\": \"\",\n        \"description\": \"\"\n      }\n    },\n    {\n      \"column\": \"totals_totalTransactionRevenue\",\n      \"properties\": {\n        \"dtype\": \"number\",\n        \"std\": 0.34756306405405646,\n        \"min\": -0.010012943655052176,\n        \"max\": 1.0,\n        \"num_unique_values\": 14,\n        \"samples\": [],\n        \"semantic_type\": \"\",\n        \"description\": \"\"\n      }\n    },\n    {\n      \"column\": \"totals_transactions\",\n      \"properties\": {\n        \"dtype\": \"number\",\n        \"std\": 0.39771653924623096,\n        \"min\": -0.016265990995269944,\n        \"max\": 1.0,\n        \"num_unique_values\": 14,\n        \"samples\": [],\n        \"semantic_type\": \"\",\n        \"description\": \"\"\n      }\n    },\n    {\n      \"column\": \"visit_day\",\n      \"properties\": {\n        \"dtype\": \"number\",\n        \"std\": 0.2673700596516948,\n        \"min\": -0.024725192234835807,\n        \"max\": 1.0,\n        \"num_unique_values\": 14,\n        \"samples\": [],\n        \"semantic_type\": \"\",\n        \"description\": \"\"\n      }\n    },\n    {\n      \"column\": \"visit_month\",\n      \"properties\": {\n        \"dtype\": \"number\",\n        \"std\": 0.3537278115118194,\n        \"min\": -0.6810259860891358,\n        \"max\": 1.0,\n        \"num_unique_values\": 14,\n        \"samples\": [],\n        \"semantic_type\": \"\",\n        \"description\": \"\"\n      }\n    },\n    {\n      \"column\": \"visit_year\",\n      \"properties\": {\n        \"dtype\": \"number\",\n        \"std\": 0.46242411152787716,\n        \"min\": -0.6810259860891358,\n        \"max\": 1.0,\n        \"num_unique_values\": 14,\n        \"samples\": [],\n        \"semantic_type\": \"\",\n        \"description\": \"\"\n      }\n    },\n    {\n      \"column\": \"day_of_week\",\n      \"properties\": {\n        \"dtype\": \"number\",\n        \"std\": 0.2698188290735345,\n        \"min\": -0.024725192234835807,\n        \"max\": 1.0,\n        \"num_unique_values\": 14,\n        \"samples\": [],\n        \"semantic_type\": \"\",\n        \"description\": \"\"\n      }\n    },\n    {\n      \"column\": \"made_a_transaction\",\n      \"properties\": {\n        \"dtype\": \"number\",\n        \"std\": 0.40136962857389735,\n        \"min\": -0.015666627134210857,\n        \"max\": 1.0,\n        \"num_unique_values\": 14,\n        \"samples\": [],\n        \"semantic_type\": \"\",\n        \"description\": \"\"\n      }\n    },\n    {\n      \"column\": \"log_revenue\",\n      \"properties\": {\n        \"dtype\": \"number\",\n        \"std\": 0.4011677138800303,\n        \"min\": -0.016107239175210092,\n        \"max\": 1.0,\n        \"num_unique_values\": 14,\n        \"samples\": [],\n        \"semantic_type\": \"\",\n        \"description\": \"\"\n      }\n    }\n  ]\n}"
            }
          },
          "metadata": {},
          "execution_count": 18
        }
      ]
    },
    {
      "cell_type": "code",
      "source": [
        "sns.heatmap(df_train_num.corr())"
      ],
      "metadata": {
        "colab": {
          "base_uri": "https://localhost:8080/",
          "height": 656
        },
        "id": "LjDCOxfErntr",
        "outputId": "c4c870a1-8b3c-441b-ace6-b162c81c9f1b"
      },
      "execution_count": 19,
      "outputs": [
        {
          "output_type": "execute_result",
          "data": {
            "text/plain": [
              "<Axes: >"
            ]
          },
          "metadata": {},
          "execution_count": 19
        },
        {
          "output_type": "display_data",
          "data": {
            "text/plain": [
              "<Figure size 640x480 with 2 Axes>"
            ],
            "image/png": "[encoded data removed]"
          },
          "metadata": {}
        }
      ]
    },
    {
      "cell_type": "code",
      "source": [
        "df_agg.head()"
      ],
      "metadata": {
        "id": "0wWQ0uNztVzn",
        "colab": {
          "base_uri": "https://localhost:8080/",
          "height": 206
        },
        "outputId": "7746d6ab-2ebf-4407-d362-bbad1a87b600"
      },
      "execution_count": 20,
      "outputs": [
        {
          "output_type": "execute_result",
          "data": {
            "text/plain": [
              "    fullVisitorId  totals_transactionRevenue  totals_pageviews  visitNumber  \\\n",
              "0  59381693533730                        0.0               3.0            1   \n",
              "1  59488412965267                        0.0               1.0            1   \n",
              "2  77980744724824                        0.0               4.0            1   \n",
              "3  88751495106967                        0.0               2.0            1   \n",
              "4  89152042155758                        0.0               1.0            1   \n",
              "\n",
              "  device_deviceCategory geoNetwork_country  \n",
              "0                mobile      United States  \n",
              "1                mobile      United States  \n",
              "2               desktop      United States  \n",
              "3               desktop      United States  \n",
              "4                mobile     United Kingdom  "
            ],
            "text/html": [
              "\n",
              "  <div id=\"df-8e9bca32-0748-40a1-9601-8e80f126ab8e\" class=\"colab-df-container\">\n",
              "    <div>\n",
              "<style scoped>\n",
              "    .dataframe tbody tr th:only-of-type {\n",
              "        vertical-align: middle;\n",
              "    }\n",
              "\n",
              "    .dataframe tbody tr th {\n",
              "        vertical-align: top;\n",
              "    }\n",
              "\n",
              "    .dataframe thead th {\n",
              "        text-align: right;\n",
              "    }\n",
              "</style>\n",
              "<table border=\"1\" class=\"dataframe\">\n",
              "  <thead>\n",
              "    <tr style=\"text-align: right;\">\n",
              "      <th></th>\n",
              "      <th>fullVisitorId</th>\n",
              "      <th>totals_transactionRevenue</th>\n",
              "      <th>totals_pageviews</th>\n",
              "      <th>visitNumber</th>\n",
              "      <th>device_deviceCategory</th>\n",
              "      <th>geoNetwork_country</th>\n",
              "    </tr>\n",
              "  </thead>\n",
              "  <tbody>\n",
              "    <tr>\n",
              "      <th>0</th>\n",
              "      <td>59381693533730</td>\n",
              "      <td>0.0</td>\n",
              "      <td>3.0</td>\n",
              "      <td>1</td>\n",
              "      <td>mobile</td>\n",
              "      <td>United States</td>\n",
              "    </tr>\n",
              "    <tr>\n",
              "      <th>1</th>\n",
              "      <td>59488412965267</td>\n",
              "      <td>0.0</td>\n",
              "      <td>1.0</td>\n",
              "      <td>1</td>\n",
              "      <td>mobile</td>\n",
              "      <td>United States</td>\n",
              "    </tr>\n",
              "    <tr>\n",
              "      <th>2</th>\n",
              "      <td>77980744724824</td>\n",
              "      <td>0.0</td>\n",
              "      <td>4.0</td>\n",
              "      <td>1</td>\n",
              "      <td>desktop</td>\n",
              "      <td>United States</td>\n",
              "    </tr>\n",
              "    <tr>\n",
              "      <th>3</th>\n",
              "      <td>88751495106967</td>\n",
              "      <td>0.0</td>\n",
              "      <td>2.0</td>\n",
              "      <td>1</td>\n",
              "      <td>desktop</td>\n",
              "      <td>United States</td>\n",
              "    </tr>\n",
              "    <tr>\n",
              "      <th>4</th>\n",
              "      <td>89152042155758</td>\n",
              "      <td>0.0</td>\n",
              "      <td>1.0</td>\n",
              "      <td>1</td>\n",
              "      <td>mobile</td>\n",
              "      <td>United Kingdom</td>\n",
              "    </tr>\n",
              "  </tbody>\n",
              "</table>\n",
              "</div>\n",
              "    <div class=\"colab-df-buttons\">\n",
              "\n",
              "  <div class=\"colab-df-container\">\n",
              "    <button class=\"colab-df-convert\" onclick=\"convertToInteractive('df-8e9bca32-0748-40a1-9601-8e80f126ab8e')\"\n",
              "            title=\"Convert this dataframe to an interactive table.\"\n",
              "            style=\"display:none;\">\n",
              "\n",
              "  <svg xmlns=\"http://www.w3.org/2000/svg\" height=\"24px\" viewBox=\"0 -960 960 960\">\n",
              "    <path d=\"M120-120v-720h720v720H120Zm60-500h600v-160H180v160Zm220 220h160v-160H400v160Zm0 220h160v-160H400v160ZM180-400h160v-160H180v160Zm440 0h160v-160H620v160ZM180-180h160v-160H180v160Zm440 0h160v-160H620v160Z\"/>\n",
              "  </svg>\n",
              "    </button>\n",
              "\n",
              "  <style>\n",
              "    .colab-df-container {\n",
              "      display:flex;\n",
              "      gap: 12px;\n",
              "    }\n",
              "\n",
              "    .colab-df-convert {\n",
              "      background-color: #E8F0FE;\n",
              "      border: none;\n",
              "      border-radius: 50%;\n",
              "      cursor: pointer;\n",
              "      display: none;\n",
              "      fill: #1967D2;\n",
              "      height: 32px;\n",
              "      padding: 0 0 0 0;\n",
              "      width: 32px;\n",
              "    }\n",
              "\n",
              "    .colab-df-convert:hover {\n",
              "      background-color: #E2EBFA;\n",
              "      box-shadow: 0px 1px 2px rgba(60, 64, 67, 0.3), 0px 1px 3px 1px rgba(60, 64, 67, 0.15);\n",
              "      fill: #174EA6;\n",
              "    }\n",
              "\n",
              "    .colab-df-buttons div {\n",
              "      margin-bottom: 4px;\n",
              "    }\n",
              "\n",
              "    [theme=dark] .colab-df-convert {\n",
              "      background-color: #3B4455;\n",
              "      fill: #D2E3FC;\n",
              "    }\n",
              "\n",
              "    [theme=dark] .colab-df-convert:hover {\n",
              "      background-color: #434B5C;\n",
              "      box-shadow: 0px 1px 3px 1px rgba(0, 0, 0, 0.15);\n",
              "      filter: drop-shadow(0px 1px 2px rgba(0, 0, 0, 0.3));\n",
              "      fill: #FFFFFF;\n",
              "    }\n",
              "  </style>\n",
              "\n",
              "    <script>\n",
              "      const buttonEl =\n",
              "        document.querySelector('#df-8e9bca32-0748-40a1-9601-8e80f126ab8e button.colab-df-convert');\n",
              "      buttonEl.style.display =\n",
              "        google.colab.kernel.accessAllowed ? 'block' : 'none';\n",
              "\n",
              "      async function convertToInteractive(key) {\n",
              "        const element = document.querySelector('#df-8e9bca32-0748-40a1-9601-8e80f126ab8e');\n",
              "        const dataTable =\n",
              "          await google.colab.kernel.invokeFunction('convertToInteractive',\n",
              "                                                    [key], {});\n",
              "        if (!dataTable) return;\n",
              "\n",
              "        const docLinkHtml = 'Like what you see? Visit the ' +\n",
              "          '<a target=\"_blank\" href=https://colab.research.google.com/notebooks/data_table.ipynb>data table notebook</a>'\n",
              "          + ' to learn more about interactive tables.';\n",
              "        element.innerHTML = '';\n",
              "        dataTable['output_type'] = 'display_data';\n",
              "        await google.colab.output.renderOutput(dataTable, element);\n",
              "        const docLink = document.createElement('div');\n",
              "        docLink.innerHTML = docLinkHtml;\n",
              "        element.appendChild(docLink);\n",
              "      }\n",
              "    </script>\n",
              "  </div>\n",
              "\n",
              "\n",
              "<div id=\"df-0ac7955e-e2bd-4e41-af64-19418ac34bd4\">\n",
              "  <button class=\"colab-df-quickchart\" onclick=\"quickchart('df-0ac7955e-e2bd-4e41-af64-19418ac34bd4')\"\n",
              "            title=\"Suggest charts\"\n",
              "            style=\"display:none;\">\n",
              "\n",
              "<svg xmlns=\"http://www.w3.org/2000/svg\" height=\"24px\"viewBox=\"0 0 24 24\"\n",
              "     width=\"24px\">\n",
              "    <g>\n",
              "        <path d=\"M19 3H5c-1.1 0-2 .9-2 2v14c0 1.1.9 2 2 2h14c1.1 0 2-.9 2-2V5c0-1.1-.9-2-2-2zM9 17H7v-7h2v7zm4 0h-2V7h2v10zm4 0h-2v-4h2v4z\"/>\n",
              "    </g>\n",
              "</svg>\n",
              "  </button>\n",
              "\n",
              "<style>\n",
              "  .colab-df-quickchart {\n",
              "      --bg-color: #E8F0FE;\n",
              "      --fill-color: #1967D2;\n",
              "      --hover-bg-color: #E2EBFA;\n",
              "      --hover-fill-color: #174EA6;\n",
              "      --disabled-fill-color: #AAA;\n",
              "      --disabled-bg-color: #DDD;\n",
              "  }\n",
              "\n",
              "  [theme=dark] .colab-df-quickchart {\n",
              "      --bg-color: #3B4455;\n",
              "      --fill-color: #D2E3FC;\n",
              "      --hover-bg-color: #434B5C;\n",
              "      --hover-fill-color: #FFFFFF;\n",
              "      --disabled-bg-color: #3B4455;\n",
              "      --disabled-fill-color: #666;\n",
              "  }\n",
              "\n",
              "  .colab-df-quickchart {\n",
              "    background-color: var(--bg-color);\n",
              "    border: none;\n",
              "    border-radius: 50%;\n",
              "    cursor: pointer;\n",
              "    display: none;\n",
              "    fill: var(--fill-color);\n",
              "    height: 32px;\n",
              "    padding: 0;\n",
              "    width: 32px;\n",
              "  }\n",
              "\n",
              "  .colab-df-quickchart:hover {\n",
              "    background-color: var(--hover-bg-color);\n",
              "    box-shadow: 0 1px 2px rgba(60, 64, 67, 0.3), 0 1px 3px 1px rgba(60, 64, 67, 0.15);\n",
              "    fill: var(--button-hover-fill-color);\n",
              "  }\n",
              "\n",
              "  .colab-df-quickchart-complete:disabled,\n",
              "  .colab-df-quickchart-complete:disabled:hover {\n",
              "    background-color: var(--disabled-bg-color);\n",
              "    fill: var(--disabled-fill-color);\n",
              "    box-shadow: none;\n",
              "  }\n",
              "\n",
              "  .colab-df-spinner {\n",
              "    border: 2px solid var(--fill-color);\n",
              "    border-color: transparent;\n",
              "    border-bottom-color: var(--fill-color);\n",
              "    animation:\n",
              "      spin 1s steps(1) infinite;\n",
              "  }\n",
              "\n",
              "  @keyframes spin {\n",
              "    0% {\n",
              "      border-color: transparent;\n",
              "      border-bottom-color: var(--fill-color);\n",
              "      border-left-color: var(--fill-color);\n",
              "    }\n",
              "    20% {\n",
              "      border-color: transparent;\n",
              "      border-left-color: var(--fill-color);\n",
              "      border-top-color: var(--fill-color);\n",
              "    }\n",
              "    30% {\n",
              "      border-color: transparent;\n",
              "      border-left-color: var(--fill-color);\n",
              "      border-top-color: var(--fill-color);\n",
              "      border-right-color: var(--fill-color);\n",
              "    }\n",
              "    40% {\n",
              "      border-color: transparent;\n",
              "      border-right-color: var(--fill-color);\n",
              "      border-top-color: var(--fill-color);\n",
              "    }\n",
              "    60% {\n",
              "      border-color: transparent;\n",
              "      border-right-color: var(--fill-color);\n",
              "    }\n",
              "    80% {\n",
              "      border-color: transparent;\n",
              "      border-right-color: var(--fill-color);\n",
              "      border-bottom-color: var(--fill-color);\n",
              "    }\n",
              "    90% {\n",
              "      border-color: transparent;\n",
              "      border-bottom-color: var(--fill-color);\n",
              "    }\n",
              "  }\n",
              "</style>\n",
              "\n",
              "  <script>\n",
              "    async function quickchart(key) {\n",
              "      const quickchartButtonEl =\n",
              "        document.querySelector('#' + key + ' button');\n",
              "      quickchartButtonEl.disabled = true;  // To prevent multiple clicks.\n",
              "      quickchartButtonEl.classList.add('colab-df-spinner');\n",
              "      try {\n",
              "        const charts = await google.colab.kernel.invokeFunction(\n",
              "            'suggestCharts', [key], {});\n",
              "      } catch (error) {\n",
              "        console.error('Error during call to suggestCharts:', error);\n",
              "      }\n",
              "      quickchartButtonEl.classList.remove('colab-df-spinner');\n",
              "      quickchartButtonEl.classList.add('colab-df-quickchart-complete');\n",
              "    }\n",
              "    (() => {\n",
              "      let quickchartButtonEl =\n",
              "        document.querySelector('#df-0ac7955e-e2bd-4e41-af64-19418ac34bd4 button');\n",
              "      quickchartButtonEl.style.display =\n",
              "        google.colab.kernel.accessAllowed ? 'block' : 'none';\n",
              "    })();\n",
              "  </script>\n",
              "</div>\n",
              "\n",
              "    </div>\n",
              "  </div>\n"
            ],
            "application/vnd.google.colaboratory.intrinsic+json": {
              "type": "dataframe",
              "variable_name": "df_agg"
            }
          },
          "metadata": {},
          "execution_count": 20
        }
      ]
    },
    {
      "cell_type": "code",
      "source": [
        "df_train.iloc[0]"
      ],
      "metadata": {
        "colab": {
          "base_uri": "https://localhost:8080/",
          "height": 962
        },
        "id": "I72AVAV0qE3l",
        "outputId": "e9f8f0f4-2183-4dc1-82df-aaba8d6f6d53"
      },
      "execution_count": 21,
      "outputs": [
        {
          "output_type": "execute_result",
          "data": {
            "text/plain": [
              "channelGrouping                                 Social\n",
              "date                               2016-09-02 00:00:00\n",
              "fullVisitorId                      1050850727039976881\n",
              "socialEngagementType              Not Socially Engaged\n",
              "visitId                                     1472872238\n",
              "visitNumber                                          1\n",
              "visitStartTime                              1472872238\n",
              "device_browser                                  Safari\n",
              "device_operatingSystem                       Macintosh\n",
              "device_isMobile                                  False\n",
              "device_deviceCategory                          desktop\n",
              "geoNetwork_continent                              Asia\n",
              "geoNetwork_subContinent                 Southeast Asia\n",
              "geoNetwork_country                           Indonesia\n",
              "totals_visits                                        1\n",
              "totals_hits                                          1\n",
              "totals_pageviews                                   1.0\n",
              "trafficSource_source                       youtube.com\n",
              "trafficSource_medium                          referral\n",
              "totals_transactionRevenue                          0.0\n",
              "totals_totalTransactionRevenue                     0.0\n",
              "totals_transactions                                0.0\n",
              "visit_day                                            2\n",
              "visit_month                                          9\n",
              "visit_year                                        2016\n",
              "day_of_week                                          4\n",
              "paying_cust                                          0\n",
              "log_revenue                                        0.0\n",
              "Name: 0, dtype: object"
            ],
            "text/html": [
              "<div>\n",
              "<style scoped>\n",
              "    .dataframe tbody tr th:only-of-type {\n",
              "        vertical-align: middle;\n",
              "    }\n",
              "\n",
              "    .dataframe tbody tr th {\n",
              "        vertical-align: top;\n",
              "    }\n",
              "\n",
              "    .dataframe thead th {\n",
              "        text-align: right;\n",
              "    }\n",
              "</style>\n",
              "<table border=\"1\" class=\"dataframe\">\n",
              "  <thead>\n",
              "    <tr style=\"text-align: right;\">\n",
              "      <th></th>\n",
              "      <th>0</th>\n",
              "    </tr>\n",
              "  </thead>\n",
              "  <tbody>\n",
              "    <tr>\n",
              "      <th>channelGrouping</th>\n",
              "      <td>Social</td>\n",
              "    </tr>\n",
              "    <tr>\n",
              "      <th>date</th>\n",
              "      <td>2016-09-02 00:00:00</td>\n",
              "    </tr>\n",
              "    <tr>\n",
              "      <th>fullVisitorId</th>\n",
              "      <td>1050850727039976881</td>\n",
              "    </tr>\n",
              "    <tr>\n",
              "      <th>socialEngagementType</th>\n",
              "      <td>Not Socially Engaged</td>\n",
              "    </tr>\n",
              "    <tr>\n",
              "      <th>visitId</th>\n",
              "      <td>1472872238</td>\n",
              "    </tr>\n",
              "    <tr>\n",
              "      <th>visitNumber</th>\n",
              "      <td>1</td>\n",
              "    </tr>\n",
              "    <tr>\n",
              "      <th>visitStartTime</th>\n",
              "      <td>1472872238</td>\n",
              "    </tr>\n",
              "    <tr>\n",
              "      <th>device_browser</th>\n",
              "      <td>Safari</td>\n",
              "    </tr>\n",
              "    <tr>\n",
              "      <th>device_operatingSystem</th>\n",
              "      <td>Macintosh</td>\n",
              "    </tr>\n",
              "    <tr>\n",
              "      <th>device_isMobile</th>\n",
              "      <td>False</td>\n",
              "    </tr>\n",
              "    <tr>\n",
              "      <th>device_deviceCategory</th>\n",
              "      <td>desktop</td>\n",
              "    </tr>\n",
              "    <tr>\n",
              "      <th>geoNetwork_continent</th>\n",
              "      <td>Asia</td>\n",
              "    </tr>\n",
              "    <tr>\n",
              "      <th>geoNetwork_subContinent</th>\n",
              "      <td>Southeast Asia</td>\n",
              "    </tr>\n",
              "    <tr>\n",
              "      <th>geoNetwork_country</th>\n",
              "      <td>Indonesia</td>\n",
              "    </tr>\n",
              "    <tr>\n",
              "      <th>totals_visits</th>\n",
              "      <td>1</td>\n",
              "    </tr>\n",
              "    <tr>\n",
              "      <th>totals_hits</th>\n",
              "      <td>1</td>\n",
              "    </tr>\n",
              "    <tr>\n",
              "      <th>totals_pageviews</th>\n",
              "      <td>1.0</td>\n",
              "    </tr>\n",
              "    <tr>\n",
              "      <th>trafficSource_source</th>\n",
              "      <td>youtube.com</td>\n",
              "    </tr>\n",
              "    <tr>\n",
              "      <th>trafficSource_medium</th>\n",
              "      <td>referral</td>\n",
              "    </tr>\n",
              "    <tr>\n",
              "      <th>totals_transactionRevenue</th>\n",
              "      <td>0.0</td>\n",
              "    </tr>\n",
              "    <tr>\n",
              "      <th>totals_totalTransactionRevenue</th>\n",
              "      <td>0.0</td>\n",
              "    </tr>\n",
              "    <tr>\n",
              "      <th>totals_transactions</th>\n",
              "      <td>0.0</td>\n",
              "    </tr>\n",
              "    <tr>\n",
              "      <th>visit_day</th>\n",
              "      <td>2</td>\n",
              "    </tr>\n",
              "    <tr>\n",
              "      <th>visit_month</th>\n",
              "      <td>9</td>\n",
              "    </tr>\n",
              "    <tr>\n",
              "      <th>visit_year</th>\n",
              "      <td>2016</td>\n",
              "    </tr>\n",
              "    <tr>\n",
              "      <th>day_of_week</th>\n",
              "      <td>4</td>\n",
              "    </tr>\n",
              "    <tr>\n",
              "      <th>paying_cust</th>\n",
              "      <td>0</td>\n",
              "    </tr>\n",
              "    <tr>\n",
              "      <th>log_revenue</th>\n",
              "      <td>0.0</td>\n",
              "    </tr>\n",
              "  </tbody>\n",
              "</table>\n",
              "</div><br><label><b>dtype:</b> object</label>"
            ]
          },
          "metadata": {},
          "execution_count": 21
        }
      ]
    },
    {
      "cell_type": "code",
      "source": [
        "sns.distplot(df_train[\"date\"])\n"
      ],
      "metadata": {
        "colab": {
          "base_uri": "https://localhost:8080/",
          "height": 673
        },
        "id": "-dJpYEauyvY0",
        "outputId": "8b62c5f4-abe9-4d5c-e60c-66fd1db3da41"
      },
      "execution_count": 22,
      "outputs": [
        {
          "output_type": "stream",
          "name": "stderr",
          "text": [
            "<ipython-input-22-d050b18331e1>:1: UserWarning: \n",
            "\n",
            "`distplot` is a deprecated function and will be removed in seaborn v0.14.0.\n",
            "\n",
            "Please adapt your code to use either `displot` (a figure-level function with\n",
            "similar flexibility) or `histplot` (an axes-level function for histograms).\n",
            "\n",
            "For a guide to updating your code to use the new functions, please see\n",
            "https://gist.github.com/mwaskom/de44147ed2974457ad6372750bbe5751\n",
            "\n",
            "  sns.distplot(df_train[\"date\"])\n"
          ]
        },
        {
          "output_type": "execute_result",
          "data": {
            "text/plain": [
              "<Axes: xlabel='date', ylabel='Density'>"
            ]
          },
          "metadata": {},
          "execution_count": 22
        },
        {
          "output_type": "display_data",
          "data": {
            "text/plain": [
              "<Figure size 640x480 with 1 Axes>"
            ],
            "image/png": "[encoded data removed]"
          },
          "metadata": {}
        }
      ]
    },
    {
      "cell_type": "code",
      "source": [
        "above=df_train['totals_transactionRevenue']>0\n"
      ],
      "metadata": {
        "id": "sPNq3yYc9u3Z"
      },
      "execution_count": 23,
      "outputs": []
    },
    {
      "cell_type": "code",
      "source": [
        "above.value_counts()"
      ],
      "metadata": {
        "colab": {
          "base_uri": "https://localhost:8080/",
          "height": 178
        },
        "id": "wcTxNAX7Av2i",
        "outputId": "7621bea0-bab6-4277-d5c0-9771667ccb72"
      },
      "execution_count": 24,
      "outputs": [
        {
          "output_type": "execute_result",
          "data": {
            "text/plain": [
              "totals_transactionRevenue\n",
              "False    168993\n",
              "True       1841\n",
              "Name: count, dtype: int64"
            ],
            "text/html": [
              "<div>\n",
              "<style scoped>\n",
              "    .dataframe tbody tr th:only-of-type {\n",
              "        vertical-align: middle;\n",
              "    }\n",
              "\n",
              "    .dataframe tbody tr th {\n",
              "        vertical-align: top;\n",
              "    }\n",
              "\n",
              "    .dataframe thead th {\n",
              "        text-align: right;\n",
              "    }\n",
              "</style>\n",
              "<table border=\"1\" class=\"dataframe\">\n",
              "  <thead>\n",
              "    <tr style=\"text-align: right;\">\n",
              "      <th></th>\n",
              "      <th>count</th>\n",
              "    </tr>\n",
              "    <tr>\n",
              "      <th>totals_transactionRevenue</th>\n",
              "      <th></th>\n",
              "    </tr>\n",
              "  </thead>\n",
              "  <tbody>\n",
              "    <tr>\n",
              "      <th>False</th>\n",
              "      <td>168993</td>\n",
              "    </tr>\n",
              "    <tr>\n",
              "      <th>True</th>\n",
              "      <td>1841</td>\n",
              "    </tr>\n",
              "  </tbody>\n",
              "</table>\n",
              "</div><br><label><b>dtype:</b> int64</label>"
            ]
          },
          "metadata": {},
          "execution_count": 24
        }
      ]
    },
    {
      "cell_type": "code",
      "source": [
        "above=df_train['log_revenue']>0\n",
        "above.value_counts()"
      ],
      "metadata": {
        "colab": {
          "base_uri": "https://localhost:8080/",
          "height": 178
        },
        "id": "AlJkUEgrSdi3",
        "outputId": "9645a96b-6b80-47fd-815b-a1f54765291e"
      },
      "execution_count": 25,
      "outputs": [
        {
          "output_type": "execute_result",
          "data": {
            "text/plain": [
              "log_revenue\n",
              "False    168993\n",
              "True       1841\n",
              "Name: count, dtype: int64"
            ],
            "text/html": [
              "<div>\n",
              "<style scoped>\n",
              "    .dataframe tbody tr th:only-of-type {\n",
              "        vertical-align: middle;\n",
              "    }\n",
              "\n",
              "    .dataframe tbody tr th {\n",
              "        vertical-align: top;\n",
              "    }\n",
              "\n",
              "    .dataframe thead th {\n",
              "        text-align: right;\n",
              "    }\n",
              "</style>\n",
              "<table border=\"1\" class=\"dataframe\">\n",
              "  <thead>\n",
              "    <tr style=\"text-align: right;\">\n",
              "      <th></th>\n",
              "      <th>count</th>\n",
              "    </tr>\n",
              "    <tr>\n",
              "      <th>log_revenue</th>\n",
              "      <th></th>\n",
              "    </tr>\n",
              "  </thead>\n",
              "  <tbody>\n",
              "    <tr>\n",
              "      <th>False</th>\n",
              "      <td>168993</td>\n",
              "    </tr>\n",
              "    <tr>\n",
              "      <th>True</th>\n",
              "      <td>1841</td>\n",
              "    </tr>\n",
              "  </tbody>\n",
              "</table>\n",
              "</div><br><label><b>dtype:</b> int64</label>"
            ]
          },
          "metadata": {},
          "execution_count": 25
        }
      ]
    },
    {
      "cell_type": "code",
      "source": [
        "plt.figure(figsize=(10, 6))\n",
        "sns.histplot(df_train['log_revenue'], bins=50, kde=True)\n",
        "plt.title('Distribution of Log Revenue')\n",
        "plt.xlabel('Log Revenue')\n",
        "plt.ylabel('Frequency')\n",
        "plt.show()"
      ],
      "metadata": {
        "colab": {
          "base_uri": "https://localhost:8080/",
          "height": 564
        },
        "id": "9STLKxuFDSco",
        "outputId": "892af3e6-e41d-4fc6-c57c-f7dd95cb66c4"
      },
      "execution_count": 26,
      "outputs": [
        {
          "output_type": "display_data",
          "data": {
            "text/plain": [
              "<Figure size 1000x600 with 1 Axes>"
            ],
            "image/png": "[encoded data removed]"
          },
          "metadata": {}
        }
      ]
    },
    {
      "cell_type": "code",
      "source": [
        "plt.figure(figsize=(12, 6))\n",
        "sns.boxplot(x='channelGrouping', y='log_revenue', data=df_train)\n",
        "plt.title('Log Revenue by Channel Grouping')\n",
        "plt.xlabel('Channel Grouping')\n",
        "plt.ylabel('Log Revenue')\n",
        "plt.show()"
      ],
      "metadata": {
        "colab": {
          "base_uri": "https://localhost:8080/",
          "height": 564
        },
        "id": "m69cbhJgRaiE",
        "outputId": "4b88dace-14c6-4849-e0d4-03b46692d419"
      },
      "execution_count": 27,
      "outputs": [
        {
          "output_type": "display_data",
          "data": {
            "text/plain": [
              "<Figure size 1200x600 with 1 Axes>"
            ],
            "image/png": "[encoded data removed]"
          },
          "metadata": {}
        }
      ]
    },
    {
      "cell_type": "code",
      "source": [
        "plt.figure(figsize=(12, 6))\n",
        "sns.boxplot(x='device_operatingSystem', y='log_revenue', data=df_train)\n",
        "plt.title('Log Revenue by Channel Grouping')\n",
        "plt.xlabel('device_operatingSystem')\n",
        "plt.ylabel('Log Revenue')\n",
        "plt.show()"
      ],
      "metadata": {
        "colab": {
          "base_uri": "https://localhost:8080/",
          "height": 564
        },
        "id": "7fIaEkgnabIo",
        "outputId": "268454f1-90c6-48cb-a2dc-5cb8e89020a1"
      },
      "execution_count": 28,
      "outputs": [
        {
          "output_type": "display_data",
          "data": {
            "text/plain": [
              "<Figure size 1200x600 with 1 Axes>"
            ],
            "image/png": "[encoded data removed]"
          },
          "metadata": {}
        }
      ]
    },
    {
      "cell_type": "code",
      "source": [
        "plt.figure(figsize=(12, 6))\n",
        "sns.barplot(x='device_operatingSystem', y='log_revenue', data=df_train)\n",
        "plt.title('Log Revenue by Channel Grouping')\n",
        "plt.xlabel('device_operatingSystem')\n",
        "plt.ylabel('Log Revenue')\n",
        "plt.show()\n"
      ],
      "metadata": {
        "colab": {
          "base_uri": "https://localhost:8080/",
          "height": 564
        },
        "id": "vWSIMrv1aquH",
        "outputId": "987f704d-f40b-4686-c24f-0b8b76765803"
      },
      "execution_count": 29,
      "outputs": [
        {
          "output_type": "display_data",
          "data": {
            "text/plain": [
              "<Figure size 1200x600 with 1 Axes>"
            ],
            "image/png": "[encoded data removed]"
          },
          "metadata": {}
        }
      ]
    },
    {
      "cell_type": "code",
      "source": [
        "monthly_revenue = df_train.groupby(df_train['date'].dt.to_period('M'))['totals_transactionRevenue'].sum()\n",
        "\n",
        "plt.figure(figsize=(12, 6))\n",
        "monthly_revenue.plot(kind='line')\n",
        "plt.title('Monthly Revenue Over Time')\n",
        "plt.xlabel('Month')\n",
        "plt.ylabel('Total Revenue')\n",
        "plt.show()"
      ],
      "metadata": {
        "colab": {
          "base_uri": "https://localhost:8080/",
          "height": 580
        },
        "id": "XUwY_Ed0cUy2",
        "outputId": "a4a64929-21b3-4a46-b734-c55ee8c2f27c"
      },
      "execution_count": 30,
      "outputs": [
        {
          "output_type": "display_data",
          "data": {
            "text/plain": [
              "<Figure size 1200x600 with 1 Axes>"
            ],
            "image/png": "[encoded data removed]"
          },
          "metadata": {}
        }
      ]
    },
    {
      "cell_type": "code",
      "source": [
        "monthly_channel_revenue = df_train.groupby([df_train['date'].dt.to_period('M'), 'channelGrouping'])['totals_transactionRevenue'].sum()\n",
        "plt.figure(figsize=(12, 6))\n",
        "monthly_channel_revenue.plot(kind='line')\n",
        "plt.title('Monthly Revenue Over Time')\n",
        "plt.xlabel('Month')\n",
        "plt.ylabel('Total Revenue')\n",
        "plt.show()"
      ],
      "metadata": {
        "id": "PwGuI_fElZSA",
        "colab": {
          "base_uri": "https://localhost:8080/",
          "height": 564
        },
        "outputId": "e87210e2-4cdb-4fa6-bcea-bde8ba03effe"
      },
      "execution_count": 31,
      "outputs": [
        {
          "output_type": "display_data",
          "data": {
            "text/plain": [
              "<Figure size 1200x600 with 1 Axes>"
            ],
            "image/png": "[encoded data removed]"
          },
          "metadata": {}
        }
      ]
    },
    {
      "cell_type": "code",
      "source": [
        "numeric_features = df_train.select_dtypes(include=['int', 'float']).columns\n",
        "numeric_features = numeric_features.drop('log_revenue')"
      ],
      "metadata": {
        "id": "M_7Zx1pGnmdx"
      },
      "execution_count": 32,
      "outputs": []
    },
    {
      "cell_type": "code",
      "source": [
        "# num_features = len(numeric_features)\n",
        "# num_cols = 3\n",
        "# num_rows = (num_features // num_cols) + 1\n",
        "\n",
        "# fig, axes = plt.subplots(num_rows, num_cols, figsize=(15, num_rows * 5))\n",
        "# axes = axes.flatten()\n",
        "\n",
        "# for i, feature in enumerate(numeric_features):\n",
        "#     sns.regplot(\n",
        "#         x=df_train[feature],\n",
        "#         y=df_train['log_revenue'],\n",
        "#         ax=axes[i],\n",
        "#         scatter_kws={'alpha': 0.3},\n",
        "#         line_kws={'color': 'red'}\n",
        "#     )\n",
        "#     axes[i].set_title(f'{feature} vs Log Revenue')\n",
        "#     axes[i].set_xlabel(feature)\n",
        "#     axes[i].set_ylabel('Log Revenue')\n",
        "\n",
        "# for j in range(i + 1, num_rows * num_cols):\n",
        "#     fig.delaxes(axes[j])\n",
        "\n",
        "# plt.tight_layout()\n",
        "# plt.show()"
      ],
      "metadata": {
        "id": "EquWsYwlaAGS"
      },
      "execution_count": 33,
      "outputs": []
    },
    {
      "cell_type": "code",
      "source": [
        "df_train.columns"
      ],
      "metadata": {
        "colab": {
          "base_uri": "https://localhost:8080/"
        },
        "id": "9V7hdt_W8OvF",
        "outputId": "6bf51f02-5b97-4133-9bbb-c229eea44e57"
      },
      "execution_count": 34,
      "outputs": [
        {
          "output_type": "execute_result",
          "data": {
            "text/plain": [
              "Index(['channelGrouping', 'date', 'fullVisitorId', 'socialEngagementType',\n",
              "       'visitId', 'visitNumber', 'visitStartTime', 'device_browser',\n",
              "       'device_operatingSystem', 'device_isMobile', 'device_deviceCategory',\n",
              "       'geoNetwork_continent', 'geoNetwork_subContinent', 'geoNetwork_country',\n",
              "       'totals_visits', 'totals_hits', 'totals_pageviews',\n",
              "       'trafficSource_source', 'trafficSource_medium',\n",
              "       'totals_transactionRevenue', 'totals_totalTransactionRevenue',\n",
              "       'totals_transactions', 'visit_day', 'visit_month', 'visit_year',\n",
              "       'day_of_week', 'paying_cust', 'log_revenue'],\n",
              "      dtype='object')"
            ]
          },
          "metadata": {},
          "execution_count": 34
        }
      ]
    },
    {
      "cell_type": "code",
      "source": [
        "from sklearn.compose import ColumnTransformer\n",
        "from sklearn.pipeline import Pipeline\n",
        "from sklearn.preprocessing import StandardScaler, OneHotEncoder\n",
        "from sklearn.impute import SimpleImputer"
      ],
      "metadata": {
        "id": "x3uWbroKajWo"
      },
      "execution_count": 35,
      "outputs": []
    },
    {
      "cell_type": "code",
      "source": [
        "df_train['visitStartTime'] = pd.to_datetime(df_train['visitStartTime'], unit='s')"
      ],
      "metadata": {
        "id": "8-HvHLSYjpH-"
      },
      "execution_count": 36,
      "outputs": []
    },
    {
      "cell_type": "code",
      "source": [
        "df_train['visit_hour'] = df_train['visitStartTime'].dt.hour\n",
        "df_train['visit_day_of_week'] = df_train['visitStartTime'].dt.dayofweek  # Monday=0, Sunday=6\n",
        "df_train['is_weekend'] = df_train['visit_day_of_week'].isin([5, 6]).astype(int)"
      ],
      "metadata": {
        "id": "2lvcaAp-jrIE"
      },
      "execution_count": 37,
      "outputs": []
    },
    {
      "cell_type": "code",
      "source": [
        "country_counts=df_train[\"geoNetwork_country\"].value_counts()"
      ],
      "metadata": {
        "id": "oDxSLs6XZcmh"
      },
      "execution_count": 38,
      "outputs": []
    },
    {
      "cell_type": "code",
      "source": [
        "df_train['geoNetwork_country'] = df_train['geoNetwork_country'].apply(\n",
        "    lambda x: x if country_counts[x] > 100 else 'Other'\n",
        ")"
      ],
      "metadata": {
        "id": "FhobWIzxzi1K"
      },
      "execution_count": 39,
      "outputs": []
    },
    {
      "cell_type": "code",
      "source": [
        "bin=['device_isMobile', 'paying_cust']\n",
        "for i in bin:\n",
        "  df_train[i]=df_train[i].astype(int)"
      ],
      "metadata": {
        "id": "e5pQ_F_j1OiG"
      },
      "execution_count": 40,
      "outputs": []
    },
    {
      "cell_type": "code",
      "source": [
        "df_train.iloc[0]"
      ],
      "metadata": {
        "colab": {
          "base_uri": "https://localhost:8080/",
          "height": 1000
        },
        "id": "M0cwfDt_1I9h",
        "outputId": "9c176e6a-d165-4b8b-fe4c-df3961243370"
      },
      "execution_count": 41,
      "outputs": [
        {
          "output_type": "execute_result",
          "data": {
            "text/plain": [
              "channelGrouping                                 Social\n",
              "date                               2016-09-02 00:00:00\n",
              "fullVisitorId                      1050850727039976881\n",
              "socialEngagementType              Not Socially Engaged\n",
              "visitId                                     1472872238\n",
              "visitNumber                                          1\n",
              "visitStartTime                     2016-09-03 03:10:38\n",
              "device_browser                                  Safari\n",
              "device_operatingSystem                       Macintosh\n",
              "device_isMobile                                      0\n",
              "device_deviceCategory                          desktop\n",
              "geoNetwork_continent                              Asia\n",
              "geoNetwork_subContinent                 Southeast Asia\n",
              "geoNetwork_country                           Indonesia\n",
              "totals_visits                                        1\n",
              "totals_hits                                          1\n",
              "totals_pageviews                                   1.0\n",
              "trafficSource_source                       youtube.com\n",
              "trafficSource_medium                          referral\n",
              "totals_transactionRevenue                          0.0\n",
              "totals_totalTransactionRevenue                     0.0\n",
              "totals_transactions                                0.0\n",
              "visit_day                                            2\n",
              "visit_month                                          9\n",
              "visit_year                                        2016\n",
              "day_of_week                                          4\n",
              "paying_cust                                          0\n",
              "log_revenue                                        0.0\n",
              "visit_hour                                           3\n",
              "visit_day_of_week                                    5\n",
              "is_weekend                                           1\n",
              "Name: 0, dtype: object"
            ],
            "text/html": [
              "<div>\n",
              "<style scoped>\n",
              "    .dataframe tbody tr th:only-of-type {\n",
              "        vertical-align: middle;\n",
              "    }\n",
              "\n",
              "    .dataframe tbody tr th {\n",
              "        vertical-align: top;\n",
              "    }\n",
              "\n",
              "    .dataframe thead th {\n",
              "        text-align: right;\n",
              "    }\n",
              "</style>\n",
              "<table border=\"1\" class=\"dataframe\">\n",
              "  <thead>\n",
              "    <tr style=\"text-align: right;\">\n",
              "      <th></th>\n",
              "      <th>0</th>\n",
              "    </tr>\n",
              "  </thead>\n",
              "  <tbody>\n",
              "    <tr>\n",
              "      <th>channelGrouping</th>\n",
              "      <td>Social</td>\n",
              "    </tr>\n",
              "    <tr>\n",
              "      <th>date</th>\n",
              "      <td>2016-09-02 00:00:00</td>\n",
              "    </tr>\n",
              "    <tr>\n",
              "      <th>fullVisitorId</th>\n",
              "      <td>1050850727039976881</td>\n",
              "    </tr>\n",
              "    <tr>\n",
              "      <th>socialEngagementType</th>\n",
              "      <td>Not Socially Engaged</td>\n",
              "    </tr>\n",
              "    <tr>\n",
              "      <th>visitId</th>\n",
              "      <td>1472872238</td>\n",
              "    </tr>\n",
              "    <tr>\n",
              "      <th>visitNumber</th>\n",
              "      <td>1</td>\n",
              "    </tr>\n",
              "    <tr>\n",
              "      <th>visitStartTime</th>\n",
              "      <td>2016-09-03 03:10:38</td>\n",
              "    </tr>\n",
              "    <tr>\n",
              "      <th>device_browser</th>\n",
              "      <td>Safari</td>\n",
              "    </tr>\n",
              "    <tr>\n",
              "      <th>device_operatingSystem</th>\n",
              "      <td>Macintosh</td>\n",
              "    </tr>\n",
              "    <tr>\n",
              "      <th>device_isMobile</th>\n",
              "      <td>0</td>\n",
              "    </tr>\n",
              "    <tr>\n",
              "      <th>device_deviceCategory</th>\n",
              "      <td>desktop</td>\n",
              "    </tr>\n",
              "    <tr>\n",
              "      <th>geoNetwork_continent</th>\n",
              "      <td>Asia</td>\n",
              "    </tr>\n",
              "    <tr>\n",
              "      <th>geoNetwork_subContinent</th>\n",
              "      <td>Southeast Asia</td>\n",
              "    </tr>\n",
              "    <tr>\n",
              "      <th>geoNetwork_country</th>\n",
              "      <td>Indonesia</td>\n",
              "    </tr>\n",
              "    <tr>\n",
              "      <th>totals_visits</th>\n",
              "      <td>1</td>\n",
              "    </tr>\n",
              "    <tr>\n",
              "      <th>totals_hits</th>\n",
              "      <td>1</td>\n",
              "    </tr>\n",
              "    <tr>\n",
              "      <th>totals_pageviews</th>\n",
              "      <td>1.0</td>\n",
              "    </tr>\n",
              "    <tr>\n",
              "      <th>trafficSource_source</th>\n",
              "      <td>youtube.com</td>\n",
              "    </tr>\n",
              "    <tr>\n",
              "      <th>trafficSource_medium</th>\n",
              "      <td>referral</td>\n",
              "    </tr>\n",
              "    <tr>\n",
              "      <th>totals_transactionRevenue</th>\n",
              "      <td>0.0</td>\n",
              "    </tr>\n",
              "    <tr>\n",
              "      <th>totals_totalTransactionRevenue</th>\n",
              "      <td>0.0</td>\n",
              "    </tr>\n",
              "    <tr>\n",
              "      <th>totals_transactions</th>\n",
              "      <td>0.0</td>\n",
              "    </tr>\n",
              "    <tr>\n",
              "      <th>visit_day</th>\n",
              "      <td>2</td>\n",
              "    </tr>\n",
              "    <tr>\n",
              "      <th>visit_month</th>\n",
              "      <td>9</td>\n",
              "    </tr>\n",
              "    <tr>\n",
              "      <th>visit_year</th>\n",
              "      <td>2016</td>\n",
              "    </tr>\n",
              "    <tr>\n",
              "      <th>day_of_week</th>\n",
              "      <td>4</td>\n",
              "    </tr>\n",
              "    <tr>\n",
              "      <th>paying_cust</th>\n",
              "      <td>0</td>\n",
              "    </tr>\n",
              "    <tr>\n",
              "      <th>log_revenue</th>\n",
              "      <td>0.0</td>\n",
              "    </tr>\n",
              "    <tr>\n",
              "      <th>visit_hour</th>\n",
              "      <td>3</td>\n",
              "    </tr>\n",
              "    <tr>\n",
              "      <th>visit_day_of_week</th>\n",
              "      <td>5</td>\n",
              "    </tr>\n",
              "    <tr>\n",
              "      <th>is_weekend</th>\n",
              "      <td>1</td>\n",
              "    </tr>\n",
              "  </tbody>\n",
              "</table>\n",
              "</div><br><label><b>dtype:</b> object</label>"
            ]
          },
          "metadata": {},
          "execution_count": 41
        }
      ]
    },
    {
      "cell_type": "code",
      "source": [
        "# Plot correlation between visitNumber and log_revenue\n",
        "sns.scatterplot(x=df_train['visitNumber'], y=df_train['log_revenue'])\n",
        "plt.title('visitNumber vs log_revenue')\n",
        "plt.show()"
      ],
      "metadata": {
        "colab": {
          "base_uri": "https://localhost:8080/",
          "height": 472
        },
        "id": "mbLJHY-OR-G2",
        "outputId": "0b4e1f0f-1d52-4bfb-a6a1-89de4c08ba94"
      },
      "execution_count": 42,
      "outputs": [
        {
          "output_type": "display_data",
          "data": {
            "text/plain": [
              "<Figure size 640x480 with 1 Axes>"
            ],
            "image/png": "[encoded data removed]"
          },
          "metadata": {}
        }
      ]
    },
    {
      "cell_type": "code",
      "source": [
        "df_train['season'] = df_train['visit_month'].apply(\n",
        "    lambda x: 'Winter' if x in [12, 1, 2] else\n",
        "              'Spring' if x in [3, 4, 5] else\n",
        "              'Summer' if x in [6, 7, 8] else\n",
        "              'Autumn'\n",
        ")"
      ],
      "metadata": {
        "id": "N7VagqftxoQw"
      },
      "execution_count": 43,
      "outputs": []
    },
    {
      "cell_type": "code",
      "source": [
        "df_train['is_month_end'] = df_train['visit_day'].apply(lambda x: 1 if x >= 26 else 0)\n",
        "df_train['is_month_start'] = df_train['visit_day'].apply(lambda x: 1 if x <= 5 else 0)"
      ],
      "metadata": {
        "id": "ssL94jDfyBbv"
      },
      "execution_count": 44,
      "outputs": []
    },
    {
      "cell_type": "code",
      "source": [
        "x=df_train.drop(columns=[\"totals_transactionRevenue\",\"log_revenue\",\"date\",\"visitId\",'day_of_week',\"visitStartTime\",\"fullVisitorId\",\"totals_totalTransactionRevenue\",\"paying_cust\",\"totals_totalTransactionRevenue\"])\n",
        "y=df_train[\"log_revenue\"]"
      ],
      "metadata": {
        "id": "TOsXJibQ1qYG"
      },
      "execution_count": 45,
      "outputs": []
    },
    {
      "cell_type": "code",
      "source": [
        "x.iloc[0]"
      ],
      "metadata": {
        "colab": {
          "base_uri": "https://localhost:8080/",
          "height": 868
        },
        "id": "Lbyow6ABZQAx",
        "outputId": "d32e655b-f6b5-473c-b1b5-f1664680b5e5"
      },
      "execution_count": 46,
      "outputs": [
        {
          "output_type": "execute_result",
          "data": {
            "text/plain": [
              "channelGrouping                          Social\n",
              "socialEngagementType       Not Socially Engaged\n",
              "visitNumber                                   1\n",
              "device_browser                           Safari\n",
              "device_operatingSystem                Macintosh\n",
              "device_isMobile                               0\n",
              "device_deviceCategory                   desktop\n",
              "geoNetwork_continent                       Asia\n",
              "geoNetwork_subContinent          Southeast Asia\n",
              "geoNetwork_country                    Indonesia\n",
              "totals_visits                                 1\n",
              "totals_hits                                   1\n",
              "totals_pageviews                            1.0\n",
              "trafficSource_source                youtube.com\n",
              "trafficSource_medium                   referral\n",
              "totals_transactions                         0.0\n",
              "visit_day                                     2\n",
              "visit_month                                   9\n",
              "visit_year                                 2016\n",
              "visit_hour                                    3\n",
              "visit_day_of_week                             5\n",
              "is_weekend                                    1\n",
              "season                                   Autumn\n",
              "is_month_end                                  0\n",
              "is_month_start                                1\n",
              "Name: 0, dtype: object"
            ],
            "text/html": [
              "<div>\n",
              "<style scoped>\n",
              "    .dataframe tbody tr th:only-of-type {\n",
              "        vertical-align: middle;\n",
              "    }\n",
              "\n",
              "    .dataframe tbody tr th {\n",
              "        vertical-align: top;\n",
              "    }\n",
              "\n",
              "    .dataframe thead th {\n",
              "        text-align: right;\n",
              "    }\n",
              "</style>\n",
              "<table border=\"1\" class=\"dataframe\">\n",
              "  <thead>\n",
              "    <tr style=\"text-align: right;\">\n",
              "      <th></th>\n",
              "      <th>0</th>\n",
              "    </tr>\n",
              "  </thead>\n",
              "  <tbody>\n",
              "    <tr>\n",
              "      <th>channelGrouping</th>\n",
              "      <td>Social</td>\n",
              "    </tr>\n",
              "    <tr>\n",
              "      <th>socialEngagementType</th>\n",
              "      <td>Not Socially Engaged</td>\n",
              "    </tr>\n",
              "    <tr>\n",
              "      <th>visitNumber</th>\n",
              "      <td>1</td>\n",
              "    </tr>\n",
              "    <tr>\n",
              "      <th>device_browser</th>\n",
              "      <td>Safari</td>\n",
              "    </tr>\n",
              "    <tr>\n",
              "      <th>device_operatingSystem</th>\n",
              "      <td>Macintosh</td>\n",
              "    </tr>\n",
              "    <tr>\n",
              "      <th>device_isMobile</th>\n",
              "      <td>0</td>\n",
              "    </tr>\n",
              "    <tr>\n",
              "      <th>device_deviceCategory</th>\n",
              "      <td>desktop</td>\n",
              "    </tr>\n",
              "    <tr>\n",
              "      <th>geoNetwork_continent</th>\n",
              "      <td>Asia</td>\n",
              "    </tr>\n",
              "    <tr>\n",
              "      <th>geoNetwork_subContinent</th>\n",
              "      <td>Southeast Asia</td>\n",
              "    </tr>\n",
              "    <tr>\n",
              "      <th>geoNetwork_country</th>\n",
              "      <td>Indonesia</td>\n",
              "    </tr>\n",
              "    <tr>\n",
              "      <th>totals_visits</th>\n",
              "      <td>1</td>\n",
              "    </tr>\n",
              "    <tr>\n",
              "      <th>totals_hits</th>\n",
              "      <td>1</td>\n",
              "    </tr>\n",
              "    <tr>\n",
              "      <th>totals_pageviews</th>\n",
              "      <td>1.0</td>\n",
              "    </tr>\n",
              "    <tr>\n",
              "      <th>trafficSource_source</th>\n",
              "      <td>youtube.com</td>\n",
              "    </tr>\n",
              "    <tr>\n",
              "      <th>trafficSource_medium</th>\n",
              "      <td>referral</td>\n",
              "    </tr>\n",
              "    <tr>\n",
              "      <th>totals_transactions</th>\n",
              "      <td>0.0</td>\n",
              "    </tr>\n",
              "    <tr>\n",
              "      <th>visit_day</th>\n",
              "      <td>2</td>\n",
              "    </tr>\n",
              "    <tr>\n",
              "      <th>visit_month</th>\n",
              "      <td>9</td>\n",
              "    </tr>\n",
              "    <tr>\n",
              "      <th>visit_year</th>\n",
              "      <td>2016</td>\n",
              "    </tr>\n",
              "    <tr>\n",
              "      <th>visit_hour</th>\n",
              "      <td>3</td>\n",
              "    </tr>\n",
              "    <tr>\n",
              "      <th>visit_day_of_week</th>\n",
              "      <td>5</td>\n",
              "    </tr>\n",
              "    <tr>\n",
              "      <th>is_weekend</th>\n",
              "      <td>1</td>\n",
              "    </tr>\n",
              "    <tr>\n",
              "      <th>season</th>\n",
              "      <td>Autumn</td>\n",
              "    </tr>\n",
              "    <tr>\n",
              "      <th>is_month_end</th>\n",
              "      <td>0</td>\n",
              "    </tr>\n",
              "    <tr>\n",
              "      <th>is_month_start</th>\n",
              "      <td>1</td>\n",
              "    </tr>\n",
              "  </tbody>\n",
              "</table>\n",
              "</div><br><label><b>dtype:</b> object</label>"
            ]
          },
          "metadata": {},
          "execution_count": 46
        }
      ]
    },
    {
      "cell_type": "code",
      "source": [
        "numeric_features = [\n",
        "    'totals_pageviews', 'totals_hits', 'visitNumber',\n",
        "    'totals_visits', 'totals_transactions',\n",
        "    'visit_hour', 'visit_day_of_week', 'visit_day', 'visit_month', 'visit_year',\n",
        "    'is_month_end', 'is_month_start'\n",
        "]"
      ],
      "metadata": {
        "id": "xQEUYgli3wgB"
      },
      "execution_count": 47,
      "outputs": []
    },
    {
      "cell_type": "code",
      "source": [
        "categorical_features = [\n",
        "    'channelGrouping', 'socialEngagementType', 'device_browser',\n",
        "    'device_operatingSystem', 'device_deviceCategory',\n",
        "    'geoNetwork_continent', 'geoNetwork_subContinent',\n",
        "    'trafficSource_source', 'trafficSource_medium', 'season'\n",
        "]"
      ],
      "metadata": {
        "id": "A5YKWBFSreGS"
      },
      "execution_count": 48,
      "outputs": []
    },
    {
      "cell_type": "code",
      "source": [
        "binary_features = ['device_isMobile', 'is_weekend']"
      ],
      "metadata": {
        "id": "w1J6udAGzT8x"
      },
      "execution_count": 49,
      "outputs": []
    },
    {
      "cell_type": "code",
      "source": [
        "numeric_transformer = Pipeline(steps=[\n",
        "    ('imputer', SimpleImputer(strategy='median')),\n",
        "    ('scaler', StandardScaler())\n",
        "])"
      ],
      "metadata": {
        "id": "DVSaDQCUzUmR"
      },
      "execution_count": 50,
      "outputs": []
    },
    {
      "cell_type": "code",
      "source": [
        "categorical_transformer = Pipeline(steps=[\n",
        "    ('imputer', SimpleImputer(strategy='constant', fill_value='unknown')),\n",
        "    ('onehot', OneHotEncoder(handle_unknown='ignore'))\n",
        "])"
      ],
      "metadata": {
        "id": "fOeEAHUd2CzT"
      },
      "execution_count": 51,
      "outputs": []
    },
    {
      "cell_type": "code",
      "source": [
        "binary_transformer = Pipeline(steps=[\n",
        "    ('imputer', SimpleImputer(strategy='constant', fill_value=0)),\n",
        "    ('passthrough', 'passthrough')\n",
        "])"
      ],
      "metadata": {
        "id": "pVz8_1o32ozr"
      },
      "execution_count": 52,
      "outputs": []
    },
    {
      "cell_type": "code",
      "source": [
        "preprocessor=ColumnTransformer(transformers=[(\"num\",numeric_transformer,numeric_features),\n",
        "                                            (\"cat\",categorical_transformer,categorical_features),\n",
        "                                             (\"bin\",binary_transformer,binary_features)\n",
        "\n",
        "])"
      ],
      "metadata": {
        "id": "RMPdlRN_2piP"
      },
      "execution_count": 53,
      "outputs": []
    },
    {
      "cell_type": "code",
      "source": [
        "from sklearn.model_selection import train_test_split\n",
        "from sklearn.linear_model import LinearRegression\n",
        "from sklearn.ensemble import RandomForestRegressor\n",
        "from sklearn.metrics import mean_squared_log_error\n",
        "from lightgbm import LGBMRegressor\n",
        "from xgboost import XGBRegressor"
      ],
      "metadata": {
        "id": "3rt7Vn3qdruG"
      },
      "execution_count": 54,
      "outputs": []
    },
    {
      "cell_type": "code",
      "source": [
        "x_train, x_test, y_train, y_test = train_test_split(x, y, test_size=0.2, random_state=69)"
      ],
      "metadata": {
        "id": "_3MhQNqNked2"
      },
      "execution_count": 55,
      "outputs": []
    },
    {
      "cell_type": "code",
      "source": [
        "lr_model=Pipeline(steps=[(\"preprocessor\",preprocessor),\n",
        "                         (\"regressor\",LinearRegression())])\n",
        "lr_model.fit(x_train,y_train)\n",
        "pred=lr_model.predict(x_test)\n",
        "rmsle = np.sqrt(mean_squared_log_error(np.expm1(y_test), np.expm1(pred)))\n",
        "print(f'Validation RMSLE: {rmsle:.4f}')\n"
      ],
      "metadata": {
        "colab": {
          "base_uri": "https://localhost:8080/"
        },
        "id": "pmcomoDfa8Z1",
        "outputId": "4b18a347-ac23-4a98-bcfd-b11bf8a0ff5f"
      },
      "execution_count": 56,
      "outputs": [
        {
          "output_type": "stream",
          "name": "stdout",
          "text": [
            "Validation RMSLE: 0.5760\n"
          ]
        }
      ]
    },
    {
      "cell_type": "code",
      "source": [
        "rf_model=Pipeline(steps=[(\"preprocessor\",preprocessor),\n",
        "                         (\"regressor\",RandomForestRegressor())])\n",
        "rf_model.fit(x_train,y_train)\n",
        "pred=rf_model.predict(x_test)\n",
        "rmsle = np.sqrt(mean_squared_log_error(np.expm1(y_test), np.expm1(pred)))\n",
        "print(f'Validation RMSLE: {rmsle:.4f}')"
      ],
      "metadata": {
        "colab": {
          "base_uri": "https://localhost:8080/"
        },
        "id": "wJQ4CCtmjpvi",
        "outputId": "1842dd85-04f4-4da4-c552-0f3f21c1c589"
      },
      "execution_count": 57,
      "outputs": [
        {
          "output_type": "stream",
          "name": "stdout",
          "text": [
            "Validation RMSLE: 0.1281\n"
          ]
        }
      ]
    },
    {
      "cell_type": "code",
      "source": [
        "lgbm_model=Pipeline(steps=[(\"preprocessor\",preprocessor),\n",
        "                         (\"regressor\",LGBMRegressor())])\n",
        "lgbm_model.fit(x_train,y_train)\n",
        "pred=lgbm_model.predict(x_test)\n",
        "rmsle = np.sqrt(mean_squared_log_error(np.expm1(y_test), np.expm1(pred)))\n",
        "print(f'Validation RMSLE: {rmsle:.4f}')"
      ],
      "metadata": {
        "colab": {
          "base_uri": "https://localhost:8080/"
        },
        "id": "OYsqI1qPs9oO",
        "outputId": "59064f3b-3760-4f78-9b6b-60aea14c1f4f"
      },
      "execution_count": 58,
      "outputs": [
        {
          "output_type": "stream",
          "name": "stderr",
          "text": [
            "/usr/local/lib/python3.11/dist-packages/sklearn/utils/deprecation.py:151: FutureWarning: 'force_all_finite' was renamed to 'ensure_all_finite' in 1.6 and will be removed in 1.8.\n",
            "  warnings.warn(\n"
          ]
        },
        {
          "output_type": "stream",
          "name": "stdout",
          "text": [
            "[LightGBM] [Info] Auto-choosing row-wise multi-threading, the overhead of testing was 0.023906 seconds.\n",
            "You can set `force_row_wise=true` to remove the overhead.\n",
            "And if memory is not enough, you can set `force_col_wise=true`.\n",
            "[LightGBM] [Info] Total Bins 718\n",
            "[LightGBM] [Info] Number of data points in the train set: 136667, number of used features: 126\n",
            "[LightGBM] [Info] Start training from score 0.194534\n",
            "Validation RMSLE: 0.1220\n"
          ]
        },
        {
          "output_type": "stream",
          "name": "stderr",
          "text": [
            "/usr/local/lib/python3.11/dist-packages/sklearn/utils/deprecation.py:151: FutureWarning: 'force_all_finite' was renamed to 'ensure_all_finite' in 1.6 and will be removed in 1.8.\n",
            "  warnings.warn(\n"
          ]
        }
      ]
    },
    {
      "cell_type": "code",
      "source": [
        "xgb_pipeline = Pipeline(steps=[\n",
        "    ('preprocessor', preprocessor),\n",
        "    ('regressor', XGBRegressor(random_state=69))\n",
        "])\n",
        "\n",
        "\n",
        "xgb_pipeline.fit(x_train, y_train)\n",
        "\n",
        "y_pred_xgb = xgb_pipeline.predict(x_test)\n",
        "rmsle_xgb = np.sqrt(mean_squared_log_error(np.expm1(y_test), np.expm1(y_pred_xgb)))\n",
        "print(f'XGBoost Validation RMSLE: {rmsle_xgb:.4f}')"
      ],
      "metadata": {
        "colab": {
          "base_uri": "https://localhost:8080/"
        },
        "id": "rpEDHOP13XPM",
        "outputId": "07d2f752-7ae4-4b85-de1e-1aa399871c97"
      },
      "execution_count": 59,
      "outputs": [
        {
          "output_type": "stream",
          "name": "stdout",
          "text": [
            "XGBoost Validation RMSLE: 0.1359\n"
          ]
        }
      ]
    },
    {
      "cell_type": "code",
      "source": [
        "from tensorflow.keras.models import Sequential\n",
        "from tensorflow.keras.layers import Dense\n",
        "from sklearn.preprocessing import StandardScaler\n",
        "\n",
        "x_train_preprocessed = preprocessor.fit_transform(x_train)\n",
        "x_val_preprocessed = preprocessor.transform(x_test)\n",
        "\n",
        "\n",
        "model = Sequential()\n",
        "model.add(Dense(64, input_dim=x_train_preprocessed.shape[1], activation='relu'))\n",
        "model.add(Dense(32, activation='relu'))\n",
        "model.add(Dense(32, activation='relu'))\n",
        "model.add(Dense(1, activation='linear'))\n",
        "\n",
        "\n",
        "model.compile(optimizer='adam', loss='mean_squared_error')\n",
        "\n",
        "\n",
        "model.fit(x_train_preprocessed, y_train, epochs=10, batch_size=32, verbose=1)\n",
        "\n",
        "y_pred_nn = model.predict(x_val_preprocessed)\n",
        "rmsle_nn = np.sqrt(mean_squared_log_error(np.expm1(y_test), np.expm1(y_pred_nn.flatten())))\n",
        "print(f'Neural Network Validation RMSLE: {rmsle_nn:.4f}')\n"
      ],
      "metadata": {
        "colab": {
          "base_uri": "https://localhost:8080/"
        },
        "id": "K8N73m0OI6t7",
        "outputId": "40c685e8-5871-4af7-8d15-e35aecf7a878"
      },
      "execution_count": 60,
      "outputs": [
        {
          "output_type": "stream",
          "name": "stderr",
          "text": [
            "/usr/local/lib/python3.11/dist-packages/keras/src/layers/core/dense.py:87: UserWarning: Do not pass an `input_shape`/`input_dim` argument to a layer. When using Sequential models, prefer using an `Input(shape)` object as the first layer in the model instead.\n",
            "  super().__init__(activity_regularizer=activity_regularizer, **kwargs)\n"
          ]
        },
        {
          "output_type": "stream",
          "name": "stdout",
          "text": [
            "Epoch 1/10\n",
            "\u001b[1m4271/4271\u001b[0m \u001b[32m━━━━━━━━━━━━━━━━━━━━\u001b[0m\u001b[37m\u001b[0m \u001b[1m18s\u001b[0m 4ms/step - loss: 0.3881\n",
            "Epoch 2/10\n",
            "\u001b[1m4271/4271\u001b[0m \u001b[32m━━━━━━━━━━━━━━━━━━━━\u001b[0m\u001b[37m\u001b[0m \u001b[1m20s\u001b[0m 4ms/step - loss: 0.0863\n",
            "Epoch 3/10\n",
            "\u001b[1m4271/4271\u001b[0m \u001b[32m━━━━━━━━━━━━━━━━━━━━\u001b[0m\u001b[37m\u001b[0m \u001b[1m20s\u001b[0m 4ms/step - loss: 0.0516\n",
            "Epoch 4/10\n",
            "\u001b[1m4271/4271\u001b[0m \u001b[32m━━━━━━━━━━━━━━━━━━━━\u001b[0m\u001b[37m\u001b[0m \u001b[1m16s\u001b[0m 4ms/step - loss: 0.0366\n",
            "Epoch 5/10\n",
            "\u001b[1m4271/4271\u001b[0m \u001b[32m━━━━━━━━━━━━━━━━━━━━\u001b[0m\u001b[37m\u001b[0m \u001b[1m20s\u001b[0m 3ms/step - loss: 0.0379\n",
            "Epoch 6/10\n",
            "\u001b[1m4271/4271\u001b[0m \u001b[32m━━━━━━━━━━━━━━━━━━━━\u001b[0m\u001b[37m\u001b[0m \u001b[1m21s\u001b[0m 4ms/step - loss: 0.0330\n",
            "Epoch 7/10\n",
            "\u001b[1m4271/4271\u001b[0m \u001b[32m━━━━━━━━━━━━━━━━━━━━\u001b[0m\u001b[37m\u001b[0m \u001b[1m20s\u001b[0m 4ms/step - loss: 0.0417\n",
            "Epoch 8/10\n",
            "\u001b[1m4271/4271\u001b[0m \u001b[32m━━━━━━━━━━━━━━━━━━━━\u001b[0m\u001b[37m\u001b[0m \u001b[1m21s\u001b[0m 4ms/step - loss: 0.0396\n",
            "Epoch 9/10\n",
            "\u001b[1m4271/4271\u001b[0m \u001b[32m━━━━━━━━━━━━━━━━━━━━\u001b[0m\u001b[37m\u001b[0m \u001b[1m15s\u001b[0m 4ms/step - loss: 0.0377\n",
            "Epoch 10/10\n",
            "\u001b[1m4271/4271\u001b[0m \u001b[32m━━━━━━━━━━━━━━━━━━━━\u001b[0m\u001b[37m\u001b[0m \u001b[1m20s\u001b[0m 4ms/step - loss: 0.0351\n",
            "\u001b[1m1068/1068\u001b[0m \u001b[32m━━━━━━━━━━━━━━━━━━━━\u001b[0m\u001b[37m\u001b[0m \u001b[1m4s\u001b[0m 3ms/step\n",
            "Neural Network Validation RMSLE: 0.1856\n"
          ]
        }
      ]
    },
    {
      "cell_type": "code",
      "source": [
        "from sklearn.model_selection import GridSearchCV"
      ],
      "metadata": {
        "id": "_xtjI_g3OpkE"
      },
      "execution_count": 61,
      "outputs": []
    },
    {
      "cell_type": "code",
      "source": [
        "# Define the hyperparameter grid\n",
        "param_grid = {\n",
        "    'regressor__n_estimators': [100, 200, 300],  # Number of trees\n",
        "    'regressor__max_depth': [3, 5, 7],           # Maximum depth of a tree\n",
        "    'regressor__learning_rate': [0.01, 0.05, 0.1],  # Step size for optimization\n",
        "    'regressor__subsample': [0.8, 1.0],          # Fraction of samples used for training\n",
        "    'regressor__colsample_bytree': [0.8, 1.0]    # Fraction of features used for training\n",
        "}\n",
        "\n",
        "# Create GridSearchCV object\n",
        "grid_search = GridSearchCV(\n",
        "    estimator=xgb_pipeline,\n",
        "    param_grid=param_grid,\n",
        "    scoring='neg_mean_squared_log_error',  # Use RMSLE for scoring\n",
        "    cv=3,  # 3-fold cross-validation\n",
        "    verbose=2  # Show detailed logs\n",
        ")\n",
        "\n",
        "# Fit GridSearchCV on the training data\n",
        "grid_search.fit(x_train, y_train)\n",
        "\n",
        "# Best hyperparameters\n",
        "print(f'Best Hyperparameters: {grid_search.best_params_}')\n",
        "\n",
        "# Evaluate the tuned model\n",
        "best_model = grid_search.best_estimator_\n",
        "y_pred_tuned = best_model.predict(x_test)\n",
        "rmsle_tuned = np.sqrt(mean_squared_log_error(np.expm1(y_test), np.expm1(y_pred_tuned)))\n",
        "print(f'Tuned Validation RMSLE: {rmsle_tuned:.4f}')"
      ],
      "metadata": {
        "id": "ZA2zXv_dJZ38",
        "colab": {
          "base_uri": "https://localhost:8080/"
        },
        "collapsed": true,
        "outputId": "64fab115-94d3-47e7-aa09-f54cc665370e"
      },
      "execution_count": 63,
      "outputs": [
        {
          "output_type": "stream",
          "name": "stdout",
          "text": [
            "Fitting 3 folds for each of 108 candidates, totalling 324 fits\n",
            "[CV] END regressor__colsample_bytree=0.8, regressor__learning_rate=0.01, regressor__max_depth=3, regressor__n_estimators=100, regressor__subsample=0.8; total time=   2.0s\n",
            "[CV] END regressor__colsample_bytree=0.8, regressor__learning_rate=0.01, regressor__max_depth=3, regressor__n_estimators=100, regressor__subsample=0.8; total time=   1.7s\n",
            "[CV] END regressor__colsample_bytree=0.8, regressor__learning_rate=0.01, regressor__max_depth=3, regressor__n_estimators=100, regressor__subsample=0.8; total time=   1.7s\n",
            "[CV] END regressor__colsample_bytree=0.8, regressor__learning_rate=0.01, regressor__max_depth=3, regressor__n_estimators=100, regressor__subsample=1.0; total time=   1.7s\n",
            "[CV] END regressor__colsample_bytree=0.8, regressor__learning_rate=0.01, regressor__max_depth=3, regressor__n_estimators=100, regressor__subsample=1.0; total time=   1.7s\n",
            "[CV] END regressor__colsample_bytree=0.8, regressor__learning_rate=0.01, regressor__max_depth=3, regressor__n_estimators=100, regressor__subsample=1.0; total time=   1.7s\n",
            "[CV] END regressor__colsample_bytree=0.8, regressor__learning_rate=0.01, regressor__max_depth=3, regressor__n_estimators=200, regressor__subsample=0.8; total time=   5.1s\n",
            "[CV] END regressor__colsample_bytree=0.8, regressor__learning_rate=0.01, regressor__max_depth=3, regressor__n_estimators=200, regressor__subsample=0.8; total time=   2.4s\n",
            "[CV] END regressor__colsample_bytree=0.8, regressor__learning_rate=0.01, regressor__max_depth=3, regressor__n_estimators=200, regressor__subsample=0.8; total time=   2.4s\n",
            "[CV] END regressor__colsample_bytree=0.8, regressor__learning_rate=0.01, regressor__max_depth=3, regressor__n_estimators=200, regressor__subsample=1.0; total time=   2.9s\n",
            "[CV] END regressor__colsample_bytree=0.8, regressor__learning_rate=0.01, regressor__max_depth=3, regressor__n_estimators=200, regressor__subsample=1.0; total time=   4.4s\n",
            "[CV] END regressor__colsample_bytree=0.8, regressor__learning_rate=0.01, regressor__max_depth=3, regressor__n_estimators=200, regressor__subsample=1.0; total time=   2.7s\n",
            "[CV] END regressor__colsample_bytree=0.8, regressor__learning_rate=0.01, regressor__max_depth=3, regressor__n_estimators=300, regressor__subsample=0.8; total time=   3.1s\n",
            "[CV] END regressor__colsample_bytree=0.8, regressor__learning_rate=0.01, regressor__max_depth=3, regressor__n_estimators=300, regressor__subsample=0.8; total time=   3.1s\n",
            "[CV] END regressor__colsample_bytree=0.8, regressor__learning_rate=0.01, regressor__max_depth=3, regressor__n_estimators=300, regressor__subsample=0.8; total time=   5.6s\n",
            "[CV] END regressor__colsample_bytree=0.8, regressor__learning_rate=0.01, regressor__max_depth=3, regressor__n_estimators=300, regressor__subsample=1.0; total time=   3.0s\n",
            "[CV] END regressor__colsample_bytree=0.8, regressor__learning_rate=0.01, regressor__max_depth=3, regressor__n_estimators=300, regressor__subsample=1.0; total time=   3.0s\n",
            "[CV] END regressor__colsample_bytree=0.8, regressor__learning_rate=0.01, regressor__max_depth=3, regressor__n_estimators=300, regressor__subsample=1.0; total time=   3.0s\n",
            "[CV] END regressor__colsample_bytree=0.8, regressor__learning_rate=0.01, regressor__max_depth=5, regressor__n_estimators=100, regressor__subsample=0.8; total time=   3.8s\n",
            "[CV] END regressor__colsample_bytree=0.8, regressor__learning_rate=0.01, regressor__max_depth=5, regressor__n_estimators=100, regressor__subsample=0.8; total time=   2.7s\n",
            "[CV] END regressor__colsample_bytree=0.8, regressor__learning_rate=0.01, regressor__max_depth=5, regressor__n_estimators=100, regressor__subsample=0.8; total time=   2.0s\n",
            "[CV] END regressor__colsample_bytree=0.8, regressor__learning_rate=0.01, regressor__max_depth=5, regressor__n_estimators=100, regressor__subsample=1.0; total time=   1.9s\n",
            "[CV] END regressor__colsample_bytree=0.8, regressor__learning_rate=0.01, regressor__max_depth=5, regressor__n_estimators=100, regressor__subsample=1.0; total time=   1.9s\n",
            "[CV] END regressor__colsample_bytree=0.8, regressor__learning_rate=0.01, regressor__max_depth=5, regressor__n_estimators=100, regressor__subsample=1.0; total time=   1.9s\n",
            "[CV] END regressor__colsample_bytree=0.8, regressor__learning_rate=0.01, regressor__max_depth=5, regressor__n_estimators=200, regressor__subsample=0.8; total time=   9.3s\n",
            "[CV] END regressor__colsample_bytree=0.8, regressor__learning_rate=0.01, regressor__max_depth=5, regressor__n_estimators=200, regressor__subsample=0.8; total time=   3.0s\n",
            "[CV] END regressor__colsample_bytree=0.8, regressor__learning_rate=0.01, regressor__max_depth=5, regressor__n_estimators=200, regressor__subsample=0.8; total time=   3.0s\n",
            "[CV] END regressor__colsample_bytree=0.8, regressor__learning_rate=0.01, regressor__max_depth=5, regressor__n_estimators=200, regressor__subsample=1.0; total time=   2.8s\n",
            "[CV] END regressor__colsample_bytree=0.8, regressor__learning_rate=0.01, regressor__max_depth=5, regressor__n_estimators=200, regressor__subsample=1.0; total time=   5.7s\n",
            "[CV] END regressor__colsample_bytree=0.8, regressor__learning_rate=0.01, regressor__max_depth=5, regressor__n_estimators=200, regressor__subsample=1.0; total time=   3.0s\n",
            "[CV] END regressor__colsample_bytree=0.8, regressor__learning_rate=0.01, regressor__max_depth=5, regressor__n_estimators=300, regressor__subsample=0.8; total time=   4.2s\n",
            "[CV] END regressor__colsample_bytree=0.8, regressor__learning_rate=0.01, regressor__max_depth=5, regressor__n_estimators=300, regressor__subsample=0.8; total time=   7.1s\n",
            "[CV] END regressor__colsample_bytree=0.8, regressor__learning_rate=0.01, regressor__max_depth=5, regressor__n_estimators=300, regressor__subsample=0.8; total time=   4.0s\n",
            "[CV] END regressor__colsample_bytree=0.8, regressor__learning_rate=0.01, regressor__max_depth=5, regressor__n_estimators=300, regressor__subsample=1.0; total time=   3.9s\n",
            "[CV] END regressor__colsample_bytree=0.8, regressor__learning_rate=0.01, regressor__max_depth=5, regressor__n_estimators=300, regressor__subsample=1.0; total time=   6.8s\n",
            "[CV] END regressor__colsample_bytree=0.8, regressor__learning_rate=0.01, regressor__max_depth=5, regressor__n_estimators=300, regressor__subsample=1.0; total time=   3.9s\n",
            "[CV] END regressor__colsample_bytree=0.8, regressor__learning_rate=0.01, regressor__max_depth=7, regressor__n_estimators=100, regressor__subsample=0.8; total time=   2.3s\n",
            "[CV] END regressor__colsample_bytree=0.8, regressor__learning_rate=0.01, regressor__max_depth=7, regressor__n_estimators=100, regressor__subsample=0.8; total time=   3.8s\n",
            "[CV] END regressor__colsample_bytree=0.8, regressor__learning_rate=0.01, regressor__max_depth=7, regressor__n_estimators=100, regressor__subsample=0.8; total time=   3.3s\n",
            "[CV] END regressor__colsample_bytree=0.8, regressor__learning_rate=0.01, regressor__max_depth=7, regressor__n_estimators=100, regressor__subsample=1.0; total time=   2.3s\n",
            "[CV] END regressor__colsample_bytree=0.8, regressor__learning_rate=0.01, regressor__max_depth=7, regressor__n_estimators=100, regressor__subsample=1.0; total time=   2.2s\n",
            "[CV] END regressor__colsample_bytree=0.8, regressor__learning_rate=0.01, regressor__max_depth=7, regressor__n_estimators=100, regressor__subsample=1.0; total time=   2.3s\n",
            "[CV] END regressor__colsample_bytree=0.8, regressor__learning_rate=0.01, regressor__max_depth=7, regressor__n_estimators=200, regressor__subsample=0.8; total time=   7.0s\n",
            "[CV] END regressor__colsample_bytree=0.8, regressor__learning_rate=0.01, regressor__max_depth=7, regressor__n_estimators=200, regressor__subsample=0.8; total time=   3.8s\n",
            "[CV] END regressor__colsample_bytree=0.8, regressor__learning_rate=0.01, regressor__max_depth=7, regressor__n_estimators=200, regressor__subsample=0.8; total time=   3.9s\n",
            "[CV] END regressor__colsample_bytree=0.8, regressor__learning_rate=0.01, regressor__max_depth=7, regressor__n_estimators=200, regressor__subsample=1.0; total time=   6.9s\n",
            "[CV] END regressor__colsample_bytree=0.8, regressor__learning_rate=0.01, regressor__max_depth=7, regressor__n_estimators=200, regressor__subsample=1.0; total time=   3.6s\n",
            "[CV] END regressor__colsample_bytree=0.8, regressor__learning_rate=0.01, regressor__max_depth=7, regressor__n_estimators=200, regressor__subsample=1.0; total time=   3.7s\n",
            "[CV] END regressor__colsample_bytree=0.8, regressor__learning_rate=0.01, regressor__max_depth=7, regressor__n_estimators=300, regressor__subsample=0.8; total time=   8.5s\n",
            "[CV] END regressor__colsample_bytree=0.8, regressor__learning_rate=0.01, regressor__max_depth=7, regressor__n_estimators=300, regressor__subsample=0.8; total time=   5.2s\n",
            "[CV] END regressor__colsample_bytree=0.8, regressor__learning_rate=0.01, regressor__max_depth=7, regressor__n_estimators=300, regressor__subsample=0.8; total time=   8.6s\n",
            "[CV] END regressor__colsample_bytree=0.8, regressor__learning_rate=0.01, regressor__max_depth=7, regressor__n_estimators=300, regressor__subsample=1.0; total time=   5.3s\n",
            "[CV] END regressor__colsample_bytree=0.8, regressor__learning_rate=0.01, regressor__max_depth=7, regressor__n_estimators=300, regressor__subsample=1.0; total time=   8.3s\n",
            "[CV] END regressor__colsample_bytree=0.8, regressor__learning_rate=0.01, regressor__max_depth=7, regressor__n_estimators=300, regressor__subsample=1.0; total time=   5.4s\n",
            "[CV] END regressor__colsample_bytree=0.8, regressor__learning_rate=0.05, regressor__max_depth=3, regressor__n_estimators=100, regressor__subsample=0.8; total time=   1.8s\n",
            "[CV] END regressor__colsample_bytree=0.8, regressor__learning_rate=0.05, regressor__max_depth=3, regressor__n_estimators=100, regressor__subsample=0.8; total time=   4.3s\n",
            "[CV] END regressor__colsample_bytree=0.8, regressor__learning_rate=0.05, regressor__max_depth=3, regressor__n_estimators=100, regressor__subsample=0.8; total time=   1.8s\n",
            "[CV] END regressor__colsample_bytree=0.8, regressor__learning_rate=0.05, regressor__max_depth=3, regressor__n_estimators=100, regressor__subsample=1.0; total time=   1.7s\n",
            "[CV] END regressor__colsample_bytree=0.8, regressor__learning_rate=0.05, regressor__max_depth=3, regressor__n_estimators=100, regressor__subsample=1.0; total time=   1.7s\n",
            "[CV] END regressor__colsample_bytree=0.8, regressor__learning_rate=0.05, regressor__max_depth=3, regressor__n_estimators=100, regressor__subsample=1.0; total time=   1.7s\n",
            "[CV] END regressor__colsample_bytree=0.8, regressor__learning_rate=0.05, regressor__max_depth=3, regressor__n_estimators=200, regressor__subsample=0.8; total time=   2.4s\n",
            "[CV] END regressor__colsample_bytree=0.8, regressor__learning_rate=0.05, regressor__max_depth=3, regressor__n_estimators=200, regressor__subsample=0.8; total time=   5.3s\n"
          ]
        },
        {
          "output_type": "stream",
          "name": "stderr",
          "text": [
            "/usr/local/lib/python3.11/dist-packages/sklearn/model_selection/_validation.py:960: UserWarning: Scoring failed. The score on this train-test partition for these parameters will be set to nan. Details: \n",
            "Traceback (most recent call last):\n",
            "  File \"/usr/local/lib/python3.11/dist-packages/sklearn/model_selection/_validation.py\", line 949, in _score\n",
            "    scores = scorer(estimator, X_test, y_test, **score_params)\n",
            "             ^^^^^^^^^^^^^^^^^^^^^^^^^^^^^^^^^^^^^^^^^^^^^^^^^\n",
            "  File \"/usr/local/lib/python3.11/dist-packages/sklearn/metrics/_scorer.py\", line 288, in __call__\n",
            "    return self._score(partial(_cached_call, None), estimator, X, y_true, **_kwargs)\n",
            "           ^^^^^^^^^^^^^^^^^^^^^^^^^^^^^^^^^^^^^^^^^^^^^^^^^^^^^^^^^^^^^^^^^^^^^^^^^\n",
            "  File \"/usr/local/lib/python3.11/dist-packages/sklearn/metrics/_scorer.py\", line 388, in _score\n",
            "    return self._sign * self._score_func(y_true, y_pred, **scoring_kwargs)\n",
            "                        ^^^^^^^^^^^^^^^^^^^^^^^^^^^^^^^^^^^^^^^^^^^^^^^^^^\n",
            "  File \"/usr/local/lib/python3.11/dist-packages/sklearn/utils/_param_validation.py\", line 216, in wrapper\n",
            "    return func(*args, **kwargs)\n",
            "           ^^^^^^^^^^^^^^^^^^^^^\n",
            "  File \"/usr/local/lib/python3.11/dist-packages/sklearn/metrics/_regression.py\", line 746, in mean_squared_log_error\n",
            "    raise ValueError(\n",
            "ValueError: Mean Squared Logarithmic Error cannot be used when targets contain values less than or equal to -1.\n",
            "\n",
            "  warnings.warn(\n"
          ]
        },
        {
          "output_type": "stream",
          "name": "stdout",
          "text": [
            "[CV] END regressor__colsample_bytree=0.8, regressor__learning_rate=0.05, regressor__max_depth=3, regressor__n_estimators=200, regressor__subsample=0.8; total time=   2.4s\n"
          ]
        },
        {
          "output_type": "stream",
          "name": "stderr",
          "text": [
            "/usr/local/lib/python3.11/dist-packages/sklearn/model_selection/_validation.py:960: UserWarning: Scoring failed. The score on this train-test partition for these parameters will be set to nan. Details: \n",
            "Traceback (most recent call last):\n",
            "  File \"/usr/local/lib/python3.11/dist-packages/sklearn/model_selection/_validation.py\", line 949, in _score\n",
            "    scores = scorer(estimator, X_test, y_test, **score_params)\n",
            "             ^^^^^^^^^^^^^^^^^^^^^^^^^^^^^^^^^^^^^^^^^^^^^^^^^\n",
            "  File \"/usr/local/lib/python3.11/dist-packages/sklearn/metrics/_scorer.py\", line 288, in __call__\n",
            "    return self._score(partial(_cached_call, None), estimator, X, y_true, **_kwargs)\n",
            "           ^^^^^^^^^^^^^^^^^^^^^^^^^^^^^^^^^^^^^^^^^^^^^^^^^^^^^^^^^^^^^^^^^^^^^^^^^\n",
            "  File \"/usr/local/lib/python3.11/dist-packages/sklearn/metrics/_scorer.py\", line 388, in _score\n",
            "    return self._sign * self._score_func(y_true, y_pred, **scoring_kwargs)\n",
            "                        ^^^^^^^^^^^^^^^^^^^^^^^^^^^^^^^^^^^^^^^^^^^^^^^^^^\n",
            "  File \"/usr/local/lib/python3.11/dist-packages/sklearn/utils/_param_validation.py\", line 216, in wrapper\n",
            "    return func(*args, **kwargs)\n",
            "           ^^^^^^^^^^^^^^^^^^^^^\n",
            "  File \"/usr/local/lib/python3.11/dist-packages/sklearn/metrics/_regression.py\", line 746, in mean_squared_log_error\n",
            "    raise ValueError(\n",
            "ValueError: Mean Squared Logarithmic Error cannot be used when targets contain values less than or equal to -1.\n",
            "\n",
            "  warnings.warn(\n"
          ]
        },
        {
          "output_type": "stream",
          "name": "stdout",
          "text": [
            "[CV] END regressor__colsample_bytree=0.8, regressor__learning_rate=0.05, regressor__max_depth=3, regressor__n_estimators=200, regressor__subsample=1.0; total time=   2.3s\n",
            "[CV] END regressor__colsample_bytree=0.8, regressor__learning_rate=0.05, regressor__max_depth=3, regressor__n_estimators=200, regressor__subsample=1.0; total time=   2.3s\n"
          ]
        },
        {
          "output_type": "stream",
          "name": "stderr",
          "text": [
            "/usr/local/lib/python3.11/dist-packages/sklearn/model_selection/_validation.py:960: UserWarning: Scoring failed. The score on this train-test partition for these parameters will be set to nan. Details: \n",
            "Traceback (most recent call last):\n",
            "  File \"/usr/local/lib/python3.11/dist-packages/sklearn/model_selection/_validation.py\", line 949, in _score\n",
            "    scores = scorer(estimator, X_test, y_test, **score_params)\n",
            "             ^^^^^^^^^^^^^^^^^^^^^^^^^^^^^^^^^^^^^^^^^^^^^^^^^\n",
            "  File \"/usr/local/lib/python3.11/dist-packages/sklearn/metrics/_scorer.py\", line 288, in __call__\n",
            "    return self._score(partial(_cached_call, None), estimator, X, y_true, **_kwargs)\n",
            "           ^^^^^^^^^^^^^^^^^^^^^^^^^^^^^^^^^^^^^^^^^^^^^^^^^^^^^^^^^^^^^^^^^^^^^^^^^\n",
            "  File \"/usr/local/lib/python3.11/dist-packages/sklearn/metrics/_scorer.py\", line 388, in _score\n",
            "    return self._sign * self._score_func(y_true, y_pred, **scoring_kwargs)\n",
            "                        ^^^^^^^^^^^^^^^^^^^^^^^^^^^^^^^^^^^^^^^^^^^^^^^^^^\n",
            "  File \"/usr/local/lib/python3.11/dist-packages/sklearn/utils/_param_validation.py\", line 216, in wrapper\n",
            "    return func(*args, **kwargs)\n",
            "           ^^^^^^^^^^^^^^^^^^^^^\n",
            "  File \"/usr/local/lib/python3.11/dist-packages/sklearn/metrics/_regression.py\", line 746, in mean_squared_log_error\n",
            "    raise ValueError(\n",
            "ValueError: Mean Squared Logarithmic Error cannot be used when targets contain values less than or equal to -1.\n",
            "\n",
            "  warnings.warn(\n"
          ]
        },
        {
          "output_type": "stream",
          "name": "stdout",
          "text": [
            "[CV] END regressor__colsample_bytree=0.8, regressor__learning_rate=0.05, regressor__max_depth=3, regressor__n_estimators=200, regressor__subsample=1.0; total time=   2.4s\n"
          ]
        },
        {
          "output_type": "stream",
          "name": "stderr",
          "text": [
            "/usr/local/lib/python3.11/dist-packages/sklearn/model_selection/_validation.py:960: UserWarning: Scoring failed. The score on this train-test partition for these parameters will be set to nan. Details: \n",
            "Traceback (most recent call last):\n",
            "  File \"/usr/local/lib/python3.11/dist-packages/sklearn/model_selection/_validation.py\", line 949, in _score\n",
            "    scores = scorer(estimator, X_test, y_test, **score_params)\n",
            "             ^^^^^^^^^^^^^^^^^^^^^^^^^^^^^^^^^^^^^^^^^^^^^^^^^\n",
            "  File \"/usr/local/lib/python3.11/dist-packages/sklearn/metrics/_scorer.py\", line 288, in __call__\n",
            "    return self._score(partial(_cached_call, None), estimator, X, y_true, **_kwargs)\n",
            "           ^^^^^^^^^^^^^^^^^^^^^^^^^^^^^^^^^^^^^^^^^^^^^^^^^^^^^^^^^^^^^^^^^^^^^^^^^\n",
            "  File \"/usr/local/lib/python3.11/dist-packages/sklearn/metrics/_scorer.py\", line 388, in _score\n",
            "    return self._sign * self._score_func(y_true, y_pred, **scoring_kwargs)\n",
            "                        ^^^^^^^^^^^^^^^^^^^^^^^^^^^^^^^^^^^^^^^^^^^^^^^^^^\n",
            "  File \"/usr/local/lib/python3.11/dist-packages/sklearn/utils/_param_validation.py\", line 216, in wrapper\n",
            "    return func(*args, **kwargs)\n",
            "           ^^^^^^^^^^^^^^^^^^^^^\n",
            "  File \"/usr/local/lib/python3.11/dist-packages/sklearn/metrics/_regression.py\", line 746, in mean_squared_log_error\n",
            "    raise ValueError(\n",
            "ValueError: Mean Squared Logarithmic Error cannot be used when targets contain values less than or equal to -1.\n",
            "\n",
            "  warnings.warn(\n"
          ]
        },
        {
          "output_type": "stream",
          "name": "stdout",
          "text": [
            "[CV] END regressor__colsample_bytree=0.8, regressor__learning_rate=0.05, regressor__max_depth=3, regressor__n_estimators=300, regressor__subsample=0.8; total time=   6.0s\n"
          ]
        },
        {
          "output_type": "stream",
          "name": "stderr",
          "text": [
            "/usr/local/lib/python3.11/dist-packages/sklearn/model_selection/_validation.py:960: UserWarning: Scoring failed. The score on this train-test partition for these parameters will be set to nan. Details: \n",
            "Traceback (most recent call last):\n",
            "  File \"/usr/local/lib/python3.11/dist-packages/sklearn/model_selection/_validation.py\", line 949, in _score\n",
            "    scores = scorer(estimator, X_test, y_test, **score_params)\n",
            "             ^^^^^^^^^^^^^^^^^^^^^^^^^^^^^^^^^^^^^^^^^^^^^^^^^\n",
            "  File \"/usr/local/lib/python3.11/dist-packages/sklearn/metrics/_scorer.py\", line 288, in __call__\n",
            "    return self._score(partial(_cached_call, None), estimator, X, y_true, **_kwargs)\n",
            "           ^^^^^^^^^^^^^^^^^^^^^^^^^^^^^^^^^^^^^^^^^^^^^^^^^^^^^^^^^^^^^^^^^^^^^^^^^\n",
            "  File \"/usr/local/lib/python3.11/dist-packages/sklearn/metrics/_scorer.py\", line 388, in _score\n",
            "    return self._sign * self._score_func(y_true, y_pred, **scoring_kwargs)\n",
            "                        ^^^^^^^^^^^^^^^^^^^^^^^^^^^^^^^^^^^^^^^^^^^^^^^^^^\n",
            "  File \"/usr/local/lib/python3.11/dist-packages/sklearn/utils/_param_validation.py\", line 216, in wrapper\n",
            "    return func(*args, **kwargs)\n",
            "           ^^^^^^^^^^^^^^^^^^^^^\n",
            "  File \"/usr/local/lib/python3.11/dist-packages/sklearn/metrics/_regression.py\", line 746, in mean_squared_log_error\n",
            "    raise ValueError(\n",
            "ValueError: Mean Squared Logarithmic Error cannot be used when targets contain values less than or equal to -1.\n",
            "\n",
            "  warnings.warn(\n"
          ]
        },
        {
          "output_type": "stream",
          "name": "stdout",
          "text": [
            "[CV] END regressor__colsample_bytree=0.8, regressor__learning_rate=0.05, regressor__max_depth=3, regressor__n_estimators=300, regressor__subsample=0.8; total time=   3.0s\n"
          ]
        },
        {
          "output_type": "stream",
          "name": "stderr",
          "text": [
            "/usr/local/lib/python3.11/dist-packages/sklearn/model_selection/_validation.py:960: UserWarning: Scoring failed. The score on this train-test partition for these parameters will be set to nan. Details: \n",
            "Traceback (most recent call last):\n",
            "  File \"/usr/local/lib/python3.11/dist-packages/sklearn/model_selection/_validation.py\", line 949, in _score\n",
            "    scores = scorer(estimator, X_test, y_test, **score_params)\n",
            "             ^^^^^^^^^^^^^^^^^^^^^^^^^^^^^^^^^^^^^^^^^^^^^^^^^\n",
            "  File \"/usr/local/lib/python3.11/dist-packages/sklearn/metrics/_scorer.py\", line 288, in __call__\n",
            "    return self._score(partial(_cached_call, None), estimator, X, y_true, **_kwargs)\n",
            "           ^^^^^^^^^^^^^^^^^^^^^^^^^^^^^^^^^^^^^^^^^^^^^^^^^^^^^^^^^^^^^^^^^^^^^^^^^\n",
            "  File \"/usr/local/lib/python3.11/dist-packages/sklearn/metrics/_scorer.py\", line 388, in _score\n",
            "    return self._sign * self._score_func(y_true, y_pred, **scoring_kwargs)\n",
            "                        ^^^^^^^^^^^^^^^^^^^^^^^^^^^^^^^^^^^^^^^^^^^^^^^^^^\n",
            "  File \"/usr/local/lib/python3.11/dist-packages/sklearn/utils/_param_validation.py\", line 216, in wrapper\n",
            "    return func(*args, **kwargs)\n",
            "           ^^^^^^^^^^^^^^^^^^^^^\n",
            "  File \"/usr/local/lib/python3.11/dist-packages/sklearn/metrics/_regression.py\", line 746, in mean_squared_log_error\n",
            "    raise ValueError(\n",
            "ValueError: Mean Squared Logarithmic Error cannot be used when targets contain values less than or equal to -1.\n",
            "\n",
            "  warnings.warn(\n"
          ]
        },
        {
          "output_type": "stream",
          "name": "stdout",
          "text": [
            "[CV] END regressor__colsample_bytree=0.8, regressor__learning_rate=0.05, regressor__max_depth=3, regressor__n_estimators=300, regressor__subsample=0.8; total time=   3.0s\n"
          ]
        },
        {
          "output_type": "stream",
          "name": "stderr",
          "text": [
            "/usr/local/lib/python3.11/dist-packages/sklearn/model_selection/_validation.py:960: UserWarning: Scoring failed. The score on this train-test partition for these parameters will be set to nan. Details: \n",
            "Traceback (most recent call last):\n",
            "  File \"/usr/local/lib/python3.11/dist-packages/sklearn/model_selection/_validation.py\", line 949, in _score\n",
            "    scores = scorer(estimator, X_test, y_test, **score_params)\n",
            "             ^^^^^^^^^^^^^^^^^^^^^^^^^^^^^^^^^^^^^^^^^^^^^^^^^\n",
            "  File \"/usr/local/lib/python3.11/dist-packages/sklearn/metrics/_scorer.py\", line 288, in __call__\n",
            "    return self._score(partial(_cached_call, None), estimator, X, y_true, **_kwargs)\n",
            "           ^^^^^^^^^^^^^^^^^^^^^^^^^^^^^^^^^^^^^^^^^^^^^^^^^^^^^^^^^^^^^^^^^^^^^^^^^\n",
            "  File \"/usr/local/lib/python3.11/dist-packages/sklearn/metrics/_scorer.py\", line 388, in _score\n",
            "    return self._sign * self._score_func(y_true, y_pred, **scoring_kwargs)\n",
            "                        ^^^^^^^^^^^^^^^^^^^^^^^^^^^^^^^^^^^^^^^^^^^^^^^^^^\n",
            "  File \"/usr/local/lib/python3.11/dist-packages/sklearn/utils/_param_validation.py\", line 216, in wrapper\n",
            "    return func(*args, **kwargs)\n",
            "           ^^^^^^^^^^^^^^^^^^^^^\n",
            "  File \"/usr/local/lib/python3.11/dist-packages/sklearn/metrics/_regression.py\", line 746, in mean_squared_log_error\n",
            "    raise ValueError(\n",
            "ValueError: Mean Squared Logarithmic Error cannot be used when targets contain values less than or equal to -1.\n",
            "\n",
            "  warnings.warn(\n"
          ]
        },
        {
          "output_type": "stream",
          "name": "stdout",
          "text": [
            "[CV] END regressor__colsample_bytree=0.8, regressor__learning_rate=0.05, regressor__max_depth=3, regressor__n_estimators=300, regressor__subsample=1.0; total time=   3.1s\n"
          ]
        },
        {
          "output_type": "stream",
          "name": "stderr",
          "text": [
            "/usr/local/lib/python3.11/dist-packages/sklearn/model_selection/_validation.py:960: UserWarning: Scoring failed. The score on this train-test partition for these parameters will be set to nan. Details: \n",
            "Traceback (most recent call last):\n",
            "  File \"/usr/local/lib/python3.11/dist-packages/sklearn/model_selection/_validation.py\", line 949, in _score\n",
            "    scores = scorer(estimator, X_test, y_test, **score_params)\n",
            "             ^^^^^^^^^^^^^^^^^^^^^^^^^^^^^^^^^^^^^^^^^^^^^^^^^\n",
            "  File \"/usr/local/lib/python3.11/dist-packages/sklearn/metrics/_scorer.py\", line 288, in __call__\n",
            "    return self._score(partial(_cached_call, None), estimator, X, y_true, **_kwargs)\n",
            "           ^^^^^^^^^^^^^^^^^^^^^^^^^^^^^^^^^^^^^^^^^^^^^^^^^^^^^^^^^^^^^^^^^^^^^^^^^\n",
            "  File \"/usr/local/lib/python3.11/dist-packages/sklearn/metrics/_scorer.py\", line 388, in _score\n",
            "    return self._sign * self._score_func(y_true, y_pred, **scoring_kwargs)\n",
            "                        ^^^^^^^^^^^^^^^^^^^^^^^^^^^^^^^^^^^^^^^^^^^^^^^^^^\n",
            "  File \"/usr/local/lib/python3.11/dist-packages/sklearn/utils/_param_validation.py\", line 216, in wrapper\n",
            "    return func(*args, **kwargs)\n",
            "           ^^^^^^^^^^^^^^^^^^^^^\n",
            "  File \"/usr/local/lib/python3.11/dist-packages/sklearn/metrics/_regression.py\", line 746, in mean_squared_log_error\n",
            "    raise ValueError(\n",
            "ValueError: Mean Squared Logarithmic Error cannot be used when targets contain values less than or equal to -1.\n",
            "\n",
            "  warnings.warn(\n"
          ]
        },
        {
          "output_type": "stream",
          "name": "stdout",
          "text": [
            "[CV] END regressor__colsample_bytree=0.8, regressor__learning_rate=0.05, regressor__max_depth=3, regressor__n_estimators=300, regressor__subsample=1.0; total time=   5.1s\n"
          ]
        },
        {
          "output_type": "stream",
          "name": "stderr",
          "text": [
            "/usr/local/lib/python3.11/dist-packages/sklearn/model_selection/_validation.py:960: UserWarning: Scoring failed. The score on this train-test partition for these parameters will be set to nan. Details: \n",
            "Traceback (most recent call last):\n",
            "  File \"/usr/local/lib/python3.11/dist-packages/sklearn/model_selection/_validation.py\", line 949, in _score\n",
            "    scores = scorer(estimator, X_test, y_test, **score_params)\n",
            "             ^^^^^^^^^^^^^^^^^^^^^^^^^^^^^^^^^^^^^^^^^^^^^^^^^\n",
            "  File \"/usr/local/lib/python3.11/dist-packages/sklearn/metrics/_scorer.py\", line 288, in __call__\n",
            "    return self._score(partial(_cached_call, None), estimator, X, y_true, **_kwargs)\n",
            "           ^^^^^^^^^^^^^^^^^^^^^^^^^^^^^^^^^^^^^^^^^^^^^^^^^^^^^^^^^^^^^^^^^^^^^^^^^\n",
            "  File \"/usr/local/lib/python3.11/dist-packages/sklearn/metrics/_scorer.py\", line 388, in _score\n",
            "    return self._sign * self._score_func(y_true, y_pred, **scoring_kwargs)\n",
            "                        ^^^^^^^^^^^^^^^^^^^^^^^^^^^^^^^^^^^^^^^^^^^^^^^^^^\n",
            "  File \"/usr/local/lib/python3.11/dist-packages/sklearn/utils/_param_validation.py\", line 216, in wrapper\n",
            "    return func(*args, **kwargs)\n",
            "           ^^^^^^^^^^^^^^^^^^^^^\n",
            "  File \"/usr/local/lib/python3.11/dist-packages/sklearn/metrics/_regression.py\", line 746, in mean_squared_log_error\n",
            "    raise ValueError(\n",
            "ValueError: Mean Squared Logarithmic Error cannot be used when targets contain values less than or equal to -1.\n",
            "\n",
            "  warnings.warn(\n"
          ]
        },
        {
          "output_type": "stream",
          "name": "stdout",
          "text": [
            "[CV] END regressor__colsample_bytree=0.8, regressor__learning_rate=0.05, regressor__max_depth=3, regressor__n_estimators=300, regressor__subsample=1.0; total time=   2.9s\n",
            "[CV] END regressor__colsample_bytree=0.8, regressor__learning_rate=0.05, regressor__max_depth=5, regressor__n_estimators=100, regressor__subsample=0.8; total time=   2.1s\n",
            "[CV] END regressor__colsample_bytree=0.8, regressor__learning_rate=0.05, regressor__max_depth=5, regressor__n_estimators=100, regressor__subsample=0.8; total time=   2.0s\n",
            "[CV] END regressor__colsample_bytree=0.8, regressor__learning_rate=0.05, regressor__max_depth=5, regressor__n_estimators=100, regressor__subsample=0.8; total time=   2.6s\n",
            "[CV] END regressor__colsample_bytree=0.8, regressor__learning_rate=0.05, regressor__max_depth=5, regressor__n_estimators=100, regressor__subsample=1.0; total time=   3.9s\n",
            "[CV] END regressor__colsample_bytree=0.8, regressor__learning_rate=0.05, regressor__max_depth=5, regressor__n_estimators=100, regressor__subsample=1.0; total time=   1.9s\n",
            "[CV] END regressor__colsample_bytree=0.8, regressor__learning_rate=0.05, regressor__max_depth=5, regressor__n_estimators=100, regressor__subsample=1.0; total time=   2.0s\n",
            "[CV] END regressor__colsample_bytree=0.8, regressor__learning_rate=0.05, regressor__max_depth=5, regressor__n_estimators=200, regressor__subsample=0.8; total time=   2.8s\n",
            "[CV] END regressor__colsample_bytree=0.8, regressor__learning_rate=0.05, regressor__max_depth=5, regressor__n_estimators=200, regressor__subsample=0.8; total time=   3.3s\n"
          ]
        },
        {
          "output_type": "stream",
          "name": "stderr",
          "text": [
            "/usr/local/lib/python3.11/dist-packages/sklearn/model_selection/_validation.py:960: UserWarning: Scoring failed. The score on this train-test partition for these parameters will be set to nan. Details: \n",
            "Traceback (most recent call last):\n",
            "  File \"/usr/local/lib/python3.11/dist-packages/sklearn/model_selection/_validation.py\", line 949, in _score\n",
            "    scores = scorer(estimator, X_test, y_test, **score_params)\n",
            "             ^^^^^^^^^^^^^^^^^^^^^^^^^^^^^^^^^^^^^^^^^^^^^^^^^\n",
            "  File \"/usr/local/lib/python3.11/dist-packages/sklearn/metrics/_scorer.py\", line 288, in __call__\n",
            "    return self._score(partial(_cached_call, None), estimator, X, y_true, **_kwargs)\n",
            "           ^^^^^^^^^^^^^^^^^^^^^^^^^^^^^^^^^^^^^^^^^^^^^^^^^^^^^^^^^^^^^^^^^^^^^^^^^\n",
            "  File \"/usr/local/lib/python3.11/dist-packages/sklearn/metrics/_scorer.py\", line 388, in _score\n",
            "    return self._sign * self._score_func(y_true, y_pred, **scoring_kwargs)\n",
            "                        ^^^^^^^^^^^^^^^^^^^^^^^^^^^^^^^^^^^^^^^^^^^^^^^^^^\n",
            "  File \"/usr/local/lib/python3.11/dist-packages/sklearn/utils/_param_validation.py\", line 216, in wrapper\n",
            "    return func(*args, **kwargs)\n",
            "           ^^^^^^^^^^^^^^^^^^^^^\n",
            "  File \"/usr/local/lib/python3.11/dist-packages/sklearn/metrics/_regression.py\", line 746, in mean_squared_log_error\n",
            "    raise ValueError(\n",
            "ValueError: Mean Squared Logarithmic Error cannot be used when targets contain values less than or equal to -1.\n",
            "\n",
            "  warnings.warn(\n"
          ]
        },
        {
          "output_type": "stream",
          "name": "stdout",
          "text": [
            "[CV] END regressor__colsample_bytree=0.8, regressor__learning_rate=0.05, regressor__max_depth=5, regressor__n_estimators=200, regressor__subsample=0.8; total time=   4.7s\n",
            "[CV] END regressor__colsample_bytree=0.8, regressor__learning_rate=0.05, regressor__max_depth=5, regressor__n_estimators=200, regressor__subsample=1.0; total time=   2.9s\n",
            "[CV] END regressor__colsample_bytree=0.8, regressor__learning_rate=0.05, regressor__max_depth=5, regressor__n_estimators=200, regressor__subsample=1.0; total time=   2.8s\n"
          ]
        },
        {
          "output_type": "stream",
          "name": "stderr",
          "text": [
            "/usr/local/lib/python3.11/dist-packages/sklearn/model_selection/_validation.py:960: UserWarning: Scoring failed. The score on this train-test partition for these parameters will be set to nan. Details: \n",
            "Traceback (most recent call last):\n",
            "  File \"/usr/local/lib/python3.11/dist-packages/sklearn/model_selection/_validation.py\", line 949, in _score\n",
            "    scores = scorer(estimator, X_test, y_test, **score_params)\n",
            "             ^^^^^^^^^^^^^^^^^^^^^^^^^^^^^^^^^^^^^^^^^^^^^^^^^\n",
            "  File \"/usr/local/lib/python3.11/dist-packages/sklearn/metrics/_scorer.py\", line 288, in __call__\n",
            "    return self._score(partial(_cached_call, None), estimator, X, y_true, **_kwargs)\n",
            "           ^^^^^^^^^^^^^^^^^^^^^^^^^^^^^^^^^^^^^^^^^^^^^^^^^^^^^^^^^^^^^^^^^^^^^^^^^\n",
            "  File \"/usr/local/lib/python3.11/dist-packages/sklearn/metrics/_scorer.py\", line 388, in _score\n",
            "    return self._sign * self._score_func(y_true, y_pred, **scoring_kwargs)\n",
            "                        ^^^^^^^^^^^^^^^^^^^^^^^^^^^^^^^^^^^^^^^^^^^^^^^^^^\n",
            "  File \"/usr/local/lib/python3.11/dist-packages/sklearn/utils/_param_validation.py\", line 216, in wrapper\n",
            "    return func(*args, **kwargs)\n",
            "           ^^^^^^^^^^^^^^^^^^^^^\n",
            "  File \"/usr/local/lib/python3.11/dist-packages/sklearn/metrics/_regression.py\", line 746, in mean_squared_log_error\n",
            "    raise ValueError(\n",
            "ValueError: Mean Squared Logarithmic Error cannot be used when targets contain values less than or equal to -1.\n",
            "\n",
            "  warnings.warn(\n"
          ]
        },
        {
          "output_type": "stream",
          "name": "stdout",
          "text": [
            "[CV] END regressor__colsample_bytree=0.8, regressor__learning_rate=0.05, regressor__max_depth=5, regressor__n_estimators=200, regressor__subsample=1.0; total time=   3.0s\n",
            "[CV] END regressor__colsample_bytree=0.8, regressor__learning_rate=0.05, regressor__max_depth=5, regressor__n_estimators=300, regressor__subsample=0.8; total time=   6.2s\n"
          ]
        },
        {
          "output_type": "stream",
          "name": "stderr",
          "text": [
            "/usr/local/lib/python3.11/dist-packages/sklearn/model_selection/_validation.py:960: UserWarning: Scoring failed. The score on this train-test partition for these parameters will be set to nan. Details: \n",
            "Traceback (most recent call last):\n",
            "  File \"/usr/local/lib/python3.11/dist-packages/sklearn/model_selection/_validation.py\", line 949, in _score\n",
            "    scores = scorer(estimator, X_test, y_test, **score_params)\n",
            "             ^^^^^^^^^^^^^^^^^^^^^^^^^^^^^^^^^^^^^^^^^^^^^^^^^\n",
            "  File \"/usr/local/lib/python3.11/dist-packages/sklearn/metrics/_scorer.py\", line 288, in __call__\n",
            "    return self._score(partial(_cached_call, None), estimator, X, y_true, **_kwargs)\n",
            "           ^^^^^^^^^^^^^^^^^^^^^^^^^^^^^^^^^^^^^^^^^^^^^^^^^^^^^^^^^^^^^^^^^^^^^^^^^\n",
            "  File \"/usr/local/lib/python3.11/dist-packages/sklearn/metrics/_scorer.py\", line 388, in _score\n",
            "    return self._sign * self._score_func(y_true, y_pred, **scoring_kwargs)\n",
            "                        ^^^^^^^^^^^^^^^^^^^^^^^^^^^^^^^^^^^^^^^^^^^^^^^^^^\n",
            "  File \"/usr/local/lib/python3.11/dist-packages/sklearn/utils/_param_validation.py\", line 216, in wrapper\n",
            "    return func(*args, **kwargs)\n",
            "           ^^^^^^^^^^^^^^^^^^^^^\n",
            "  File \"/usr/local/lib/python3.11/dist-packages/sklearn/metrics/_regression.py\", line 746, in mean_squared_log_error\n",
            "    raise ValueError(\n",
            "ValueError: Mean Squared Logarithmic Error cannot be used when targets contain values less than or equal to -1.\n",
            "\n",
            "  warnings.warn(\n"
          ]
        },
        {
          "output_type": "stream",
          "name": "stdout",
          "text": [
            "[CV] END regressor__colsample_bytree=0.8, regressor__learning_rate=0.05, regressor__max_depth=5, regressor__n_estimators=300, regressor__subsample=0.8; total time=   3.8s\n"
          ]
        },
        {
          "output_type": "stream",
          "name": "stderr",
          "text": [
            "/usr/local/lib/python3.11/dist-packages/sklearn/model_selection/_validation.py:960: UserWarning: Scoring failed. The score on this train-test partition for these parameters will be set to nan. Details: \n",
            "Traceback (most recent call last):\n",
            "  File \"/usr/local/lib/python3.11/dist-packages/sklearn/model_selection/_validation.py\", line 949, in _score\n",
            "    scores = scorer(estimator, X_test, y_test, **score_params)\n",
            "             ^^^^^^^^^^^^^^^^^^^^^^^^^^^^^^^^^^^^^^^^^^^^^^^^^\n",
            "  File \"/usr/local/lib/python3.11/dist-packages/sklearn/metrics/_scorer.py\", line 288, in __call__\n",
            "    return self._score(partial(_cached_call, None), estimator, X, y_true, **_kwargs)\n",
            "           ^^^^^^^^^^^^^^^^^^^^^^^^^^^^^^^^^^^^^^^^^^^^^^^^^^^^^^^^^^^^^^^^^^^^^^^^^\n",
            "  File \"/usr/local/lib/python3.11/dist-packages/sklearn/metrics/_scorer.py\", line 388, in _score\n",
            "    return self._sign * self._score_func(y_true, y_pred, **scoring_kwargs)\n",
            "                        ^^^^^^^^^^^^^^^^^^^^^^^^^^^^^^^^^^^^^^^^^^^^^^^^^^\n",
            "  File \"/usr/local/lib/python3.11/dist-packages/sklearn/utils/_param_validation.py\", line 216, in wrapper\n",
            "    return func(*args, **kwargs)\n",
            "           ^^^^^^^^^^^^^^^^^^^^^\n",
            "  File \"/usr/local/lib/python3.11/dist-packages/sklearn/metrics/_regression.py\", line 746, in mean_squared_log_error\n",
            "    raise ValueError(\n",
            "ValueError: Mean Squared Logarithmic Error cannot be used when targets contain values less than or equal to -1.\n",
            "\n",
            "  warnings.warn(\n"
          ]
        },
        {
          "output_type": "stream",
          "name": "stdout",
          "text": [
            "[CV] END regressor__colsample_bytree=0.8, regressor__learning_rate=0.05, regressor__max_depth=5, regressor__n_estimators=300, regressor__subsample=0.8; total time=   3.9s\n",
            "[CV] END regressor__colsample_bytree=0.8, regressor__learning_rate=0.05, regressor__max_depth=5, regressor__n_estimators=300, regressor__subsample=1.0; total time=   6.3s\n"
          ]
        },
        {
          "output_type": "stream",
          "name": "stderr",
          "text": [
            "/usr/local/lib/python3.11/dist-packages/sklearn/model_selection/_validation.py:960: UserWarning: Scoring failed. The score on this train-test partition for these parameters will be set to nan. Details: \n",
            "Traceback (most recent call last):\n",
            "  File \"/usr/local/lib/python3.11/dist-packages/sklearn/model_selection/_validation.py\", line 949, in _score\n",
            "    scores = scorer(estimator, X_test, y_test, **score_params)\n",
            "             ^^^^^^^^^^^^^^^^^^^^^^^^^^^^^^^^^^^^^^^^^^^^^^^^^\n",
            "  File \"/usr/local/lib/python3.11/dist-packages/sklearn/metrics/_scorer.py\", line 288, in __call__\n",
            "    return self._score(partial(_cached_call, None), estimator, X, y_true, **_kwargs)\n",
            "           ^^^^^^^^^^^^^^^^^^^^^^^^^^^^^^^^^^^^^^^^^^^^^^^^^^^^^^^^^^^^^^^^^^^^^^^^^\n",
            "  File \"/usr/local/lib/python3.11/dist-packages/sklearn/metrics/_scorer.py\", line 388, in _score\n",
            "    return self._sign * self._score_func(y_true, y_pred, **scoring_kwargs)\n",
            "                        ^^^^^^^^^^^^^^^^^^^^^^^^^^^^^^^^^^^^^^^^^^^^^^^^^^\n",
            "  File \"/usr/local/lib/python3.11/dist-packages/sklearn/utils/_param_validation.py\", line 216, in wrapper\n",
            "    return func(*args, **kwargs)\n",
            "           ^^^^^^^^^^^^^^^^^^^^^\n",
            "  File \"/usr/local/lib/python3.11/dist-packages/sklearn/metrics/_regression.py\", line 746, in mean_squared_log_error\n",
            "    raise ValueError(\n",
            "ValueError: Mean Squared Logarithmic Error cannot be used when targets contain values less than or equal to -1.\n",
            "\n",
            "  warnings.warn(\n"
          ]
        },
        {
          "output_type": "stream",
          "name": "stdout",
          "text": [
            "[CV] END regressor__colsample_bytree=0.8, regressor__learning_rate=0.05, regressor__max_depth=5, regressor__n_estimators=300, regressor__subsample=1.0; total time=   3.7s\n"
          ]
        },
        {
          "output_type": "stream",
          "name": "stderr",
          "text": [
            "/usr/local/lib/python3.11/dist-packages/sklearn/model_selection/_validation.py:960: UserWarning: Scoring failed. The score on this train-test partition for these parameters will be set to nan. Details: \n",
            "Traceback (most recent call last):\n",
            "  File \"/usr/local/lib/python3.11/dist-packages/sklearn/model_selection/_validation.py\", line 949, in _score\n",
            "    scores = scorer(estimator, X_test, y_test, **score_params)\n",
            "             ^^^^^^^^^^^^^^^^^^^^^^^^^^^^^^^^^^^^^^^^^^^^^^^^^\n",
            "  File \"/usr/local/lib/python3.11/dist-packages/sklearn/metrics/_scorer.py\", line 288, in __call__\n",
            "    return self._score(partial(_cached_call, None), estimator, X, y_true, **_kwargs)\n",
            "           ^^^^^^^^^^^^^^^^^^^^^^^^^^^^^^^^^^^^^^^^^^^^^^^^^^^^^^^^^^^^^^^^^^^^^^^^^\n",
            "  File \"/usr/local/lib/python3.11/dist-packages/sklearn/metrics/_scorer.py\", line 388, in _score\n",
            "    return self._sign * self._score_func(y_true, y_pred, **scoring_kwargs)\n",
            "                        ^^^^^^^^^^^^^^^^^^^^^^^^^^^^^^^^^^^^^^^^^^^^^^^^^^\n",
            "  File \"/usr/local/lib/python3.11/dist-packages/sklearn/utils/_param_validation.py\", line 216, in wrapper\n",
            "    return func(*args, **kwargs)\n",
            "           ^^^^^^^^^^^^^^^^^^^^^\n",
            "  File \"/usr/local/lib/python3.11/dist-packages/sklearn/metrics/_regression.py\", line 746, in mean_squared_log_error\n",
            "    raise ValueError(\n",
            "ValueError: Mean Squared Logarithmic Error cannot be used when targets contain values less than or equal to -1.\n",
            "\n",
            "  warnings.warn(\n"
          ]
        },
        {
          "output_type": "stream",
          "name": "stdout",
          "text": [
            "[CV] END regressor__colsample_bytree=0.8, regressor__learning_rate=0.05, regressor__max_depth=5, regressor__n_estimators=300, regressor__subsample=1.0; total time=   3.6s\n",
            "[CV] END regressor__colsample_bytree=0.8, regressor__learning_rate=0.05, regressor__max_depth=7, regressor__n_estimators=100, regressor__subsample=0.8; total time=   5.3s\n",
            "[CV] END regressor__colsample_bytree=0.8, regressor__learning_rate=0.05, regressor__max_depth=7, regressor__n_estimators=100, regressor__subsample=0.8; total time=   2.4s\n",
            "[CV] END regressor__colsample_bytree=0.8, regressor__learning_rate=0.05, regressor__max_depth=7, regressor__n_estimators=100, regressor__subsample=0.8; total time=   2.4s\n",
            "[CV] END regressor__colsample_bytree=0.8, regressor__learning_rate=0.05, regressor__max_depth=7, regressor__n_estimators=100, regressor__subsample=1.0; total time=   2.6s\n",
            "[CV] END regressor__colsample_bytree=0.8, regressor__learning_rate=0.05, regressor__max_depth=7, regressor__n_estimators=100, regressor__subsample=1.0; total time=   5.3s\n",
            "[CV] END regressor__colsample_bytree=0.8, regressor__learning_rate=0.05, regressor__max_depth=7, regressor__n_estimators=100, regressor__subsample=1.0; total time=   2.3s\n",
            "[CV] END regressor__colsample_bytree=0.8, regressor__learning_rate=0.05, regressor__max_depth=7, regressor__n_estimators=200, regressor__subsample=0.8; total time=   3.8s\n",
            "[CV] END regressor__colsample_bytree=0.8, regressor__learning_rate=0.05, regressor__max_depth=7, regressor__n_estimators=200, regressor__subsample=0.8; total time=   3.8s\n",
            "[CV] END regressor__colsample_bytree=0.8, regressor__learning_rate=0.05, regressor__max_depth=7, regressor__n_estimators=200, regressor__subsample=0.8; total time=   6.5s\n",
            "[CV] END regressor__colsample_bytree=0.8, regressor__learning_rate=0.05, regressor__max_depth=7, regressor__n_estimators=200, regressor__subsample=1.0; total time=   3.8s\n",
            "[CV] END regressor__colsample_bytree=0.8, regressor__learning_rate=0.05, regressor__max_depth=7, regressor__n_estimators=200, regressor__subsample=1.0; total time=   3.7s\n",
            "[CV] END regressor__colsample_bytree=0.8, regressor__learning_rate=0.05, regressor__max_depth=7, regressor__n_estimators=200, regressor__subsample=1.0; total time=   6.5s\n",
            "[CV] END regressor__colsample_bytree=0.8, regressor__learning_rate=0.05, regressor__max_depth=7, regressor__n_estimators=300, regressor__subsample=0.8; total time=   5.2s\n",
            "[CV] END regressor__colsample_bytree=0.8, regressor__learning_rate=0.05, regressor__max_depth=7, regressor__n_estimators=300, regressor__subsample=0.8; total time=   8.2s\n",
            "[CV] END regressor__colsample_bytree=0.8, regressor__learning_rate=0.05, regressor__max_depth=7, regressor__n_estimators=300, regressor__subsample=0.8; total time=   5.1s\n",
            "[CV] END regressor__colsample_bytree=0.8, regressor__learning_rate=0.05, regressor__max_depth=7, regressor__n_estimators=300, regressor__subsample=1.0; total time=   7.0s\n",
            "[CV] END regressor__colsample_bytree=0.8, regressor__learning_rate=0.05, regressor__max_depth=7, regressor__n_estimators=300, regressor__subsample=1.0; total time=   5.2s\n"
          ]
        },
        {
          "output_type": "stream",
          "name": "stderr",
          "text": [
            "/usr/local/lib/python3.11/dist-packages/sklearn/model_selection/_validation.py:960: UserWarning: Scoring failed. The score on this train-test partition for these parameters will be set to nan. Details: \n",
            "Traceback (most recent call last):\n",
            "  File \"/usr/local/lib/python3.11/dist-packages/sklearn/model_selection/_validation.py\", line 949, in _score\n",
            "    scores = scorer(estimator, X_test, y_test, **score_params)\n",
            "             ^^^^^^^^^^^^^^^^^^^^^^^^^^^^^^^^^^^^^^^^^^^^^^^^^\n",
            "  File \"/usr/local/lib/python3.11/dist-packages/sklearn/metrics/_scorer.py\", line 288, in __call__\n",
            "    return self._score(partial(_cached_call, None), estimator, X, y_true, **_kwargs)\n",
            "           ^^^^^^^^^^^^^^^^^^^^^^^^^^^^^^^^^^^^^^^^^^^^^^^^^^^^^^^^^^^^^^^^^^^^^^^^^\n",
            "  File \"/usr/local/lib/python3.11/dist-packages/sklearn/metrics/_scorer.py\", line 388, in _score\n",
            "    return self._sign * self._score_func(y_true, y_pred, **scoring_kwargs)\n",
            "                        ^^^^^^^^^^^^^^^^^^^^^^^^^^^^^^^^^^^^^^^^^^^^^^^^^^\n",
            "  File \"/usr/local/lib/python3.11/dist-packages/sklearn/utils/_param_validation.py\", line 216, in wrapper\n",
            "    return func(*args, **kwargs)\n",
            "           ^^^^^^^^^^^^^^^^^^^^^\n",
            "  File \"/usr/local/lib/python3.11/dist-packages/sklearn/metrics/_regression.py\", line 746, in mean_squared_log_error\n",
            "    raise ValueError(\n",
            "ValueError: Mean Squared Logarithmic Error cannot be used when targets contain values less than or equal to -1.\n",
            "\n",
            "  warnings.warn(\n"
          ]
        },
        {
          "output_type": "stream",
          "name": "stdout",
          "text": [
            "[CV] END regressor__colsample_bytree=0.8, regressor__learning_rate=0.05, regressor__max_depth=7, regressor__n_estimators=300, regressor__subsample=1.0; total time=   4.8s\n"
          ]
        },
        {
          "output_type": "stream",
          "name": "stderr",
          "text": [
            "/usr/local/lib/python3.11/dist-packages/sklearn/model_selection/_validation.py:960: UserWarning: Scoring failed. The score on this train-test partition for these parameters will be set to nan. Details: \n",
            "Traceback (most recent call last):\n",
            "  File \"/usr/local/lib/python3.11/dist-packages/sklearn/model_selection/_validation.py\", line 949, in _score\n",
            "    scores = scorer(estimator, X_test, y_test, **score_params)\n",
            "             ^^^^^^^^^^^^^^^^^^^^^^^^^^^^^^^^^^^^^^^^^^^^^^^^^\n",
            "  File \"/usr/local/lib/python3.11/dist-packages/sklearn/metrics/_scorer.py\", line 288, in __call__\n",
            "    return self._score(partial(_cached_call, None), estimator, X, y_true, **_kwargs)\n",
            "           ^^^^^^^^^^^^^^^^^^^^^^^^^^^^^^^^^^^^^^^^^^^^^^^^^^^^^^^^^^^^^^^^^^^^^^^^^\n",
            "  File \"/usr/local/lib/python3.11/dist-packages/sklearn/metrics/_scorer.py\", line 388, in _score\n",
            "    return self._sign * self._score_func(y_true, y_pred, **scoring_kwargs)\n",
            "                        ^^^^^^^^^^^^^^^^^^^^^^^^^^^^^^^^^^^^^^^^^^^^^^^^^^\n",
            "  File \"/usr/local/lib/python3.11/dist-packages/sklearn/utils/_param_validation.py\", line 216, in wrapper\n",
            "    return func(*args, **kwargs)\n",
            "           ^^^^^^^^^^^^^^^^^^^^^\n",
            "  File \"/usr/local/lib/python3.11/dist-packages/sklearn/metrics/_regression.py\", line 746, in mean_squared_log_error\n",
            "    raise ValueError(\n",
            "ValueError: Mean Squared Logarithmic Error cannot be used when targets contain values less than or equal to -1.\n",
            "\n",
            "  warnings.warn(\n"
          ]
        },
        {
          "output_type": "stream",
          "name": "stdout",
          "text": [
            "[CV] END regressor__colsample_bytree=0.8, regressor__learning_rate=0.1, regressor__max_depth=3, regressor__n_estimators=100, regressor__subsample=0.8; total time=   3.4s\n"
          ]
        },
        {
          "output_type": "stream",
          "name": "stderr",
          "text": [
            "/usr/local/lib/python3.11/dist-packages/sklearn/model_selection/_validation.py:960: UserWarning: Scoring failed. The score on this train-test partition for these parameters will be set to nan. Details: \n",
            "Traceback (most recent call last):\n",
            "  File \"/usr/local/lib/python3.11/dist-packages/sklearn/model_selection/_validation.py\", line 949, in _score\n",
            "    scores = scorer(estimator, X_test, y_test, **score_params)\n",
            "             ^^^^^^^^^^^^^^^^^^^^^^^^^^^^^^^^^^^^^^^^^^^^^^^^^\n",
            "  File \"/usr/local/lib/python3.11/dist-packages/sklearn/metrics/_scorer.py\", line 288, in __call__\n",
            "    return self._score(partial(_cached_call, None), estimator, X, y_true, **_kwargs)\n",
            "           ^^^^^^^^^^^^^^^^^^^^^^^^^^^^^^^^^^^^^^^^^^^^^^^^^^^^^^^^^^^^^^^^^^^^^^^^^\n",
            "  File \"/usr/local/lib/python3.11/dist-packages/sklearn/metrics/_scorer.py\", line 388, in _score\n",
            "    return self._sign * self._score_func(y_true, y_pred, **scoring_kwargs)\n",
            "                        ^^^^^^^^^^^^^^^^^^^^^^^^^^^^^^^^^^^^^^^^^^^^^^^^^^\n",
            "  File \"/usr/local/lib/python3.11/dist-packages/sklearn/utils/_param_validation.py\", line 216, in wrapper\n",
            "    return func(*args, **kwargs)\n",
            "           ^^^^^^^^^^^^^^^^^^^^^\n",
            "  File \"/usr/local/lib/python3.11/dist-packages/sklearn/metrics/_regression.py\", line 746, in mean_squared_log_error\n",
            "    raise ValueError(\n",
            "ValueError: Mean Squared Logarithmic Error cannot be used when targets contain values less than or equal to -1.\n",
            "\n",
            "  warnings.warn(\n"
          ]
        },
        {
          "output_type": "stream",
          "name": "stdout",
          "text": [
            "[CV] END regressor__colsample_bytree=0.8, regressor__learning_rate=0.1, regressor__max_depth=3, regressor__n_estimators=100, regressor__subsample=0.8; total time=   2.4s\n"
          ]
        },
        {
          "output_type": "stream",
          "name": "stderr",
          "text": [
            "/usr/local/lib/python3.11/dist-packages/sklearn/model_selection/_validation.py:960: UserWarning: Scoring failed. The score on this train-test partition for these parameters will be set to nan. Details: \n",
            "Traceback (most recent call last):\n",
            "  File \"/usr/local/lib/python3.11/dist-packages/sklearn/model_selection/_validation.py\", line 949, in _score\n",
            "    scores = scorer(estimator, X_test, y_test, **score_params)\n",
            "             ^^^^^^^^^^^^^^^^^^^^^^^^^^^^^^^^^^^^^^^^^^^^^^^^^\n",
            "  File \"/usr/local/lib/python3.11/dist-packages/sklearn/metrics/_scorer.py\", line 288, in __call__\n",
            "    return self._score(partial(_cached_call, None), estimator, X, y_true, **_kwargs)\n",
            "           ^^^^^^^^^^^^^^^^^^^^^^^^^^^^^^^^^^^^^^^^^^^^^^^^^^^^^^^^^^^^^^^^^^^^^^^^^\n",
            "  File \"/usr/local/lib/python3.11/dist-packages/sklearn/metrics/_scorer.py\", line 388, in _score\n",
            "    return self._sign * self._score_func(y_true, y_pred, **scoring_kwargs)\n",
            "                        ^^^^^^^^^^^^^^^^^^^^^^^^^^^^^^^^^^^^^^^^^^^^^^^^^^\n",
            "  File \"/usr/local/lib/python3.11/dist-packages/sklearn/utils/_param_validation.py\", line 216, in wrapper\n",
            "    return func(*args, **kwargs)\n",
            "           ^^^^^^^^^^^^^^^^^^^^^\n",
            "  File \"/usr/local/lib/python3.11/dist-packages/sklearn/metrics/_regression.py\", line 746, in mean_squared_log_error\n",
            "    raise ValueError(\n",
            "ValueError: Mean Squared Logarithmic Error cannot be used when targets contain values less than or equal to -1.\n",
            "\n",
            "  warnings.warn(\n"
          ]
        },
        {
          "output_type": "stream",
          "name": "stdout",
          "text": [
            "[CV] END regressor__colsample_bytree=0.8, regressor__learning_rate=0.1, regressor__max_depth=3, regressor__n_estimators=100, regressor__subsample=0.8; total time=   1.7s\n",
            "[CV] END regressor__colsample_bytree=0.8, regressor__learning_rate=0.1, regressor__max_depth=3, regressor__n_estimators=100, regressor__subsample=1.0; total time=   1.7s\n"
          ]
        },
        {
          "output_type": "stream",
          "name": "stderr",
          "text": [
            "/usr/local/lib/python3.11/dist-packages/sklearn/model_selection/_validation.py:960: UserWarning: Scoring failed. The score on this train-test partition for these parameters will be set to nan. Details: \n",
            "Traceback (most recent call last):\n",
            "  File \"/usr/local/lib/python3.11/dist-packages/sklearn/model_selection/_validation.py\", line 949, in _score\n",
            "    scores = scorer(estimator, X_test, y_test, **score_params)\n",
            "             ^^^^^^^^^^^^^^^^^^^^^^^^^^^^^^^^^^^^^^^^^^^^^^^^^\n",
            "  File \"/usr/local/lib/python3.11/dist-packages/sklearn/metrics/_scorer.py\", line 288, in __call__\n",
            "    return self._score(partial(_cached_call, None), estimator, X, y_true, **_kwargs)\n",
            "           ^^^^^^^^^^^^^^^^^^^^^^^^^^^^^^^^^^^^^^^^^^^^^^^^^^^^^^^^^^^^^^^^^^^^^^^^^\n",
            "  File \"/usr/local/lib/python3.11/dist-packages/sklearn/metrics/_scorer.py\", line 388, in _score\n",
            "    return self._sign * self._score_func(y_true, y_pred, **scoring_kwargs)\n",
            "                        ^^^^^^^^^^^^^^^^^^^^^^^^^^^^^^^^^^^^^^^^^^^^^^^^^^\n",
            "  File \"/usr/local/lib/python3.11/dist-packages/sklearn/utils/_param_validation.py\", line 216, in wrapper\n",
            "    return func(*args, **kwargs)\n",
            "           ^^^^^^^^^^^^^^^^^^^^^\n",
            "  File \"/usr/local/lib/python3.11/dist-packages/sklearn/metrics/_regression.py\", line 746, in mean_squared_log_error\n",
            "    raise ValueError(\n",
            "ValueError: Mean Squared Logarithmic Error cannot be used when targets contain values less than or equal to -1.\n",
            "\n",
            "  warnings.warn(\n"
          ]
        },
        {
          "output_type": "stream",
          "name": "stdout",
          "text": [
            "[CV] END regressor__colsample_bytree=0.8, regressor__learning_rate=0.1, regressor__max_depth=3, regressor__n_estimators=100, regressor__subsample=1.0; total time=   1.7s\n"
          ]
        },
        {
          "output_type": "stream",
          "name": "stderr",
          "text": [
            "/usr/local/lib/python3.11/dist-packages/sklearn/model_selection/_validation.py:960: UserWarning: Scoring failed. The score on this train-test partition for these parameters will be set to nan. Details: \n",
            "Traceback (most recent call last):\n",
            "  File \"/usr/local/lib/python3.11/dist-packages/sklearn/model_selection/_validation.py\", line 949, in _score\n",
            "    scores = scorer(estimator, X_test, y_test, **score_params)\n",
            "             ^^^^^^^^^^^^^^^^^^^^^^^^^^^^^^^^^^^^^^^^^^^^^^^^^\n",
            "  File \"/usr/local/lib/python3.11/dist-packages/sklearn/metrics/_scorer.py\", line 288, in __call__\n",
            "    return self._score(partial(_cached_call, None), estimator, X, y_true, **_kwargs)\n",
            "           ^^^^^^^^^^^^^^^^^^^^^^^^^^^^^^^^^^^^^^^^^^^^^^^^^^^^^^^^^^^^^^^^^^^^^^^^^\n",
            "  File \"/usr/local/lib/python3.11/dist-packages/sklearn/metrics/_scorer.py\", line 388, in _score\n",
            "    return self._sign * self._score_func(y_true, y_pred, **scoring_kwargs)\n",
            "                        ^^^^^^^^^^^^^^^^^^^^^^^^^^^^^^^^^^^^^^^^^^^^^^^^^^\n",
            "  File \"/usr/local/lib/python3.11/dist-packages/sklearn/utils/_param_validation.py\", line 216, in wrapper\n",
            "    return func(*args, **kwargs)\n",
            "           ^^^^^^^^^^^^^^^^^^^^^\n",
            "  File \"/usr/local/lib/python3.11/dist-packages/sklearn/metrics/_regression.py\", line 746, in mean_squared_log_error\n",
            "    raise ValueError(\n",
            "ValueError: Mean Squared Logarithmic Error cannot be used when targets contain values less than or equal to -1.\n",
            "\n",
            "  warnings.warn(\n"
          ]
        },
        {
          "output_type": "stream",
          "name": "stdout",
          "text": [
            "[CV] END regressor__colsample_bytree=0.8, regressor__learning_rate=0.1, regressor__max_depth=3, regressor__n_estimators=100, regressor__subsample=1.0; total time=   1.7s\n"
          ]
        },
        {
          "output_type": "stream",
          "name": "stderr",
          "text": [
            "/usr/local/lib/python3.11/dist-packages/sklearn/model_selection/_validation.py:960: UserWarning: Scoring failed. The score on this train-test partition for these parameters will be set to nan. Details: \n",
            "Traceback (most recent call last):\n",
            "  File \"/usr/local/lib/python3.11/dist-packages/sklearn/model_selection/_validation.py\", line 949, in _score\n",
            "    scores = scorer(estimator, X_test, y_test, **score_params)\n",
            "             ^^^^^^^^^^^^^^^^^^^^^^^^^^^^^^^^^^^^^^^^^^^^^^^^^\n",
            "  File \"/usr/local/lib/python3.11/dist-packages/sklearn/metrics/_scorer.py\", line 288, in __call__\n",
            "    return self._score(partial(_cached_call, None), estimator, X, y_true, **_kwargs)\n",
            "           ^^^^^^^^^^^^^^^^^^^^^^^^^^^^^^^^^^^^^^^^^^^^^^^^^^^^^^^^^^^^^^^^^^^^^^^^^\n",
            "  File \"/usr/local/lib/python3.11/dist-packages/sklearn/metrics/_scorer.py\", line 388, in _score\n",
            "    return self._sign * self._score_func(y_true, y_pred, **scoring_kwargs)\n",
            "                        ^^^^^^^^^^^^^^^^^^^^^^^^^^^^^^^^^^^^^^^^^^^^^^^^^^\n",
            "  File \"/usr/local/lib/python3.11/dist-packages/sklearn/utils/_param_validation.py\", line 216, in wrapper\n",
            "    return func(*args, **kwargs)\n",
            "           ^^^^^^^^^^^^^^^^^^^^^\n",
            "  File \"/usr/local/lib/python3.11/dist-packages/sklearn/metrics/_regression.py\", line 746, in mean_squared_log_error\n",
            "    raise ValueError(\n",
            "ValueError: Mean Squared Logarithmic Error cannot be used when targets contain values less than or equal to -1.\n",
            "\n",
            "  warnings.warn(\n"
          ]
        },
        {
          "output_type": "stream",
          "name": "stdout",
          "text": [
            "[CV] END regressor__colsample_bytree=0.8, regressor__learning_rate=0.1, regressor__max_depth=3, regressor__n_estimators=200, regressor__subsample=0.8; total time=   2.6s\n"
          ]
        },
        {
          "output_type": "stream",
          "name": "stderr",
          "text": [
            "/usr/local/lib/python3.11/dist-packages/sklearn/model_selection/_validation.py:960: UserWarning: Scoring failed. The score on this train-test partition for these parameters will be set to nan. Details: \n",
            "Traceback (most recent call last):\n",
            "  File \"/usr/local/lib/python3.11/dist-packages/sklearn/model_selection/_validation.py\", line 949, in _score\n",
            "    scores = scorer(estimator, X_test, y_test, **score_params)\n",
            "             ^^^^^^^^^^^^^^^^^^^^^^^^^^^^^^^^^^^^^^^^^^^^^^^^^\n",
            "  File \"/usr/local/lib/python3.11/dist-packages/sklearn/metrics/_scorer.py\", line 288, in __call__\n",
            "    return self._score(partial(_cached_call, None), estimator, X, y_true, **_kwargs)\n",
            "           ^^^^^^^^^^^^^^^^^^^^^^^^^^^^^^^^^^^^^^^^^^^^^^^^^^^^^^^^^^^^^^^^^^^^^^^^^\n",
            "  File \"/usr/local/lib/python3.11/dist-packages/sklearn/metrics/_scorer.py\", line 388, in _score\n",
            "    return self._sign * self._score_func(y_true, y_pred, **scoring_kwargs)\n",
            "                        ^^^^^^^^^^^^^^^^^^^^^^^^^^^^^^^^^^^^^^^^^^^^^^^^^^\n",
            "  File \"/usr/local/lib/python3.11/dist-packages/sklearn/utils/_param_validation.py\", line 216, in wrapper\n",
            "    return func(*args, **kwargs)\n",
            "           ^^^^^^^^^^^^^^^^^^^^^\n",
            "  File \"/usr/local/lib/python3.11/dist-packages/sklearn/metrics/_regression.py\", line 746, in mean_squared_log_error\n",
            "    raise ValueError(\n",
            "ValueError: Mean Squared Logarithmic Error cannot be used when targets contain values less than or equal to -1.\n",
            "\n",
            "  warnings.warn(\n"
          ]
        },
        {
          "output_type": "stream",
          "name": "stdout",
          "text": [
            "[CV] END regressor__colsample_bytree=0.8, regressor__learning_rate=0.1, regressor__max_depth=3, regressor__n_estimators=200, regressor__subsample=0.8; total time=   4.8s\n"
          ]
        },
        {
          "output_type": "stream",
          "name": "stderr",
          "text": [
            "/usr/local/lib/python3.11/dist-packages/sklearn/model_selection/_validation.py:960: UserWarning: Scoring failed. The score on this train-test partition for these parameters will be set to nan. Details: \n",
            "Traceback (most recent call last):\n",
            "  File \"/usr/local/lib/python3.11/dist-packages/sklearn/model_selection/_validation.py\", line 949, in _score\n",
            "    scores = scorer(estimator, X_test, y_test, **score_params)\n",
            "             ^^^^^^^^^^^^^^^^^^^^^^^^^^^^^^^^^^^^^^^^^^^^^^^^^\n",
            "  File \"/usr/local/lib/python3.11/dist-packages/sklearn/metrics/_scorer.py\", line 288, in __call__\n",
            "    return self._score(partial(_cached_call, None), estimator, X, y_true, **_kwargs)\n",
            "           ^^^^^^^^^^^^^^^^^^^^^^^^^^^^^^^^^^^^^^^^^^^^^^^^^^^^^^^^^^^^^^^^^^^^^^^^^\n",
            "  File \"/usr/local/lib/python3.11/dist-packages/sklearn/metrics/_scorer.py\", line 388, in _score\n",
            "    return self._sign * self._score_func(y_true, y_pred, **scoring_kwargs)\n",
            "                        ^^^^^^^^^^^^^^^^^^^^^^^^^^^^^^^^^^^^^^^^^^^^^^^^^^\n",
            "  File \"/usr/local/lib/python3.11/dist-packages/sklearn/utils/_param_validation.py\", line 216, in wrapper\n",
            "    return func(*args, **kwargs)\n",
            "           ^^^^^^^^^^^^^^^^^^^^^\n",
            "  File \"/usr/local/lib/python3.11/dist-packages/sklearn/metrics/_regression.py\", line 746, in mean_squared_log_error\n",
            "    raise ValueError(\n",
            "ValueError: Mean Squared Logarithmic Error cannot be used when targets contain values less than or equal to -1.\n",
            "\n",
            "  warnings.warn(\n"
          ]
        },
        {
          "output_type": "stream",
          "name": "stdout",
          "text": [
            "[CV] END regressor__colsample_bytree=0.8, regressor__learning_rate=0.1, regressor__max_depth=3, regressor__n_estimators=200, regressor__subsample=0.8; total time=   2.3s\n"
          ]
        },
        {
          "output_type": "stream",
          "name": "stderr",
          "text": [
            "/usr/local/lib/python3.11/dist-packages/sklearn/model_selection/_validation.py:960: UserWarning: Scoring failed. The score on this train-test partition for these parameters will be set to nan. Details: \n",
            "Traceback (most recent call last):\n",
            "  File \"/usr/local/lib/python3.11/dist-packages/sklearn/model_selection/_validation.py\", line 949, in _score\n",
            "    scores = scorer(estimator, X_test, y_test, **score_params)\n",
            "             ^^^^^^^^^^^^^^^^^^^^^^^^^^^^^^^^^^^^^^^^^^^^^^^^^\n",
            "  File \"/usr/local/lib/python3.11/dist-packages/sklearn/metrics/_scorer.py\", line 288, in __call__\n",
            "    return self._score(partial(_cached_call, None), estimator, X, y_true, **_kwargs)\n",
            "           ^^^^^^^^^^^^^^^^^^^^^^^^^^^^^^^^^^^^^^^^^^^^^^^^^^^^^^^^^^^^^^^^^^^^^^^^^\n",
            "  File \"/usr/local/lib/python3.11/dist-packages/sklearn/metrics/_scorer.py\", line 388, in _score\n",
            "    return self._sign * self._score_func(y_true, y_pred, **scoring_kwargs)\n",
            "                        ^^^^^^^^^^^^^^^^^^^^^^^^^^^^^^^^^^^^^^^^^^^^^^^^^^\n",
            "  File \"/usr/local/lib/python3.11/dist-packages/sklearn/utils/_param_validation.py\", line 216, in wrapper\n",
            "    return func(*args, **kwargs)\n",
            "           ^^^^^^^^^^^^^^^^^^^^^\n",
            "  File \"/usr/local/lib/python3.11/dist-packages/sklearn/metrics/_regression.py\", line 746, in mean_squared_log_error\n",
            "    raise ValueError(\n",
            "ValueError: Mean Squared Logarithmic Error cannot be used when targets contain values less than or equal to -1.\n",
            "\n",
            "  warnings.warn(\n"
          ]
        },
        {
          "output_type": "stream",
          "name": "stdout",
          "text": [
            "[CV] END regressor__colsample_bytree=0.8, regressor__learning_rate=0.1, regressor__max_depth=3, regressor__n_estimators=200, regressor__subsample=1.0; total time=   2.3s\n"
          ]
        },
        {
          "output_type": "stream",
          "name": "stderr",
          "text": [
            "/usr/local/lib/python3.11/dist-packages/sklearn/model_selection/_validation.py:960: UserWarning: Scoring failed. The score on this train-test partition for these parameters will be set to nan. Details: \n",
            "Traceback (most recent call last):\n",
            "  File \"/usr/local/lib/python3.11/dist-packages/sklearn/model_selection/_validation.py\", line 949, in _score\n",
            "    scores = scorer(estimator, X_test, y_test, **score_params)\n",
            "             ^^^^^^^^^^^^^^^^^^^^^^^^^^^^^^^^^^^^^^^^^^^^^^^^^\n",
            "  File \"/usr/local/lib/python3.11/dist-packages/sklearn/metrics/_scorer.py\", line 288, in __call__\n",
            "    return self._score(partial(_cached_call, None), estimator, X, y_true, **_kwargs)\n",
            "           ^^^^^^^^^^^^^^^^^^^^^^^^^^^^^^^^^^^^^^^^^^^^^^^^^^^^^^^^^^^^^^^^^^^^^^^^^\n",
            "  File \"/usr/local/lib/python3.11/dist-packages/sklearn/metrics/_scorer.py\", line 388, in _score\n",
            "    return self._sign * self._score_func(y_true, y_pred, **scoring_kwargs)\n",
            "                        ^^^^^^^^^^^^^^^^^^^^^^^^^^^^^^^^^^^^^^^^^^^^^^^^^^\n",
            "  File \"/usr/local/lib/python3.11/dist-packages/sklearn/utils/_param_validation.py\", line 216, in wrapper\n",
            "    return func(*args, **kwargs)\n",
            "           ^^^^^^^^^^^^^^^^^^^^^\n",
            "  File \"/usr/local/lib/python3.11/dist-packages/sklearn/metrics/_regression.py\", line 746, in mean_squared_log_error\n",
            "    raise ValueError(\n",
            "ValueError: Mean Squared Logarithmic Error cannot be used when targets contain values less than or equal to -1.\n",
            "\n",
            "  warnings.warn(\n"
          ]
        },
        {
          "output_type": "stream",
          "name": "stdout",
          "text": [
            "[CV] END regressor__colsample_bytree=0.8, regressor__learning_rate=0.1, regressor__max_depth=3, regressor__n_estimators=200, regressor__subsample=1.0; total time=   2.3s\n"
          ]
        },
        {
          "output_type": "stream",
          "name": "stderr",
          "text": [
            "/usr/local/lib/python3.11/dist-packages/sklearn/model_selection/_validation.py:960: UserWarning: Scoring failed. The score on this train-test partition for these parameters will be set to nan. Details: \n",
            "Traceback (most recent call last):\n",
            "  File \"/usr/local/lib/python3.11/dist-packages/sklearn/model_selection/_validation.py\", line 949, in _score\n",
            "    scores = scorer(estimator, X_test, y_test, **score_params)\n",
            "             ^^^^^^^^^^^^^^^^^^^^^^^^^^^^^^^^^^^^^^^^^^^^^^^^^\n",
            "  File \"/usr/local/lib/python3.11/dist-packages/sklearn/metrics/_scorer.py\", line 288, in __call__\n",
            "    return self._score(partial(_cached_call, None), estimator, X, y_true, **_kwargs)\n",
            "           ^^^^^^^^^^^^^^^^^^^^^^^^^^^^^^^^^^^^^^^^^^^^^^^^^^^^^^^^^^^^^^^^^^^^^^^^^\n",
            "  File \"/usr/local/lib/python3.11/dist-packages/sklearn/metrics/_scorer.py\", line 388, in _score\n",
            "    return self._sign * self._score_func(y_true, y_pred, **scoring_kwargs)\n",
            "                        ^^^^^^^^^^^^^^^^^^^^^^^^^^^^^^^^^^^^^^^^^^^^^^^^^^\n",
            "  File \"/usr/local/lib/python3.11/dist-packages/sklearn/utils/_param_validation.py\", line 216, in wrapper\n",
            "    return func(*args, **kwargs)\n",
            "           ^^^^^^^^^^^^^^^^^^^^^\n",
            "  File \"/usr/local/lib/python3.11/dist-packages/sklearn/metrics/_regression.py\", line 746, in mean_squared_log_error\n",
            "    raise ValueError(\n",
            "ValueError: Mean Squared Logarithmic Error cannot be used when targets contain values less than or equal to -1.\n",
            "\n",
            "  warnings.warn(\n"
          ]
        },
        {
          "output_type": "stream",
          "name": "stdout",
          "text": [
            "[CV] END regressor__colsample_bytree=0.8, regressor__learning_rate=0.1, regressor__max_depth=3, regressor__n_estimators=200, regressor__subsample=1.0; total time=   2.3s\n"
          ]
        },
        {
          "output_type": "stream",
          "name": "stderr",
          "text": [
            "/usr/local/lib/python3.11/dist-packages/sklearn/model_selection/_validation.py:960: UserWarning: Scoring failed. The score on this train-test partition for these parameters will be set to nan. Details: \n",
            "Traceback (most recent call last):\n",
            "  File \"/usr/local/lib/python3.11/dist-packages/sklearn/model_selection/_validation.py\", line 949, in _score\n",
            "    scores = scorer(estimator, X_test, y_test, **score_params)\n",
            "             ^^^^^^^^^^^^^^^^^^^^^^^^^^^^^^^^^^^^^^^^^^^^^^^^^\n",
            "  File \"/usr/local/lib/python3.11/dist-packages/sklearn/metrics/_scorer.py\", line 288, in __call__\n",
            "    return self._score(partial(_cached_call, None), estimator, X, y_true, **_kwargs)\n",
            "           ^^^^^^^^^^^^^^^^^^^^^^^^^^^^^^^^^^^^^^^^^^^^^^^^^^^^^^^^^^^^^^^^^^^^^^^^^\n",
            "  File \"/usr/local/lib/python3.11/dist-packages/sklearn/metrics/_scorer.py\", line 388, in _score\n",
            "    return self._sign * self._score_func(y_true, y_pred, **scoring_kwargs)\n",
            "                        ^^^^^^^^^^^^^^^^^^^^^^^^^^^^^^^^^^^^^^^^^^^^^^^^^^\n",
            "  File \"/usr/local/lib/python3.11/dist-packages/sklearn/utils/_param_validation.py\", line 216, in wrapper\n",
            "    return func(*args, **kwargs)\n",
            "           ^^^^^^^^^^^^^^^^^^^^^\n",
            "  File \"/usr/local/lib/python3.11/dist-packages/sklearn/metrics/_regression.py\", line 746, in mean_squared_log_error\n",
            "    raise ValueError(\n",
            "ValueError: Mean Squared Logarithmic Error cannot be used when targets contain values less than or equal to -1.\n",
            "\n",
            "  warnings.warn(\n"
          ]
        },
        {
          "output_type": "stream",
          "name": "stdout",
          "text": [
            "[CV] END regressor__colsample_bytree=0.8, regressor__learning_rate=0.1, regressor__max_depth=3, regressor__n_estimators=300, regressor__subsample=0.8; total time=   5.6s\n"
          ]
        },
        {
          "output_type": "stream",
          "name": "stderr",
          "text": [
            "/usr/local/lib/python3.11/dist-packages/sklearn/model_selection/_validation.py:960: UserWarning: Scoring failed. The score on this train-test partition for these parameters will be set to nan. Details: \n",
            "Traceback (most recent call last):\n",
            "  File \"/usr/local/lib/python3.11/dist-packages/sklearn/model_selection/_validation.py\", line 949, in _score\n",
            "    scores = scorer(estimator, X_test, y_test, **score_params)\n",
            "             ^^^^^^^^^^^^^^^^^^^^^^^^^^^^^^^^^^^^^^^^^^^^^^^^^\n",
            "  File \"/usr/local/lib/python3.11/dist-packages/sklearn/metrics/_scorer.py\", line 288, in __call__\n",
            "    return self._score(partial(_cached_call, None), estimator, X, y_true, **_kwargs)\n",
            "           ^^^^^^^^^^^^^^^^^^^^^^^^^^^^^^^^^^^^^^^^^^^^^^^^^^^^^^^^^^^^^^^^^^^^^^^^^\n",
            "  File \"/usr/local/lib/python3.11/dist-packages/sklearn/metrics/_scorer.py\", line 388, in _score\n",
            "    return self._sign * self._score_func(y_true, y_pred, **scoring_kwargs)\n",
            "                        ^^^^^^^^^^^^^^^^^^^^^^^^^^^^^^^^^^^^^^^^^^^^^^^^^^\n",
            "  File \"/usr/local/lib/python3.11/dist-packages/sklearn/utils/_param_validation.py\", line 216, in wrapper\n",
            "    return func(*args, **kwargs)\n",
            "           ^^^^^^^^^^^^^^^^^^^^^\n",
            "  File \"/usr/local/lib/python3.11/dist-packages/sklearn/metrics/_regression.py\", line 746, in mean_squared_log_error\n",
            "    raise ValueError(\n",
            "ValueError: Mean Squared Logarithmic Error cannot be used when targets contain values less than or equal to -1.\n",
            "\n",
            "  warnings.warn(\n"
          ]
        },
        {
          "output_type": "stream",
          "name": "stdout",
          "text": [
            "[CV] END regressor__colsample_bytree=0.8, regressor__learning_rate=0.1, regressor__max_depth=3, regressor__n_estimators=300, regressor__subsample=0.8; total time=   3.0s\n"
          ]
        },
        {
          "output_type": "stream",
          "name": "stderr",
          "text": [
            "/usr/local/lib/python3.11/dist-packages/sklearn/model_selection/_validation.py:960: UserWarning: Scoring failed. The score on this train-test partition for these parameters will be set to nan. Details: \n",
            "Traceback (most recent call last):\n",
            "  File \"/usr/local/lib/python3.11/dist-packages/sklearn/model_selection/_validation.py\", line 949, in _score\n",
            "    scores = scorer(estimator, X_test, y_test, **score_params)\n",
            "             ^^^^^^^^^^^^^^^^^^^^^^^^^^^^^^^^^^^^^^^^^^^^^^^^^\n",
            "  File \"/usr/local/lib/python3.11/dist-packages/sklearn/metrics/_scorer.py\", line 288, in __call__\n",
            "    return self._score(partial(_cached_call, None), estimator, X, y_true, **_kwargs)\n",
            "           ^^^^^^^^^^^^^^^^^^^^^^^^^^^^^^^^^^^^^^^^^^^^^^^^^^^^^^^^^^^^^^^^^^^^^^^^^\n",
            "  File \"/usr/local/lib/python3.11/dist-packages/sklearn/metrics/_scorer.py\", line 388, in _score\n",
            "    return self._sign * self._score_func(y_true, y_pred, **scoring_kwargs)\n",
            "                        ^^^^^^^^^^^^^^^^^^^^^^^^^^^^^^^^^^^^^^^^^^^^^^^^^^\n",
            "  File \"/usr/local/lib/python3.11/dist-packages/sklearn/utils/_param_validation.py\", line 216, in wrapper\n",
            "    return func(*args, **kwargs)\n",
            "           ^^^^^^^^^^^^^^^^^^^^^\n",
            "  File \"/usr/local/lib/python3.11/dist-packages/sklearn/metrics/_regression.py\", line 746, in mean_squared_log_error\n",
            "    raise ValueError(\n",
            "ValueError: Mean Squared Logarithmic Error cannot be used when targets contain values less than or equal to -1.\n",
            "\n",
            "  warnings.warn(\n"
          ]
        },
        {
          "output_type": "stream",
          "name": "stdout",
          "text": [
            "[CV] END regressor__colsample_bytree=0.8, regressor__learning_rate=0.1, regressor__max_depth=3, regressor__n_estimators=300, regressor__subsample=0.8; total time=   3.0s\n"
          ]
        },
        {
          "output_type": "stream",
          "name": "stderr",
          "text": [
            "/usr/local/lib/python3.11/dist-packages/sklearn/model_selection/_validation.py:960: UserWarning: Scoring failed. The score on this train-test partition for these parameters will be set to nan. Details: \n",
            "Traceback (most recent call last):\n",
            "  File \"/usr/local/lib/python3.11/dist-packages/sklearn/model_selection/_validation.py\", line 949, in _score\n",
            "    scores = scorer(estimator, X_test, y_test, **score_params)\n",
            "             ^^^^^^^^^^^^^^^^^^^^^^^^^^^^^^^^^^^^^^^^^^^^^^^^^\n",
            "  File \"/usr/local/lib/python3.11/dist-packages/sklearn/metrics/_scorer.py\", line 288, in __call__\n",
            "    return self._score(partial(_cached_call, None), estimator, X, y_true, **_kwargs)\n",
            "           ^^^^^^^^^^^^^^^^^^^^^^^^^^^^^^^^^^^^^^^^^^^^^^^^^^^^^^^^^^^^^^^^^^^^^^^^^\n",
            "  File \"/usr/local/lib/python3.11/dist-packages/sklearn/metrics/_scorer.py\", line 388, in _score\n",
            "    return self._sign * self._score_func(y_true, y_pred, **scoring_kwargs)\n",
            "                        ^^^^^^^^^^^^^^^^^^^^^^^^^^^^^^^^^^^^^^^^^^^^^^^^^^\n",
            "  File \"/usr/local/lib/python3.11/dist-packages/sklearn/utils/_param_validation.py\", line 216, in wrapper\n",
            "    return func(*args, **kwargs)\n",
            "           ^^^^^^^^^^^^^^^^^^^^^\n",
            "  File \"/usr/local/lib/python3.11/dist-packages/sklearn/metrics/_regression.py\", line 746, in mean_squared_log_error\n",
            "    raise ValueError(\n",
            "ValueError: Mean Squared Logarithmic Error cannot be used when targets contain values less than or equal to -1.\n",
            "\n",
            "  warnings.warn(\n"
          ]
        },
        {
          "output_type": "stream",
          "name": "stdout",
          "text": [
            "[CV] END regressor__colsample_bytree=0.8, regressor__learning_rate=0.1, regressor__max_depth=3, regressor__n_estimators=300, regressor__subsample=1.0; total time=   3.2s\n"
          ]
        },
        {
          "output_type": "stream",
          "name": "stderr",
          "text": [
            "/usr/local/lib/python3.11/dist-packages/sklearn/model_selection/_validation.py:960: UserWarning: Scoring failed. The score on this train-test partition for these parameters will be set to nan. Details: \n",
            "Traceback (most recent call last):\n",
            "  File \"/usr/local/lib/python3.11/dist-packages/sklearn/model_selection/_validation.py\", line 949, in _score\n",
            "    scores = scorer(estimator, X_test, y_test, **score_params)\n",
            "             ^^^^^^^^^^^^^^^^^^^^^^^^^^^^^^^^^^^^^^^^^^^^^^^^^\n",
            "  File \"/usr/local/lib/python3.11/dist-packages/sklearn/metrics/_scorer.py\", line 288, in __call__\n",
            "    return self._score(partial(_cached_call, None), estimator, X, y_true, **_kwargs)\n",
            "           ^^^^^^^^^^^^^^^^^^^^^^^^^^^^^^^^^^^^^^^^^^^^^^^^^^^^^^^^^^^^^^^^^^^^^^^^^\n",
            "  File \"/usr/local/lib/python3.11/dist-packages/sklearn/metrics/_scorer.py\", line 388, in _score\n",
            "    return self._sign * self._score_func(y_true, y_pred, **scoring_kwargs)\n",
            "                        ^^^^^^^^^^^^^^^^^^^^^^^^^^^^^^^^^^^^^^^^^^^^^^^^^^\n",
            "  File \"/usr/local/lib/python3.11/dist-packages/sklearn/utils/_param_validation.py\", line 216, in wrapper\n",
            "    return func(*args, **kwargs)\n",
            "           ^^^^^^^^^^^^^^^^^^^^^\n",
            "  File \"/usr/local/lib/python3.11/dist-packages/sklearn/metrics/_regression.py\", line 746, in mean_squared_log_error\n",
            "    raise ValueError(\n",
            "ValueError: Mean Squared Logarithmic Error cannot be used when targets contain values less than or equal to -1.\n",
            "\n",
            "  warnings.warn(\n"
          ]
        },
        {
          "output_type": "stream",
          "name": "stdout",
          "text": [
            "[CV] END regressor__colsample_bytree=0.8, regressor__learning_rate=0.1, regressor__max_depth=3, regressor__n_estimators=300, regressor__subsample=1.0; total time=   5.1s\n"
          ]
        },
        {
          "output_type": "stream",
          "name": "stderr",
          "text": [
            "/usr/local/lib/python3.11/dist-packages/sklearn/model_selection/_validation.py:960: UserWarning: Scoring failed. The score on this train-test partition for these parameters will be set to nan. Details: \n",
            "Traceback (most recent call last):\n",
            "  File \"/usr/local/lib/python3.11/dist-packages/sklearn/model_selection/_validation.py\", line 949, in _score\n",
            "    scores = scorer(estimator, X_test, y_test, **score_params)\n",
            "             ^^^^^^^^^^^^^^^^^^^^^^^^^^^^^^^^^^^^^^^^^^^^^^^^^\n",
            "  File \"/usr/local/lib/python3.11/dist-packages/sklearn/metrics/_scorer.py\", line 288, in __call__\n",
            "    return self._score(partial(_cached_call, None), estimator, X, y_true, **_kwargs)\n",
            "           ^^^^^^^^^^^^^^^^^^^^^^^^^^^^^^^^^^^^^^^^^^^^^^^^^^^^^^^^^^^^^^^^^^^^^^^^^\n",
            "  File \"/usr/local/lib/python3.11/dist-packages/sklearn/metrics/_scorer.py\", line 388, in _score\n",
            "    return self._sign * self._score_func(y_true, y_pred, **scoring_kwargs)\n",
            "                        ^^^^^^^^^^^^^^^^^^^^^^^^^^^^^^^^^^^^^^^^^^^^^^^^^^\n",
            "  File \"/usr/local/lib/python3.11/dist-packages/sklearn/utils/_param_validation.py\", line 216, in wrapper\n",
            "    return func(*args, **kwargs)\n",
            "           ^^^^^^^^^^^^^^^^^^^^^\n",
            "  File \"/usr/local/lib/python3.11/dist-packages/sklearn/metrics/_regression.py\", line 746, in mean_squared_log_error\n",
            "    raise ValueError(\n",
            "ValueError: Mean Squared Logarithmic Error cannot be used when targets contain values less than or equal to -1.\n",
            "\n",
            "  warnings.warn(\n"
          ]
        },
        {
          "output_type": "stream",
          "name": "stdout",
          "text": [
            "[CV] END regressor__colsample_bytree=0.8, regressor__learning_rate=0.1, regressor__max_depth=3, regressor__n_estimators=300, regressor__subsample=1.0; total time=   2.8s\n"
          ]
        },
        {
          "output_type": "stream",
          "name": "stderr",
          "text": [
            "/usr/local/lib/python3.11/dist-packages/sklearn/model_selection/_validation.py:960: UserWarning: Scoring failed. The score on this train-test partition for these parameters will be set to nan. Details: \n",
            "Traceback (most recent call last):\n",
            "  File \"/usr/local/lib/python3.11/dist-packages/sklearn/model_selection/_validation.py\", line 949, in _score\n",
            "    scores = scorer(estimator, X_test, y_test, **score_params)\n",
            "             ^^^^^^^^^^^^^^^^^^^^^^^^^^^^^^^^^^^^^^^^^^^^^^^^^\n",
            "  File \"/usr/local/lib/python3.11/dist-packages/sklearn/metrics/_scorer.py\", line 288, in __call__\n",
            "    return self._score(partial(_cached_call, None), estimator, X, y_true, **_kwargs)\n",
            "           ^^^^^^^^^^^^^^^^^^^^^^^^^^^^^^^^^^^^^^^^^^^^^^^^^^^^^^^^^^^^^^^^^^^^^^^^^\n",
            "  File \"/usr/local/lib/python3.11/dist-packages/sklearn/metrics/_scorer.py\", line 388, in _score\n",
            "    return self._sign * self._score_func(y_true, y_pred, **scoring_kwargs)\n",
            "                        ^^^^^^^^^^^^^^^^^^^^^^^^^^^^^^^^^^^^^^^^^^^^^^^^^^\n",
            "  File \"/usr/local/lib/python3.11/dist-packages/sklearn/utils/_param_validation.py\", line 216, in wrapper\n",
            "    return func(*args, **kwargs)\n",
            "           ^^^^^^^^^^^^^^^^^^^^^\n",
            "  File \"/usr/local/lib/python3.11/dist-packages/sklearn/metrics/_regression.py\", line 746, in mean_squared_log_error\n",
            "    raise ValueError(\n",
            "ValueError: Mean Squared Logarithmic Error cannot be used when targets contain values less than or equal to -1.\n",
            "\n",
            "  warnings.warn(\n"
          ]
        },
        {
          "output_type": "stream",
          "name": "stdout",
          "text": [
            "[CV] END regressor__colsample_bytree=0.8, regressor__learning_rate=0.1, regressor__max_depth=5, regressor__n_estimators=100, regressor__subsample=0.8; total time=   2.1s\n"
          ]
        },
        {
          "output_type": "stream",
          "name": "stderr",
          "text": [
            "/usr/local/lib/python3.11/dist-packages/sklearn/model_selection/_validation.py:960: UserWarning: Scoring failed. The score on this train-test partition for these parameters will be set to nan. Details: \n",
            "Traceback (most recent call last):\n",
            "  File \"/usr/local/lib/python3.11/dist-packages/sklearn/model_selection/_validation.py\", line 949, in _score\n",
            "    scores = scorer(estimator, X_test, y_test, **score_params)\n",
            "             ^^^^^^^^^^^^^^^^^^^^^^^^^^^^^^^^^^^^^^^^^^^^^^^^^\n",
            "  File \"/usr/local/lib/python3.11/dist-packages/sklearn/metrics/_scorer.py\", line 288, in __call__\n",
            "    return self._score(partial(_cached_call, None), estimator, X, y_true, **_kwargs)\n",
            "           ^^^^^^^^^^^^^^^^^^^^^^^^^^^^^^^^^^^^^^^^^^^^^^^^^^^^^^^^^^^^^^^^^^^^^^^^^\n",
            "  File \"/usr/local/lib/python3.11/dist-packages/sklearn/metrics/_scorer.py\", line 388, in _score\n",
            "    return self._sign * self._score_func(y_true, y_pred, **scoring_kwargs)\n",
            "                        ^^^^^^^^^^^^^^^^^^^^^^^^^^^^^^^^^^^^^^^^^^^^^^^^^^\n",
            "  File \"/usr/local/lib/python3.11/dist-packages/sklearn/utils/_param_validation.py\", line 216, in wrapper\n",
            "    return func(*args, **kwargs)\n",
            "           ^^^^^^^^^^^^^^^^^^^^^\n",
            "  File \"/usr/local/lib/python3.11/dist-packages/sklearn/metrics/_regression.py\", line 746, in mean_squared_log_error\n",
            "    raise ValueError(\n",
            "ValueError: Mean Squared Logarithmic Error cannot be used when targets contain values less than or equal to -1.\n",
            "\n",
            "  warnings.warn(\n"
          ]
        },
        {
          "output_type": "stream",
          "name": "stdout",
          "text": [
            "[CV] END regressor__colsample_bytree=0.8, regressor__learning_rate=0.1, regressor__max_depth=5, regressor__n_estimators=100, regressor__subsample=0.8; total time=   1.9s\n"
          ]
        },
        {
          "output_type": "stream",
          "name": "stderr",
          "text": [
            "/usr/local/lib/python3.11/dist-packages/sklearn/model_selection/_validation.py:960: UserWarning: Scoring failed. The score on this train-test partition for these parameters will be set to nan. Details: \n",
            "Traceback (most recent call last):\n",
            "  File \"/usr/local/lib/python3.11/dist-packages/sklearn/model_selection/_validation.py\", line 949, in _score\n",
            "    scores = scorer(estimator, X_test, y_test, **score_params)\n",
            "             ^^^^^^^^^^^^^^^^^^^^^^^^^^^^^^^^^^^^^^^^^^^^^^^^^\n",
            "  File \"/usr/local/lib/python3.11/dist-packages/sklearn/metrics/_scorer.py\", line 288, in __call__\n",
            "    return self._score(partial(_cached_call, None), estimator, X, y_true, **_kwargs)\n",
            "           ^^^^^^^^^^^^^^^^^^^^^^^^^^^^^^^^^^^^^^^^^^^^^^^^^^^^^^^^^^^^^^^^^^^^^^^^^\n",
            "  File \"/usr/local/lib/python3.11/dist-packages/sklearn/metrics/_scorer.py\", line 388, in _score\n",
            "    return self._sign * self._score_func(y_true, y_pred, **scoring_kwargs)\n",
            "                        ^^^^^^^^^^^^^^^^^^^^^^^^^^^^^^^^^^^^^^^^^^^^^^^^^^\n",
            "  File \"/usr/local/lib/python3.11/dist-packages/sklearn/utils/_param_validation.py\", line 216, in wrapper\n",
            "    return func(*args, **kwargs)\n",
            "           ^^^^^^^^^^^^^^^^^^^^^\n",
            "  File \"/usr/local/lib/python3.11/dist-packages/sklearn/metrics/_regression.py\", line 746, in mean_squared_log_error\n",
            "    raise ValueError(\n",
            "ValueError: Mean Squared Logarithmic Error cannot be used when targets contain values less than or equal to -1.\n",
            "\n",
            "  warnings.warn(\n"
          ]
        },
        {
          "output_type": "stream",
          "name": "stdout",
          "text": [
            "[CV] END regressor__colsample_bytree=0.8, regressor__learning_rate=0.1, regressor__max_depth=5, regressor__n_estimators=100, regressor__subsample=0.8; total time=   2.4s\n",
            "[CV] END regressor__colsample_bytree=0.8, regressor__learning_rate=0.1, regressor__max_depth=5, regressor__n_estimators=100, regressor__subsample=1.0; total time=   3.9s\n",
            "[CV] END regressor__colsample_bytree=0.8, regressor__learning_rate=0.1, regressor__max_depth=5, regressor__n_estimators=100, regressor__subsample=1.0; total time=   1.9s\n"
          ]
        },
        {
          "output_type": "stream",
          "name": "stderr",
          "text": [
            "/usr/local/lib/python3.11/dist-packages/sklearn/model_selection/_validation.py:960: UserWarning: Scoring failed. The score on this train-test partition for these parameters will be set to nan. Details: \n",
            "Traceback (most recent call last):\n",
            "  File \"/usr/local/lib/python3.11/dist-packages/sklearn/model_selection/_validation.py\", line 949, in _score\n",
            "    scores = scorer(estimator, X_test, y_test, **score_params)\n",
            "             ^^^^^^^^^^^^^^^^^^^^^^^^^^^^^^^^^^^^^^^^^^^^^^^^^\n",
            "  File \"/usr/local/lib/python3.11/dist-packages/sklearn/metrics/_scorer.py\", line 288, in __call__\n",
            "    return self._score(partial(_cached_call, None), estimator, X, y_true, **_kwargs)\n",
            "           ^^^^^^^^^^^^^^^^^^^^^^^^^^^^^^^^^^^^^^^^^^^^^^^^^^^^^^^^^^^^^^^^^^^^^^^^^\n",
            "  File \"/usr/local/lib/python3.11/dist-packages/sklearn/metrics/_scorer.py\", line 388, in _score\n",
            "    return self._sign * self._score_func(y_true, y_pred, **scoring_kwargs)\n",
            "                        ^^^^^^^^^^^^^^^^^^^^^^^^^^^^^^^^^^^^^^^^^^^^^^^^^^\n",
            "  File \"/usr/local/lib/python3.11/dist-packages/sklearn/utils/_param_validation.py\", line 216, in wrapper\n",
            "    return func(*args, **kwargs)\n",
            "           ^^^^^^^^^^^^^^^^^^^^^\n",
            "  File \"/usr/local/lib/python3.11/dist-packages/sklearn/metrics/_regression.py\", line 746, in mean_squared_log_error\n",
            "    raise ValueError(\n",
            "ValueError: Mean Squared Logarithmic Error cannot be used when targets contain values less than or equal to -1.\n",
            "\n",
            "  warnings.warn(\n"
          ]
        },
        {
          "output_type": "stream",
          "name": "stdout",
          "text": [
            "[CV] END regressor__colsample_bytree=0.8, regressor__learning_rate=0.1, regressor__max_depth=5, regressor__n_estimators=100, regressor__subsample=1.0; total time=   2.0s\n"
          ]
        },
        {
          "output_type": "stream",
          "name": "stderr",
          "text": [
            "/usr/local/lib/python3.11/dist-packages/sklearn/model_selection/_validation.py:960: UserWarning: Scoring failed. The score on this train-test partition for these parameters will be set to nan. Details: \n",
            "Traceback (most recent call last):\n",
            "  File \"/usr/local/lib/python3.11/dist-packages/sklearn/model_selection/_validation.py\", line 949, in _score\n",
            "    scores = scorer(estimator, X_test, y_test, **score_params)\n",
            "             ^^^^^^^^^^^^^^^^^^^^^^^^^^^^^^^^^^^^^^^^^^^^^^^^^\n",
            "  File \"/usr/local/lib/python3.11/dist-packages/sklearn/metrics/_scorer.py\", line 288, in __call__\n",
            "    return self._score(partial(_cached_call, None), estimator, X, y_true, **_kwargs)\n",
            "           ^^^^^^^^^^^^^^^^^^^^^^^^^^^^^^^^^^^^^^^^^^^^^^^^^^^^^^^^^^^^^^^^^^^^^^^^^\n",
            "  File \"/usr/local/lib/python3.11/dist-packages/sklearn/metrics/_scorer.py\", line 388, in _score\n",
            "    return self._sign * self._score_func(y_true, y_pred, **scoring_kwargs)\n",
            "                        ^^^^^^^^^^^^^^^^^^^^^^^^^^^^^^^^^^^^^^^^^^^^^^^^^^\n",
            "  File \"/usr/local/lib/python3.11/dist-packages/sklearn/utils/_param_validation.py\", line 216, in wrapper\n",
            "    return func(*args, **kwargs)\n",
            "           ^^^^^^^^^^^^^^^^^^^^^\n",
            "  File \"/usr/local/lib/python3.11/dist-packages/sklearn/metrics/_regression.py\", line 746, in mean_squared_log_error\n",
            "    raise ValueError(\n",
            "ValueError: Mean Squared Logarithmic Error cannot be used when targets contain values less than or equal to -1.\n",
            "\n",
            "  warnings.warn(\n"
          ]
        },
        {
          "output_type": "stream",
          "name": "stdout",
          "text": [
            "[CV] END regressor__colsample_bytree=0.8, regressor__learning_rate=0.1, regressor__max_depth=5, regressor__n_estimators=200, regressor__subsample=0.8; total time=   2.9s\n"
          ]
        },
        {
          "output_type": "stream",
          "name": "stderr",
          "text": [
            "/usr/local/lib/python3.11/dist-packages/sklearn/model_selection/_validation.py:960: UserWarning: Scoring failed. The score on this train-test partition for these parameters will be set to nan. Details: \n",
            "Traceback (most recent call last):\n",
            "  File \"/usr/local/lib/python3.11/dist-packages/sklearn/model_selection/_validation.py\", line 949, in _score\n",
            "    scores = scorer(estimator, X_test, y_test, **score_params)\n",
            "             ^^^^^^^^^^^^^^^^^^^^^^^^^^^^^^^^^^^^^^^^^^^^^^^^^\n",
            "  File \"/usr/local/lib/python3.11/dist-packages/sklearn/metrics/_scorer.py\", line 288, in __call__\n",
            "    return self._score(partial(_cached_call, None), estimator, X, y_true, **_kwargs)\n",
            "           ^^^^^^^^^^^^^^^^^^^^^^^^^^^^^^^^^^^^^^^^^^^^^^^^^^^^^^^^^^^^^^^^^^^^^^^^^\n",
            "  File \"/usr/local/lib/python3.11/dist-packages/sklearn/metrics/_scorer.py\", line 388, in _score\n",
            "    return self._sign * self._score_func(y_true, y_pred, **scoring_kwargs)\n",
            "                        ^^^^^^^^^^^^^^^^^^^^^^^^^^^^^^^^^^^^^^^^^^^^^^^^^^\n",
            "  File \"/usr/local/lib/python3.11/dist-packages/sklearn/utils/_param_validation.py\", line 216, in wrapper\n",
            "    return func(*args, **kwargs)\n",
            "           ^^^^^^^^^^^^^^^^^^^^^\n",
            "  File \"/usr/local/lib/python3.11/dist-packages/sklearn/metrics/_regression.py\", line 746, in mean_squared_log_error\n",
            "    raise ValueError(\n",
            "ValueError: Mean Squared Logarithmic Error cannot be used when targets contain values less than or equal to -1.\n",
            "\n",
            "  warnings.warn(\n"
          ]
        },
        {
          "output_type": "stream",
          "name": "stdout",
          "text": [
            "[CV] END regressor__colsample_bytree=0.8, regressor__learning_rate=0.1, regressor__max_depth=5, regressor__n_estimators=200, regressor__subsample=0.8; total time=   3.3s\n"
          ]
        },
        {
          "output_type": "stream",
          "name": "stderr",
          "text": [
            "/usr/local/lib/python3.11/dist-packages/sklearn/model_selection/_validation.py:960: UserWarning: Scoring failed. The score on this train-test partition for these parameters will be set to nan. Details: \n",
            "Traceback (most recent call last):\n",
            "  File \"/usr/local/lib/python3.11/dist-packages/sklearn/model_selection/_validation.py\", line 949, in _score\n",
            "    scores = scorer(estimator, X_test, y_test, **score_params)\n",
            "             ^^^^^^^^^^^^^^^^^^^^^^^^^^^^^^^^^^^^^^^^^^^^^^^^^\n",
            "  File \"/usr/local/lib/python3.11/dist-packages/sklearn/metrics/_scorer.py\", line 288, in __call__\n",
            "    return self._score(partial(_cached_call, None), estimator, X, y_true, **_kwargs)\n",
            "           ^^^^^^^^^^^^^^^^^^^^^^^^^^^^^^^^^^^^^^^^^^^^^^^^^^^^^^^^^^^^^^^^^^^^^^^^^\n",
            "  File \"/usr/local/lib/python3.11/dist-packages/sklearn/metrics/_scorer.py\", line 388, in _score\n",
            "    return self._sign * self._score_func(y_true, y_pred, **scoring_kwargs)\n",
            "                        ^^^^^^^^^^^^^^^^^^^^^^^^^^^^^^^^^^^^^^^^^^^^^^^^^^\n",
            "  File \"/usr/local/lib/python3.11/dist-packages/sklearn/utils/_param_validation.py\", line 216, in wrapper\n",
            "    return func(*args, **kwargs)\n",
            "           ^^^^^^^^^^^^^^^^^^^^^\n",
            "  File \"/usr/local/lib/python3.11/dist-packages/sklearn/metrics/_regression.py\", line 746, in mean_squared_log_error\n",
            "    raise ValueError(\n",
            "ValueError: Mean Squared Logarithmic Error cannot be used when targets contain values less than or equal to -1.\n",
            "\n",
            "  warnings.warn(\n"
          ]
        },
        {
          "output_type": "stream",
          "name": "stdout",
          "text": [
            "[CV] END regressor__colsample_bytree=0.8, regressor__learning_rate=0.1, regressor__max_depth=5, regressor__n_estimators=200, regressor__subsample=0.8; total time=   4.8s\n",
            "[CV] END regressor__colsample_bytree=0.8, regressor__learning_rate=0.1, regressor__max_depth=5, regressor__n_estimators=200, regressor__subsample=1.0; total time=   2.8s\n",
            "[CV] END regressor__colsample_bytree=0.8, regressor__learning_rate=0.1, regressor__max_depth=5, regressor__n_estimators=200, regressor__subsample=1.0; total time=   2.8s\n"
          ]
        },
        {
          "output_type": "stream",
          "name": "stderr",
          "text": [
            "/usr/local/lib/python3.11/dist-packages/sklearn/model_selection/_validation.py:960: UserWarning: Scoring failed. The score on this train-test partition for these parameters will be set to nan. Details: \n",
            "Traceback (most recent call last):\n",
            "  File \"/usr/local/lib/python3.11/dist-packages/sklearn/model_selection/_validation.py\", line 949, in _score\n",
            "    scores = scorer(estimator, X_test, y_test, **score_params)\n",
            "             ^^^^^^^^^^^^^^^^^^^^^^^^^^^^^^^^^^^^^^^^^^^^^^^^^\n",
            "  File \"/usr/local/lib/python3.11/dist-packages/sklearn/metrics/_scorer.py\", line 288, in __call__\n",
            "    return self._score(partial(_cached_call, None), estimator, X, y_true, **_kwargs)\n",
            "           ^^^^^^^^^^^^^^^^^^^^^^^^^^^^^^^^^^^^^^^^^^^^^^^^^^^^^^^^^^^^^^^^^^^^^^^^^\n",
            "  File \"/usr/local/lib/python3.11/dist-packages/sklearn/metrics/_scorer.py\", line 388, in _score\n",
            "    return self._sign * self._score_func(y_true, y_pred, **scoring_kwargs)\n",
            "                        ^^^^^^^^^^^^^^^^^^^^^^^^^^^^^^^^^^^^^^^^^^^^^^^^^^\n",
            "  File \"/usr/local/lib/python3.11/dist-packages/sklearn/utils/_param_validation.py\", line 216, in wrapper\n",
            "    return func(*args, **kwargs)\n",
            "           ^^^^^^^^^^^^^^^^^^^^^\n",
            "  File \"/usr/local/lib/python3.11/dist-packages/sklearn/metrics/_regression.py\", line 746, in mean_squared_log_error\n",
            "    raise ValueError(\n",
            "ValueError: Mean Squared Logarithmic Error cannot be used when targets contain values less than or equal to -1.\n",
            "\n",
            "  warnings.warn(\n"
          ]
        },
        {
          "output_type": "stream",
          "name": "stdout",
          "text": [
            "[CV] END regressor__colsample_bytree=0.8, regressor__learning_rate=0.1, regressor__max_depth=5, regressor__n_estimators=200, regressor__subsample=1.0; total time=   2.7s\n"
          ]
        },
        {
          "output_type": "stream",
          "name": "stderr",
          "text": [
            "/usr/local/lib/python3.11/dist-packages/sklearn/model_selection/_validation.py:960: UserWarning: Scoring failed. The score on this train-test partition for these parameters will be set to nan. Details: \n",
            "Traceback (most recent call last):\n",
            "  File \"/usr/local/lib/python3.11/dist-packages/sklearn/model_selection/_validation.py\", line 949, in _score\n",
            "    scores = scorer(estimator, X_test, y_test, **score_params)\n",
            "             ^^^^^^^^^^^^^^^^^^^^^^^^^^^^^^^^^^^^^^^^^^^^^^^^^\n",
            "  File \"/usr/local/lib/python3.11/dist-packages/sklearn/metrics/_scorer.py\", line 288, in __call__\n",
            "    return self._score(partial(_cached_call, None), estimator, X, y_true, **_kwargs)\n",
            "           ^^^^^^^^^^^^^^^^^^^^^^^^^^^^^^^^^^^^^^^^^^^^^^^^^^^^^^^^^^^^^^^^^^^^^^^^^\n",
            "  File \"/usr/local/lib/python3.11/dist-packages/sklearn/metrics/_scorer.py\", line 388, in _score\n",
            "    return self._sign * self._score_func(y_true, y_pred, **scoring_kwargs)\n",
            "                        ^^^^^^^^^^^^^^^^^^^^^^^^^^^^^^^^^^^^^^^^^^^^^^^^^^\n",
            "  File \"/usr/local/lib/python3.11/dist-packages/sklearn/utils/_param_validation.py\", line 216, in wrapper\n",
            "    return func(*args, **kwargs)\n",
            "           ^^^^^^^^^^^^^^^^^^^^^\n",
            "  File \"/usr/local/lib/python3.11/dist-packages/sklearn/metrics/_regression.py\", line 746, in mean_squared_log_error\n",
            "    raise ValueError(\n",
            "ValueError: Mean Squared Logarithmic Error cannot be used when targets contain values less than or equal to -1.\n",
            "\n",
            "  warnings.warn(\n"
          ]
        },
        {
          "output_type": "stream",
          "name": "stdout",
          "text": [
            "[CV] END regressor__colsample_bytree=0.8, regressor__learning_rate=0.1, regressor__max_depth=5, regressor__n_estimators=300, regressor__subsample=0.8; total time=   6.5s\n"
          ]
        },
        {
          "output_type": "stream",
          "name": "stderr",
          "text": [
            "/usr/local/lib/python3.11/dist-packages/sklearn/model_selection/_validation.py:960: UserWarning: Scoring failed. The score on this train-test partition for these parameters will be set to nan. Details: \n",
            "Traceback (most recent call last):\n",
            "  File \"/usr/local/lib/python3.11/dist-packages/sklearn/model_selection/_validation.py\", line 949, in _score\n",
            "    scores = scorer(estimator, X_test, y_test, **score_params)\n",
            "             ^^^^^^^^^^^^^^^^^^^^^^^^^^^^^^^^^^^^^^^^^^^^^^^^^\n",
            "  File \"/usr/local/lib/python3.11/dist-packages/sklearn/metrics/_scorer.py\", line 288, in __call__\n",
            "    return self._score(partial(_cached_call, None), estimator, X, y_true, **_kwargs)\n",
            "           ^^^^^^^^^^^^^^^^^^^^^^^^^^^^^^^^^^^^^^^^^^^^^^^^^^^^^^^^^^^^^^^^^^^^^^^^^\n",
            "  File \"/usr/local/lib/python3.11/dist-packages/sklearn/metrics/_scorer.py\", line 388, in _score\n",
            "    return self._sign * self._score_func(y_true, y_pred, **scoring_kwargs)\n",
            "                        ^^^^^^^^^^^^^^^^^^^^^^^^^^^^^^^^^^^^^^^^^^^^^^^^^^\n",
            "  File \"/usr/local/lib/python3.11/dist-packages/sklearn/utils/_param_validation.py\", line 216, in wrapper\n",
            "    return func(*args, **kwargs)\n",
            "           ^^^^^^^^^^^^^^^^^^^^^\n",
            "  File \"/usr/local/lib/python3.11/dist-packages/sklearn/metrics/_regression.py\", line 746, in mean_squared_log_error\n",
            "    raise ValueError(\n",
            "ValueError: Mean Squared Logarithmic Error cannot be used when targets contain values less than or equal to -1.\n",
            "\n",
            "  warnings.warn(\n"
          ]
        },
        {
          "output_type": "stream",
          "name": "stdout",
          "text": [
            "[CV] END regressor__colsample_bytree=0.8, regressor__learning_rate=0.1, regressor__max_depth=5, regressor__n_estimators=300, regressor__subsample=0.8; total time=   3.7s\n"
          ]
        },
        {
          "output_type": "stream",
          "name": "stderr",
          "text": [
            "/usr/local/lib/python3.11/dist-packages/sklearn/model_selection/_validation.py:960: UserWarning: Scoring failed. The score on this train-test partition for these parameters will be set to nan. Details: \n",
            "Traceback (most recent call last):\n",
            "  File \"/usr/local/lib/python3.11/dist-packages/sklearn/model_selection/_validation.py\", line 949, in _score\n",
            "    scores = scorer(estimator, X_test, y_test, **score_params)\n",
            "             ^^^^^^^^^^^^^^^^^^^^^^^^^^^^^^^^^^^^^^^^^^^^^^^^^\n",
            "  File \"/usr/local/lib/python3.11/dist-packages/sklearn/metrics/_scorer.py\", line 288, in __call__\n",
            "    return self._score(partial(_cached_call, None), estimator, X, y_true, **_kwargs)\n",
            "           ^^^^^^^^^^^^^^^^^^^^^^^^^^^^^^^^^^^^^^^^^^^^^^^^^^^^^^^^^^^^^^^^^^^^^^^^^\n",
            "  File \"/usr/local/lib/python3.11/dist-packages/sklearn/metrics/_scorer.py\", line 388, in _score\n",
            "    return self._sign * self._score_func(y_true, y_pred, **scoring_kwargs)\n",
            "                        ^^^^^^^^^^^^^^^^^^^^^^^^^^^^^^^^^^^^^^^^^^^^^^^^^^\n",
            "  File \"/usr/local/lib/python3.11/dist-packages/sklearn/utils/_param_validation.py\", line 216, in wrapper\n",
            "    return func(*args, **kwargs)\n",
            "           ^^^^^^^^^^^^^^^^^^^^^\n",
            "  File \"/usr/local/lib/python3.11/dist-packages/sklearn/metrics/_regression.py\", line 746, in mean_squared_log_error\n",
            "    raise ValueError(\n",
            "ValueError: Mean Squared Logarithmic Error cannot be used when targets contain values less than or equal to -1.\n",
            "\n",
            "  warnings.warn(\n"
          ]
        },
        {
          "output_type": "stream",
          "name": "stdout",
          "text": [
            "[CV] END regressor__colsample_bytree=0.8, regressor__learning_rate=0.1, regressor__max_depth=5, regressor__n_estimators=300, regressor__subsample=0.8; total time=   3.8s\n",
            "[CV] END regressor__colsample_bytree=0.8, regressor__learning_rate=0.1, regressor__max_depth=5, regressor__n_estimators=300, regressor__subsample=1.0; total time=   6.5s\n",
            "[CV] END regressor__colsample_bytree=0.8, regressor__learning_rate=0.1, regressor__max_depth=5, regressor__n_estimators=300, regressor__subsample=1.0; total time=   3.6s\n"
          ]
        },
        {
          "output_type": "stream",
          "name": "stderr",
          "text": [
            "/usr/local/lib/python3.11/dist-packages/sklearn/model_selection/_validation.py:960: UserWarning: Scoring failed. The score on this train-test partition for these parameters will be set to nan. Details: \n",
            "Traceback (most recent call last):\n",
            "  File \"/usr/local/lib/python3.11/dist-packages/sklearn/model_selection/_validation.py\", line 949, in _score\n",
            "    scores = scorer(estimator, X_test, y_test, **score_params)\n",
            "             ^^^^^^^^^^^^^^^^^^^^^^^^^^^^^^^^^^^^^^^^^^^^^^^^^\n",
            "  File \"/usr/local/lib/python3.11/dist-packages/sklearn/metrics/_scorer.py\", line 288, in __call__\n",
            "    return self._score(partial(_cached_call, None), estimator, X, y_true, **_kwargs)\n",
            "           ^^^^^^^^^^^^^^^^^^^^^^^^^^^^^^^^^^^^^^^^^^^^^^^^^^^^^^^^^^^^^^^^^^^^^^^^^\n",
            "  File \"/usr/local/lib/python3.11/dist-packages/sklearn/metrics/_scorer.py\", line 388, in _score\n",
            "    return self._sign * self._score_func(y_true, y_pred, **scoring_kwargs)\n",
            "                        ^^^^^^^^^^^^^^^^^^^^^^^^^^^^^^^^^^^^^^^^^^^^^^^^^^\n",
            "  File \"/usr/local/lib/python3.11/dist-packages/sklearn/utils/_param_validation.py\", line 216, in wrapper\n",
            "    return func(*args, **kwargs)\n",
            "           ^^^^^^^^^^^^^^^^^^^^^\n",
            "  File \"/usr/local/lib/python3.11/dist-packages/sklearn/metrics/_regression.py\", line 746, in mean_squared_log_error\n",
            "    raise ValueError(\n",
            "ValueError: Mean Squared Logarithmic Error cannot be used when targets contain values less than or equal to -1.\n",
            "\n",
            "  warnings.warn(\n"
          ]
        },
        {
          "output_type": "stream",
          "name": "stdout",
          "text": [
            "[CV] END regressor__colsample_bytree=0.8, regressor__learning_rate=0.1, regressor__max_depth=5, regressor__n_estimators=300, regressor__subsample=1.0; total time=   3.5s\n"
          ]
        },
        {
          "output_type": "stream",
          "name": "stderr",
          "text": [
            "/usr/local/lib/python3.11/dist-packages/sklearn/model_selection/_validation.py:960: UserWarning: Scoring failed. The score on this train-test partition for these parameters will be set to nan. Details: \n",
            "Traceback (most recent call last):\n",
            "  File \"/usr/local/lib/python3.11/dist-packages/sklearn/model_selection/_validation.py\", line 949, in _score\n",
            "    scores = scorer(estimator, X_test, y_test, **score_params)\n",
            "             ^^^^^^^^^^^^^^^^^^^^^^^^^^^^^^^^^^^^^^^^^^^^^^^^^\n",
            "  File \"/usr/local/lib/python3.11/dist-packages/sklearn/metrics/_scorer.py\", line 288, in __call__\n",
            "    return self._score(partial(_cached_call, None), estimator, X, y_true, **_kwargs)\n",
            "           ^^^^^^^^^^^^^^^^^^^^^^^^^^^^^^^^^^^^^^^^^^^^^^^^^^^^^^^^^^^^^^^^^^^^^^^^^\n",
            "  File \"/usr/local/lib/python3.11/dist-packages/sklearn/metrics/_scorer.py\", line 388, in _score\n",
            "    return self._sign * self._score_func(y_true, y_pred, **scoring_kwargs)\n",
            "                        ^^^^^^^^^^^^^^^^^^^^^^^^^^^^^^^^^^^^^^^^^^^^^^^^^^\n",
            "  File \"/usr/local/lib/python3.11/dist-packages/sklearn/utils/_param_validation.py\", line 216, in wrapper\n",
            "    return func(*args, **kwargs)\n",
            "           ^^^^^^^^^^^^^^^^^^^^^\n",
            "  File \"/usr/local/lib/python3.11/dist-packages/sklearn/metrics/_regression.py\", line 746, in mean_squared_log_error\n",
            "    raise ValueError(\n",
            "ValueError: Mean Squared Logarithmic Error cannot be used when targets contain values less than or equal to -1.\n",
            "\n",
            "  warnings.warn(\n"
          ]
        },
        {
          "output_type": "stream",
          "name": "stdout",
          "text": [
            "[CV] END regressor__colsample_bytree=0.8, regressor__learning_rate=0.1, regressor__max_depth=7, regressor__n_estimators=100, regressor__subsample=0.8; total time=   5.5s\n",
            "[CV] END regressor__colsample_bytree=0.8, regressor__learning_rate=0.1, regressor__max_depth=7, regressor__n_estimators=100, regressor__subsample=0.8; total time=   2.3s\n"
          ]
        },
        {
          "output_type": "stream",
          "name": "stderr",
          "text": [
            "/usr/local/lib/python3.11/dist-packages/sklearn/model_selection/_validation.py:960: UserWarning: Scoring failed. The score on this train-test partition for these parameters will be set to nan. Details: \n",
            "Traceback (most recent call last):\n",
            "  File \"/usr/local/lib/python3.11/dist-packages/sklearn/model_selection/_validation.py\", line 949, in _score\n",
            "    scores = scorer(estimator, X_test, y_test, **score_params)\n",
            "             ^^^^^^^^^^^^^^^^^^^^^^^^^^^^^^^^^^^^^^^^^^^^^^^^^\n",
            "  File \"/usr/local/lib/python3.11/dist-packages/sklearn/metrics/_scorer.py\", line 288, in __call__\n",
            "    return self._score(partial(_cached_call, None), estimator, X, y_true, **_kwargs)\n",
            "           ^^^^^^^^^^^^^^^^^^^^^^^^^^^^^^^^^^^^^^^^^^^^^^^^^^^^^^^^^^^^^^^^^^^^^^^^^\n",
            "  File \"/usr/local/lib/python3.11/dist-packages/sklearn/metrics/_scorer.py\", line 388, in _score\n",
            "    return self._sign * self._score_func(y_true, y_pred, **scoring_kwargs)\n",
            "                        ^^^^^^^^^^^^^^^^^^^^^^^^^^^^^^^^^^^^^^^^^^^^^^^^^^\n",
            "  File \"/usr/local/lib/python3.11/dist-packages/sklearn/utils/_param_validation.py\", line 216, in wrapper\n",
            "    return func(*args, **kwargs)\n",
            "           ^^^^^^^^^^^^^^^^^^^^^\n",
            "  File \"/usr/local/lib/python3.11/dist-packages/sklearn/metrics/_regression.py\", line 746, in mean_squared_log_error\n",
            "    raise ValueError(\n",
            "ValueError: Mean Squared Logarithmic Error cannot be used when targets contain values less than or equal to -1.\n",
            "\n",
            "  warnings.warn(\n"
          ]
        },
        {
          "output_type": "stream",
          "name": "stdout",
          "text": [
            "[CV] END regressor__colsample_bytree=0.8, regressor__learning_rate=0.1, regressor__max_depth=7, regressor__n_estimators=100, regressor__subsample=0.8; total time=   2.3s\n"
          ]
        },
        {
          "output_type": "stream",
          "name": "stderr",
          "text": [
            "/usr/local/lib/python3.11/dist-packages/sklearn/model_selection/_validation.py:960: UserWarning: Scoring failed. The score on this train-test partition for these parameters will be set to nan. Details: \n",
            "Traceback (most recent call last):\n",
            "  File \"/usr/local/lib/python3.11/dist-packages/sklearn/model_selection/_validation.py\", line 949, in _score\n",
            "    scores = scorer(estimator, X_test, y_test, **score_params)\n",
            "             ^^^^^^^^^^^^^^^^^^^^^^^^^^^^^^^^^^^^^^^^^^^^^^^^^\n",
            "  File \"/usr/local/lib/python3.11/dist-packages/sklearn/metrics/_scorer.py\", line 288, in __call__\n",
            "    return self._score(partial(_cached_call, None), estimator, X, y_true, **_kwargs)\n",
            "           ^^^^^^^^^^^^^^^^^^^^^^^^^^^^^^^^^^^^^^^^^^^^^^^^^^^^^^^^^^^^^^^^^^^^^^^^^\n",
            "  File \"/usr/local/lib/python3.11/dist-packages/sklearn/metrics/_scorer.py\", line 388, in _score\n",
            "    return self._sign * self._score_func(y_true, y_pred, **scoring_kwargs)\n",
            "                        ^^^^^^^^^^^^^^^^^^^^^^^^^^^^^^^^^^^^^^^^^^^^^^^^^^\n",
            "  File \"/usr/local/lib/python3.11/dist-packages/sklearn/utils/_param_validation.py\", line 216, in wrapper\n",
            "    return func(*args, **kwargs)\n",
            "           ^^^^^^^^^^^^^^^^^^^^^\n",
            "  File \"/usr/local/lib/python3.11/dist-packages/sklearn/metrics/_regression.py\", line 746, in mean_squared_log_error\n",
            "    raise ValueError(\n",
            "ValueError: Mean Squared Logarithmic Error cannot be used when targets contain values less than or equal to -1.\n",
            "\n",
            "  warnings.warn(\n"
          ]
        },
        {
          "output_type": "stream",
          "name": "stdout",
          "text": [
            "[CV] END regressor__colsample_bytree=0.8, regressor__learning_rate=0.1, regressor__max_depth=7, regressor__n_estimators=100, regressor__subsample=1.0; total time=   2.4s\n",
            "[CV] END regressor__colsample_bytree=0.8, regressor__learning_rate=0.1, regressor__max_depth=7, regressor__n_estimators=100, regressor__subsample=1.0; total time=   2.4s\n"
          ]
        },
        {
          "output_type": "stream",
          "name": "stderr",
          "text": [
            "/usr/local/lib/python3.11/dist-packages/sklearn/model_selection/_validation.py:960: UserWarning: Scoring failed. The score on this train-test partition for these parameters will be set to nan. Details: \n",
            "Traceback (most recent call last):\n",
            "  File \"/usr/local/lib/python3.11/dist-packages/sklearn/model_selection/_validation.py\", line 949, in _score\n",
            "    scores = scorer(estimator, X_test, y_test, **score_params)\n",
            "             ^^^^^^^^^^^^^^^^^^^^^^^^^^^^^^^^^^^^^^^^^^^^^^^^^\n",
            "  File \"/usr/local/lib/python3.11/dist-packages/sklearn/metrics/_scorer.py\", line 288, in __call__\n",
            "    return self._score(partial(_cached_call, None), estimator, X, y_true, **_kwargs)\n",
            "           ^^^^^^^^^^^^^^^^^^^^^^^^^^^^^^^^^^^^^^^^^^^^^^^^^^^^^^^^^^^^^^^^^^^^^^^^^\n",
            "  File \"/usr/local/lib/python3.11/dist-packages/sklearn/metrics/_scorer.py\", line 388, in _score\n",
            "    return self._sign * self._score_func(y_true, y_pred, **scoring_kwargs)\n",
            "                        ^^^^^^^^^^^^^^^^^^^^^^^^^^^^^^^^^^^^^^^^^^^^^^^^^^\n",
            "  File \"/usr/local/lib/python3.11/dist-packages/sklearn/utils/_param_validation.py\", line 216, in wrapper\n",
            "    return func(*args, **kwargs)\n",
            "           ^^^^^^^^^^^^^^^^^^^^^\n",
            "  File \"/usr/local/lib/python3.11/dist-packages/sklearn/metrics/_regression.py\", line 746, in mean_squared_log_error\n",
            "    raise ValueError(\n",
            "ValueError: Mean Squared Logarithmic Error cannot be used when targets contain values less than or equal to -1.\n",
            "\n",
            "  warnings.warn(\n"
          ]
        },
        {
          "output_type": "stream",
          "name": "stdout",
          "text": [
            "[CV] END regressor__colsample_bytree=0.8, regressor__learning_rate=0.1, regressor__max_depth=7, regressor__n_estimators=100, regressor__subsample=1.0; total time=   4.9s\n"
          ]
        },
        {
          "output_type": "stream",
          "name": "stderr",
          "text": [
            "/usr/local/lib/python3.11/dist-packages/sklearn/model_selection/_validation.py:960: UserWarning: Scoring failed. The score on this train-test partition for these parameters will be set to nan. Details: \n",
            "Traceback (most recent call last):\n",
            "  File \"/usr/local/lib/python3.11/dist-packages/sklearn/model_selection/_validation.py\", line 949, in _score\n",
            "    scores = scorer(estimator, X_test, y_test, **score_params)\n",
            "             ^^^^^^^^^^^^^^^^^^^^^^^^^^^^^^^^^^^^^^^^^^^^^^^^^\n",
            "  File \"/usr/local/lib/python3.11/dist-packages/sklearn/metrics/_scorer.py\", line 288, in __call__\n",
            "    return self._score(partial(_cached_call, None), estimator, X, y_true, **_kwargs)\n",
            "           ^^^^^^^^^^^^^^^^^^^^^^^^^^^^^^^^^^^^^^^^^^^^^^^^^^^^^^^^^^^^^^^^^^^^^^^^^\n",
            "  File \"/usr/local/lib/python3.11/dist-packages/sklearn/metrics/_scorer.py\", line 388, in _score\n",
            "    return self._sign * self._score_func(y_true, y_pred, **scoring_kwargs)\n",
            "                        ^^^^^^^^^^^^^^^^^^^^^^^^^^^^^^^^^^^^^^^^^^^^^^^^^^\n",
            "  File \"/usr/local/lib/python3.11/dist-packages/sklearn/utils/_param_validation.py\", line 216, in wrapper\n",
            "    return func(*args, **kwargs)\n",
            "           ^^^^^^^^^^^^^^^^^^^^^\n",
            "  File \"/usr/local/lib/python3.11/dist-packages/sklearn/metrics/_regression.py\", line 746, in mean_squared_log_error\n",
            "    raise ValueError(\n",
            "ValueError: Mean Squared Logarithmic Error cannot be used when targets contain values less than or equal to -1.\n",
            "\n",
            "  warnings.warn(\n"
          ]
        },
        {
          "output_type": "stream",
          "name": "stdout",
          "text": [
            "[CV] END regressor__colsample_bytree=0.8, regressor__learning_rate=0.1, regressor__max_depth=7, regressor__n_estimators=200, regressor__subsample=0.8; total time=   4.0s\n",
            "[CV] END regressor__colsample_bytree=0.8, regressor__learning_rate=0.1, regressor__max_depth=7, regressor__n_estimators=200, regressor__subsample=0.8; total time=   3.6s\n"
          ]
        },
        {
          "output_type": "stream",
          "name": "stderr",
          "text": [
            "/usr/local/lib/python3.11/dist-packages/sklearn/model_selection/_validation.py:960: UserWarning: Scoring failed. The score on this train-test partition for these parameters will be set to nan. Details: \n",
            "Traceback (most recent call last):\n",
            "  File \"/usr/local/lib/python3.11/dist-packages/sklearn/model_selection/_validation.py\", line 949, in _score\n",
            "    scores = scorer(estimator, X_test, y_test, **score_params)\n",
            "             ^^^^^^^^^^^^^^^^^^^^^^^^^^^^^^^^^^^^^^^^^^^^^^^^^\n",
            "  File \"/usr/local/lib/python3.11/dist-packages/sklearn/metrics/_scorer.py\", line 288, in __call__\n",
            "    return self._score(partial(_cached_call, None), estimator, X, y_true, **_kwargs)\n",
            "           ^^^^^^^^^^^^^^^^^^^^^^^^^^^^^^^^^^^^^^^^^^^^^^^^^^^^^^^^^^^^^^^^^^^^^^^^^\n",
            "  File \"/usr/local/lib/python3.11/dist-packages/sklearn/metrics/_scorer.py\", line 388, in _score\n",
            "    return self._sign * self._score_func(y_true, y_pred, **scoring_kwargs)\n",
            "                        ^^^^^^^^^^^^^^^^^^^^^^^^^^^^^^^^^^^^^^^^^^^^^^^^^^\n",
            "  File \"/usr/local/lib/python3.11/dist-packages/sklearn/utils/_param_validation.py\", line 216, in wrapper\n",
            "    return func(*args, **kwargs)\n",
            "           ^^^^^^^^^^^^^^^^^^^^^\n",
            "  File \"/usr/local/lib/python3.11/dist-packages/sklearn/metrics/_regression.py\", line 746, in mean_squared_log_error\n",
            "    raise ValueError(\n",
            "ValueError: Mean Squared Logarithmic Error cannot be used when targets contain values less than or equal to -1.\n",
            "\n",
            "  warnings.warn(\n"
          ]
        },
        {
          "output_type": "stream",
          "name": "stdout",
          "text": [
            "[CV] END regressor__colsample_bytree=0.8, regressor__learning_rate=0.1, regressor__max_depth=7, regressor__n_estimators=200, regressor__subsample=0.8; total time=   6.6s\n"
          ]
        },
        {
          "output_type": "stream",
          "name": "stderr",
          "text": [
            "/usr/local/lib/python3.11/dist-packages/sklearn/model_selection/_validation.py:960: UserWarning: Scoring failed. The score on this train-test partition for these parameters will be set to nan. Details: \n",
            "Traceback (most recent call last):\n",
            "  File \"/usr/local/lib/python3.11/dist-packages/sklearn/model_selection/_validation.py\", line 949, in _score\n",
            "    scores = scorer(estimator, X_test, y_test, **score_params)\n",
            "             ^^^^^^^^^^^^^^^^^^^^^^^^^^^^^^^^^^^^^^^^^^^^^^^^^\n",
            "  File \"/usr/local/lib/python3.11/dist-packages/sklearn/metrics/_scorer.py\", line 288, in __call__\n",
            "    return self._score(partial(_cached_call, None), estimator, X, y_true, **_kwargs)\n",
            "           ^^^^^^^^^^^^^^^^^^^^^^^^^^^^^^^^^^^^^^^^^^^^^^^^^^^^^^^^^^^^^^^^^^^^^^^^^\n",
            "  File \"/usr/local/lib/python3.11/dist-packages/sklearn/metrics/_scorer.py\", line 388, in _score\n",
            "    return self._sign * self._score_func(y_true, y_pred, **scoring_kwargs)\n",
            "                        ^^^^^^^^^^^^^^^^^^^^^^^^^^^^^^^^^^^^^^^^^^^^^^^^^^\n",
            "  File \"/usr/local/lib/python3.11/dist-packages/sklearn/utils/_param_validation.py\", line 216, in wrapper\n",
            "    return func(*args, **kwargs)\n",
            "           ^^^^^^^^^^^^^^^^^^^^^\n",
            "  File \"/usr/local/lib/python3.11/dist-packages/sklearn/metrics/_regression.py\", line 746, in mean_squared_log_error\n",
            "    raise ValueError(\n",
            "ValueError: Mean Squared Logarithmic Error cannot be used when targets contain values less than or equal to -1.\n",
            "\n",
            "  warnings.warn(\n"
          ]
        },
        {
          "output_type": "stream",
          "name": "stdout",
          "text": [
            "[CV] END regressor__colsample_bytree=0.8, regressor__learning_rate=0.1, regressor__max_depth=7, regressor__n_estimators=200, regressor__subsample=1.0; total time=   3.6s\n"
          ]
        },
        {
          "output_type": "stream",
          "name": "stderr",
          "text": [
            "/usr/local/lib/python3.11/dist-packages/sklearn/model_selection/_validation.py:960: UserWarning: Scoring failed. The score on this train-test partition for these parameters will be set to nan. Details: \n",
            "Traceback (most recent call last):\n",
            "  File \"/usr/local/lib/python3.11/dist-packages/sklearn/model_selection/_validation.py\", line 949, in _score\n",
            "    scores = scorer(estimator, X_test, y_test, **score_params)\n",
            "             ^^^^^^^^^^^^^^^^^^^^^^^^^^^^^^^^^^^^^^^^^^^^^^^^^\n",
            "  File \"/usr/local/lib/python3.11/dist-packages/sklearn/metrics/_scorer.py\", line 288, in __call__\n",
            "    return self._score(partial(_cached_call, None), estimator, X, y_true, **_kwargs)\n",
            "           ^^^^^^^^^^^^^^^^^^^^^^^^^^^^^^^^^^^^^^^^^^^^^^^^^^^^^^^^^^^^^^^^^^^^^^^^^\n",
            "  File \"/usr/local/lib/python3.11/dist-packages/sklearn/metrics/_scorer.py\", line 388, in _score\n",
            "    return self._sign * self._score_func(y_true, y_pred, **scoring_kwargs)\n",
            "                        ^^^^^^^^^^^^^^^^^^^^^^^^^^^^^^^^^^^^^^^^^^^^^^^^^^\n",
            "  File \"/usr/local/lib/python3.11/dist-packages/sklearn/utils/_param_validation.py\", line 216, in wrapper\n",
            "    return func(*args, **kwargs)\n",
            "           ^^^^^^^^^^^^^^^^^^^^^\n",
            "  File \"/usr/local/lib/python3.11/dist-packages/sklearn/metrics/_regression.py\", line 746, in mean_squared_log_error\n",
            "    raise ValueError(\n",
            "ValueError: Mean Squared Logarithmic Error cannot be used when targets contain values less than or equal to -1.\n",
            "\n",
            "  warnings.warn(\n"
          ]
        },
        {
          "output_type": "stream",
          "name": "stdout",
          "text": [
            "[CV] END regressor__colsample_bytree=0.8, regressor__learning_rate=0.1, regressor__max_depth=7, regressor__n_estimators=200, regressor__subsample=1.0; total time=   3.5s\n"
          ]
        },
        {
          "output_type": "stream",
          "name": "stderr",
          "text": [
            "/usr/local/lib/python3.11/dist-packages/sklearn/model_selection/_validation.py:960: UserWarning: Scoring failed. The score on this train-test partition for these parameters will be set to nan. Details: \n",
            "Traceback (most recent call last):\n",
            "  File \"/usr/local/lib/python3.11/dist-packages/sklearn/model_selection/_validation.py\", line 949, in _score\n",
            "    scores = scorer(estimator, X_test, y_test, **score_params)\n",
            "             ^^^^^^^^^^^^^^^^^^^^^^^^^^^^^^^^^^^^^^^^^^^^^^^^^\n",
            "  File \"/usr/local/lib/python3.11/dist-packages/sklearn/metrics/_scorer.py\", line 288, in __call__\n",
            "    return self._score(partial(_cached_call, None), estimator, X, y_true, **_kwargs)\n",
            "           ^^^^^^^^^^^^^^^^^^^^^^^^^^^^^^^^^^^^^^^^^^^^^^^^^^^^^^^^^^^^^^^^^^^^^^^^^\n",
            "  File \"/usr/local/lib/python3.11/dist-packages/sklearn/metrics/_scorer.py\", line 388, in _score\n",
            "    return self._sign * self._score_func(y_true, y_pred, **scoring_kwargs)\n",
            "                        ^^^^^^^^^^^^^^^^^^^^^^^^^^^^^^^^^^^^^^^^^^^^^^^^^^\n",
            "  File \"/usr/local/lib/python3.11/dist-packages/sklearn/utils/_param_validation.py\", line 216, in wrapper\n",
            "    return func(*args, **kwargs)\n",
            "           ^^^^^^^^^^^^^^^^^^^^^\n",
            "  File \"/usr/local/lib/python3.11/dist-packages/sklearn/metrics/_regression.py\", line 746, in mean_squared_log_error\n",
            "    raise ValueError(\n",
            "ValueError: Mean Squared Logarithmic Error cannot be used when targets contain values less than or equal to -1.\n",
            "\n",
            "  warnings.warn(\n"
          ]
        },
        {
          "output_type": "stream",
          "name": "stdout",
          "text": [
            "[CV] END regressor__colsample_bytree=0.8, regressor__learning_rate=0.1, regressor__max_depth=7, regressor__n_estimators=200, regressor__subsample=1.0; total time=   6.3s\n"
          ]
        },
        {
          "output_type": "stream",
          "name": "stderr",
          "text": [
            "/usr/local/lib/python3.11/dist-packages/sklearn/model_selection/_validation.py:960: UserWarning: Scoring failed. The score on this train-test partition for these parameters will be set to nan. Details: \n",
            "Traceback (most recent call last):\n",
            "  File \"/usr/local/lib/python3.11/dist-packages/sklearn/model_selection/_validation.py\", line 949, in _score\n",
            "    scores = scorer(estimator, X_test, y_test, **score_params)\n",
            "             ^^^^^^^^^^^^^^^^^^^^^^^^^^^^^^^^^^^^^^^^^^^^^^^^^\n",
            "  File \"/usr/local/lib/python3.11/dist-packages/sklearn/metrics/_scorer.py\", line 288, in __call__\n",
            "    return self._score(partial(_cached_call, None), estimator, X, y_true, **_kwargs)\n",
            "           ^^^^^^^^^^^^^^^^^^^^^^^^^^^^^^^^^^^^^^^^^^^^^^^^^^^^^^^^^^^^^^^^^^^^^^^^^\n",
            "  File \"/usr/local/lib/python3.11/dist-packages/sklearn/metrics/_scorer.py\", line 388, in _score\n",
            "    return self._sign * self._score_func(y_true, y_pred, **scoring_kwargs)\n",
            "                        ^^^^^^^^^^^^^^^^^^^^^^^^^^^^^^^^^^^^^^^^^^^^^^^^^^\n",
            "  File \"/usr/local/lib/python3.11/dist-packages/sklearn/utils/_param_validation.py\", line 216, in wrapper\n",
            "    return func(*args, **kwargs)\n",
            "           ^^^^^^^^^^^^^^^^^^^^^\n",
            "  File \"/usr/local/lib/python3.11/dist-packages/sklearn/metrics/_regression.py\", line 746, in mean_squared_log_error\n",
            "    raise ValueError(\n",
            "ValueError: Mean Squared Logarithmic Error cannot be used when targets contain values less than or equal to -1.\n",
            "\n",
            "  warnings.warn(\n"
          ]
        },
        {
          "output_type": "stream",
          "name": "stdout",
          "text": [
            "[CV] END regressor__colsample_bytree=0.8, regressor__learning_rate=0.1, regressor__max_depth=7, regressor__n_estimators=300, regressor__subsample=0.8; total time=   5.1s\n",
            "[CV] END regressor__colsample_bytree=0.8, regressor__learning_rate=0.1, regressor__max_depth=7, regressor__n_estimators=300, regressor__subsample=0.8; total time=   5.2s\n"
          ]
        },
        {
          "output_type": "stream",
          "name": "stderr",
          "text": [
            "/usr/local/lib/python3.11/dist-packages/sklearn/model_selection/_validation.py:960: UserWarning: Scoring failed. The score on this train-test partition for these parameters will be set to nan. Details: \n",
            "Traceback (most recent call last):\n",
            "  File \"/usr/local/lib/python3.11/dist-packages/sklearn/model_selection/_validation.py\", line 949, in _score\n",
            "    scores = scorer(estimator, X_test, y_test, **score_params)\n",
            "             ^^^^^^^^^^^^^^^^^^^^^^^^^^^^^^^^^^^^^^^^^^^^^^^^^\n",
            "  File \"/usr/local/lib/python3.11/dist-packages/sklearn/metrics/_scorer.py\", line 288, in __call__\n",
            "    return self._score(partial(_cached_call, None), estimator, X, y_true, **_kwargs)\n",
            "           ^^^^^^^^^^^^^^^^^^^^^^^^^^^^^^^^^^^^^^^^^^^^^^^^^^^^^^^^^^^^^^^^^^^^^^^^^\n",
            "  File \"/usr/local/lib/python3.11/dist-packages/sklearn/metrics/_scorer.py\", line 388, in _score\n",
            "    return self._sign * self._score_func(y_true, y_pred, **scoring_kwargs)\n",
            "                        ^^^^^^^^^^^^^^^^^^^^^^^^^^^^^^^^^^^^^^^^^^^^^^^^^^\n",
            "  File \"/usr/local/lib/python3.11/dist-packages/sklearn/utils/_param_validation.py\", line 216, in wrapper\n",
            "    return func(*args, **kwargs)\n",
            "           ^^^^^^^^^^^^^^^^^^^^^\n",
            "  File \"/usr/local/lib/python3.11/dist-packages/sklearn/metrics/_regression.py\", line 746, in mean_squared_log_error\n",
            "    raise ValueError(\n",
            "ValueError: Mean Squared Logarithmic Error cannot be used when targets contain values less than or equal to -1.\n",
            "\n",
            "  warnings.warn(\n"
          ]
        },
        {
          "output_type": "stream",
          "name": "stdout",
          "text": [
            "[CV] END regressor__colsample_bytree=0.8, regressor__learning_rate=0.1, regressor__max_depth=7, regressor__n_estimators=300, regressor__subsample=0.8; total time=   7.2s\n"
          ]
        },
        {
          "output_type": "stream",
          "name": "stderr",
          "text": [
            "/usr/local/lib/python3.11/dist-packages/sklearn/model_selection/_validation.py:960: UserWarning: Scoring failed. The score on this train-test partition for these parameters will be set to nan. Details: \n",
            "Traceback (most recent call last):\n",
            "  File \"/usr/local/lib/python3.11/dist-packages/sklearn/model_selection/_validation.py\", line 949, in _score\n",
            "    scores = scorer(estimator, X_test, y_test, **score_params)\n",
            "             ^^^^^^^^^^^^^^^^^^^^^^^^^^^^^^^^^^^^^^^^^^^^^^^^^\n",
            "  File \"/usr/local/lib/python3.11/dist-packages/sklearn/metrics/_scorer.py\", line 288, in __call__\n",
            "    return self._score(partial(_cached_call, None), estimator, X, y_true, **_kwargs)\n",
            "           ^^^^^^^^^^^^^^^^^^^^^^^^^^^^^^^^^^^^^^^^^^^^^^^^^^^^^^^^^^^^^^^^^^^^^^^^^\n",
            "  File \"/usr/local/lib/python3.11/dist-packages/sklearn/metrics/_scorer.py\", line 388, in _score\n",
            "    return self._sign * self._score_func(y_true, y_pred, **scoring_kwargs)\n",
            "                        ^^^^^^^^^^^^^^^^^^^^^^^^^^^^^^^^^^^^^^^^^^^^^^^^^^\n",
            "  File \"/usr/local/lib/python3.11/dist-packages/sklearn/utils/_param_validation.py\", line 216, in wrapper\n",
            "    return func(*args, **kwargs)\n",
            "           ^^^^^^^^^^^^^^^^^^^^^\n",
            "  File \"/usr/local/lib/python3.11/dist-packages/sklearn/metrics/_regression.py\", line 746, in mean_squared_log_error\n",
            "    raise ValueError(\n",
            "ValueError: Mean Squared Logarithmic Error cannot be used when targets contain values less than or equal to -1.\n",
            "\n",
            "  warnings.warn(\n"
          ]
        },
        {
          "output_type": "stream",
          "name": "stdout",
          "text": [
            "[CV] END regressor__colsample_bytree=0.8, regressor__learning_rate=0.1, regressor__max_depth=7, regressor__n_estimators=300, regressor__subsample=1.0; total time=   4.8s\n"
          ]
        },
        {
          "output_type": "stream",
          "name": "stderr",
          "text": [
            "/usr/local/lib/python3.11/dist-packages/sklearn/model_selection/_validation.py:960: UserWarning: Scoring failed. The score on this train-test partition for these parameters will be set to nan. Details: \n",
            "Traceback (most recent call last):\n",
            "  File \"/usr/local/lib/python3.11/dist-packages/sklearn/model_selection/_validation.py\", line 949, in _score\n",
            "    scores = scorer(estimator, X_test, y_test, **score_params)\n",
            "             ^^^^^^^^^^^^^^^^^^^^^^^^^^^^^^^^^^^^^^^^^^^^^^^^^\n",
            "  File \"/usr/local/lib/python3.11/dist-packages/sklearn/metrics/_scorer.py\", line 288, in __call__\n",
            "    return self._score(partial(_cached_call, None), estimator, X, y_true, **_kwargs)\n",
            "           ^^^^^^^^^^^^^^^^^^^^^^^^^^^^^^^^^^^^^^^^^^^^^^^^^^^^^^^^^^^^^^^^^^^^^^^^^\n",
            "  File \"/usr/local/lib/python3.11/dist-packages/sklearn/metrics/_scorer.py\", line 388, in _score\n",
            "    return self._sign * self._score_func(y_true, y_pred, **scoring_kwargs)\n",
            "                        ^^^^^^^^^^^^^^^^^^^^^^^^^^^^^^^^^^^^^^^^^^^^^^^^^^\n",
            "  File \"/usr/local/lib/python3.11/dist-packages/sklearn/utils/_param_validation.py\", line 216, in wrapper\n",
            "    return func(*args, **kwargs)\n",
            "           ^^^^^^^^^^^^^^^^^^^^^\n",
            "  File \"/usr/local/lib/python3.11/dist-packages/sklearn/metrics/_regression.py\", line 746, in mean_squared_log_error\n",
            "    raise ValueError(\n",
            "ValueError: Mean Squared Logarithmic Error cannot be used when targets contain values less than or equal to -1.\n",
            "\n",
            "  warnings.warn(\n"
          ]
        },
        {
          "output_type": "stream",
          "name": "stdout",
          "text": [
            "[CV] END regressor__colsample_bytree=0.8, regressor__learning_rate=0.1, regressor__max_depth=7, regressor__n_estimators=300, regressor__subsample=1.0; total time=   7.9s\n"
          ]
        },
        {
          "output_type": "stream",
          "name": "stderr",
          "text": [
            "/usr/local/lib/python3.11/dist-packages/sklearn/model_selection/_validation.py:960: UserWarning: Scoring failed. The score on this train-test partition for these parameters will be set to nan. Details: \n",
            "Traceback (most recent call last):\n",
            "  File \"/usr/local/lib/python3.11/dist-packages/sklearn/model_selection/_validation.py\", line 949, in _score\n",
            "    scores = scorer(estimator, X_test, y_test, **score_params)\n",
            "             ^^^^^^^^^^^^^^^^^^^^^^^^^^^^^^^^^^^^^^^^^^^^^^^^^\n",
            "  File \"/usr/local/lib/python3.11/dist-packages/sklearn/metrics/_scorer.py\", line 288, in __call__\n",
            "    return self._score(partial(_cached_call, None), estimator, X, y_true, **_kwargs)\n",
            "           ^^^^^^^^^^^^^^^^^^^^^^^^^^^^^^^^^^^^^^^^^^^^^^^^^^^^^^^^^^^^^^^^^^^^^^^^^\n",
            "  File \"/usr/local/lib/python3.11/dist-packages/sklearn/metrics/_scorer.py\", line 388, in _score\n",
            "    return self._sign * self._score_func(y_true, y_pred, **scoring_kwargs)\n",
            "                        ^^^^^^^^^^^^^^^^^^^^^^^^^^^^^^^^^^^^^^^^^^^^^^^^^^\n",
            "  File \"/usr/local/lib/python3.11/dist-packages/sklearn/utils/_param_validation.py\", line 216, in wrapper\n",
            "    return func(*args, **kwargs)\n",
            "           ^^^^^^^^^^^^^^^^^^^^^\n",
            "  File \"/usr/local/lib/python3.11/dist-packages/sklearn/metrics/_regression.py\", line 746, in mean_squared_log_error\n",
            "    raise ValueError(\n",
            "ValueError: Mean Squared Logarithmic Error cannot be used when targets contain values less than or equal to -1.\n",
            "\n",
            "  warnings.warn(\n"
          ]
        },
        {
          "output_type": "stream",
          "name": "stdout",
          "text": [
            "[CV] END regressor__colsample_bytree=0.8, regressor__learning_rate=0.1, regressor__max_depth=7, regressor__n_estimators=300, regressor__subsample=1.0; total time=   4.7s\n",
            "[CV] END regressor__colsample_bytree=1.0, regressor__learning_rate=0.01, regressor__max_depth=3, regressor__n_estimators=100, regressor__subsample=0.8; total time=   1.6s\n",
            "[CV] END regressor__colsample_bytree=1.0, regressor__learning_rate=0.01, regressor__max_depth=3, regressor__n_estimators=100, regressor__subsample=0.8; total time=   1.6s\n",
            "[CV] END regressor__colsample_bytree=1.0, regressor__learning_rate=0.01, regressor__max_depth=3, regressor__n_estimators=100, regressor__subsample=0.8; total time=   3.2s\n",
            "[CV] END regressor__colsample_bytree=1.0, regressor__learning_rate=0.01, regressor__max_depth=3, regressor__n_estimators=100, regressor__subsample=1.0; total time=   1.9s\n",
            "[CV] END regressor__colsample_bytree=1.0, regressor__learning_rate=0.01, regressor__max_depth=3, regressor__n_estimators=100, regressor__subsample=1.0; total time=   1.5s\n",
            "[CV] END regressor__colsample_bytree=1.0, regressor__learning_rate=0.01, regressor__max_depth=3, regressor__n_estimators=100, regressor__subsample=1.0; total time=   1.5s\n",
            "[CV] END regressor__colsample_bytree=1.0, regressor__learning_rate=0.01, regressor__max_depth=3, regressor__n_estimators=200, regressor__subsample=0.8; total time=   2.1s\n",
            "[CV] END regressor__colsample_bytree=1.0, regressor__learning_rate=0.01, regressor__max_depth=3, regressor__n_estimators=200, regressor__subsample=0.8; total time=   2.1s\n",
            "[CV] END regressor__colsample_bytree=1.0, regressor__learning_rate=0.01, regressor__max_depth=3, regressor__n_estimators=200, regressor__subsample=0.8; total time=   2.2s\n",
            "[CV] END regressor__colsample_bytree=1.0, regressor__learning_rate=0.01, regressor__max_depth=3, regressor__n_estimators=200, regressor__subsample=1.0; total time=   4.4s\n",
            "[CV] END regressor__colsample_bytree=1.0, regressor__learning_rate=0.01, regressor__max_depth=3, regressor__n_estimators=200, regressor__subsample=1.0; total time=   1.9s\n",
            "[CV] END regressor__colsample_bytree=1.0, regressor__learning_rate=0.01, regressor__max_depth=3, regressor__n_estimators=200, regressor__subsample=1.0; total time=   2.0s\n",
            "[CV] END regressor__colsample_bytree=1.0, regressor__learning_rate=0.01, regressor__max_depth=3, regressor__n_estimators=300, regressor__subsample=0.8; total time=   2.6s\n",
            "[CV] END regressor__colsample_bytree=1.0, regressor__learning_rate=0.01, regressor__max_depth=3, regressor__n_estimators=300, regressor__subsample=0.8; total time=   2.5s\n",
            "[CV] END regressor__colsample_bytree=1.0, regressor__learning_rate=0.01, regressor__max_depth=3, regressor__n_estimators=300, regressor__subsample=0.8; total time=   5.5s\n",
            "[CV] END regressor__colsample_bytree=1.0, regressor__learning_rate=0.01, regressor__max_depth=3, regressor__n_estimators=300, regressor__subsample=1.0; total time=   2.4s\n",
            "[CV] END regressor__colsample_bytree=1.0, regressor__learning_rate=0.01, regressor__max_depth=3, regressor__n_estimators=300, regressor__subsample=1.0; total time=   2.4s\n",
            "[CV] END regressor__colsample_bytree=1.0, regressor__learning_rate=0.01, regressor__max_depth=3, regressor__n_estimators=300, regressor__subsample=1.0; total time=   2.5s\n",
            "[CV] END regressor__colsample_bytree=1.0, regressor__learning_rate=0.01, regressor__max_depth=5, regressor__n_estimators=100, regressor__subsample=0.8; total time=   1.6s\n",
            "[CV] END regressor__colsample_bytree=1.0, regressor__learning_rate=0.01, regressor__max_depth=5, regressor__n_estimators=100, regressor__subsample=0.8; total time=   3.8s\n",
            "[CV] END regressor__colsample_bytree=1.0, regressor__learning_rate=0.01, regressor__max_depth=5, regressor__n_estimators=100, regressor__subsample=0.8; total time=   1.7s\n",
            "[CV] END regressor__colsample_bytree=1.0, regressor__learning_rate=0.01, regressor__max_depth=5, regressor__n_estimators=100, regressor__subsample=1.0; total time=   1.5s\n",
            "[CV] END regressor__colsample_bytree=1.0, regressor__learning_rate=0.01, regressor__max_depth=5, regressor__n_estimators=100, regressor__subsample=1.0; total time=   1.5s\n",
            "[CV] END regressor__colsample_bytree=1.0, regressor__learning_rate=0.01, regressor__max_depth=5, regressor__n_estimators=100, regressor__subsample=1.0; total time=   1.5s\n",
            "[CV] END regressor__colsample_bytree=1.0, regressor__learning_rate=0.01, regressor__max_depth=5, regressor__n_estimators=200, regressor__subsample=0.8; total time=   2.1s\n",
            "[CV] END regressor__colsample_bytree=1.0, regressor__learning_rate=0.01, regressor__max_depth=5, regressor__n_estimators=200, regressor__subsample=0.8; total time=   2.2s\n",
            "[CV] END regressor__colsample_bytree=1.0, regressor__learning_rate=0.01, regressor__max_depth=5, regressor__n_estimators=200, regressor__subsample=0.8; total time=   4.5s\n",
            "[CV] END regressor__colsample_bytree=1.0, regressor__learning_rate=0.01, regressor__max_depth=5, regressor__n_estimators=200, regressor__subsample=1.0; total time=   2.1s\n",
            "[CV] END regressor__colsample_bytree=1.0, regressor__learning_rate=0.01, regressor__max_depth=5, regressor__n_estimators=200, regressor__subsample=1.0; total time=   2.0s\n",
            "[CV] END regressor__colsample_bytree=1.0, regressor__learning_rate=0.01, regressor__max_depth=5, regressor__n_estimators=200, regressor__subsample=1.0; total time=   2.0s\n",
            "[CV] END regressor__colsample_bytree=1.0, regressor__learning_rate=0.01, regressor__max_depth=5, regressor__n_estimators=300, regressor__subsample=0.8; total time=   2.7s\n",
            "[CV] END regressor__colsample_bytree=1.0, regressor__learning_rate=0.01, regressor__max_depth=5, regressor__n_estimators=300, regressor__subsample=0.8; total time=   5.5s\n",
            "[CV] END regressor__colsample_bytree=1.0, regressor__learning_rate=0.01, regressor__max_depth=5, regressor__n_estimators=300, regressor__subsample=0.8; total time=   2.7s\n",
            "[CV] END regressor__colsample_bytree=1.0, regressor__learning_rate=0.01, regressor__max_depth=5, regressor__n_estimators=300, regressor__subsample=1.0; total time=   2.5s\n",
            "[CV] END regressor__colsample_bytree=1.0, regressor__learning_rate=0.01, regressor__max_depth=5, regressor__n_estimators=300, regressor__subsample=1.0; total time=   2.6s\n",
            "[CV] END regressor__colsample_bytree=1.0, regressor__learning_rate=0.01, regressor__max_depth=5, regressor__n_estimators=300, regressor__subsample=1.0; total time=   5.6s\n",
            "[CV] END regressor__colsample_bytree=1.0, regressor__learning_rate=0.01, regressor__max_depth=7, regressor__n_estimators=100, regressor__subsample=0.8; total time=   1.6s\n",
            "[CV] END regressor__colsample_bytree=1.0, regressor__learning_rate=0.01, regressor__max_depth=7, regressor__n_estimators=100, regressor__subsample=0.8; total time=   1.5s\n",
            "[CV] END regressor__colsample_bytree=1.0, regressor__learning_rate=0.01, regressor__max_depth=7, regressor__n_estimators=100, regressor__subsample=0.8; total time=   1.6s\n",
            "[CV] END regressor__colsample_bytree=1.0, regressor__learning_rate=0.01, regressor__max_depth=7, regressor__n_estimators=100, regressor__subsample=1.0; total time=   1.6s\n",
            "[CV] END regressor__colsample_bytree=1.0, regressor__learning_rate=0.01, regressor__max_depth=7, regressor__n_estimators=100, regressor__subsample=1.0; total time=   1.5s\n",
            "[CV] END regressor__colsample_bytree=1.0, regressor__learning_rate=0.01, regressor__max_depth=7, regressor__n_estimators=100, regressor__subsample=1.0; total time=   1.5s\n",
            "[CV] END regressor__colsample_bytree=1.0, regressor__learning_rate=0.01, regressor__max_depth=7, regressor__n_estimators=200, regressor__subsample=0.8; total time=   4.9s\n",
            "[CV] END regressor__colsample_bytree=1.0, regressor__learning_rate=0.01, regressor__max_depth=7, regressor__n_estimators=200, regressor__subsample=0.8; total time=   2.1s\n",
            "[CV] END regressor__colsample_bytree=1.0, regressor__learning_rate=0.01, regressor__max_depth=7, regressor__n_estimators=200, regressor__subsample=0.8; total time=   2.1s\n",
            "[CV] END regressor__colsample_bytree=1.0, regressor__learning_rate=0.01, regressor__max_depth=7, regressor__n_estimators=200, regressor__subsample=1.0; total time=   2.1s\n",
            "[CV] END regressor__colsample_bytree=1.0, regressor__learning_rate=0.01, regressor__max_depth=7, regressor__n_estimators=200, regressor__subsample=1.0; total time=   2.1s\n",
            "[CV] END regressor__colsample_bytree=1.0, regressor__learning_rate=0.01, regressor__max_depth=7, regressor__n_estimators=200, regressor__subsample=1.0; total time=   4.2s\n",
            "[CV] END regressor__colsample_bytree=1.0, regressor__learning_rate=0.01, regressor__max_depth=7, regressor__n_estimators=300, regressor__subsample=0.8; total time=   3.1s\n",
            "[CV] END regressor__colsample_bytree=1.0, regressor__learning_rate=0.01, regressor__max_depth=7, regressor__n_estimators=300, regressor__subsample=0.8; total time=   2.7s\n",
            "[CV] END regressor__colsample_bytree=1.0, regressor__learning_rate=0.01, regressor__max_depth=7, regressor__n_estimators=300, regressor__subsample=0.8; total time=   2.8s\n",
            "[CV] END regressor__colsample_bytree=1.0, regressor__learning_rate=0.01, regressor__max_depth=7, regressor__n_estimators=300, regressor__subsample=1.0; total time=   2.9s\n",
            "[CV] END regressor__colsample_bytree=1.0, regressor__learning_rate=0.01, regressor__max_depth=7, regressor__n_estimators=300, regressor__subsample=1.0; total time=   4.9s\n",
            "[CV] END regressor__colsample_bytree=1.0, regressor__learning_rate=0.01, regressor__max_depth=7, regressor__n_estimators=300, regressor__subsample=1.0; total time=   2.7s\n",
            "[CV] END regressor__colsample_bytree=1.0, regressor__learning_rate=0.05, regressor__max_depth=3, regressor__n_estimators=100, regressor__subsample=0.8; total time=   1.6s\n",
            "[CV] END regressor__colsample_bytree=1.0, regressor__learning_rate=0.05, regressor__max_depth=3, regressor__n_estimators=100, regressor__subsample=0.8; total time=   1.6s\n",
            "[CV] END regressor__colsample_bytree=1.0, regressor__learning_rate=0.05, regressor__max_depth=3, regressor__n_estimators=100, regressor__subsample=0.8; total time=   1.6s\n",
            "[CV] END regressor__colsample_bytree=1.0, regressor__learning_rate=0.05, regressor__max_depth=3, regressor__n_estimators=100, regressor__subsample=1.0; total time=   2.8s\n",
            "[CV] END regressor__colsample_bytree=1.0, regressor__learning_rate=0.05, regressor__max_depth=3, regressor__n_estimators=100, regressor__subsample=1.0; total time=   2.6s\n",
            "[CV] END regressor__colsample_bytree=1.0, regressor__learning_rate=0.05, regressor__max_depth=3, regressor__n_estimators=100, regressor__subsample=1.0; total time=   1.5s\n"
          ]
        },
        {
          "output_type": "stream",
          "name": "stderr",
          "text": [
            "/usr/local/lib/python3.11/dist-packages/sklearn/model_selection/_validation.py:960: UserWarning: Scoring failed. The score on this train-test partition for these parameters will be set to nan. Details: \n",
            "Traceback (most recent call last):\n",
            "  File \"/usr/local/lib/python3.11/dist-packages/sklearn/model_selection/_validation.py\", line 949, in _score\n",
            "    scores = scorer(estimator, X_test, y_test, **score_params)\n",
            "             ^^^^^^^^^^^^^^^^^^^^^^^^^^^^^^^^^^^^^^^^^^^^^^^^^\n",
            "  File \"/usr/local/lib/python3.11/dist-packages/sklearn/metrics/_scorer.py\", line 288, in __call__\n",
            "    return self._score(partial(_cached_call, None), estimator, X, y_true, **_kwargs)\n",
            "           ^^^^^^^^^^^^^^^^^^^^^^^^^^^^^^^^^^^^^^^^^^^^^^^^^^^^^^^^^^^^^^^^^^^^^^^^^\n",
            "  File \"/usr/local/lib/python3.11/dist-packages/sklearn/metrics/_scorer.py\", line 388, in _score\n",
            "    return self._sign * self._score_func(y_true, y_pred, **scoring_kwargs)\n",
            "                        ^^^^^^^^^^^^^^^^^^^^^^^^^^^^^^^^^^^^^^^^^^^^^^^^^^\n",
            "  File \"/usr/local/lib/python3.11/dist-packages/sklearn/utils/_param_validation.py\", line 216, in wrapper\n",
            "    return func(*args, **kwargs)\n",
            "           ^^^^^^^^^^^^^^^^^^^^^\n",
            "  File \"/usr/local/lib/python3.11/dist-packages/sklearn/metrics/_regression.py\", line 746, in mean_squared_log_error\n",
            "    raise ValueError(\n",
            "ValueError: Mean Squared Logarithmic Error cannot be used when targets contain values less than or equal to -1.\n",
            "\n",
            "  warnings.warn(\n"
          ]
        },
        {
          "output_type": "stream",
          "name": "stdout",
          "text": [
            "[CV] END regressor__colsample_bytree=1.0, regressor__learning_rate=0.05, regressor__max_depth=3, regressor__n_estimators=200, regressor__subsample=0.8; total time=   2.2s\n"
          ]
        },
        {
          "output_type": "stream",
          "name": "stderr",
          "text": [
            "/usr/local/lib/python3.11/dist-packages/sklearn/model_selection/_validation.py:960: UserWarning: Scoring failed. The score on this train-test partition for these parameters will be set to nan. Details: \n",
            "Traceback (most recent call last):\n",
            "  File \"/usr/local/lib/python3.11/dist-packages/sklearn/model_selection/_validation.py\", line 949, in _score\n",
            "    scores = scorer(estimator, X_test, y_test, **score_params)\n",
            "             ^^^^^^^^^^^^^^^^^^^^^^^^^^^^^^^^^^^^^^^^^^^^^^^^^\n",
            "  File \"/usr/local/lib/python3.11/dist-packages/sklearn/metrics/_scorer.py\", line 288, in __call__\n",
            "    return self._score(partial(_cached_call, None), estimator, X, y_true, **_kwargs)\n",
            "           ^^^^^^^^^^^^^^^^^^^^^^^^^^^^^^^^^^^^^^^^^^^^^^^^^^^^^^^^^^^^^^^^^^^^^^^^^\n",
            "  File \"/usr/local/lib/python3.11/dist-packages/sklearn/metrics/_scorer.py\", line 388, in _score\n",
            "    return self._sign * self._score_func(y_true, y_pred, **scoring_kwargs)\n",
            "                        ^^^^^^^^^^^^^^^^^^^^^^^^^^^^^^^^^^^^^^^^^^^^^^^^^^\n",
            "  File \"/usr/local/lib/python3.11/dist-packages/sklearn/utils/_param_validation.py\", line 216, in wrapper\n",
            "    return func(*args, **kwargs)\n",
            "           ^^^^^^^^^^^^^^^^^^^^^\n",
            "  File \"/usr/local/lib/python3.11/dist-packages/sklearn/metrics/_regression.py\", line 746, in mean_squared_log_error\n",
            "    raise ValueError(\n",
            "ValueError: Mean Squared Logarithmic Error cannot be used when targets contain values less than or equal to -1.\n",
            "\n",
            "  warnings.warn(\n"
          ]
        },
        {
          "output_type": "stream",
          "name": "stdout",
          "text": [
            "[CV] END regressor__colsample_bytree=1.0, regressor__learning_rate=0.05, regressor__max_depth=3, regressor__n_estimators=200, regressor__subsample=0.8; total time=   2.2s\n"
          ]
        },
        {
          "output_type": "stream",
          "name": "stderr",
          "text": [
            "/usr/local/lib/python3.11/dist-packages/sklearn/model_selection/_validation.py:960: UserWarning: Scoring failed. The score on this train-test partition for these parameters will be set to nan. Details: \n",
            "Traceback (most recent call last):\n",
            "  File \"/usr/local/lib/python3.11/dist-packages/sklearn/model_selection/_validation.py\", line 949, in _score\n",
            "    scores = scorer(estimator, X_test, y_test, **score_params)\n",
            "             ^^^^^^^^^^^^^^^^^^^^^^^^^^^^^^^^^^^^^^^^^^^^^^^^^\n",
            "  File \"/usr/local/lib/python3.11/dist-packages/sklearn/metrics/_scorer.py\", line 288, in __call__\n",
            "    return self._score(partial(_cached_call, None), estimator, X, y_true, **_kwargs)\n",
            "           ^^^^^^^^^^^^^^^^^^^^^^^^^^^^^^^^^^^^^^^^^^^^^^^^^^^^^^^^^^^^^^^^^^^^^^^^^\n",
            "  File \"/usr/local/lib/python3.11/dist-packages/sklearn/metrics/_scorer.py\", line 388, in _score\n",
            "    return self._sign * self._score_func(y_true, y_pred, **scoring_kwargs)\n",
            "                        ^^^^^^^^^^^^^^^^^^^^^^^^^^^^^^^^^^^^^^^^^^^^^^^^^^\n",
            "  File \"/usr/local/lib/python3.11/dist-packages/sklearn/utils/_param_validation.py\", line 216, in wrapper\n",
            "    return func(*args, **kwargs)\n",
            "           ^^^^^^^^^^^^^^^^^^^^^\n",
            "  File \"/usr/local/lib/python3.11/dist-packages/sklearn/metrics/_regression.py\", line 746, in mean_squared_log_error\n",
            "    raise ValueError(\n",
            "ValueError: Mean Squared Logarithmic Error cannot be used when targets contain values less than or equal to -1.\n",
            "\n",
            "  warnings.warn(\n"
          ]
        },
        {
          "output_type": "stream",
          "name": "stdout",
          "text": [
            "[CV] END regressor__colsample_bytree=1.0, regressor__learning_rate=0.05, regressor__max_depth=3, regressor__n_estimators=200, regressor__subsample=0.8; total time=   2.2s\n"
          ]
        },
        {
          "output_type": "stream",
          "name": "stderr",
          "text": [
            "/usr/local/lib/python3.11/dist-packages/sklearn/model_selection/_validation.py:960: UserWarning: Scoring failed. The score on this train-test partition for these parameters will be set to nan. Details: \n",
            "Traceback (most recent call last):\n",
            "  File \"/usr/local/lib/python3.11/dist-packages/sklearn/model_selection/_validation.py\", line 949, in _score\n",
            "    scores = scorer(estimator, X_test, y_test, **score_params)\n",
            "             ^^^^^^^^^^^^^^^^^^^^^^^^^^^^^^^^^^^^^^^^^^^^^^^^^\n",
            "  File \"/usr/local/lib/python3.11/dist-packages/sklearn/metrics/_scorer.py\", line 288, in __call__\n",
            "    return self._score(partial(_cached_call, None), estimator, X, y_true, **_kwargs)\n",
            "           ^^^^^^^^^^^^^^^^^^^^^^^^^^^^^^^^^^^^^^^^^^^^^^^^^^^^^^^^^^^^^^^^^^^^^^^^^\n",
            "  File \"/usr/local/lib/python3.11/dist-packages/sklearn/metrics/_scorer.py\", line 388, in _score\n",
            "    return self._sign * self._score_func(y_true, y_pred, **scoring_kwargs)\n",
            "                        ^^^^^^^^^^^^^^^^^^^^^^^^^^^^^^^^^^^^^^^^^^^^^^^^^^\n",
            "  File \"/usr/local/lib/python3.11/dist-packages/sklearn/utils/_param_validation.py\", line 216, in wrapper\n",
            "    return func(*args, **kwargs)\n",
            "           ^^^^^^^^^^^^^^^^^^^^^\n",
            "  File \"/usr/local/lib/python3.11/dist-packages/sklearn/metrics/_regression.py\", line 746, in mean_squared_log_error\n",
            "    raise ValueError(\n",
            "ValueError: Mean Squared Logarithmic Error cannot be used when targets contain values less than or equal to -1.\n",
            "\n",
            "  warnings.warn(\n"
          ]
        },
        {
          "output_type": "stream",
          "name": "stdout",
          "text": [
            "[CV] END regressor__colsample_bytree=1.0, regressor__learning_rate=0.05, regressor__max_depth=3, regressor__n_estimators=200, regressor__subsample=1.0; total time=   3.7s\n"
          ]
        },
        {
          "output_type": "stream",
          "name": "stderr",
          "text": [
            "/usr/local/lib/python3.11/dist-packages/sklearn/model_selection/_validation.py:960: UserWarning: Scoring failed. The score on this train-test partition for these parameters will be set to nan. Details: \n",
            "Traceback (most recent call last):\n",
            "  File \"/usr/local/lib/python3.11/dist-packages/sklearn/model_selection/_validation.py\", line 949, in _score\n",
            "    scores = scorer(estimator, X_test, y_test, **score_params)\n",
            "             ^^^^^^^^^^^^^^^^^^^^^^^^^^^^^^^^^^^^^^^^^^^^^^^^^\n",
            "  File \"/usr/local/lib/python3.11/dist-packages/sklearn/metrics/_scorer.py\", line 288, in __call__\n",
            "    return self._score(partial(_cached_call, None), estimator, X, y_true, **_kwargs)\n",
            "           ^^^^^^^^^^^^^^^^^^^^^^^^^^^^^^^^^^^^^^^^^^^^^^^^^^^^^^^^^^^^^^^^^^^^^^^^^\n",
            "  File \"/usr/local/lib/python3.11/dist-packages/sklearn/metrics/_scorer.py\", line 388, in _score\n",
            "    return self._sign * self._score_func(y_true, y_pred, **scoring_kwargs)\n",
            "                        ^^^^^^^^^^^^^^^^^^^^^^^^^^^^^^^^^^^^^^^^^^^^^^^^^^\n",
            "  File \"/usr/local/lib/python3.11/dist-packages/sklearn/utils/_param_validation.py\", line 216, in wrapper\n",
            "    return func(*args, **kwargs)\n",
            "           ^^^^^^^^^^^^^^^^^^^^^\n",
            "  File \"/usr/local/lib/python3.11/dist-packages/sklearn/metrics/_regression.py\", line 746, in mean_squared_log_error\n",
            "    raise ValueError(\n",
            "ValueError: Mean Squared Logarithmic Error cannot be used when targets contain values less than or equal to -1.\n",
            "\n",
            "  warnings.warn(\n"
          ]
        },
        {
          "output_type": "stream",
          "name": "stdout",
          "text": [
            "[CV] END regressor__colsample_bytree=1.0, regressor__learning_rate=0.05, regressor__max_depth=3, regressor__n_estimators=200, regressor__subsample=1.0; total time=   2.8s\n"
          ]
        },
        {
          "output_type": "stream",
          "name": "stderr",
          "text": [
            "/usr/local/lib/python3.11/dist-packages/sklearn/model_selection/_validation.py:960: UserWarning: Scoring failed. The score on this train-test partition for these parameters will be set to nan. Details: \n",
            "Traceback (most recent call last):\n",
            "  File \"/usr/local/lib/python3.11/dist-packages/sklearn/model_selection/_validation.py\", line 949, in _score\n",
            "    scores = scorer(estimator, X_test, y_test, **score_params)\n",
            "             ^^^^^^^^^^^^^^^^^^^^^^^^^^^^^^^^^^^^^^^^^^^^^^^^^\n",
            "  File \"/usr/local/lib/python3.11/dist-packages/sklearn/metrics/_scorer.py\", line 288, in __call__\n",
            "    return self._score(partial(_cached_call, None), estimator, X, y_true, **_kwargs)\n",
            "           ^^^^^^^^^^^^^^^^^^^^^^^^^^^^^^^^^^^^^^^^^^^^^^^^^^^^^^^^^^^^^^^^^^^^^^^^^\n",
            "  File \"/usr/local/lib/python3.11/dist-packages/sklearn/metrics/_scorer.py\", line 388, in _score\n",
            "    return self._sign * self._score_func(y_true, y_pred, **scoring_kwargs)\n",
            "                        ^^^^^^^^^^^^^^^^^^^^^^^^^^^^^^^^^^^^^^^^^^^^^^^^^^\n",
            "  File \"/usr/local/lib/python3.11/dist-packages/sklearn/utils/_param_validation.py\", line 216, in wrapper\n",
            "    return func(*args, **kwargs)\n",
            "           ^^^^^^^^^^^^^^^^^^^^^\n",
            "  File \"/usr/local/lib/python3.11/dist-packages/sklearn/metrics/_regression.py\", line 746, in mean_squared_log_error\n",
            "    raise ValueError(\n",
            "ValueError: Mean Squared Logarithmic Error cannot be used when targets contain values less than or equal to -1.\n",
            "\n",
            "  warnings.warn(\n"
          ]
        },
        {
          "output_type": "stream",
          "name": "stdout",
          "text": [
            "[CV] END regressor__colsample_bytree=1.0, regressor__learning_rate=0.05, regressor__max_depth=3, regressor__n_estimators=200, regressor__subsample=1.0; total time=   2.1s\n"
          ]
        },
        {
          "output_type": "stream",
          "name": "stderr",
          "text": [
            "/usr/local/lib/python3.11/dist-packages/sklearn/model_selection/_validation.py:960: UserWarning: Scoring failed. The score on this train-test partition for these parameters will be set to nan. Details: \n",
            "Traceback (most recent call last):\n",
            "  File \"/usr/local/lib/python3.11/dist-packages/sklearn/model_selection/_validation.py\", line 949, in _score\n",
            "    scores = scorer(estimator, X_test, y_test, **score_params)\n",
            "             ^^^^^^^^^^^^^^^^^^^^^^^^^^^^^^^^^^^^^^^^^^^^^^^^^\n",
            "  File \"/usr/local/lib/python3.11/dist-packages/sklearn/metrics/_scorer.py\", line 288, in __call__\n",
            "    return self._score(partial(_cached_call, None), estimator, X, y_true, **_kwargs)\n",
            "           ^^^^^^^^^^^^^^^^^^^^^^^^^^^^^^^^^^^^^^^^^^^^^^^^^^^^^^^^^^^^^^^^^^^^^^^^^\n",
            "  File \"/usr/local/lib/python3.11/dist-packages/sklearn/metrics/_scorer.py\", line 388, in _score\n",
            "    return self._sign * self._score_func(y_true, y_pred, **scoring_kwargs)\n",
            "                        ^^^^^^^^^^^^^^^^^^^^^^^^^^^^^^^^^^^^^^^^^^^^^^^^^^\n",
            "  File \"/usr/local/lib/python3.11/dist-packages/sklearn/utils/_param_validation.py\", line 216, in wrapper\n",
            "    return func(*args, **kwargs)\n",
            "           ^^^^^^^^^^^^^^^^^^^^^\n",
            "  File \"/usr/local/lib/python3.11/dist-packages/sklearn/metrics/_regression.py\", line 746, in mean_squared_log_error\n",
            "    raise ValueError(\n",
            "ValueError: Mean Squared Logarithmic Error cannot be used when targets contain values less than or equal to -1.\n",
            "\n",
            "  warnings.warn(\n"
          ]
        },
        {
          "output_type": "stream",
          "name": "stdout",
          "text": [
            "[CV] END regressor__colsample_bytree=1.0, regressor__learning_rate=0.05, regressor__max_depth=3, regressor__n_estimators=300, regressor__subsample=0.8; total time=   2.7s\n"
          ]
        },
        {
          "output_type": "stream",
          "name": "stderr",
          "text": [
            "/usr/local/lib/python3.11/dist-packages/sklearn/model_selection/_validation.py:960: UserWarning: Scoring failed. The score on this train-test partition for these parameters will be set to nan. Details: \n",
            "Traceback (most recent call last):\n",
            "  File \"/usr/local/lib/python3.11/dist-packages/sklearn/model_selection/_validation.py\", line 949, in _score\n",
            "    scores = scorer(estimator, X_test, y_test, **score_params)\n",
            "             ^^^^^^^^^^^^^^^^^^^^^^^^^^^^^^^^^^^^^^^^^^^^^^^^^\n",
            "  File \"/usr/local/lib/python3.11/dist-packages/sklearn/metrics/_scorer.py\", line 288, in __call__\n",
            "    return self._score(partial(_cached_call, None), estimator, X, y_true, **_kwargs)\n",
            "           ^^^^^^^^^^^^^^^^^^^^^^^^^^^^^^^^^^^^^^^^^^^^^^^^^^^^^^^^^^^^^^^^^^^^^^^^^\n",
            "  File \"/usr/local/lib/python3.11/dist-packages/sklearn/metrics/_scorer.py\", line 388, in _score\n",
            "    return self._sign * self._score_func(y_true, y_pred, **scoring_kwargs)\n",
            "                        ^^^^^^^^^^^^^^^^^^^^^^^^^^^^^^^^^^^^^^^^^^^^^^^^^^\n",
            "  File \"/usr/local/lib/python3.11/dist-packages/sklearn/utils/_param_validation.py\", line 216, in wrapper\n",
            "    return func(*args, **kwargs)\n",
            "           ^^^^^^^^^^^^^^^^^^^^^\n",
            "  File \"/usr/local/lib/python3.11/dist-packages/sklearn/metrics/_regression.py\", line 746, in mean_squared_log_error\n",
            "    raise ValueError(\n",
            "ValueError: Mean Squared Logarithmic Error cannot be used when targets contain values less than or equal to -1.\n",
            "\n",
            "  warnings.warn(\n"
          ]
        },
        {
          "output_type": "stream",
          "name": "stdout",
          "text": [
            "[CV] END regressor__colsample_bytree=1.0, regressor__learning_rate=0.05, regressor__max_depth=3, regressor__n_estimators=300, regressor__subsample=0.8; total time=   2.8s\n"
          ]
        },
        {
          "output_type": "stream",
          "name": "stderr",
          "text": [
            "/usr/local/lib/python3.11/dist-packages/sklearn/model_selection/_validation.py:960: UserWarning: Scoring failed. The score on this train-test partition for these parameters will be set to nan. Details: \n",
            "Traceback (most recent call last):\n",
            "  File \"/usr/local/lib/python3.11/dist-packages/sklearn/model_selection/_validation.py\", line 949, in _score\n",
            "    scores = scorer(estimator, X_test, y_test, **score_params)\n",
            "             ^^^^^^^^^^^^^^^^^^^^^^^^^^^^^^^^^^^^^^^^^^^^^^^^^\n",
            "  File \"/usr/local/lib/python3.11/dist-packages/sklearn/metrics/_scorer.py\", line 288, in __call__\n",
            "    return self._score(partial(_cached_call, None), estimator, X, y_true, **_kwargs)\n",
            "           ^^^^^^^^^^^^^^^^^^^^^^^^^^^^^^^^^^^^^^^^^^^^^^^^^^^^^^^^^^^^^^^^^^^^^^^^^\n",
            "  File \"/usr/local/lib/python3.11/dist-packages/sklearn/metrics/_scorer.py\", line 388, in _score\n",
            "    return self._sign * self._score_func(y_true, y_pred, **scoring_kwargs)\n",
            "                        ^^^^^^^^^^^^^^^^^^^^^^^^^^^^^^^^^^^^^^^^^^^^^^^^^^\n",
            "  File \"/usr/local/lib/python3.11/dist-packages/sklearn/utils/_param_validation.py\", line 216, in wrapper\n",
            "    return func(*args, **kwargs)\n",
            "           ^^^^^^^^^^^^^^^^^^^^^\n",
            "  File \"/usr/local/lib/python3.11/dist-packages/sklearn/metrics/_regression.py\", line 746, in mean_squared_log_error\n",
            "    raise ValueError(\n",
            "ValueError: Mean Squared Logarithmic Error cannot be used when targets contain values less than or equal to -1.\n",
            "\n",
            "  warnings.warn(\n"
          ]
        },
        {
          "output_type": "stream",
          "name": "stdout",
          "text": [
            "[CV] END regressor__colsample_bytree=1.0, regressor__learning_rate=0.05, regressor__max_depth=3, regressor__n_estimators=300, regressor__subsample=0.8; total time=   5.9s\n"
          ]
        },
        {
          "output_type": "stream",
          "name": "stderr",
          "text": [
            "/usr/local/lib/python3.11/dist-packages/sklearn/model_selection/_validation.py:960: UserWarning: Scoring failed. The score on this train-test partition for these parameters will be set to nan. Details: \n",
            "Traceback (most recent call last):\n",
            "  File \"/usr/local/lib/python3.11/dist-packages/sklearn/model_selection/_validation.py\", line 949, in _score\n",
            "    scores = scorer(estimator, X_test, y_test, **score_params)\n",
            "             ^^^^^^^^^^^^^^^^^^^^^^^^^^^^^^^^^^^^^^^^^^^^^^^^^\n",
            "  File \"/usr/local/lib/python3.11/dist-packages/sklearn/metrics/_scorer.py\", line 288, in __call__\n",
            "    return self._score(partial(_cached_call, None), estimator, X, y_true, **_kwargs)\n",
            "           ^^^^^^^^^^^^^^^^^^^^^^^^^^^^^^^^^^^^^^^^^^^^^^^^^^^^^^^^^^^^^^^^^^^^^^^^^\n",
            "  File \"/usr/local/lib/python3.11/dist-packages/sklearn/metrics/_scorer.py\", line 388, in _score\n",
            "    return self._sign * self._score_func(y_true, y_pred, **scoring_kwargs)\n",
            "                        ^^^^^^^^^^^^^^^^^^^^^^^^^^^^^^^^^^^^^^^^^^^^^^^^^^\n",
            "  File \"/usr/local/lib/python3.11/dist-packages/sklearn/utils/_param_validation.py\", line 216, in wrapper\n",
            "    return func(*args, **kwargs)\n",
            "           ^^^^^^^^^^^^^^^^^^^^^\n",
            "  File \"/usr/local/lib/python3.11/dist-packages/sklearn/metrics/_regression.py\", line 746, in mean_squared_log_error\n",
            "    raise ValueError(\n",
            "ValueError: Mean Squared Logarithmic Error cannot be used when targets contain values less than or equal to -1.\n",
            "\n",
            "  warnings.warn(\n"
          ]
        },
        {
          "output_type": "stream",
          "name": "stdout",
          "text": [
            "[CV] END regressor__colsample_bytree=1.0, regressor__learning_rate=0.05, regressor__max_depth=3, regressor__n_estimators=300, regressor__subsample=1.0; total time=   2.7s\n"
          ]
        },
        {
          "output_type": "stream",
          "name": "stderr",
          "text": [
            "/usr/local/lib/python3.11/dist-packages/sklearn/model_selection/_validation.py:960: UserWarning: Scoring failed. The score on this train-test partition for these parameters will be set to nan. Details: \n",
            "Traceback (most recent call last):\n",
            "  File \"/usr/local/lib/python3.11/dist-packages/sklearn/model_selection/_validation.py\", line 949, in _score\n",
            "    scores = scorer(estimator, X_test, y_test, **score_params)\n",
            "             ^^^^^^^^^^^^^^^^^^^^^^^^^^^^^^^^^^^^^^^^^^^^^^^^^\n",
            "  File \"/usr/local/lib/python3.11/dist-packages/sklearn/metrics/_scorer.py\", line 288, in __call__\n",
            "    return self._score(partial(_cached_call, None), estimator, X, y_true, **_kwargs)\n",
            "           ^^^^^^^^^^^^^^^^^^^^^^^^^^^^^^^^^^^^^^^^^^^^^^^^^^^^^^^^^^^^^^^^^^^^^^^^^\n",
            "  File \"/usr/local/lib/python3.11/dist-packages/sklearn/metrics/_scorer.py\", line 388, in _score\n",
            "    return self._sign * self._score_func(y_true, y_pred, **scoring_kwargs)\n",
            "                        ^^^^^^^^^^^^^^^^^^^^^^^^^^^^^^^^^^^^^^^^^^^^^^^^^^\n",
            "  File \"/usr/local/lib/python3.11/dist-packages/sklearn/utils/_param_validation.py\", line 216, in wrapper\n",
            "    return func(*args, **kwargs)\n",
            "           ^^^^^^^^^^^^^^^^^^^^^\n",
            "  File \"/usr/local/lib/python3.11/dist-packages/sklearn/metrics/_regression.py\", line 746, in mean_squared_log_error\n",
            "    raise ValueError(\n",
            "ValueError: Mean Squared Logarithmic Error cannot be used when targets contain values less than or equal to -1.\n",
            "\n",
            "  warnings.warn(\n"
          ]
        },
        {
          "output_type": "stream",
          "name": "stdout",
          "text": [
            "[CV] END regressor__colsample_bytree=1.0, regressor__learning_rate=0.05, regressor__max_depth=3, regressor__n_estimators=300, regressor__subsample=1.0; total time=   2.7s\n"
          ]
        },
        {
          "output_type": "stream",
          "name": "stderr",
          "text": [
            "/usr/local/lib/python3.11/dist-packages/sklearn/model_selection/_validation.py:960: UserWarning: Scoring failed. The score on this train-test partition for these parameters will be set to nan. Details: \n",
            "Traceback (most recent call last):\n",
            "  File \"/usr/local/lib/python3.11/dist-packages/sklearn/model_selection/_validation.py\", line 949, in _score\n",
            "    scores = scorer(estimator, X_test, y_test, **score_params)\n",
            "             ^^^^^^^^^^^^^^^^^^^^^^^^^^^^^^^^^^^^^^^^^^^^^^^^^\n",
            "  File \"/usr/local/lib/python3.11/dist-packages/sklearn/metrics/_scorer.py\", line 288, in __call__\n",
            "    return self._score(partial(_cached_call, None), estimator, X, y_true, **_kwargs)\n",
            "           ^^^^^^^^^^^^^^^^^^^^^^^^^^^^^^^^^^^^^^^^^^^^^^^^^^^^^^^^^^^^^^^^^^^^^^^^^\n",
            "  File \"/usr/local/lib/python3.11/dist-packages/sklearn/metrics/_scorer.py\", line 388, in _score\n",
            "    return self._sign * self._score_func(y_true, y_pred, **scoring_kwargs)\n",
            "                        ^^^^^^^^^^^^^^^^^^^^^^^^^^^^^^^^^^^^^^^^^^^^^^^^^^\n",
            "  File \"/usr/local/lib/python3.11/dist-packages/sklearn/utils/_param_validation.py\", line 216, in wrapper\n",
            "    return func(*args, **kwargs)\n",
            "           ^^^^^^^^^^^^^^^^^^^^^\n",
            "  File \"/usr/local/lib/python3.11/dist-packages/sklearn/metrics/_regression.py\", line 746, in mean_squared_log_error\n",
            "    raise ValueError(\n",
            "ValueError: Mean Squared Logarithmic Error cannot be used when targets contain values less than or equal to -1.\n",
            "\n",
            "  warnings.warn(\n"
          ]
        },
        {
          "output_type": "stream",
          "name": "stdout",
          "text": [
            "[CV] END regressor__colsample_bytree=1.0, regressor__learning_rate=0.05, regressor__max_depth=3, regressor__n_estimators=300, regressor__subsample=1.0; total time=   2.6s\n",
            "[CV] END regressor__colsample_bytree=1.0, regressor__learning_rate=0.05, regressor__max_depth=5, regressor__n_estimators=100, regressor__subsample=0.8; total time=   2.0s\n",
            "[CV] END regressor__colsample_bytree=1.0, regressor__learning_rate=0.05, regressor__max_depth=5, regressor__n_estimators=100, regressor__subsample=0.8; total time=   3.5s\n",
            "[CV] END regressor__colsample_bytree=1.0, regressor__learning_rate=0.05, regressor__max_depth=5, regressor__n_estimators=100, regressor__subsample=0.8; total time=   1.7s\n",
            "[CV] END regressor__colsample_bytree=1.0, regressor__learning_rate=0.05, regressor__max_depth=5, regressor__n_estimators=100, regressor__subsample=1.0; total time=   1.6s\n",
            "[CV] END regressor__colsample_bytree=1.0, regressor__learning_rate=0.05, regressor__max_depth=5, regressor__n_estimators=100, regressor__subsample=1.0; total time=   1.6s\n",
            "[CV] END regressor__colsample_bytree=1.0, regressor__learning_rate=0.05, regressor__max_depth=5, regressor__n_estimators=100, regressor__subsample=1.0; total time=   1.6s\n",
            "[CV] END regressor__colsample_bytree=1.0, regressor__learning_rate=0.05, regressor__max_depth=5, regressor__n_estimators=200, regressor__subsample=0.8; total time=   2.4s\n",
            "[CV] END regressor__colsample_bytree=1.0, regressor__learning_rate=0.05, regressor__max_depth=5, regressor__n_estimators=200, regressor__subsample=0.8; total time=   5.4s\n"
          ]
        },
        {
          "output_type": "stream",
          "name": "stderr",
          "text": [
            "/usr/local/lib/python3.11/dist-packages/sklearn/model_selection/_validation.py:960: UserWarning: Scoring failed. The score on this train-test partition for these parameters will be set to nan. Details: \n",
            "Traceback (most recent call last):\n",
            "  File \"/usr/local/lib/python3.11/dist-packages/sklearn/model_selection/_validation.py\", line 949, in _score\n",
            "    scores = scorer(estimator, X_test, y_test, **score_params)\n",
            "             ^^^^^^^^^^^^^^^^^^^^^^^^^^^^^^^^^^^^^^^^^^^^^^^^^\n",
            "  File \"/usr/local/lib/python3.11/dist-packages/sklearn/metrics/_scorer.py\", line 288, in __call__\n",
            "    return self._score(partial(_cached_call, None), estimator, X, y_true, **_kwargs)\n",
            "           ^^^^^^^^^^^^^^^^^^^^^^^^^^^^^^^^^^^^^^^^^^^^^^^^^^^^^^^^^^^^^^^^^^^^^^^^^\n",
            "  File \"/usr/local/lib/python3.11/dist-packages/sklearn/metrics/_scorer.py\", line 388, in _score\n",
            "    return self._sign * self._score_func(y_true, y_pred, **scoring_kwargs)\n",
            "                        ^^^^^^^^^^^^^^^^^^^^^^^^^^^^^^^^^^^^^^^^^^^^^^^^^^\n",
            "  File \"/usr/local/lib/python3.11/dist-packages/sklearn/utils/_param_validation.py\", line 216, in wrapper\n",
            "    return func(*args, **kwargs)\n",
            "           ^^^^^^^^^^^^^^^^^^^^^\n",
            "  File \"/usr/local/lib/python3.11/dist-packages/sklearn/metrics/_regression.py\", line 746, in mean_squared_log_error\n",
            "    raise ValueError(\n",
            "ValueError: Mean Squared Logarithmic Error cannot be used when targets contain values less than or equal to -1.\n",
            "\n",
            "  warnings.warn(\n"
          ]
        },
        {
          "output_type": "stream",
          "name": "stdout",
          "text": [
            "[CV] END regressor__colsample_bytree=1.0, regressor__learning_rate=0.05, regressor__max_depth=5, regressor__n_estimators=200, regressor__subsample=0.8; total time=   2.5s\n",
            "[CV] END regressor__colsample_bytree=1.0, regressor__learning_rate=0.05, regressor__max_depth=5, regressor__n_estimators=200, regressor__subsample=1.0; total time=   2.3s\n",
            "[CV] END regressor__colsample_bytree=1.0, regressor__learning_rate=0.05, regressor__max_depth=5, regressor__n_estimators=200, regressor__subsample=1.0; total time=   2.3s\n"
          ]
        },
        {
          "output_type": "stream",
          "name": "stderr",
          "text": [
            "/usr/local/lib/python3.11/dist-packages/sklearn/model_selection/_validation.py:960: UserWarning: Scoring failed. The score on this train-test partition for these parameters will be set to nan. Details: \n",
            "Traceback (most recent call last):\n",
            "  File \"/usr/local/lib/python3.11/dist-packages/sklearn/model_selection/_validation.py\", line 949, in _score\n",
            "    scores = scorer(estimator, X_test, y_test, **score_params)\n",
            "             ^^^^^^^^^^^^^^^^^^^^^^^^^^^^^^^^^^^^^^^^^^^^^^^^^\n",
            "  File \"/usr/local/lib/python3.11/dist-packages/sklearn/metrics/_scorer.py\", line 288, in __call__\n",
            "    return self._score(partial(_cached_call, None), estimator, X, y_true, **_kwargs)\n",
            "           ^^^^^^^^^^^^^^^^^^^^^^^^^^^^^^^^^^^^^^^^^^^^^^^^^^^^^^^^^^^^^^^^^^^^^^^^^\n",
            "  File \"/usr/local/lib/python3.11/dist-packages/sklearn/metrics/_scorer.py\", line 388, in _score\n",
            "    return self._sign * self._score_func(y_true, y_pred, **scoring_kwargs)\n",
            "                        ^^^^^^^^^^^^^^^^^^^^^^^^^^^^^^^^^^^^^^^^^^^^^^^^^^\n",
            "  File \"/usr/local/lib/python3.11/dist-packages/sklearn/utils/_param_validation.py\", line 216, in wrapper\n",
            "    return func(*args, **kwargs)\n",
            "           ^^^^^^^^^^^^^^^^^^^^^\n",
            "  File \"/usr/local/lib/python3.11/dist-packages/sklearn/metrics/_regression.py\", line 746, in mean_squared_log_error\n",
            "    raise ValueError(\n",
            "ValueError: Mean Squared Logarithmic Error cannot be used when targets contain values less than or equal to -1.\n",
            "\n",
            "  warnings.warn(\n"
          ]
        },
        {
          "output_type": "stream",
          "name": "stdout",
          "text": [
            "[CV] END regressor__colsample_bytree=1.0, regressor__learning_rate=0.05, regressor__max_depth=5, regressor__n_estimators=200, regressor__subsample=1.0; total time=   2.3s\n",
            "[CV] END regressor__colsample_bytree=1.0, regressor__learning_rate=0.05, regressor__max_depth=5, regressor__n_estimators=300, regressor__subsample=0.8; total time=   6.1s\n",
            "[CV] END regressor__colsample_bytree=1.0, regressor__learning_rate=0.05, regressor__max_depth=5, regressor__n_estimators=300, regressor__subsample=0.8; total time=   3.3s\n"
          ]
        },
        {
          "output_type": "stream",
          "name": "stderr",
          "text": [
            "/usr/local/lib/python3.11/dist-packages/sklearn/model_selection/_validation.py:960: UserWarning: Scoring failed. The score on this train-test partition for these parameters will be set to nan. Details: \n",
            "Traceback (most recent call last):\n",
            "  File \"/usr/local/lib/python3.11/dist-packages/sklearn/model_selection/_validation.py\", line 949, in _score\n",
            "    scores = scorer(estimator, X_test, y_test, **score_params)\n",
            "             ^^^^^^^^^^^^^^^^^^^^^^^^^^^^^^^^^^^^^^^^^^^^^^^^^\n",
            "  File \"/usr/local/lib/python3.11/dist-packages/sklearn/metrics/_scorer.py\", line 288, in __call__\n",
            "    return self._score(partial(_cached_call, None), estimator, X, y_true, **_kwargs)\n",
            "           ^^^^^^^^^^^^^^^^^^^^^^^^^^^^^^^^^^^^^^^^^^^^^^^^^^^^^^^^^^^^^^^^^^^^^^^^^\n",
            "  File \"/usr/local/lib/python3.11/dist-packages/sklearn/metrics/_scorer.py\", line 388, in _score\n",
            "    return self._sign * self._score_func(y_true, y_pred, **scoring_kwargs)\n",
            "                        ^^^^^^^^^^^^^^^^^^^^^^^^^^^^^^^^^^^^^^^^^^^^^^^^^^\n",
            "  File \"/usr/local/lib/python3.11/dist-packages/sklearn/utils/_param_validation.py\", line 216, in wrapper\n",
            "    return func(*args, **kwargs)\n",
            "           ^^^^^^^^^^^^^^^^^^^^^\n",
            "  File \"/usr/local/lib/python3.11/dist-packages/sklearn/metrics/_regression.py\", line 746, in mean_squared_log_error\n",
            "    raise ValueError(\n",
            "ValueError: Mean Squared Logarithmic Error cannot be used when targets contain values less than or equal to -1.\n",
            "\n",
            "  warnings.warn(\n"
          ]
        },
        {
          "output_type": "stream",
          "name": "stdout",
          "text": [
            "[CV] END regressor__colsample_bytree=1.0, regressor__learning_rate=0.05, regressor__max_depth=5, regressor__n_estimators=300, regressor__subsample=0.8; total time=   3.3s\n"
          ]
        },
        {
          "output_type": "stream",
          "name": "stderr",
          "text": [
            "/usr/local/lib/python3.11/dist-packages/sklearn/model_selection/_validation.py:960: UserWarning: Scoring failed. The score on this train-test partition for these parameters will be set to nan. Details: \n",
            "Traceback (most recent call last):\n",
            "  File \"/usr/local/lib/python3.11/dist-packages/sklearn/model_selection/_validation.py\", line 949, in _score\n",
            "    scores = scorer(estimator, X_test, y_test, **score_params)\n",
            "             ^^^^^^^^^^^^^^^^^^^^^^^^^^^^^^^^^^^^^^^^^^^^^^^^^\n",
            "  File \"/usr/local/lib/python3.11/dist-packages/sklearn/metrics/_scorer.py\", line 288, in __call__\n",
            "    return self._score(partial(_cached_call, None), estimator, X, y_true, **_kwargs)\n",
            "           ^^^^^^^^^^^^^^^^^^^^^^^^^^^^^^^^^^^^^^^^^^^^^^^^^^^^^^^^^^^^^^^^^^^^^^^^^\n",
            "  File \"/usr/local/lib/python3.11/dist-packages/sklearn/metrics/_scorer.py\", line 388, in _score\n",
            "    return self._sign * self._score_func(y_true, y_pred, **scoring_kwargs)\n",
            "                        ^^^^^^^^^^^^^^^^^^^^^^^^^^^^^^^^^^^^^^^^^^^^^^^^^^\n",
            "  File \"/usr/local/lib/python3.11/dist-packages/sklearn/utils/_param_validation.py\", line 216, in wrapper\n",
            "    return func(*args, **kwargs)\n",
            "           ^^^^^^^^^^^^^^^^^^^^^\n",
            "  File \"/usr/local/lib/python3.11/dist-packages/sklearn/metrics/_regression.py\", line 746, in mean_squared_log_error\n",
            "    raise ValueError(\n",
            "ValueError: Mean Squared Logarithmic Error cannot be used when targets contain values less than or equal to -1.\n",
            "\n",
            "  warnings.warn(\n"
          ]
        },
        {
          "output_type": "stream",
          "name": "stdout",
          "text": [
            "[CV] END regressor__colsample_bytree=1.0, regressor__learning_rate=0.05, regressor__max_depth=5, regressor__n_estimators=300, regressor__subsample=1.0; total time=   6.1s\n",
            "[CV] END regressor__colsample_bytree=1.0, regressor__learning_rate=0.05, regressor__max_depth=5, regressor__n_estimators=300, regressor__subsample=1.0; total time=   3.2s\n"
          ]
        },
        {
          "output_type": "stream",
          "name": "stderr",
          "text": [
            "/usr/local/lib/python3.11/dist-packages/sklearn/model_selection/_validation.py:960: UserWarning: Scoring failed. The score on this train-test partition for these parameters will be set to nan. Details: \n",
            "Traceback (most recent call last):\n",
            "  File \"/usr/local/lib/python3.11/dist-packages/sklearn/model_selection/_validation.py\", line 949, in _score\n",
            "    scores = scorer(estimator, X_test, y_test, **score_params)\n",
            "             ^^^^^^^^^^^^^^^^^^^^^^^^^^^^^^^^^^^^^^^^^^^^^^^^^\n",
            "  File \"/usr/local/lib/python3.11/dist-packages/sklearn/metrics/_scorer.py\", line 288, in __call__\n",
            "    return self._score(partial(_cached_call, None), estimator, X, y_true, **_kwargs)\n",
            "           ^^^^^^^^^^^^^^^^^^^^^^^^^^^^^^^^^^^^^^^^^^^^^^^^^^^^^^^^^^^^^^^^^^^^^^^^^\n",
            "  File \"/usr/local/lib/python3.11/dist-packages/sklearn/metrics/_scorer.py\", line 388, in _score\n",
            "    return self._sign * self._score_func(y_true, y_pred, **scoring_kwargs)\n",
            "                        ^^^^^^^^^^^^^^^^^^^^^^^^^^^^^^^^^^^^^^^^^^^^^^^^^^\n",
            "  File \"/usr/local/lib/python3.11/dist-packages/sklearn/utils/_param_validation.py\", line 216, in wrapper\n",
            "    return func(*args, **kwargs)\n",
            "           ^^^^^^^^^^^^^^^^^^^^^\n",
            "  File \"/usr/local/lib/python3.11/dist-packages/sklearn/metrics/_regression.py\", line 746, in mean_squared_log_error\n",
            "    raise ValueError(\n",
            "ValueError: Mean Squared Logarithmic Error cannot be used when targets contain values less than or equal to -1.\n",
            "\n",
            "  warnings.warn(\n"
          ]
        },
        {
          "output_type": "stream",
          "name": "stdout",
          "text": [
            "[CV] END regressor__colsample_bytree=1.0, regressor__learning_rate=0.05, regressor__max_depth=5, regressor__n_estimators=300, regressor__subsample=1.0; total time=   3.1s\n",
            "[CV] END regressor__colsample_bytree=1.0, regressor__learning_rate=0.05, regressor__max_depth=7, regressor__n_estimators=100, regressor__subsample=0.8; total time=   1.7s\n",
            "[CV] END regressor__colsample_bytree=1.0, regressor__learning_rate=0.05, regressor__max_depth=7, regressor__n_estimators=100, regressor__subsample=0.8; total time=   1.6s\n",
            "[CV] END regressor__colsample_bytree=1.0, regressor__learning_rate=0.05, regressor__max_depth=7, regressor__n_estimators=100, regressor__subsample=0.8; total time=   3.4s\n",
            "[CV] END regressor__colsample_bytree=1.0, regressor__learning_rate=0.05, regressor__max_depth=7, regressor__n_estimators=100, regressor__subsample=1.0; total time=   2.0s\n",
            "[CV] END regressor__colsample_bytree=1.0, regressor__learning_rate=0.05, regressor__max_depth=7, regressor__n_estimators=100, regressor__subsample=1.0; total time=   1.6s\n",
            "[CV] END regressor__colsample_bytree=1.0, regressor__learning_rate=0.05, regressor__max_depth=7, regressor__n_estimators=100, regressor__subsample=1.0; total time=   1.6s\n",
            "[CV] END regressor__colsample_bytree=1.0, regressor__learning_rate=0.05, regressor__max_depth=7, regressor__n_estimators=200, regressor__subsample=0.8; total time=   2.7s\n",
            "[CV] END regressor__colsample_bytree=1.0, regressor__learning_rate=0.05, regressor__max_depth=7, regressor__n_estimators=200, regressor__subsample=0.8; total time=   2.6s\n",
            "[CV] END regressor__colsample_bytree=1.0, regressor__learning_rate=0.05, regressor__max_depth=7, regressor__n_estimators=200, regressor__subsample=0.8; total time=   5.6s\n",
            "[CV] END regressor__colsample_bytree=1.0, regressor__learning_rate=0.05, regressor__max_depth=7, regressor__n_estimators=200, regressor__subsample=1.0; total time=   2.4s\n",
            "[CV] END regressor__colsample_bytree=1.0, regressor__learning_rate=0.05, regressor__max_depth=7, regressor__n_estimators=200, regressor__subsample=1.0; total time=   2.5s\n",
            "[CV] END regressor__colsample_bytree=1.0, regressor__learning_rate=0.05, regressor__max_depth=7, regressor__n_estimators=200, regressor__subsample=1.0; total time=   2.5s\n",
            "[CV] END regressor__colsample_bytree=1.0, regressor__learning_rate=0.05, regressor__max_depth=7, regressor__n_estimators=300, regressor__subsample=0.8; total time=   6.9s\n",
            "[CV] END regressor__colsample_bytree=1.0, regressor__learning_rate=0.05, regressor__max_depth=7, regressor__n_estimators=300, regressor__subsample=0.8; total time=   3.8s\n",
            "[CV] END regressor__colsample_bytree=1.0, regressor__learning_rate=0.05, regressor__max_depth=7, regressor__n_estimators=300, regressor__subsample=0.8; total time=   3.9s\n",
            "[CV] END regressor__colsample_bytree=1.0, regressor__learning_rate=0.05, regressor__max_depth=7, regressor__n_estimators=300, regressor__subsample=1.0; total time=   6.7s\n",
            "[CV] END regressor__colsample_bytree=1.0, regressor__learning_rate=0.05, regressor__max_depth=7, regressor__n_estimators=300, regressor__subsample=1.0; total time=   3.6s\n",
            "[CV] END regressor__colsample_bytree=1.0, regressor__learning_rate=0.05, regressor__max_depth=7, regressor__n_estimators=300, regressor__subsample=1.0; total time=   3.6s\n"
          ]
        },
        {
          "output_type": "stream",
          "name": "stderr",
          "text": [
            "/usr/local/lib/python3.11/dist-packages/sklearn/model_selection/_validation.py:960: UserWarning: Scoring failed. The score on this train-test partition for these parameters will be set to nan. Details: \n",
            "Traceback (most recent call last):\n",
            "  File \"/usr/local/lib/python3.11/dist-packages/sklearn/model_selection/_validation.py\", line 949, in _score\n",
            "    scores = scorer(estimator, X_test, y_test, **score_params)\n",
            "             ^^^^^^^^^^^^^^^^^^^^^^^^^^^^^^^^^^^^^^^^^^^^^^^^^\n",
            "  File \"/usr/local/lib/python3.11/dist-packages/sklearn/metrics/_scorer.py\", line 288, in __call__\n",
            "    return self._score(partial(_cached_call, None), estimator, X, y_true, **_kwargs)\n",
            "           ^^^^^^^^^^^^^^^^^^^^^^^^^^^^^^^^^^^^^^^^^^^^^^^^^^^^^^^^^^^^^^^^^^^^^^^^^\n",
            "  File \"/usr/local/lib/python3.11/dist-packages/sklearn/metrics/_scorer.py\", line 388, in _score\n",
            "    return self._sign * self._score_func(y_true, y_pred, **scoring_kwargs)\n",
            "                        ^^^^^^^^^^^^^^^^^^^^^^^^^^^^^^^^^^^^^^^^^^^^^^^^^^\n",
            "  File \"/usr/local/lib/python3.11/dist-packages/sklearn/utils/_param_validation.py\", line 216, in wrapper\n",
            "    return func(*args, **kwargs)\n",
            "           ^^^^^^^^^^^^^^^^^^^^^\n",
            "  File \"/usr/local/lib/python3.11/dist-packages/sklearn/metrics/_regression.py\", line 746, in mean_squared_log_error\n",
            "    raise ValueError(\n",
            "ValueError: Mean Squared Logarithmic Error cannot be used when targets contain values less than or equal to -1.\n",
            "\n",
            "  warnings.warn(\n"
          ]
        },
        {
          "output_type": "stream",
          "name": "stdout",
          "text": [
            "[CV] END regressor__colsample_bytree=1.0, regressor__learning_rate=0.1, regressor__max_depth=3, regressor__n_estimators=100, regressor__subsample=0.8; total time=   2.2s\n"
          ]
        },
        {
          "output_type": "stream",
          "name": "stderr",
          "text": [
            "/usr/local/lib/python3.11/dist-packages/sklearn/model_selection/_validation.py:960: UserWarning: Scoring failed. The score on this train-test partition for these parameters will be set to nan. Details: \n",
            "Traceback (most recent call last):\n",
            "  File \"/usr/local/lib/python3.11/dist-packages/sklearn/model_selection/_validation.py\", line 949, in _score\n",
            "    scores = scorer(estimator, X_test, y_test, **score_params)\n",
            "             ^^^^^^^^^^^^^^^^^^^^^^^^^^^^^^^^^^^^^^^^^^^^^^^^^\n",
            "  File \"/usr/local/lib/python3.11/dist-packages/sklearn/metrics/_scorer.py\", line 288, in __call__\n",
            "    return self._score(partial(_cached_call, None), estimator, X, y_true, **_kwargs)\n",
            "           ^^^^^^^^^^^^^^^^^^^^^^^^^^^^^^^^^^^^^^^^^^^^^^^^^^^^^^^^^^^^^^^^^^^^^^^^^\n",
            "  File \"/usr/local/lib/python3.11/dist-packages/sklearn/metrics/_scorer.py\", line 388, in _score\n",
            "    return self._sign * self._score_func(y_true, y_pred, **scoring_kwargs)\n",
            "                        ^^^^^^^^^^^^^^^^^^^^^^^^^^^^^^^^^^^^^^^^^^^^^^^^^^\n",
            "  File \"/usr/local/lib/python3.11/dist-packages/sklearn/utils/_param_validation.py\", line 216, in wrapper\n",
            "    return func(*args, **kwargs)\n",
            "           ^^^^^^^^^^^^^^^^^^^^^\n",
            "  File \"/usr/local/lib/python3.11/dist-packages/sklearn/metrics/_regression.py\", line 746, in mean_squared_log_error\n",
            "    raise ValueError(\n",
            "ValueError: Mean Squared Logarithmic Error cannot be used when targets contain values less than or equal to -1.\n",
            "\n",
            "  warnings.warn(\n"
          ]
        },
        {
          "output_type": "stream",
          "name": "stdout",
          "text": [
            "[CV] END regressor__colsample_bytree=1.0, regressor__learning_rate=0.1, regressor__max_depth=3, regressor__n_estimators=100, regressor__subsample=0.8; total time=   3.4s\n"
          ]
        },
        {
          "output_type": "stream",
          "name": "stderr",
          "text": [
            "/usr/local/lib/python3.11/dist-packages/sklearn/model_selection/_validation.py:960: UserWarning: Scoring failed. The score on this train-test partition for these parameters will be set to nan. Details: \n",
            "Traceback (most recent call last):\n",
            "  File \"/usr/local/lib/python3.11/dist-packages/sklearn/model_selection/_validation.py\", line 949, in _score\n",
            "    scores = scorer(estimator, X_test, y_test, **score_params)\n",
            "             ^^^^^^^^^^^^^^^^^^^^^^^^^^^^^^^^^^^^^^^^^^^^^^^^^\n",
            "  File \"/usr/local/lib/python3.11/dist-packages/sklearn/metrics/_scorer.py\", line 288, in __call__\n",
            "    return self._score(partial(_cached_call, None), estimator, X, y_true, **_kwargs)\n",
            "           ^^^^^^^^^^^^^^^^^^^^^^^^^^^^^^^^^^^^^^^^^^^^^^^^^^^^^^^^^^^^^^^^^^^^^^^^^\n",
            "  File \"/usr/local/lib/python3.11/dist-packages/sklearn/metrics/_scorer.py\", line 388, in _score\n",
            "    return self._sign * self._score_func(y_true, y_pred, **scoring_kwargs)\n",
            "                        ^^^^^^^^^^^^^^^^^^^^^^^^^^^^^^^^^^^^^^^^^^^^^^^^^^\n",
            "  File \"/usr/local/lib/python3.11/dist-packages/sklearn/utils/_param_validation.py\", line 216, in wrapper\n",
            "    return func(*args, **kwargs)\n",
            "           ^^^^^^^^^^^^^^^^^^^^^\n",
            "  File \"/usr/local/lib/python3.11/dist-packages/sklearn/metrics/_regression.py\", line 746, in mean_squared_log_error\n",
            "    raise ValueError(\n",
            "ValueError: Mean Squared Logarithmic Error cannot be used when targets contain values less than or equal to -1.\n",
            "\n",
            "  warnings.warn(\n"
          ]
        },
        {
          "output_type": "stream",
          "name": "stdout",
          "text": [
            "[CV] END regressor__colsample_bytree=1.0, regressor__learning_rate=0.1, regressor__max_depth=3, regressor__n_estimators=100, regressor__subsample=0.8; total time=   1.6s\n"
          ]
        },
        {
          "output_type": "stream",
          "name": "stderr",
          "text": [
            "/usr/local/lib/python3.11/dist-packages/sklearn/model_selection/_validation.py:960: UserWarning: Scoring failed. The score on this train-test partition for these parameters will be set to nan. Details: \n",
            "Traceback (most recent call last):\n",
            "  File \"/usr/local/lib/python3.11/dist-packages/sklearn/model_selection/_validation.py\", line 949, in _score\n",
            "    scores = scorer(estimator, X_test, y_test, **score_params)\n",
            "             ^^^^^^^^^^^^^^^^^^^^^^^^^^^^^^^^^^^^^^^^^^^^^^^^^\n",
            "  File \"/usr/local/lib/python3.11/dist-packages/sklearn/metrics/_scorer.py\", line 288, in __call__\n",
            "    return self._score(partial(_cached_call, None), estimator, X, y_true, **_kwargs)\n",
            "           ^^^^^^^^^^^^^^^^^^^^^^^^^^^^^^^^^^^^^^^^^^^^^^^^^^^^^^^^^^^^^^^^^^^^^^^^^\n",
            "  File \"/usr/local/lib/python3.11/dist-packages/sklearn/metrics/_scorer.py\", line 388, in _score\n",
            "    return self._sign * self._score_func(y_true, y_pred, **scoring_kwargs)\n",
            "                        ^^^^^^^^^^^^^^^^^^^^^^^^^^^^^^^^^^^^^^^^^^^^^^^^^^\n",
            "  File \"/usr/local/lib/python3.11/dist-packages/sklearn/utils/_param_validation.py\", line 216, in wrapper\n",
            "    return func(*args, **kwargs)\n",
            "           ^^^^^^^^^^^^^^^^^^^^^\n",
            "  File \"/usr/local/lib/python3.11/dist-packages/sklearn/metrics/_regression.py\", line 746, in mean_squared_log_error\n",
            "    raise ValueError(\n",
            "ValueError: Mean Squared Logarithmic Error cannot be used when targets contain values less than or equal to -1.\n",
            "\n",
            "  warnings.warn(\n"
          ]
        },
        {
          "output_type": "stream",
          "name": "stdout",
          "text": [
            "[CV] END regressor__colsample_bytree=1.0, regressor__learning_rate=0.1, regressor__max_depth=3, regressor__n_estimators=100, regressor__subsample=1.0; total time=   1.6s\n"
          ]
        },
        {
          "output_type": "stream",
          "name": "stderr",
          "text": [
            "/usr/local/lib/python3.11/dist-packages/sklearn/model_selection/_validation.py:960: UserWarning: Scoring failed. The score on this train-test partition for these parameters will be set to nan. Details: \n",
            "Traceback (most recent call last):\n",
            "  File \"/usr/local/lib/python3.11/dist-packages/sklearn/model_selection/_validation.py\", line 949, in _score\n",
            "    scores = scorer(estimator, X_test, y_test, **score_params)\n",
            "             ^^^^^^^^^^^^^^^^^^^^^^^^^^^^^^^^^^^^^^^^^^^^^^^^^\n",
            "  File \"/usr/local/lib/python3.11/dist-packages/sklearn/metrics/_scorer.py\", line 288, in __call__\n",
            "    return self._score(partial(_cached_call, None), estimator, X, y_true, **_kwargs)\n",
            "           ^^^^^^^^^^^^^^^^^^^^^^^^^^^^^^^^^^^^^^^^^^^^^^^^^^^^^^^^^^^^^^^^^^^^^^^^^\n",
            "  File \"/usr/local/lib/python3.11/dist-packages/sklearn/metrics/_scorer.py\", line 388, in _score\n",
            "    return self._sign * self._score_func(y_true, y_pred, **scoring_kwargs)\n",
            "                        ^^^^^^^^^^^^^^^^^^^^^^^^^^^^^^^^^^^^^^^^^^^^^^^^^^\n",
            "  File \"/usr/local/lib/python3.11/dist-packages/sklearn/utils/_param_validation.py\", line 216, in wrapper\n",
            "    return func(*args, **kwargs)\n",
            "           ^^^^^^^^^^^^^^^^^^^^^\n",
            "  File \"/usr/local/lib/python3.11/dist-packages/sklearn/metrics/_regression.py\", line 746, in mean_squared_log_error\n",
            "    raise ValueError(\n",
            "ValueError: Mean Squared Logarithmic Error cannot be used when targets contain values less than or equal to -1.\n",
            "\n",
            "  warnings.warn(\n"
          ]
        },
        {
          "output_type": "stream",
          "name": "stdout",
          "text": [
            "[CV] END regressor__colsample_bytree=1.0, regressor__learning_rate=0.1, regressor__max_depth=3, regressor__n_estimators=100, regressor__subsample=1.0; total time=   1.6s\n"
          ]
        },
        {
          "output_type": "stream",
          "name": "stderr",
          "text": [
            "/usr/local/lib/python3.11/dist-packages/sklearn/model_selection/_validation.py:960: UserWarning: Scoring failed. The score on this train-test partition for these parameters will be set to nan. Details: \n",
            "Traceback (most recent call last):\n",
            "  File \"/usr/local/lib/python3.11/dist-packages/sklearn/model_selection/_validation.py\", line 949, in _score\n",
            "    scores = scorer(estimator, X_test, y_test, **score_params)\n",
            "             ^^^^^^^^^^^^^^^^^^^^^^^^^^^^^^^^^^^^^^^^^^^^^^^^^\n",
            "  File \"/usr/local/lib/python3.11/dist-packages/sklearn/metrics/_scorer.py\", line 288, in __call__\n",
            "    return self._score(partial(_cached_call, None), estimator, X, y_true, **_kwargs)\n",
            "           ^^^^^^^^^^^^^^^^^^^^^^^^^^^^^^^^^^^^^^^^^^^^^^^^^^^^^^^^^^^^^^^^^^^^^^^^^\n",
            "  File \"/usr/local/lib/python3.11/dist-packages/sklearn/metrics/_scorer.py\", line 388, in _score\n",
            "    return self._sign * self._score_func(y_true, y_pred, **scoring_kwargs)\n",
            "                        ^^^^^^^^^^^^^^^^^^^^^^^^^^^^^^^^^^^^^^^^^^^^^^^^^^\n",
            "  File \"/usr/local/lib/python3.11/dist-packages/sklearn/utils/_param_validation.py\", line 216, in wrapper\n",
            "    return func(*args, **kwargs)\n",
            "           ^^^^^^^^^^^^^^^^^^^^^\n",
            "  File \"/usr/local/lib/python3.11/dist-packages/sklearn/metrics/_regression.py\", line 746, in mean_squared_log_error\n",
            "    raise ValueError(\n",
            "ValueError: Mean Squared Logarithmic Error cannot be used when targets contain values less than or equal to -1.\n",
            "\n",
            "  warnings.warn(\n"
          ]
        },
        {
          "output_type": "stream",
          "name": "stdout",
          "text": [
            "[CV] END regressor__colsample_bytree=1.0, regressor__learning_rate=0.1, regressor__max_depth=3, regressor__n_estimators=100, regressor__subsample=1.0; total time=   1.6s\n"
          ]
        },
        {
          "output_type": "stream",
          "name": "stderr",
          "text": [
            "/usr/local/lib/python3.11/dist-packages/sklearn/model_selection/_validation.py:960: UserWarning: Scoring failed. The score on this train-test partition for these parameters will be set to nan. Details: \n",
            "Traceback (most recent call last):\n",
            "  File \"/usr/local/lib/python3.11/dist-packages/sklearn/model_selection/_validation.py\", line 949, in _score\n",
            "    scores = scorer(estimator, X_test, y_test, **score_params)\n",
            "             ^^^^^^^^^^^^^^^^^^^^^^^^^^^^^^^^^^^^^^^^^^^^^^^^^\n",
            "  File \"/usr/local/lib/python3.11/dist-packages/sklearn/metrics/_scorer.py\", line 288, in __call__\n",
            "    return self._score(partial(_cached_call, None), estimator, X, y_true, **_kwargs)\n",
            "           ^^^^^^^^^^^^^^^^^^^^^^^^^^^^^^^^^^^^^^^^^^^^^^^^^^^^^^^^^^^^^^^^^^^^^^^^^\n",
            "  File \"/usr/local/lib/python3.11/dist-packages/sklearn/metrics/_scorer.py\", line 388, in _score\n",
            "    return self._sign * self._score_func(y_true, y_pred, **scoring_kwargs)\n",
            "                        ^^^^^^^^^^^^^^^^^^^^^^^^^^^^^^^^^^^^^^^^^^^^^^^^^^\n",
            "  File \"/usr/local/lib/python3.11/dist-packages/sklearn/utils/_param_validation.py\", line 216, in wrapper\n",
            "    return func(*args, **kwargs)\n",
            "           ^^^^^^^^^^^^^^^^^^^^^\n",
            "  File \"/usr/local/lib/python3.11/dist-packages/sklearn/metrics/_regression.py\", line 746, in mean_squared_log_error\n",
            "    raise ValueError(\n",
            "ValueError: Mean Squared Logarithmic Error cannot be used when targets contain values less than or equal to -1.\n",
            "\n",
            "  warnings.warn(\n"
          ]
        },
        {
          "output_type": "stream",
          "name": "stdout",
          "text": [
            "[CV] END regressor__colsample_bytree=1.0, regressor__learning_rate=0.1, regressor__max_depth=3, regressor__n_estimators=200, regressor__subsample=0.8; total time=   2.3s\n"
          ]
        },
        {
          "output_type": "stream",
          "name": "stderr",
          "text": [
            "/usr/local/lib/python3.11/dist-packages/sklearn/model_selection/_validation.py:960: UserWarning: Scoring failed. The score on this train-test partition for these parameters will be set to nan. Details: \n",
            "Traceback (most recent call last):\n",
            "  File \"/usr/local/lib/python3.11/dist-packages/sklearn/model_selection/_validation.py\", line 949, in _score\n",
            "    scores = scorer(estimator, X_test, y_test, **score_params)\n",
            "             ^^^^^^^^^^^^^^^^^^^^^^^^^^^^^^^^^^^^^^^^^^^^^^^^^\n",
            "  File \"/usr/local/lib/python3.11/dist-packages/sklearn/metrics/_scorer.py\", line 288, in __call__\n",
            "    return self._score(partial(_cached_call, None), estimator, X, y_true, **_kwargs)\n",
            "           ^^^^^^^^^^^^^^^^^^^^^^^^^^^^^^^^^^^^^^^^^^^^^^^^^^^^^^^^^^^^^^^^^^^^^^^^^\n",
            "  File \"/usr/local/lib/python3.11/dist-packages/sklearn/metrics/_scorer.py\", line 388, in _score\n",
            "    return self._sign * self._score_func(y_true, y_pred, **scoring_kwargs)\n",
            "                        ^^^^^^^^^^^^^^^^^^^^^^^^^^^^^^^^^^^^^^^^^^^^^^^^^^\n",
            "  File \"/usr/local/lib/python3.11/dist-packages/sklearn/utils/_param_validation.py\", line 216, in wrapper\n",
            "    return func(*args, **kwargs)\n",
            "           ^^^^^^^^^^^^^^^^^^^^^\n",
            "  File \"/usr/local/lib/python3.11/dist-packages/sklearn/metrics/_regression.py\", line 746, in mean_squared_log_error\n",
            "    raise ValueError(\n",
            "ValueError: Mean Squared Logarithmic Error cannot be used when targets contain values less than or equal to -1.\n",
            "\n",
            "  warnings.warn(\n"
          ]
        },
        {
          "output_type": "stream",
          "name": "stdout",
          "text": [
            "[CV] END regressor__colsample_bytree=1.0, regressor__learning_rate=0.1, regressor__max_depth=3, regressor__n_estimators=200, regressor__subsample=0.8; total time=   5.1s\n"
          ]
        },
        {
          "output_type": "stream",
          "name": "stderr",
          "text": [
            "/usr/local/lib/python3.11/dist-packages/sklearn/model_selection/_validation.py:960: UserWarning: Scoring failed. The score on this train-test partition for these parameters will be set to nan. Details: \n",
            "Traceback (most recent call last):\n",
            "  File \"/usr/local/lib/python3.11/dist-packages/sklearn/model_selection/_validation.py\", line 949, in _score\n",
            "    scores = scorer(estimator, X_test, y_test, **score_params)\n",
            "             ^^^^^^^^^^^^^^^^^^^^^^^^^^^^^^^^^^^^^^^^^^^^^^^^^\n",
            "  File \"/usr/local/lib/python3.11/dist-packages/sklearn/metrics/_scorer.py\", line 288, in __call__\n",
            "    return self._score(partial(_cached_call, None), estimator, X, y_true, **_kwargs)\n",
            "           ^^^^^^^^^^^^^^^^^^^^^^^^^^^^^^^^^^^^^^^^^^^^^^^^^^^^^^^^^^^^^^^^^^^^^^^^^\n",
            "  File \"/usr/local/lib/python3.11/dist-packages/sklearn/metrics/_scorer.py\", line 388, in _score\n",
            "    return self._sign * self._score_func(y_true, y_pred, **scoring_kwargs)\n",
            "                        ^^^^^^^^^^^^^^^^^^^^^^^^^^^^^^^^^^^^^^^^^^^^^^^^^^\n",
            "  File \"/usr/local/lib/python3.11/dist-packages/sklearn/utils/_param_validation.py\", line 216, in wrapper\n",
            "    return func(*args, **kwargs)\n",
            "           ^^^^^^^^^^^^^^^^^^^^^\n",
            "  File \"/usr/local/lib/python3.11/dist-packages/sklearn/metrics/_regression.py\", line 746, in mean_squared_log_error\n",
            "    raise ValueError(\n",
            "ValueError: Mean Squared Logarithmic Error cannot be used when targets contain values less than or equal to -1.\n",
            "\n",
            "  warnings.warn(\n"
          ]
        },
        {
          "output_type": "stream",
          "name": "stdout",
          "text": [
            "[CV] END regressor__colsample_bytree=1.0, regressor__learning_rate=0.1, regressor__max_depth=3, regressor__n_estimators=200, regressor__subsample=0.8; total time=   2.3s\n"
          ]
        },
        {
          "output_type": "stream",
          "name": "stderr",
          "text": [
            "/usr/local/lib/python3.11/dist-packages/sklearn/model_selection/_validation.py:960: UserWarning: Scoring failed. The score on this train-test partition for these parameters will be set to nan. Details: \n",
            "Traceback (most recent call last):\n",
            "  File \"/usr/local/lib/python3.11/dist-packages/sklearn/model_selection/_validation.py\", line 949, in _score\n",
            "    scores = scorer(estimator, X_test, y_test, **score_params)\n",
            "             ^^^^^^^^^^^^^^^^^^^^^^^^^^^^^^^^^^^^^^^^^^^^^^^^^\n",
            "  File \"/usr/local/lib/python3.11/dist-packages/sklearn/metrics/_scorer.py\", line 288, in __call__\n",
            "    return self._score(partial(_cached_call, None), estimator, X, y_true, **_kwargs)\n",
            "           ^^^^^^^^^^^^^^^^^^^^^^^^^^^^^^^^^^^^^^^^^^^^^^^^^^^^^^^^^^^^^^^^^^^^^^^^^\n",
            "  File \"/usr/local/lib/python3.11/dist-packages/sklearn/metrics/_scorer.py\", line 388, in _score\n",
            "    return self._sign * self._score_func(y_true, y_pred, **scoring_kwargs)\n",
            "                        ^^^^^^^^^^^^^^^^^^^^^^^^^^^^^^^^^^^^^^^^^^^^^^^^^^\n",
            "  File \"/usr/local/lib/python3.11/dist-packages/sklearn/utils/_param_validation.py\", line 216, in wrapper\n",
            "    return func(*args, **kwargs)\n",
            "           ^^^^^^^^^^^^^^^^^^^^^\n",
            "  File \"/usr/local/lib/python3.11/dist-packages/sklearn/metrics/_regression.py\", line 746, in mean_squared_log_error\n",
            "    raise ValueError(\n",
            "ValueError: Mean Squared Logarithmic Error cannot be used when targets contain values less than or equal to -1.\n",
            "\n",
            "  warnings.warn(\n"
          ]
        },
        {
          "output_type": "stream",
          "name": "stdout",
          "text": [
            "[CV] END regressor__colsample_bytree=1.0, regressor__learning_rate=0.1, regressor__max_depth=3, regressor__n_estimators=200, regressor__subsample=1.0; total time=   2.2s\n"
          ]
        },
        {
          "output_type": "stream",
          "name": "stderr",
          "text": [
            "/usr/local/lib/python3.11/dist-packages/sklearn/model_selection/_validation.py:960: UserWarning: Scoring failed. The score on this train-test partition for these parameters will be set to nan. Details: \n",
            "Traceback (most recent call last):\n",
            "  File \"/usr/local/lib/python3.11/dist-packages/sklearn/model_selection/_validation.py\", line 949, in _score\n",
            "    scores = scorer(estimator, X_test, y_test, **score_params)\n",
            "             ^^^^^^^^^^^^^^^^^^^^^^^^^^^^^^^^^^^^^^^^^^^^^^^^^\n",
            "  File \"/usr/local/lib/python3.11/dist-packages/sklearn/metrics/_scorer.py\", line 288, in __call__\n",
            "    return self._score(partial(_cached_call, None), estimator, X, y_true, **_kwargs)\n",
            "           ^^^^^^^^^^^^^^^^^^^^^^^^^^^^^^^^^^^^^^^^^^^^^^^^^^^^^^^^^^^^^^^^^^^^^^^^^\n",
            "  File \"/usr/local/lib/python3.11/dist-packages/sklearn/metrics/_scorer.py\", line 388, in _score\n",
            "    return self._sign * self._score_func(y_true, y_pred, **scoring_kwargs)\n",
            "                        ^^^^^^^^^^^^^^^^^^^^^^^^^^^^^^^^^^^^^^^^^^^^^^^^^^\n",
            "  File \"/usr/local/lib/python3.11/dist-packages/sklearn/utils/_param_validation.py\", line 216, in wrapper\n",
            "    return func(*args, **kwargs)\n",
            "           ^^^^^^^^^^^^^^^^^^^^^\n",
            "  File \"/usr/local/lib/python3.11/dist-packages/sklearn/metrics/_regression.py\", line 746, in mean_squared_log_error\n",
            "    raise ValueError(\n",
            "ValueError: Mean Squared Logarithmic Error cannot be used when targets contain values less than or equal to -1.\n",
            "\n",
            "  warnings.warn(\n"
          ]
        },
        {
          "output_type": "stream",
          "name": "stdout",
          "text": [
            "[CV] END regressor__colsample_bytree=1.0, regressor__learning_rate=0.1, regressor__max_depth=3, regressor__n_estimators=200, regressor__subsample=1.0; total time=   2.2s\n"
          ]
        },
        {
          "output_type": "stream",
          "name": "stderr",
          "text": [
            "/usr/local/lib/python3.11/dist-packages/sklearn/model_selection/_validation.py:960: UserWarning: Scoring failed. The score on this train-test partition for these parameters will be set to nan. Details: \n",
            "Traceback (most recent call last):\n",
            "  File \"/usr/local/lib/python3.11/dist-packages/sklearn/model_selection/_validation.py\", line 949, in _score\n",
            "    scores = scorer(estimator, X_test, y_test, **score_params)\n",
            "             ^^^^^^^^^^^^^^^^^^^^^^^^^^^^^^^^^^^^^^^^^^^^^^^^^\n",
            "  File \"/usr/local/lib/python3.11/dist-packages/sklearn/metrics/_scorer.py\", line 288, in __call__\n",
            "    return self._score(partial(_cached_call, None), estimator, X, y_true, **_kwargs)\n",
            "           ^^^^^^^^^^^^^^^^^^^^^^^^^^^^^^^^^^^^^^^^^^^^^^^^^^^^^^^^^^^^^^^^^^^^^^^^^\n",
            "  File \"/usr/local/lib/python3.11/dist-packages/sklearn/metrics/_scorer.py\", line 388, in _score\n",
            "    return self._sign * self._score_func(y_true, y_pred, **scoring_kwargs)\n",
            "                        ^^^^^^^^^^^^^^^^^^^^^^^^^^^^^^^^^^^^^^^^^^^^^^^^^^\n",
            "  File \"/usr/local/lib/python3.11/dist-packages/sklearn/utils/_param_validation.py\", line 216, in wrapper\n",
            "    return func(*args, **kwargs)\n",
            "           ^^^^^^^^^^^^^^^^^^^^^\n",
            "  File \"/usr/local/lib/python3.11/dist-packages/sklearn/metrics/_regression.py\", line 746, in mean_squared_log_error\n",
            "    raise ValueError(\n",
            "ValueError: Mean Squared Logarithmic Error cannot be used when targets contain values less than or equal to -1.\n",
            "\n",
            "  warnings.warn(\n"
          ]
        },
        {
          "output_type": "stream",
          "name": "stdout",
          "text": [
            "[CV] END regressor__colsample_bytree=1.0, regressor__learning_rate=0.1, regressor__max_depth=3, regressor__n_estimators=200, regressor__subsample=1.0; total time=   2.2s\n"
          ]
        },
        {
          "output_type": "stream",
          "name": "stderr",
          "text": [
            "/usr/local/lib/python3.11/dist-packages/sklearn/model_selection/_validation.py:960: UserWarning: Scoring failed. The score on this train-test partition for these parameters will be set to nan. Details: \n",
            "Traceback (most recent call last):\n",
            "  File \"/usr/local/lib/python3.11/dist-packages/sklearn/model_selection/_validation.py\", line 949, in _score\n",
            "    scores = scorer(estimator, X_test, y_test, **score_params)\n",
            "             ^^^^^^^^^^^^^^^^^^^^^^^^^^^^^^^^^^^^^^^^^^^^^^^^^\n",
            "  File \"/usr/local/lib/python3.11/dist-packages/sklearn/metrics/_scorer.py\", line 288, in __call__\n",
            "    return self._score(partial(_cached_call, None), estimator, X, y_true, **_kwargs)\n",
            "           ^^^^^^^^^^^^^^^^^^^^^^^^^^^^^^^^^^^^^^^^^^^^^^^^^^^^^^^^^^^^^^^^^^^^^^^^^\n",
            "  File \"/usr/local/lib/python3.11/dist-packages/sklearn/metrics/_scorer.py\", line 388, in _score\n",
            "    return self._sign * self._score_func(y_true, y_pred, **scoring_kwargs)\n",
            "                        ^^^^^^^^^^^^^^^^^^^^^^^^^^^^^^^^^^^^^^^^^^^^^^^^^^\n",
            "  File \"/usr/local/lib/python3.11/dist-packages/sklearn/utils/_param_validation.py\", line 216, in wrapper\n",
            "    return func(*args, **kwargs)\n",
            "           ^^^^^^^^^^^^^^^^^^^^^\n",
            "  File \"/usr/local/lib/python3.11/dist-packages/sklearn/metrics/_regression.py\", line 746, in mean_squared_log_error\n",
            "    raise ValueError(\n",
            "ValueError: Mean Squared Logarithmic Error cannot be used when targets contain values less than or equal to -1.\n",
            "\n",
            "  warnings.warn(\n"
          ]
        },
        {
          "output_type": "stream",
          "name": "stdout",
          "text": [
            "[CV] END regressor__colsample_bytree=1.0, regressor__learning_rate=0.1, regressor__max_depth=3, regressor__n_estimators=300, regressor__subsample=0.8; total time=   6.0s\n"
          ]
        },
        {
          "output_type": "stream",
          "name": "stderr",
          "text": [
            "/usr/local/lib/python3.11/dist-packages/sklearn/model_selection/_validation.py:960: UserWarning: Scoring failed. The score on this train-test partition for these parameters will be set to nan. Details: \n",
            "Traceback (most recent call last):\n",
            "  File \"/usr/local/lib/python3.11/dist-packages/sklearn/model_selection/_validation.py\", line 949, in _score\n",
            "    scores = scorer(estimator, X_test, y_test, **score_params)\n",
            "             ^^^^^^^^^^^^^^^^^^^^^^^^^^^^^^^^^^^^^^^^^^^^^^^^^\n",
            "  File \"/usr/local/lib/python3.11/dist-packages/sklearn/metrics/_scorer.py\", line 288, in __call__\n",
            "    return self._score(partial(_cached_call, None), estimator, X, y_true, **_kwargs)\n",
            "           ^^^^^^^^^^^^^^^^^^^^^^^^^^^^^^^^^^^^^^^^^^^^^^^^^^^^^^^^^^^^^^^^^^^^^^^^^\n",
            "  File \"/usr/local/lib/python3.11/dist-packages/sklearn/metrics/_scorer.py\", line 388, in _score\n",
            "    return self._sign * self._score_func(y_true, y_pred, **scoring_kwargs)\n",
            "                        ^^^^^^^^^^^^^^^^^^^^^^^^^^^^^^^^^^^^^^^^^^^^^^^^^^\n",
            "  File \"/usr/local/lib/python3.11/dist-packages/sklearn/utils/_param_validation.py\", line 216, in wrapper\n",
            "    return func(*args, **kwargs)\n",
            "           ^^^^^^^^^^^^^^^^^^^^^\n",
            "  File \"/usr/local/lib/python3.11/dist-packages/sklearn/metrics/_regression.py\", line 746, in mean_squared_log_error\n",
            "    raise ValueError(\n",
            "ValueError: Mean Squared Logarithmic Error cannot be used when targets contain values less than or equal to -1.\n",
            "\n",
            "  warnings.warn(\n"
          ]
        },
        {
          "output_type": "stream",
          "name": "stdout",
          "text": [
            "[CV] END regressor__colsample_bytree=1.0, regressor__learning_rate=0.1, regressor__max_depth=3, regressor__n_estimators=300, regressor__subsample=0.8; total time=   3.0s\n"
          ]
        },
        {
          "output_type": "stream",
          "name": "stderr",
          "text": [
            "/usr/local/lib/python3.11/dist-packages/sklearn/model_selection/_validation.py:960: UserWarning: Scoring failed. The score on this train-test partition for these parameters will be set to nan. Details: \n",
            "Traceback (most recent call last):\n",
            "  File \"/usr/local/lib/python3.11/dist-packages/sklearn/model_selection/_validation.py\", line 949, in _score\n",
            "    scores = scorer(estimator, X_test, y_test, **score_params)\n",
            "             ^^^^^^^^^^^^^^^^^^^^^^^^^^^^^^^^^^^^^^^^^^^^^^^^^\n",
            "  File \"/usr/local/lib/python3.11/dist-packages/sklearn/metrics/_scorer.py\", line 288, in __call__\n",
            "    return self._score(partial(_cached_call, None), estimator, X, y_true, **_kwargs)\n",
            "           ^^^^^^^^^^^^^^^^^^^^^^^^^^^^^^^^^^^^^^^^^^^^^^^^^^^^^^^^^^^^^^^^^^^^^^^^^\n",
            "  File \"/usr/local/lib/python3.11/dist-packages/sklearn/metrics/_scorer.py\", line 388, in _score\n",
            "    return self._sign * self._score_func(y_true, y_pred, **scoring_kwargs)\n",
            "                        ^^^^^^^^^^^^^^^^^^^^^^^^^^^^^^^^^^^^^^^^^^^^^^^^^^\n",
            "  File \"/usr/local/lib/python3.11/dist-packages/sklearn/utils/_param_validation.py\", line 216, in wrapper\n",
            "    return func(*args, **kwargs)\n",
            "           ^^^^^^^^^^^^^^^^^^^^^\n",
            "  File \"/usr/local/lib/python3.11/dist-packages/sklearn/metrics/_regression.py\", line 746, in mean_squared_log_error\n",
            "    raise ValueError(\n",
            "ValueError: Mean Squared Logarithmic Error cannot be used when targets contain values less than or equal to -1.\n",
            "\n",
            "  warnings.warn(\n"
          ]
        },
        {
          "output_type": "stream",
          "name": "stdout",
          "text": [
            "[CV] END regressor__colsample_bytree=1.0, regressor__learning_rate=0.1, regressor__max_depth=3, regressor__n_estimators=300, regressor__subsample=0.8; total time=   3.0s\n"
          ]
        },
        {
          "output_type": "stream",
          "name": "stderr",
          "text": [
            "/usr/local/lib/python3.11/dist-packages/sklearn/model_selection/_validation.py:960: UserWarning: Scoring failed. The score on this train-test partition for these parameters will be set to nan. Details: \n",
            "Traceback (most recent call last):\n",
            "  File \"/usr/local/lib/python3.11/dist-packages/sklearn/model_selection/_validation.py\", line 949, in _score\n",
            "    scores = scorer(estimator, X_test, y_test, **score_params)\n",
            "             ^^^^^^^^^^^^^^^^^^^^^^^^^^^^^^^^^^^^^^^^^^^^^^^^^\n",
            "  File \"/usr/local/lib/python3.11/dist-packages/sklearn/metrics/_scorer.py\", line 288, in __call__\n",
            "    return self._score(partial(_cached_call, None), estimator, X, y_true, **_kwargs)\n",
            "           ^^^^^^^^^^^^^^^^^^^^^^^^^^^^^^^^^^^^^^^^^^^^^^^^^^^^^^^^^^^^^^^^^^^^^^^^^\n",
            "  File \"/usr/local/lib/python3.11/dist-packages/sklearn/metrics/_scorer.py\", line 388, in _score\n",
            "    return self._sign * self._score_func(y_true, y_pred, **scoring_kwargs)\n",
            "                        ^^^^^^^^^^^^^^^^^^^^^^^^^^^^^^^^^^^^^^^^^^^^^^^^^^\n",
            "  File \"/usr/local/lib/python3.11/dist-packages/sklearn/utils/_param_validation.py\", line 216, in wrapper\n",
            "    return func(*args, **kwargs)\n",
            "           ^^^^^^^^^^^^^^^^^^^^^\n",
            "  File \"/usr/local/lib/python3.11/dist-packages/sklearn/metrics/_regression.py\", line 746, in mean_squared_log_error\n",
            "    raise ValueError(\n",
            "ValueError: Mean Squared Logarithmic Error cannot be used when targets contain values less than or equal to -1.\n",
            "\n",
            "  warnings.warn(\n"
          ]
        },
        {
          "output_type": "stream",
          "name": "stdout",
          "text": [
            "[CV] END regressor__colsample_bytree=1.0, regressor__learning_rate=0.1, regressor__max_depth=3, regressor__n_estimators=300, regressor__subsample=1.0; total time=   2.8s\n"
          ]
        },
        {
          "output_type": "stream",
          "name": "stderr",
          "text": [
            "/usr/local/lib/python3.11/dist-packages/sklearn/model_selection/_validation.py:960: UserWarning: Scoring failed. The score on this train-test partition for these parameters will be set to nan. Details: \n",
            "Traceback (most recent call last):\n",
            "  File \"/usr/local/lib/python3.11/dist-packages/sklearn/model_selection/_validation.py\", line 949, in _score\n",
            "    scores = scorer(estimator, X_test, y_test, **score_params)\n",
            "             ^^^^^^^^^^^^^^^^^^^^^^^^^^^^^^^^^^^^^^^^^^^^^^^^^\n",
            "  File \"/usr/local/lib/python3.11/dist-packages/sklearn/metrics/_scorer.py\", line 288, in __call__\n",
            "    return self._score(partial(_cached_call, None), estimator, X, y_true, **_kwargs)\n",
            "           ^^^^^^^^^^^^^^^^^^^^^^^^^^^^^^^^^^^^^^^^^^^^^^^^^^^^^^^^^^^^^^^^^^^^^^^^^\n",
            "  File \"/usr/local/lib/python3.11/dist-packages/sklearn/metrics/_scorer.py\", line 388, in _score\n",
            "    return self._sign * self._score_func(y_true, y_pred, **scoring_kwargs)\n",
            "                        ^^^^^^^^^^^^^^^^^^^^^^^^^^^^^^^^^^^^^^^^^^^^^^^^^^\n",
            "  File \"/usr/local/lib/python3.11/dist-packages/sklearn/utils/_param_validation.py\", line 216, in wrapper\n",
            "    return func(*args, **kwargs)\n",
            "           ^^^^^^^^^^^^^^^^^^^^^\n",
            "  File \"/usr/local/lib/python3.11/dist-packages/sklearn/metrics/_regression.py\", line 746, in mean_squared_log_error\n",
            "    raise ValueError(\n",
            "ValueError: Mean Squared Logarithmic Error cannot be used when targets contain values less than or equal to -1.\n",
            "\n",
            "  warnings.warn(\n"
          ]
        },
        {
          "output_type": "stream",
          "name": "stdout",
          "text": [
            "[CV] END regressor__colsample_bytree=1.0, regressor__learning_rate=0.1, regressor__max_depth=3, regressor__n_estimators=300, regressor__subsample=1.0; total time=   5.5s\n"
          ]
        },
        {
          "output_type": "stream",
          "name": "stderr",
          "text": [
            "/usr/local/lib/python3.11/dist-packages/sklearn/model_selection/_validation.py:960: UserWarning: Scoring failed. The score on this train-test partition for these parameters will be set to nan. Details: \n",
            "Traceback (most recent call last):\n",
            "  File \"/usr/local/lib/python3.11/dist-packages/sklearn/model_selection/_validation.py\", line 949, in _score\n",
            "    scores = scorer(estimator, X_test, y_test, **score_params)\n",
            "             ^^^^^^^^^^^^^^^^^^^^^^^^^^^^^^^^^^^^^^^^^^^^^^^^^\n",
            "  File \"/usr/local/lib/python3.11/dist-packages/sklearn/metrics/_scorer.py\", line 288, in __call__\n",
            "    return self._score(partial(_cached_call, None), estimator, X, y_true, **_kwargs)\n",
            "           ^^^^^^^^^^^^^^^^^^^^^^^^^^^^^^^^^^^^^^^^^^^^^^^^^^^^^^^^^^^^^^^^^^^^^^^^^\n",
            "  File \"/usr/local/lib/python3.11/dist-packages/sklearn/metrics/_scorer.py\", line 388, in _score\n",
            "    return self._sign * self._score_func(y_true, y_pred, **scoring_kwargs)\n",
            "                        ^^^^^^^^^^^^^^^^^^^^^^^^^^^^^^^^^^^^^^^^^^^^^^^^^^\n",
            "  File \"/usr/local/lib/python3.11/dist-packages/sklearn/utils/_param_validation.py\", line 216, in wrapper\n",
            "    return func(*args, **kwargs)\n",
            "           ^^^^^^^^^^^^^^^^^^^^^\n",
            "  File \"/usr/local/lib/python3.11/dist-packages/sklearn/metrics/_regression.py\", line 746, in mean_squared_log_error\n",
            "    raise ValueError(\n",
            "ValueError: Mean Squared Logarithmic Error cannot be used when targets contain values less than or equal to -1.\n",
            "\n",
            "  warnings.warn(\n"
          ]
        },
        {
          "output_type": "stream",
          "name": "stdout",
          "text": [
            "[CV] END regressor__colsample_bytree=1.0, regressor__learning_rate=0.1, regressor__max_depth=3, regressor__n_estimators=300, regressor__subsample=1.0; total time=   2.7s\n",
            "[CV] END regressor__colsample_bytree=1.0, regressor__learning_rate=0.1, regressor__max_depth=5, regressor__n_estimators=100, regressor__subsample=0.8; total time=   1.7s\n",
            "[CV] END regressor__colsample_bytree=1.0, regressor__learning_rate=0.1, regressor__max_depth=5, regressor__n_estimators=100, regressor__subsample=0.8; total time=   1.7s\n"
          ]
        },
        {
          "output_type": "stream",
          "name": "stderr",
          "text": [
            "/usr/local/lib/python3.11/dist-packages/sklearn/model_selection/_validation.py:960: UserWarning: Scoring failed. The score on this train-test partition for these parameters will be set to nan. Details: \n",
            "Traceback (most recent call last):\n",
            "  File \"/usr/local/lib/python3.11/dist-packages/sklearn/model_selection/_validation.py\", line 949, in _score\n",
            "    scores = scorer(estimator, X_test, y_test, **score_params)\n",
            "             ^^^^^^^^^^^^^^^^^^^^^^^^^^^^^^^^^^^^^^^^^^^^^^^^^\n",
            "  File \"/usr/local/lib/python3.11/dist-packages/sklearn/metrics/_scorer.py\", line 288, in __call__\n",
            "    return self._score(partial(_cached_call, None), estimator, X, y_true, **_kwargs)\n",
            "           ^^^^^^^^^^^^^^^^^^^^^^^^^^^^^^^^^^^^^^^^^^^^^^^^^^^^^^^^^^^^^^^^^^^^^^^^^\n",
            "  File \"/usr/local/lib/python3.11/dist-packages/sklearn/metrics/_scorer.py\", line 388, in _score\n",
            "    return self._sign * self._score_func(y_true, y_pred, **scoring_kwargs)\n",
            "                        ^^^^^^^^^^^^^^^^^^^^^^^^^^^^^^^^^^^^^^^^^^^^^^^^^^\n",
            "  File \"/usr/local/lib/python3.11/dist-packages/sklearn/utils/_param_validation.py\", line 216, in wrapper\n",
            "    return func(*args, **kwargs)\n",
            "           ^^^^^^^^^^^^^^^^^^^^^\n",
            "  File \"/usr/local/lib/python3.11/dist-packages/sklearn/metrics/_regression.py\", line 746, in mean_squared_log_error\n",
            "    raise ValueError(\n",
            "ValueError: Mean Squared Logarithmic Error cannot be used when targets contain values less than or equal to -1.\n",
            "\n",
            "  warnings.warn(\n"
          ]
        },
        {
          "output_type": "stream",
          "name": "stdout",
          "text": [
            "[CV] END regressor__colsample_bytree=1.0, regressor__learning_rate=0.1, regressor__max_depth=5, regressor__n_estimators=100, regressor__subsample=0.8; total time=   1.7s\n",
            "[CV] END regressor__colsample_bytree=1.0, regressor__learning_rate=0.1, regressor__max_depth=5, regressor__n_estimators=100, regressor__subsample=1.0; total time=   3.1s\n",
            "[CV] END regressor__colsample_bytree=1.0, regressor__learning_rate=0.1, regressor__max_depth=5, regressor__n_estimators=100, regressor__subsample=1.0; total time=   2.6s\n",
            "[CV] END regressor__colsample_bytree=1.0, regressor__learning_rate=0.1, regressor__max_depth=5, regressor__n_estimators=100, regressor__subsample=1.0; total time=   1.7s\n",
            "[CV] END regressor__colsample_bytree=1.0, regressor__learning_rate=0.1, regressor__max_depth=5, regressor__n_estimators=200, regressor__subsample=0.8; total time=   2.7s\n",
            "[CV] END regressor__colsample_bytree=1.0, regressor__learning_rate=0.1, regressor__max_depth=5, regressor__n_estimators=200, regressor__subsample=0.8; total time=   2.6s\n"
          ]
        },
        {
          "output_type": "stream",
          "name": "stderr",
          "text": [
            "/usr/local/lib/python3.11/dist-packages/sklearn/model_selection/_validation.py:960: UserWarning: Scoring failed. The score on this train-test partition for these parameters will be set to nan. Details: \n",
            "Traceback (most recent call last):\n",
            "  File \"/usr/local/lib/python3.11/dist-packages/sklearn/model_selection/_validation.py\", line 949, in _score\n",
            "    scores = scorer(estimator, X_test, y_test, **score_params)\n",
            "             ^^^^^^^^^^^^^^^^^^^^^^^^^^^^^^^^^^^^^^^^^^^^^^^^^\n",
            "  File \"/usr/local/lib/python3.11/dist-packages/sklearn/metrics/_scorer.py\", line 288, in __call__\n",
            "    return self._score(partial(_cached_call, None), estimator, X, y_true, **_kwargs)\n",
            "           ^^^^^^^^^^^^^^^^^^^^^^^^^^^^^^^^^^^^^^^^^^^^^^^^^^^^^^^^^^^^^^^^^^^^^^^^^\n",
            "  File \"/usr/local/lib/python3.11/dist-packages/sklearn/metrics/_scorer.py\", line 388, in _score\n",
            "    return self._sign * self._score_func(y_true, y_pred, **scoring_kwargs)\n",
            "                        ^^^^^^^^^^^^^^^^^^^^^^^^^^^^^^^^^^^^^^^^^^^^^^^^^^\n",
            "  File \"/usr/local/lib/python3.11/dist-packages/sklearn/utils/_param_validation.py\", line 216, in wrapper\n",
            "    return func(*args, **kwargs)\n",
            "           ^^^^^^^^^^^^^^^^^^^^^\n",
            "  File \"/usr/local/lib/python3.11/dist-packages/sklearn/metrics/_regression.py\", line 746, in mean_squared_log_error\n",
            "    raise ValueError(\n",
            "ValueError: Mean Squared Logarithmic Error cannot be used when targets contain values less than or equal to -1.\n",
            "\n",
            "  warnings.warn(\n"
          ]
        },
        {
          "output_type": "stream",
          "name": "stdout",
          "text": [
            "[CV] END regressor__colsample_bytree=1.0, regressor__learning_rate=0.1, regressor__max_depth=5, regressor__n_estimators=200, regressor__subsample=0.8; total time=   2.9s\n"
          ]
        },
        {
          "output_type": "stream",
          "name": "stderr",
          "text": [
            "/usr/local/lib/python3.11/dist-packages/sklearn/model_selection/_validation.py:960: UserWarning: Scoring failed. The score on this train-test partition for these parameters will be set to nan. Details: \n",
            "Traceback (most recent call last):\n",
            "  File \"/usr/local/lib/python3.11/dist-packages/sklearn/model_selection/_validation.py\", line 949, in _score\n",
            "    scores = scorer(estimator, X_test, y_test, **score_params)\n",
            "             ^^^^^^^^^^^^^^^^^^^^^^^^^^^^^^^^^^^^^^^^^^^^^^^^^\n",
            "  File \"/usr/local/lib/python3.11/dist-packages/sklearn/metrics/_scorer.py\", line 288, in __call__\n",
            "    return self._score(partial(_cached_call, None), estimator, X, y_true, **_kwargs)\n",
            "           ^^^^^^^^^^^^^^^^^^^^^^^^^^^^^^^^^^^^^^^^^^^^^^^^^^^^^^^^^^^^^^^^^^^^^^^^^\n",
            "  File \"/usr/local/lib/python3.11/dist-packages/sklearn/metrics/_scorer.py\", line 388, in _score\n",
            "    return self._sign * self._score_func(y_true, y_pred, **scoring_kwargs)\n",
            "                        ^^^^^^^^^^^^^^^^^^^^^^^^^^^^^^^^^^^^^^^^^^^^^^^^^^\n",
            "  File \"/usr/local/lib/python3.11/dist-packages/sklearn/utils/_param_validation.py\", line 216, in wrapper\n",
            "    return func(*args, **kwargs)\n",
            "           ^^^^^^^^^^^^^^^^^^^^^\n",
            "  File \"/usr/local/lib/python3.11/dist-packages/sklearn/metrics/_regression.py\", line 746, in mean_squared_log_error\n",
            "    raise ValueError(\n",
            "ValueError: Mean Squared Logarithmic Error cannot be used when targets contain values less than or equal to -1.\n",
            "\n",
            "  warnings.warn(\n"
          ]
        },
        {
          "output_type": "stream",
          "name": "stdout",
          "text": [
            "[CV] END regressor__colsample_bytree=1.0, regressor__learning_rate=0.1, regressor__max_depth=5, regressor__n_estimators=200, regressor__subsample=1.0; total time=   4.8s\n",
            "[CV] END regressor__colsample_bytree=1.0, regressor__learning_rate=0.1, regressor__max_depth=5, regressor__n_estimators=200, regressor__subsample=1.0; total time=   2.5s\n"
          ]
        },
        {
          "output_type": "stream",
          "name": "stderr",
          "text": [
            "/usr/local/lib/python3.11/dist-packages/sklearn/model_selection/_validation.py:960: UserWarning: Scoring failed. The score on this train-test partition for these parameters will be set to nan. Details: \n",
            "Traceback (most recent call last):\n",
            "  File \"/usr/local/lib/python3.11/dist-packages/sklearn/model_selection/_validation.py\", line 949, in _score\n",
            "    scores = scorer(estimator, X_test, y_test, **score_params)\n",
            "             ^^^^^^^^^^^^^^^^^^^^^^^^^^^^^^^^^^^^^^^^^^^^^^^^^\n",
            "  File \"/usr/local/lib/python3.11/dist-packages/sklearn/metrics/_scorer.py\", line 288, in __call__\n",
            "    return self._score(partial(_cached_call, None), estimator, X, y_true, **_kwargs)\n",
            "           ^^^^^^^^^^^^^^^^^^^^^^^^^^^^^^^^^^^^^^^^^^^^^^^^^^^^^^^^^^^^^^^^^^^^^^^^^\n",
            "  File \"/usr/local/lib/python3.11/dist-packages/sklearn/metrics/_scorer.py\", line 388, in _score\n",
            "    return self._sign * self._score_func(y_true, y_pred, **scoring_kwargs)\n",
            "                        ^^^^^^^^^^^^^^^^^^^^^^^^^^^^^^^^^^^^^^^^^^^^^^^^^^\n",
            "  File \"/usr/local/lib/python3.11/dist-packages/sklearn/utils/_param_validation.py\", line 216, in wrapper\n",
            "    return func(*args, **kwargs)\n",
            "           ^^^^^^^^^^^^^^^^^^^^^\n",
            "  File \"/usr/local/lib/python3.11/dist-packages/sklearn/metrics/_regression.py\", line 746, in mean_squared_log_error\n",
            "    raise ValueError(\n",
            "ValueError: Mean Squared Logarithmic Error cannot be used when targets contain values less than or equal to -1.\n",
            "\n",
            "  warnings.warn(\n"
          ]
        },
        {
          "output_type": "stream",
          "name": "stdout",
          "text": [
            "[CV] END regressor__colsample_bytree=1.0, regressor__learning_rate=0.1, regressor__max_depth=5, regressor__n_estimators=200, regressor__subsample=1.0; total time=   2.5s\n",
            "[CV] END regressor__colsample_bytree=1.0, regressor__learning_rate=0.1, regressor__max_depth=5, regressor__n_estimators=300, regressor__subsample=0.8; total time=   3.5s\n"
          ]
        },
        {
          "output_type": "stream",
          "name": "stderr",
          "text": [
            "/usr/local/lib/python3.11/dist-packages/sklearn/model_selection/_validation.py:960: UserWarning: Scoring failed. The score on this train-test partition for these parameters will be set to nan. Details: \n",
            "Traceback (most recent call last):\n",
            "  File \"/usr/local/lib/python3.11/dist-packages/sklearn/model_selection/_validation.py\", line 949, in _score\n",
            "    scores = scorer(estimator, X_test, y_test, **score_params)\n",
            "             ^^^^^^^^^^^^^^^^^^^^^^^^^^^^^^^^^^^^^^^^^^^^^^^^^\n",
            "  File \"/usr/local/lib/python3.11/dist-packages/sklearn/metrics/_scorer.py\", line 288, in __call__\n",
            "    return self._score(partial(_cached_call, None), estimator, X, y_true, **_kwargs)\n",
            "           ^^^^^^^^^^^^^^^^^^^^^^^^^^^^^^^^^^^^^^^^^^^^^^^^^^^^^^^^^^^^^^^^^^^^^^^^^\n",
            "  File \"/usr/local/lib/python3.11/dist-packages/sklearn/metrics/_scorer.py\", line 388, in _score\n",
            "    return self._sign * self._score_func(y_true, y_pred, **scoring_kwargs)\n",
            "                        ^^^^^^^^^^^^^^^^^^^^^^^^^^^^^^^^^^^^^^^^^^^^^^^^^^\n",
            "  File \"/usr/local/lib/python3.11/dist-packages/sklearn/utils/_param_validation.py\", line 216, in wrapper\n",
            "    return func(*args, **kwargs)\n",
            "           ^^^^^^^^^^^^^^^^^^^^^\n",
            "  File \"/usr/local/lib/python3.11/dist-packages/sklearn/metrics/_regression.py\", line 746, in mean_squared_log_error\n",
            "    raise ValueError(\n",
            "ValueError: Mean Squared Logarithmic Error cannot be used when targets contain values less than or equal to -1.\n",
            "\n",
            "  warnings.warn(\n"
          ]
        },
        {
          "output_type": "stream",
          "name": "stdout",
          "text": [
            "[CV] END regressor__colsample_bytree=1.0, regressor__learning_rate=0.1, regressor__max_depth=5, regressor__n_estimators=300, regressor__subsample=0.8; total time=   6.4s\n"
          ]
        },
        {
          "output_type": "stream",
          "name": "stderr",
          "text": [
            "/usr/local/lib/python3.11/dist-packages/sklearn/model_selection/_validation.py:960: UserWarning: Scoring failed. The score on this train-test partition for these parameters will be set to nan. Details: \n",
            "Traceback (most recent call last):\n",
            "  File \"/usr/local/lib/python3.11/dist-packages/sklearn/model_selection/_validation.py\", line 949, in _score\n",
            "    scores = scorer(estimator, X_test, y_test, **score_params)\n",
            "             ^^^^^^^^^^^^^^^^^^^^^^^^^^^^^^^^^^^^^^^^^^^^^^^^^\n",
            "  File \"/usr/local/lib/python3.11/dist-packages/sklearn/metrics/_scorer.py\", line 288, in __call__\n",
            "    return self._score(partial(_cached_call, None), estimator, X, y_true, **_kwargs)\n",
            "           ^^^^^^^^^^^^^^^^^^^^^^^^^^^^^^^^^^^^^^^^^^^^^^^^^^^^^^^^^^^^^^^^^^^^^^^^^\n",
            "  File \"/usr/local/lib/python3.11/dist-packages/sklearn/metrics/_scorer.py\", line 388, in _score\n",
            "    return self._sign * self._score_func(y_true, y_pred, **scoring_kwargs)\n",
            "                        ^^^^^^^^^^^^^^^^^^^^^^^^^^^^^^^^^^^^^^^^^^^^^^^^^^\n",
            "  File \"/usr/local/lib/python3.11/dist-packages/sklearn/utils/_param_validation.py\", line 216, in wrapper\n",
            "    return func(*args, **kwargs)\n",
            "           ^^^^^^^^^^^^^^^^^^^^^\n",
            "  File \"/usr/local/lib/python3.11/dist-packages/sklearn/metrics/_regression.py\", line 746, in mean_squared_log_error\n",
            "    raise ValueError(\n",
            "ValueError: Mean Squared Logarithmic Error cannot be used when targets contain values less than or equal to -1.\n",
            "\n",
            "  warnings.warn(\n"
          ]
        },
        {
          "output_type": "stream",
          "name": "stdout",
          "text": [
            "[CV] END regressor__colsample_bytree=1.0, regressor__learning_rate=0.1, regressor__max_depth=5, regressor__n_estimators=300, regressor__subsample=0.8; total time=   3.5s\n"
          ]
        },
        {
          "output_type": "stream",
          "name": "stderr",
          "text": [
            "/usr/local/lib/python3.11/dist-packages/sklearn/model_selection/_validation.py:960: UserWarning: Scoring failed. The score on this train-test partition for these parameters will be set to nan. Details: \n",
            "Traceback (most recent call last):\n",
            "  File \"/usr/local/lib/python3.11/dist-packages/sklearn/model_selection/_validation.py\", line 949, in _score\n",
            "    scores = scorer(estimator, X_test, y_test, **score_params)\n",
            "             ^^^^^^^^^^^^^^^^^^^^^^^^^^^^^^^^^^^^^^^^^^^^^^^^^\n",
            "  File \"/usr/local/lib/python3.11/dist-packages/sklearn/metrics/_scorer.py\", line 288, in __call__\n",
            "    return self._score(partial(_cached_call, None), estimator, X, y_true, **_kwargs)\n",
            "           ^^^^^^^^^^^^^^^^^^^^^^^^^^^^^^^^^^^^^^^^^^^^^^^^^^^^^^^^^^^^^^^^^^^^^^^^^\n",
            "  File \"/usr/local/lib/python3.11/dist-packages/sklearn/metrics/_scorer.py\", line 388, in _score\n",
            "    return self._sign * self._score_func(y_true, y_pred, **scoring_kwargs)\n",
            "                        ^^^^^^^^^^^^^^^^^^^^^^^^^^^^^^^^^^^^^^^^^^^^^^^^^^\n",
            "  File \"/usr/local/lib/python3.11/dist-packages/sklearn/utils/_param_validation.py\", line 216, in wrapper\n",
            "    return func(*args, **kwargs)\n",
            "           ^^^^^^^^^^^^^^^^^^^^^\n",
            "  File \"/usr/local/lib/python3.11/dist-packages/sklearn/metrics/_regression.py\", line 746, in mean_squared_log_error\n",
            "    raise ValueError(\n",
            "ValueError: Mean Squared Logarithmic Error cannot be used when targets contain values less than or equal to -1.\n",
            "\n",
            "  warnings.warn(\n"
          ]
        },
        {
          "output_type": "stream",
          "name": "stdout",
          "text": [
            "[CV] END regressor__colsample_bytree=1.0, regressor__learning_rate=0.1, regressor__max_depth=5, regressor__n_estimators=300, regressor__subsample=1.0; total time=   3.4s\n",
            "[CV] END regressor__colsample_bytree=1.0, regressor__learning_rate=0.1, regressor__max_depth=5, regressor__n_estimators=300, regressor__subsample=1.0; total time=   6.4s\n"
          ]
        },
        {
          "output_type": "stream",
          "name": "stderr",
          "text": [
            "/usr/local/lib/python3.11/dist-packages/sklearn/model_selection/_validation.py:960: UserWarning: Scoring failed. The score on this train-test partition for these parameters will be set to nan. Details: \n",
            "Traceback (most recent call last):\n",
            "  File \"/usr/local/lib/python3.11/dist-packages/sklearn/model_selection/_validation.py\", line 949, in _score\n",
            "    scores = scorer(estimator, X_test, y_test, **score_params)\n",
            "             ^^^^^^^^^^^^^^^^^^^^^^^^^^^^^^^^^^^^^^^^^^^^^^^^^\n",
            "  File \"/usr/local/lib/python3.11/dist-packages/sklearn/metrics/_scorer.py\", line 288, in __call__\n",
            "    return self._score(partial(_cached_call, None), estimator, X, y_true, **_kwargs)\n",
            "           ^^^^^^^^^^^^^^^^^^^^^^^^^^^^^^^^^^^^^^^^^^^^^^^^^^^^^^^^^^^^^^^^^^^^^^^^^\n",
            "  File \"/usr/local/lib/python3.11/dist-packages/sklearn/metrics/_scorer.py\", line 388, in _score\n",
            "    return self._sign * self._score_func(y_true, y_pred, **scoring_kwargs)\n",
            "                        ^^^^^^^^^^^^^^^^^^^^^^^^^^^^^^^^^^^^^^^^^^^^^^^^^^\n",
            "  File \"/usr/local/lib/python3.11/dist-packages/sklearn/utils/_param_validation.py\", line 216, in wrapper\n",
            "    return func(*args, **kwargs)\n",
            "           ^^^^^^^^^^^^^^^^^^^^^\n",
            "  File \"/usr/local/lib/python3.11/dist-packages/sklearn/metrics/_regression.py\", line 746, in mean_squared_log_error\n",
            "    raise ValueError(\n",
            "ValueError: Mean Squared Logarithmic Error cannot be used when targets contain values less than or equal to -1.\n",
            "\n",
            "  warnings.warn(\n"
          ]
        },
        {
          "output_type": "stream",
          "name": "stdout",
          "text": [
            "[CV] END regressor__colsample_bytree=1.0, regressor__learning_rate=0.1, regressor__max_depth=5, regressor__n_estimators=300, regressor__subsample=1.0; total time=   3.4s\n",
            "[CV] END regressor__colsample_bytree=1.0, regressor__learning_rate=0.1, regressor__max_depth=7, regressor__n_estimators=100, regressor__subsample=0.8; total time=   1.9s\n",
            "[CV] END regressor__colsample_bytree=1.0, regressor__learning_rate=0.1, regressor__max_depth=7, regressor__n_estimators=100, regressor__subsample=0.8; total time=   1.9s\n",
            "[CV] END regressor__colsample_bytree=1.0, regressor__learning_rate=0.1, regressor__max_depth=7, regressor__n_estimators=100, regressor__subsample=0.8; total time=   2.1s\n",
            "[CV] END regressor__colsample_bytree=1.0, regressor__learning_rate=0.1, regressor__max_depth=7, regressor__n_estimators=100, regressor__subsample=1.0; total time=   4.1s\n",
            "[CV] END regressor__colsample_bytree=1.0, regressor__learning_rate=0.1, regressor__max_depth=7, regressor__n_estimators=100, regressor__subsample=1.0; total time=   1.8s\n",
            "[CV] END regressor__colsample_bytree=1.0, regressor__learning_rate=0.1, regressor__max_depth=7, regressor__n_estimators=100, regressor__subsample=1.0; total time=   1.8s\n",
            "[CV] END regressor__colsample_bytree=1.0, regressor__learning_rate=0.1, regressor__max_depth=7, regressor__n_estimators=200, regressor__subsample=0.8; total time=   3.1s\n",
            "[CV] END regressor__colsample_bytree=1.0, regressor__learning_rate=0.1, regressor__max_depth=7, regressor__n_estimators=200, regressor__subsample=0.8; total time=   3.2s\n",
            "[CV] END regressor__colsample_bytree=1.0, regressor__learning_rate=0.1, regressor__max_depth=7, regressor__n_estimators=200, regressor__subsample=0.8; total time=   5.6s\n",
            "[CV] END regressor__colsample_bytree=1.0, regressor__learning_rate=0.1, regressor__max_depth=7, regressor__n_estimators=200, regressor__subsample=1.0; total time=   3.0s\n",
            "[CV] END regressor__colsample_bytree=1.0, regressor__learning_rate=0.1, regressor__max_depth=7, regressor__n_estimators=200, regressor__subsample=1.0; total time=   2.9s\n",
            "[CV] END regressor__colsample_bytree=1.0, regressor__learning_rate=0.1, regressor__max_depth=7, regressor__n_estimators=200, regressor__subsample=1.0; total time=   3.4s\n",
            "[CV] END regressor__colsample_bytree=1.0, regressor__learning_rate=0.1, regressor__max_depth=7, regressor__n_estimators=300, regressor__subsample=0.8; total time=   6.4s\n",
            "[CV] END regressor__colsample_bytree=1.0, regressor__learning_rate=0.1, regressor__max_depth=7, regressor__n_estimators=300, regressor__subsample=0.8; total time=   4.4s\n",
            "[CV] END regressor__colsample_bytree=1.0, regressor__learning_rate=0.1, regressor__max_depth=7, regressor__n_estimators=300, regressor__subsample=0.8; total time=   7.3s\n",
            "[CV] END regressor__colsample_bytree=1.0, regressor__learning_rate=0.1, regressor__max_depth=7, regressor__n_estimators=300, regressor__subsample=1.0; total time=   4.2s\n",
            "[CV] END regressor__colsample_bytree=1.0, regressor__learning_rate=0.1, regressor__max_depth=7, regressor__n_estimators=300, regressor__subsample=1.0; total time=   4.1s\n"
          ]
        },
        {
          "output_type": "stream",
          "name": "stderr",
          "text": [
            "/usr/local/lib/python3.11/dist-packages/sklearn/model_selection/_validation.py:960: UserWarning: Scoring failed. The score on this train-test partition for these parameters will be set to nan. Details: \n",
            "Traceback (most recent call last):\n",
            "  File \"/usr/local/lib/python3.11/dist-packages/sklearn/model_selection/_validation.py\", line 949, in _score\n",
            "    scores = scorer(estimator, X_test, y_test, **score_params)\n",
            "             ^^^^^^^^^^^^^^^^^^^^^^^^^^^^^^^^^^^^^^^^^^^^^^^^^\n",
            "  File \"/usr/local/lib/python3.11/dist-packages/sklearn/metrics/_scorer.py\", line 288, in __call__\n",
            "    return self._score(partial(_cached_call, None), estimator, X, y_true, **_kwargs)\n",
            "           ^^^^^^^^^^^^^^^^^^^^^^^^^^^^^^^^^^^^^^^^^^^^^^^^^^^^^^^^^^^^^^^^^^^^^^^^^\n",
            "  File \"/usr/local/lib/python3.11/dist-packages/sklearn/metrics/_scorer.py\", line 388, in _score\n",
            "    return self._sign * self._score_func(y_true, y_pred, **scoring_kwargs)\n",
            "                        ^^^^^^^^^^^^^^^^^^^^^^^^^^^^^^^^^^^^^^^^^^^^^^^^^^\n",
            "  File \"/usr/local/lib/python3.11/dist-packages/sklearn/utils/_param_validation.py\", line 216, in wrapper\n",
            "    return func(*args, **kwargs)\n",
            "           ^^^^^^^^^^^^^^^^^^^^^\n",
            "  File \"/usr/local/lib/python3.11/dist-packages/sklearn/metrics/_regression.py\", line 746, in mean_squared_log_error\n",
            "    raise ValueError(\n",
            "ValueError: Mean Squared Logarithmic Error cannot be used when targets contain values less than or equal to -1.\n",
            "\n",
            "  warnings.warn(\n",
            "/usr/local/lib/python3.11/dist-packages/sklearn/model_selection/_search.py:1108: UserWarning: One or more of the test scores are non-finite: [-0.0123763  -0.01236545 -0.0052117  -0.00517945 -0.00270098 -0.00267096\n",
            " -0.01233096 -0.01231712 -0.0052045  -0.00518712 -0.00258957 -0.00259096\n",
            " -0.01245479 -0.01254271 -0.00556031 -0.00565341 -0.00305686 -0.00318725\n",
            " -0.00140555 -0.00135432         nan         nan         nan         nan\n",
            " -0.00116549 -0.00109474         nan         nan         nan         nan\n",
            " -0.0017654  -0.00173959 -0.00153436 -0.00148608 -0.00155723         nan\n",
            "         nan         nan         nan         nan         nan         nan\n",
            "         nan         nan         nan         nan         nan         nan\n",
            "         nan         nan         nan         nan         nan         nan\n",
            " -0.00705459 -0.00704762 -0.00135977 -0.00135726 -0.00064346 -0.00064213\n",
            " -0.0070543  -0.00704819 -0.00136615 -0.00136482 -0.00065123 -0.00065338\n",
            " -0.00705387 -0.00704801 -0.00136901 -0.0013731  -0.00065512 -0.00066308\n",
            " -0.00054393 -0.00054245         nan         nan         nan         nan\n",
            " -0.00055431 -0.00055631         nan         nan         nan         nan\n",
            " -0.00055649 -0.00056868 -0.00058216 -0.00058958 -0.00059515 -0.00064091\n",
            "         nan         nan         nan         nan         nan         nan\n",
            "         nan -0.00094826         nan         nan         nan         nan\n",
            " -0.0005783  -0.00059239 -0.00059423 -0.00067634 -0.00059892         nan]\n",
            "  warnings.warn(\n"
          ]
        },
        {
          "output_type": "stream",
          "name": "stdout",
          "text": [
            "[CV] END regressor__colsample_bytree=1.0, regressor__learning_rate=0.1, regressor__max_depth=7, regressor__n_estimators=300, regressor__subsample=1.0; total time=   7.3s\n",
            "Best Hyperparameters: {'regressor__colsample_bytree': 1.0, 'regressor__learning_rate': 0.05, 'regressor__max_depth': 3, 'regressor__n_estimators': 100, 'regressor__subsample': 1.0}\n",
            "Tuned Validation RMSLE: 0.1191\n"
          ]
        }
      ]
    },
    {
      "cell_type": "code",
      "source": [
        "import pickle\n",
        "\n",
        "# Save the best model to a file\n",
        "with open('best_model_final1.pkl', 'wb') as f:\n",
        "    pickle.dump(best_model, f)"
      ],
      "metadata": {
        "id": "nRNscFDUPBw0"
      },
      "execution_count": 64,
      "outputs": []
    },
    {
      "cell_type": "code",
      "source": [
        "pd.Series(y_pred_tuned).value_counts()\n"
      ],
      "metadata": {
        "id": "J4m88vy-WU0u"
      },
      "execution_count": null,
      "outputs": []
    },
    {
      "cell_type": "code",
      "source": [],
      "metadata": {
        "id": "KP7XbwYD70wD"
      },
      "execution_count": null,
      "outputs": []
    }
  ]
}